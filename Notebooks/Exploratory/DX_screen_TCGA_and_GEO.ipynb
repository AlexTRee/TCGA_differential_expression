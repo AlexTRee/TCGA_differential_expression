{
 "cells": [
  {
   "cell_type": "markdown",
   "metadata": {},
   "source": [
    "# Differential Analysis with both GEO and RNA-Seq"
   ]
  },
  {
   "cell_type": "markdown",
   "metadata": {},
   "source": [
    "Import everything from the imports notebook. This reads in all of the expression data as well as the functions needed to analyse differential expression data."
   ]
  },
  {
   "cell_type": "code",
   "execution_count": 1,
   "metadata": {
    "collapsed": false
   },
   "outputs": [
    {
     "data": {
      "text/html": [
       "importing IPython notebook from <a href='./Imports.ipynb' target='_blank'>Imports</a>"
      ]
     },
     "metadata": {},
     "output_type": "display_data"
    }
   ],
   "source": [
    "import NotebookImport\n",
    "from Imports import *"
   ]
  },
  {
   "cell_type": "code",
   "execution_count": 2,
   "metadata": {
    "collapsed": true
   },
   "outputs": [],
   "source": [
    "import seaborn as sns\n",
    "sns.set_context('paper',font_scale=1.5)\n",
    "sns.set_style('white')"
   ]
  },
  {
   "cell_type": "markdown",
   "metadata": {},
   "source": [
    "Read in matched Gene expression data."
   ]
  },
  {
   "cell_type": "code",
   "execution_count": 3,
   "metadata": {
    "collapsed": true
   },
   "outputs": [],
   "source": [
    "matched_rna = pd.read_hdf('/data_ssd/RNASeq_2014_07_15.h5', 'matched_tn')\n",
    "rna_microarray = pd.read_hdf('/data_ssd/GEO_microarray_dx.h5', 'data')\n",
    "matched_rna = rna_microarray.join(matched_rna)"
   ]
  },
  {
   "cell_type": "markdown",
   "metadata": {},
   "source": [
    "###Run a simple screen for DX probes \n",
    "* Here we take the matched data and run a basic screen\n",
    "* fc = 1 means that we have no foldchange buffer for a gene to be considered over or underexpressed in a patient \n",
    "* If there are ties or missing data, I omit these from the test.  This can cause underpowered tests which have extreme test statistics but weak p-values.  For this reason I filter all gene/probes/markers with a sample size of less than 300 patients."
   ]
  },
  {
   "cell_type": "code",
   "execution_count": 8,
   "metadata": {
    "collapsed": true
   },
   "outputs": [],
   "source": [
    "dx_rna = binomial_test_screen(matched_rna, fc=1.)\n",
    "dx_rna = dx_rna[dx_rna.num_dx > 300]"
   ]
  },
  {
   "cell_type": "code",
   "execution_count": 21,
   "metadata": {
    "collapsed": false
   },
   "outputs": [
    {
     "data": {
      "text/plain": [
       "<matplotlib.axes.AxesSubplot at 0x7fd33509d810>"
      ]
     },
     "execution_count": 21,
     "metadata": {},
     "output_type": "execute_result"
    },
    {
     "data": {
      "image/png": "[encoded data removed]",
      "text/plain": [
       "<matplotlib.figure.Figure at 0x7fd3354f4650>"
      ]
     },
     "metadata": {},
     "output_type": "display_data"
    }
   ],
   "source": [
    "dx_rna.frac.hist(bins=30)"
   ]
  },
  {
   "cell_type": "code",
   "execution_count": 9,
   "metadata": {
    "collapsed": false
   },
   "outputs": [
    {
     "data": {
      "text/html": [
       "<div style=\"max-height:1000px;max-width:1500px;overflow:auto;\">\n",
       "<table border=\"1\" class=\"dataframe\">\n",
       "  <thead>\n",
       "    <tr style=\"text-align: right;\">\n",
       "      <th></th>\n",
       "      <th>num_ox</th>\n",
       "      <th>num_dx</th>\n",
       "      <th>frac</th>\n",
       "      <th>p</th>\n",
       "    </tr>\n",
       "  </thead>\n",
       "  <tbody>\n",
       "    <tr>\n",
       "      <th>ADH1A</th>\n",
       "      <td> 215</td>\n",
       "      <td> 1548</td>\n",
       "      <td> 0.14</td>\n",
       "      <td> 5.53e-197</td>\n",
       "    </tr>\n",
       "    <tr>\n",
       "      <th>ADH1B</th>\n",
       "      <td> 126</td>\n",
       "      <td> 1330</td>\n",
       "      <td> 0.09</td>\n",
       "      <td> 3.57e-221</td>\n",
       "    </tr>\n",
       "    <tr>\n",
       "      <th>ADH1C</th>\n",
       "      <td> 197</td>\n",
       "      <td> 1116</td>\n",
       "      <td> 0.18</td>\n",
       "      <td> 7.05e-112</td>\n",
       "    </tr>\n",
       "  </tbody>\n",
       "</table>\n",
       "</div>"
      ],
      "text/plain": [
       "       num_ox  num_dx  frac          p\n",
       "ADH1A     215    1548  0.14  5.53e-197\n",
       "ADH1B     126    1330  0.09  3.57e-221\n",
       "ADH1C     197    1116  0.18  7.05e-112"
      ]
     },
     "execution_count": 9,
     "metadata": {},
     "output_type": "execute_result"
    }
   ],
   "source": [
    "dx_rna.ix[['ADH1A','ADH1B','ADH1C']]"
   ]
  },
  {
   "cell_type": "code",
   "execution_count": 10,
   "metadata": {
    "collapsed": false
   },
   "outputs": [
    {
     "data": {
      "text/plain": [
       "(19880, 4)"
      ]
     },
     "execution_count": 10,
     "metadata": {},
     "output_type": "execute_result"
    }
   ],
   "source": [
    "dx_rna.shape"
   ]
  },
  {
   "cell_type": "code",
   "execution_count": 11,
   "metadata": {
    "collapsed": false
   },
   "outputs": [
    {
     "data": {
      "text/plain": [
       "ADH1A     85\n",
       "ADH1B     50\n",
       "ADH1C    646\n",
       "Name: p, dtype: float64"
      ]
     },
     "execution_count": 11,
     "metadata": {},
     "output_type": "execute_result"
    }
   ],
   "source": [
    "dx_rna.p.rank().ix[['ADH1A','ADH1B','ADH1C']]"
   ]
  },
  {
   "cell_type": "code",
   "execution_count": 12,
   "metadata": {
    "collapsed": false
   },
   "outputs": [
    {
     "data": {
      "text/html": [
       "<div style=\"max-height:1000px;max-width:1500px;overflow:auto;\">\n",
       "<table border=\"1\" class=\"dataframe\">\n",
       "  <thead>\n",
       "    <tr style=\"text-align: right;\">\n",
       "      <th></th>\n",
       "      <th>num_ox</th>\n",
       "      <th>num_dx</th>\n",
       "      <th>frac</th>\n",
       "      <th>p</th>\n",
       "    </tr>\n",
       "  </thead>\n",
       "  <tbody>\n",
       "    <tr>\n",
       "      <th>TOP2A</th>\n",
       "      <td> 1450</td>\n",
       "      <td> 1573</td>\n",
       "      <td> 0.92</td>\n",
       "      <td> 6.38e-288</td>\n",
       "    </tr>\n",
       "    <tr>\n",
       "      <th>MELK</th>\n",
       "      <td> 1430</td>\n",
       "      <td> 1572</td>\n",
       "      <td> 0.91</td>\n",
       "      <td> 5.50e-268</td>\n",
       "    </tr>\n",
       "    <tr>\n",
       "      <th>CENPF</th>\n",
       "      <td> 1430</td>\n",
       "      <td> 1573</td>\n",
       "      <td> 0.91</td>\n",
       "      <td> 3.03e-267</td>\n",
       "    </tr>\n",
       "    <tr>\n",
       "      <th>FOXM1</th>\n",
       "      <td> 1428</td>\n",
       "      <td> 1573</td>\n",
       "      <td> 0.91</td>\n",
       "      <td> 2.97e-265</td>\n",
       "    </tr>\n",
       "    <tr>\n",
       "      <th>KIF20A</th>\n",
       "      <td> 1427</td>\n",
       "      <td> 1573</td>\n",
       "      <td> 0.91</td>\n",
       "      <td> 2.90e-264</td>\n",
       "    </tr>\n",
       "    <tr>\n",
       "      <th>CXCL12</th>\n",
       "      <td>  149</td>\n",
       "      <td> 1573</td>\n",
       "      <td> 0.09</td>\n",
       "      <td> 2.60e-261</td>\n",
       "    </tr>\n",
       "    <tr>\n",
       "      <th>TPX2</th>\n",
       "      <td> 1423</td>\n",
       "      <td> 1572</td>\n",
       "      <td> 0.91</td>\n",
       "      <td> 4.72e-261</td>\n",
       "    </tr>\n",
       "    <tr>\n",
       "      <th>NDRG2</th>\n",
       "      <td>  151</td>\n",
       "      <td> 1573</td>\n",
       "      <td> 0.10</td>\n",
       "      <td> 2.33e-259</td>\n",
       "    </tr>\n",
       "    <tr>\n",
       "      <th>KIF4A</th>\n",
       "      <td> 1420</td>\n",
       "      <td> 1572</td>\n",
       "      <td> 0.90</td>\n",
       "      <td> 3.95e-258</td>\n",
       "    </tr>\n",
       "    <tr>\n",
       "      <th>EZH2</th>\n",
       "      <td> 1418</td>\n",
       "      <td> 1573</td>\n",
       "      <td> 0.90</td>\n",
       "      <td> 1.72e-255</td>\n",
       "    </tr>\n",
       "  </tbody>\n",
       "</table>\n",
       "</div>"
      ],
      "text/plain": [
       "        num_ox  num_dx  frac          p\n",
       "TOP2A     1450    1573  0.92  6.38e-288\n",
       "MELK      1430    1572  0.91  5.50e-268\n",
       "CENPF     1430    1573  0.91  3.03e-267\n",
       "FOXM1     1428    1573  0.91  2.97e-265\n",
       "KIF20A    1427    1573  0.91  2.90e-264\n",
       "CXCL12     149    1573  0.09  2.60e-261\n",
       "TPX2      1423    1572  0.91  4.72e-261\n",
       "NDRG2      151    1573  0.10  2.33e-259\n",
       "KIF4A     1420    1572  0.90  3.95e-258\n",
       "EZH2      1418    1573  0.90  1.72e-255"
      ]
     },
     "execution_count": 12,
     "metadata": {},
     "output_type": "execute_result"
    }
   ],
   "source": [
    "dx_rna.sort('p').head(10)"
   ]
  },
  {
   "cell_type": "code",
   "execution_count": 13,
   "metadata": {
    "collapsed": false
   },
   "outputs": [
    {
     "data": {
      "image/png": "[encoded data removed]",
      "text/plain": [
       "<matplotlib.figure.Figure at 0x7fd3335e5a90>"
      ]
     },
     "metadata": {},
     "output_type": "display_data"
    }
   ],
   "source": [
    "paired_bp_tn_split(matched_rna.ix['ADH1B'], codes, data_type='mRNA')"
   ]
  },
  {
   "cell_type": "markdown",
   "metadata": {},
   "source": [
    "### Pathway and Gene Annotation Analysis"
   ]
  },
  {
   "cell_type": "code",
   "execution_count": 14,
   "metadata": {
    "collapsed": false
   },
   "outputs": [],
   "source": [
    "gs2 = gene_sets.ix[dx_rna.index].fillna(0)"
   ]
  },
  {
   "cell_type": "code",
   "execution_count": 15,
   "metadata": {
    "collapsed": false
   },
   "outputs": [],
   "source": [
    "rr = screen_feature(dx_rna.frac, rev_kruskal, gs2.T, \n",
    "                    align=False)\n",
    "fp = (1.*gene_sets.T * dx_rna.frac).T.dropna().replace(0, np.nan).mean().order()\n",
    "fp.name = 'mean frac'"
   ]
  },
  {
   "cell_type": "markdown",
   "metadata": {},
   "source": [
    "Overexpressed pathways"
   ]
  },
  {
   "cell_type": "code",
   "execution_count": 16,
   "metadata": {
    "collapsed": false,
    "scrolled": true
   },
   "outputs": [
    {
     "data": {
      "text/html": [
       "<div style=\"max-height:1000px;max-width:1500px;overflow:auto;\">\n",
       "<table border=\"1\" class=\"dataframe\">\n",
       "  <thead>\n",
       "    <tr style=\"text-align: right;\">\n",
       "      <th></th>\n",
       "      <th>H</th>\n",
       "      <th>p</th>\n",
       "      <th>q</th>\n",
       "      <th>mean frac</th>\n",
       "    </tr>\n",
       "  </thead>\n",
       "  <tbody>\n",
       "    <tr>\n",
       "      <th>REACTOME_CELL_CYCLE_MITOTIC</th>\n",
       "      <td> 344.12</td>\n",
       "      <td> 8.08e-77</td>\n",
       "      <td> 6.72e-74</td>\n",
       "      <td> 0.67</td>\n",
       "    </tr>\n",
       "    <tr>\n",
       "      <th>REACTOME_GENE_EXPRESSION</th>\n",
       "      <td> 279.18</td>\n",
       "      <td> 1.13e-62</td>\n",
       "      <td> 4.70e-60</td>\n",
       "      <td> 0.60</td>\n",
       "    </tr>\n",
       "    <tr>\n",
       "      <th>REACTOME_MITOTIC_M_M_G1_PHASES</th>\n",
       "      <td> 223.96</td>\n",
       "      <td> 1.24e-50</td>\n",
       "      <td> 3.43e-48</td>\n",
       "      <td> 0.70</td>\n",
       "    </tr>\n",
       "    <tr>\n",
       "      <th>REACTOME_CELL_CYCLE_CHECKPOINTS</th>\n",
       "      <td> 179.03</td>\n",
       "      <td> 7.89e-41</td>\n",
       "      <td> 1.64e-38</td>\n",
       "      <td> 0.70</td>\n",
       "    </tr>\n",
       "    <tr>\n",
       "      <th>REACTOME_INFLUENZA_LIFE_CYCLE</th>\n",
       "      <td> 174.09</td>\n",
       "      <td> 9.45e-40</td>\n",
       "      <td> 1.57e-37</td>\n",
       "      <td> 0.64</td>\n",
       "    </tr>\n",
       "  </tbody>\n",
       "</table>\n",
       "</div>"
      ],
      "text/plain": [
       "                                      H         p         q  mean frac\n",
       "REACTOME_CELL_CYCLE_MITOTIC      344.12  8.08e-77  6.72e-74       0.67\n",
       "REACTOME_GENE_EXPRESSION         279.18  1.13e-62  4.70e-60       0.60\n",
       "REACTOME_MITOTIC_M_M_G1_PHASES   223.96  1.24e-50  3.43e-48       0.70\n",
       "REACTOME_CELL_CYCLE_CHECKPOINTS  179.03  7.89e-41  1.64e-38       0.70\n",
       "REACTOME_INFLUENZA_LIFE_CYCLE    174.09  9.45e-40  1.57e-37       0.64"
      ]
     },
     "execution_count": 16,
     "metadata": {},
     "output_type": "execute_result"
    }
   ],
   "source": [
    "rr.ix[ti(fp > .5)].join(fp).sort('p').head()"
   ]
  },
  {
   "cell_type": "markdown",
   "metadata": {},
   "source": [
    "Underexpressed pathways"
   ]
  },
  {
   "cell_type": "code",
   "execution_count": 17,
   "metadata": {
    "collapsed": false
   },
   "outputs": [
    {
     "data": {
      "text/html": [
       "<div style=\"max-height:1000px;max-width:1500px;overflow:auto;\">\n",
       "<table border=\"1\" class=\"dataframe\">\n",
       "  <thead>\n",
       "    <tr style=\"text-align: right;\">\n",
       "      <th></th>\n",
       "      <th>H</th>\n",
       "      <th>p</th>\n",
       "      <th>q</th>\n",
       "      <th>mean frac</th>\n",
       "    </tr>\n",
       "  </thead>\n",
       "  <tbody>\n",
       "    <tr>\n",
       "      <th>REACTOME_GPCR_LIGAND_BINDING</th>\n",
       "      <td> 96.64</td>\n",
       "      <td> 8.31e-23</td>\n",
       "      <td> 2.09e-21</td>\n",
       "      <td> 0.43</td>\n",
       "    </tr>\n",
       "    <tr>\n",
       "      <th>REACTOME_DOWNSTREAM_EVENTS_IN_GPCR_SIGNALING</th>\n",
       "      <td> 96.48</td>\n",
       "      <td> 9.00e-23</td>\n",
       "      <td> 2.20e-21</td>\n",
       "      <td> 0.43</td>\n",
       "    </tr>\n",
       "    <tr>\n",
       "      <th>KEGG_NEUROACTIVE_LIGAND_RECEPTOR_INTERACTION</th>\n",
       "      <td> 85.16</td>\n",
       "      <td> 2.75e-20</td>\n",
       "      <td> 5.59e-19</td>\n",
       "      <td> 0.42</td>\n",
       "    </tr>\n",
       "    <tr>\n",
       "      <th>REACTOME_BIOLOGICAL_OXIDATIONS</th>\n",
       "      <td> 83.22</td>\n",
       "      <td> 7.35e-20</td>\n",
       "      <td> 1.46e-18</td>\n",
       "      <td> 0.38</td>\n",
       "    </tr>\n",
       "    <tr>\n",
       "      <th>REACTOME_CLASS_A1_RHODOPSIN_LIKE_RECEPTORS</th>\n",
       "      <td> 76.51</td>\n",
       "      <td> 2.19e-18</td>\n",
       "      <td> 3.96e-17</td>\n",
       "      <td> 0.43</td>\n",
       "    </tr>\n",
       "  </tbody>\n",
       "</table>\n",
       "</div>"
      ],
      "text/plain": [
       "                                                  H         p         q  mean frac\n",
       "REACTOME_GPCR_LIGAND_BINDING                  96.64  8.31e-23  2.09e-21       0.43\n",
       "REACTOME_DOWNSTREAM_EVENTS_IN_GPCR_SIGNALING  96.48  9.00e-23  2.20e-21       0.43\n",
       "KEGG_NEUROACTIVE_LIGAND_RECEPTOR_INTERACTION  85.16  2.75e-20  5.59e-19       0.42\n",
       "REACTOME_BIOLOGICAL_OXIDATIONS                83.22  7.35e-20  1.46e-18       0.38\n",
       "REACTOME_CLASS_A1_RHODOPSIN_LIKE_RECEPTORS    76.51  2.19e-18  3.96e-17       0.43"
      ]
     },
     "execution_count": 17,
     "metadata": {},
     "output_type": "execute_result"
    }
   ],
   "source": [
    "rr.ix[ti(fp < .5)].join(fp).sort('p').head()"
   ]
  },
  {
   "cell_type": "markdown",
   "metadata": {},
   "source": [
    "I am folling up on Fatty Acid Metabolism as opposed to biological oxidations, because it has a larger effect size, although the smaller gene-set size gives it a less extreme p-value."
   ]
  },
  {
   "cell_type": "code",
   "execution_count": 18,
   "metadata": {
    "collapsed": false
   },
   "outputs": [],
   "source": [
    "def fig_1f(ax):\n",
    "    v = pd.concat([dx_rna.frac, \n",
    "                   dx_rna.frac.ix[ti(gs2['REACTOME_CELL_CYCLE_MITOTIC']>0)],\n",
    "                   dx_rna.frac.ix[ti(gs2['KEGG_FATTY_ACID_METABOLISM']>0)]])\n",
    "\n",
    "    v1 = pd.concat([pd.Series('All Genes', dx_rna.frac.index), \n",
    "                    pd.Series('Cell Cycle\\nMitotic',\n",
    "                              ti(gs2['REACTOME_CELL_CYCLE_MITOTIC']>0)),\n",
    "                    pd.Series('Fatty Acid\\nMetabolism', \n",
    "                              ti(gs2['KEGG_FATTY_ACID_METABOLISM']>0))])\n",
    "    v1.name = ''\n",
    "    v.name = 'Fraction Overexpressed'\n",
    "    violin_plot_pandas(v1, v, ann=None, ax=ax)\n",
    "    prettify_ax(ax)\n",
    "    return ax"
   ]
  },
  {
   "cell_type": "code",
   "execution_count": 19,
   "metadata": {
    "collapsed": false
   },
   "outputs": [
    {
     "data": {
      "image/png": "[encoded data removed]",
      "text/plain": [
       "<matplotlib.figure.Figure at 0x7fd33374ded0>"
      ]
     },
     "metadata": {},
     "output_type": "display_data"
    }
   ],
   "source": [
    "#Do not import\n",
    "fig, ax = subplots(1,1, figsize=(5,3))\n",
    "fig_1f(ax);"
   ]
  }
 ],
 "metadata": {
  "kernelspec": {
   "display_name": "Python 2",
   "language": "python",
   "name": "python2"
  },
  "language_info": {
   "codemirror_mode": {
    "name": "ipython",
    "version": 2
   },
   "file_extension": ".py",
   "mimetype": "text/x-python",
   "name": "python",
   "nbconvert_exporter": "python",
   "pygments_lexer": "ipython2",
   "version": "2.7.9"
  }
 },
 "nbformat": 4,
 "nbformat_minor": 0
}
