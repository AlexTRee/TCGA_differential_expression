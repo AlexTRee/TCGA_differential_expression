{
 "metadata": {
  "kernelspec": {
   "codemirror_mode": {
    "name": "ipython",
    "version": 2
   },
   "display_name": "IPython (Python 2)",
   "language": "python",
   "name": "python2"
  },
  "name": "",
  "signature": "sha256:7ff21f9a83d1fbc13963d4c92d7f54be2e51fcd93459a5084e4ba0c8ee00d75a"
 },
 "nbformat": 3,
 "nbformat_minor": 0,
 "worksheets": [
  {
   "cells": [
    {
     "cell_type": "code",
     "collapsed": false,
     "input": [
      "import NotebookImport\n",
      "from Imports import *"
     ],
     "language": "python",
     "metadata": {},
     "outputs": [
      {
       "output_type": "stream",
       "stream": "stdout",
       "text": [
        "importing IPython notebook from Imports.ipynb\n",
        "Populating the interactive namespace from numpy and matplotlib\n"
       ]
      },
      {
       "metadata": {},
       "output_type": "display_data",
       "png": "[encoded data removed]",
       "text": [
        "<matplotlib.figure.Figure at 0x7fcf9511ded0>"
       ]
      }
     ],
     "prompt_number": 1
    },
    {
     "cell_type": "code",
     "collapsed": false,
     "input": [
      "from statsmodels.stats.weightstats import ttest_ind"
     ],
     "language": "python",
     "metadata": {},
     "outputs": [],
     "prompt_number": 8
    },
    {
     "cell_type": "code",
     "collapsed": true,
     "input": [
      "w = codes.map(len(codes) / codes.value_counts())\n",
      "w = w / w.sum()"
     ],
     "language": "python",
     "metadata": {},
     "outputs": [],
     "prompt_number": 26
    },
    {
     "cell_type": "code",
     "collapsed": false,
     "input": [
      "ttest_ind(matched_tn.ix['ADH1B'][:,'01'], matched_tn.ix['ADH1B'][:,'11'])"
     ],
     "language": "python",
     "metadata": {},
     "outputs": [
      {
       "metadata": {},
       "output_type": "pyout",
       "prompt_number": 31,
       "text": [
        "(-26.844530368676505, 1.2645030911325707e-126, 1298.0)"
       ]
      }
     ],
     "prompt_number": 31
    },
    {
     "cell_type": "code",
     "collapsed": false,
     "input": [
      "%timeit ttest_rel(matched_tn.ix['ADH1B'][:,'01'], matched_tn.ix['ADH1B'][:,'11'])"
     ],
     "language": "python",
     "metadata": {},
     "outputs": [
      {
       "output_type": "stream",
       "stream": "stdout",
       "text": [
        "1000 loops, best of 3: 1.36 ms per loop\n"
       ]
      }
     ],
     "prompt_number": 15
    },
    {
     "cell_type": "code",
     "collapsed": false,
     "input": [
      "ttost_paired()"
     ],
     "language": "python",
     "metadata": {},
     "outputs": [],
     "prompt_number": 6
    },
    {
     "cell_type": "code",
     "collapsed": false,
     "input": [
      "tab = binomial_test_screen(matched_tn, fc=1.)"
     ],
     "language": "python",
     "metadata": {},
     "outputs": [],
     "prompt_number": 2
    },
    {
     "cell_type": "code",
     "collapsed": false,
     "input": [
      "fig, ax = subplots(figsize=(6,4))\n",
      "tab.frac.hist(ax=ax)\n",
      "ax.set_xlabel('Fraction of Patients Induced')\n",
      "ax.set_ylabel('# of Genes')\n",
      "prettify_ax(ax)"
     ],
     "language": "python",
     "metadata": {},
     "outputs": [
      {
       "metadata": {},
       "output_type": "display_data",
       "png": "[encoded data removed]",
       "text": [
        "<matplotlib.figure.Figure at 0x7f0694d3f210>"
       ]
      }
     ],
     "prompt_number": 3
    },
    {
     "cell_type": "code",
     "collapsed": false,
     "input": [
      "tab.sort('p').head(10)"
     ],
     "language": "python",
     "metadata": {},
     "outputs": [
      {
       "html": [
        "<div style=\"max-height:1000px;max-width:1500px;overflow:auto;\">\n",
        "<table border=\"1\" class=\"dataframe\">\n",
        "  <thead>\n",
        "    <tr style=\"text-align: right;\">\n",
        "      <th></th>\n",
        "      <th>num_ox</th>\n",
        "      <th>num_dx</th>\n",
        "      <th>frac</th>\n",
        "      <th>p</th>\n",
        "    </tr>\n",
        "  </thead>\n",
        "  <tbody>\n",
        "    <tr>\n",
        "      <th>ADH1B</th>\n",
        "      <td>  28</td>\n",
        "      <td> 650</td>\n",
        "      <td> 0.04</td>\n",
        "      <td> 4.71e-147</td>\n",
        "    </tr>\n",
        "    <tr>\n",
        "      <th>IQGAP3</th>\n",
        "      <td> 619</td>\n",
        "      <td> 650</td>\n",
        "      <td> 0.95</td>\n",
        "      <td> 4.20e-143</td>\n",
        "    </tr>\n",
        "    <tr>\n",
        "      <th>KIF4A</th>\n",
        "      <td> 618</td>\n",
        "      <td> 650</td>\n",
        "      <td> 0.95</td>\n",
        "      <td> 8.14e-142</td>\n",
        "    </tr>\n",
        "    <tr>\n",
        "      <th>FOXM1</th>\n",
        "      <td> 617</td>\n",
        "      <td> 650</td>\n",
        "      <td> 0.95</td>\n",
        "      <td> 1.53e-140</td>\n",
        "    </tr>\n",
        "    <tr>\n",
        "      <th>GSTM5</th>\n",
        "      <td>  34</td>\n",
        "      <td> 650</td>\n",
        "      <td> 0.05</td>\n",
        "      <td> 2.78e-139</td>\n",
        "    </tr>\n",
        "    <tr>\n",
        "      <th>PKMYT1</th>\n",
        "      <td> 615</td>\n",
        "      <td> 650</td>\n",
        "      <td> 0.95</td>\n",
        "      <td> 4.90e-138</td>\n",
        "    </tr>\n",
        "    <tr>\n",
        "      <th>UBE2C</th>\n",
        "      <td> 613</td>\n",
        "      <td> 650</td>\n",
        "      <td> 0.94</td>\n",
        "      <td> 1.39e-135</td>\n",
        "    </tr>\n",
        "    <tr>\n",
        "      <th>ADH1A</th>\n",
        "      <td>  37</td>\n",
        "      <td> 646</td>\n",
        "      <td> 0.06</td>\n",
        "      <td> 1.76e-134</td>\n",
        "    </tr>\n",
        "    <tr>\n",
        "      <th>CDT1</th>\n",
        "      <td> 612</td>\n",
        "      <td> 650</td>\n",
        "      <td> 0.94</td>\n",
        "      <td> 2.25e-134</td>\n",
        "    </tr>\n",
        "    <tr>\n",
        "      <th>TROAP</th>\n",
        "      <td> 612</td>\n",
        "      <td> 650</td>\n",
        "      <td> 0.94</td>\n",
        "      <td> 2.25e-134</td>\n",
        "    </tr>\n",
        "  </tbody>\n",
        "</table>\n",
        "</div>"
       ],
       "metadata": {},
       "output_type": "pyout",
       "prompt_number": 4,
       "text": [
        "        num_ox  num_dx  frac          p\n",
        "ADH1B       28     650  0.04  4.71e-147\n",
        "IQGAP3     619     650  0.95  4.20e-143\n",
        "KIF4A      618     650  0.95  8.14e-142\n",
        "FOXM1      617     650  0.95  1.53e-140\n",
        "GSTM5       34     650  0.05  2.78e-139\n",
        "PKMYT1     615     650  0.95  4.90e-138\n",
        "UBE2C      613     650  0.94  1.39e-135\n",
        "ADH1A       37     646  0.06  1.76e-134\n",
        "CDT1       612     650  0.94  2.25e-134\n",
        "TROAP      612     650  0.94  2.25e-134"
       ]
      }
     ],
     "prompt_number": 4
    },
    {
     "cell_type": "heading",
     "level": 1,
     "metadata": {},
     "source": [
      "Infer Missing Values with KNN"
     ]
    },
    {
     "cell_type": "code",
     "collapsed": false,
     "input": [
      "rna_df = rna_df.groupby(axis=1, level=[0,1]).first()"
     ],
     "language": "python",
     "metadata": {},
     "outputs": [],
     "prompt_number": 5
    },
    {
     "cell_type": "code",
     "collapsed": false,
     "input": [
      "tumor = rna_df.xs('01',1,1)\n",
      "normal = rna_df.xs('11',1,1)"
     ],
     "language": "python",
     "metadata": {},
     "outputs": [],
     "prompt_number": 6
    },
    {
     "cell_type": "code",
     "collapsed": false,
     "input": [
      "cancers = codes.ix[matched_tn.columns.get_level_values(0)].unique()"
     ],
     "language": "python",
     "metadata": {},
     "outputs": [],
     "prompt_number": 7
    },
    {
     "cell_type": "code",
     "collapsed": false,
     "input": [
      "cesc = store['CESC']"
     ],
     "language": "python",
     "metadata": {},
     "outputs": [],
     "prompt_number": 8
    },
    {
     "cell_type": "code",
     "collapsed": false,
     "input": [
      "tn_inf = {}\n",
      "for cancer in cancers:\n",
      "    df = matched_tn.ix[:, ti(codes==cancer)]\n",
      "    df = df.dropna(axis=[0,1])\n",
      "    cc = df.xs('01',1,1).corrwith(df.xs('11',1,1), axis=1).dropna()\n",
      "    cc = tumor.ix[ti(cc > .4), ti(codes==cancer)].corr()\n",
      "    \n",
      "    pts = cc.index.intersection(normal.columns)\n",
      "    nn = pd.Series({i: list(v.ix[pts].order().index[-5:]) for i,v in cc.iteritems()})\n",
      "    nn = nn[nn.map(len) > 1]\n",
      "    norm_inf = pd.DataFrame({i: normal.ix[:,n].mean(1) for i,n in nn.iteritems()})\n",
      "    tn_c = pd.concat([norm_inf, tumor.ix[:, norm_inf.columns]], keys=['11','01'], axis=1)\n",
      "    tn_c.columns = tn_c.columns.swaplevel(0,1)\n",
      "    tn_c = tn_c.sortlevel(axis=1, level=0)\n",
      "    #tn_c = tn_c.ix[:, ti(codes==cancer)]\n",
      "    tn_inf[cancer] = tn_c "
     ],
     "language": "python",
     "metadata": {},
     "outputs": [],
     "prompt_number": 9
    },
    {
     "cell_type": "code",
     "collapsed": false,
     "input": [
      "cancers_to_use = ti(codes.ix[matched_tn.columns.get_level_values(0)].value_counts() > 15)"
     ],
     "language": "python",
     "metadata": {},
     "outputs": [],
     "prompt_number": 10
    },
    {
     "cell_type": "code",
     "collapsed": false,
     "input": [
      "tn_inf_c = pd.concat(tn_inf.values(), axis=1)\n",
      "tn_inf_c = tn_inf_c.ix[:, ti(codes.isin(cancers_to_use))].dropna(1, how='all')"
     ],
     "language": "python",
     "metadata": {},
     "outputs": [],
     "prompt_number": 11
    },
    {
     "cell_type": "code",
     "collapsed": false,
     "input": [
      "tab_inf = binomial_test_screen(tn_inf_c, fc=1.5)"
     ],
     "language": "python",
     "metadata": {},
     "outputs": [],
     "prompt_number": 12
    },
    {
     "cell_type": "code",
     "collapsed": false,
     "input": [
      "tab_inf[tab_inf.num_dx > 1000].sort('frac').tail(10)"
     ],
     "language": "python",
     "metadata": {},
     "outputs": [
      {
       "html": [
        "<div style=\"max-height:1000px;max-width:1500px;overflow:auto;\">\n",
        "<table border=\"1\" class=\"dataframe\">\n",
        "  <thead>\n",
        "    <tr style=\"text-align: right;\">\n",
        "      <th></th>\n",
        "      <th>num_ox</th>\n",
        "      <th>num_dx</th>\n",
        "      <th>frac</th>\n",
        "      <th>p</th>\n",
        "    </tr>\n",
        "  </thead>\n",
        "  <tbody>\n",
        "    <tr>\n",
        "      <th>UBE2C</th>\n",
        "      <td> 5539</td>\n",
        "      <td> 5592</td>\n",
        "      <td> 0.99</td>\n",
        "      <td>  0.00e+00</td>\n",
        "    </tr>\n",
        "    <tr>\n",
        "      <th>FLAD1</th>\n",
        "      <td> 3477</td>\n",
        "      <td> 3510</td>\n",
        "      <td> 0.99</td>\n",
        "      <td>  0.00e+00</td>\n",
        "    </tr>\n",
        "    <tr>\n",
        "      <th>TPX2</th>\n",
        "      <td> 5459</td>\n",
        "      <td> 5510</td>\n",
        "      <td> 0.99</td>\n",
        "      <td>  0.00e+00</td>\n",
        "    </tr>\n",
        "    <tr>\n",
        "      <th>HJURP</th>\n",
        "      <td> 5478</td>\n",
        "      <td> 5528</td>\n",
        "      <td> 0.99</td>\n",
        "      <td> 4.94e-324</td>\n",
        "    </tr>\n",
        "    <tr>\n",
        "      <th>UHRF1</th>\n",
        "      <td> 5505</td>\n",
        "      <td> 5555</td>\n",
        "      <td> 0.99</td>\n",
        "      <td> 4.94e-324</td>\n",
        "    </tr>\n",
        "    <tr>\n",
        "      <th>SNRPB</th>\n",
        "      <td> 3524</td>\n",
        "      <td> 3554</td>\n",
        "      <td> 0.99</td>\n",
        "      <td>  0.00e+00</td>\n",
        "    </tr>\n",
        "    <tr>\n",
        "      <th>ASF1B</th>\n",
        "      <td> 5286</td>\n",
        "      <td> 5331</td>\n",
        "      <td> 0.99</td>\n",
        "      <td>  0.00e+00</td>\n",
        "    </tr>\n",
        "    <tr>\n",
        "      <th>IQGAP3</th>\n",
        "      <td> 5548</td>\n",
        "      <td> 5593</td>\n",
        "      <td> 0.99</td>\n",
        "      <td>  0.00e+00</td>\n",
        "    </tr>\n",
        "    <tr>\n",
        "      <th>FOXM1</th>\n",
        "      <td> 5348</td>\n",
        "      <td> 5389</td>\n",
        "      <td> 0.99</td>\n",
        "      <td> 4.94e-324</td>\n",
        "    </tr>\n",
        "    <tr>\n",
        "      <th>PKMYT1</th>\n",
        "      <td> 5532</td>\n",
        "      <td> 5574</td>\n",
        "      <td> 0.99</td>\n",
        "      <td>  0.00e+00</td>\n",
        "    </tr>\n",
        "  </tbody>\n",
        "</table>\n",
        "</div>"
       ],
       "metadata": {},
       "output_type": "pyout",
       "prompt_number": 13,
       "text": [
        "        num_ox  num_dx  frac          p\n",
        "UBE2C     5539    5592  0.99   0.00e+00\n",
        "FLAD1     3477    3510  0.99   0.00e+00\n",
        "TPX2      5459    5510  0.99   0.00e+00\n",
        "HJURP     5478    5528  0.99  4.94e-324\n",
        "UHRF1     5505    5555  0.99  4.94e-324\n",
        "SNRPB     3524    3554  0.99   0.00e+00\n",
        "ASF1B     5286    5331  0.99   0.00e+00\n",
        "IQGAP3    5548    5593  0.99   0.00e+00\n",
        "FOXM1     5348    5389  0.99  4.94e-324\n",
        "PKMYT1    5532    5574  0.99   0.00e+00"
       ]
      }
     ],
     "prompt_number": 13
    },
    {
     "cell_type": "code",
     "collapsed": false,
     "input": [
      "run = get_run('/cellar/users/agross/HNSCC_Test/Data_man/Firehose__2013_09_23/', 'Run_all_2')\n",
      "gene_sets = run.gene_sets\n",
      "gs = pd.concat({d: pd.Series(1, g) for d,g in run.gene_sets.iteritems()}, 1)\n",
      "gs = gs.ix[rna_df.index].fillna(0)"
     ],
     "language": "python",
     "metadata": {},
     "outputs": [],
     "prompt_number": 14
    },
    {
     "cell_type": "code",
     "collapsed": false,
     "input": [
      "from rpy2 import robjects\n",
      "from pandas.rpy.common import convert_to_r_dataframe, convert_robj\n",
      "\n",
      "mgsa = robjects.packages.importr('mgsa')\n",
      "gs_r = robjects.ListVector({i: robjects.StrVector(list(ti(g>0))) for i,g in \n",
      "                             gs.iteritems()})\n",
      "def run_mgsa(vec):\n",
      "    v = robjects.r.c(*ti(vec))\n",
      "    #l = robjects.ListVector({i: robjects.StrVector(list(g)) for i,g in \n",
      "    #                         gene_sets.iteritems()})\n",
      "    r = mgsa.mgsa(v, gs_r)\n",
      "    res = convert_robj(mgsa.setsResults(r))\n",
      "    return res"
     ],
     "language": "python",
     "metadata": {},
     "outputs": [],
     "prompt_number": 20
    },
    {
     "cell_type": "code",
     "collapsed": false,
     "input": [
      "vec = tab_inf[tab_inf.num_dx > 1000].frac.ix[gs.index] > .75\n",
      "vec.value_counts()"
     ],
     "language": "python",
     "metadata": {},
     "outputs": [
      {
       "metadata": {},
       "output_type": "pyout",
       "prompt_number": 21,
       "text": [
        "False    17495\n",
        "True      3007\n",
        "dtype: int64"
       ]
      }
     ],
     "prompt_number": 21
    },
    {
     "cell_type": "code",
     "collapsed": false,
     "input": [
      "mm = run_mgsa(vec)\n",
      "mm.sort('estimate', ascending=False).head(10)"
     ],
     "language": "python",
     "metadata": {},
     "outputs": [
      {
       "html": [
        "<div style=\"max-height:1000px;max-width:1500px;overflow:auto;\">\n",
        "<table border=\"1\" class=\"dataframe\">\n",
        "  <thead>\n",
        "    <tr style=\"text-align: right;\">\n",
        "      <th></th>\n",
        "      <th>inPopulation</th>\n",
        "      <th>inStudySet</th>\n",
        "      <th>estimate</th>\n",
        "      <th>std.error</th>\n",
        "    </tr>\n",
        "  </thead>\n",
        "  <tbody>\n",
        "    <tr>\n",
        "      <th>KEGG_HOMOLOGOUS_RECOMBINATION</th>\n",
        "      <td>  28</td>\n",
        "      <td> 17</td>\n",
        "      <td> 1.00</td>\n",
        "      <td> 0.00</td>\n",
        "    </tr>\n",
        "    <tr>\n",
        "      <th>KEGG_N_GLYCAN_BIOSYNTHESIS</th>\n",
        "      <td>  46</td>\n",
        "      <td> 19</td>\n",
        "      <td> 0.99</td>\n",
        "      <td> 0.00</td>\n",
        "    </tr>\n",
        "    <tr>\n",
        "      <th>BIOCARTA_RANMS_PATHWAY</th>\n",
        "      <td>  10</td>\n",
        "      <td>  9</td>\n",
        "      <td> 0.98</td>\n",
        "      <td> 0.00</td>\n",
        "    </tr>\n",
        "    <tr>\n",
        "      <th>KEGG_SPLICEOSOME</th>\n",
        "      <td> 126</td>\n",
        "      <td> 59</td>\n",
        "      <td> 0.98</td>\n",
        "      <td> 0.00</td>\n",
        "    </tr>\n",
        "    <tr>\n",
        "      <th>REACTOME_METABOLISM_OF_RNA</th>\n",
        "      <td>  95</td>\n",
        "      <td> 49</td>\n",
        "      <td> 0.97</td>\n",
        "      <td> 0.02</td>\n",
        "    </tr>\n",
        "    <tr>\n",
        "      <th>REACTOME_COPI_MEDIATED_TRANSPORT</th>\n",
        "      <td>  10</td>\n",
        "      <td>  7</td>\n",
        "      <td> 0.96</td>\n",
        "      <td> 0.01</td>\n",
        "    </tr>\n",
        "    <tr>\n",
        "      <th>KEGG_PROTEIN_EXPORT</th>\n",
        "      <td>  23</td>\n",
        "      <td> 10</td>\n",
        "      <td> 0.96</td>\n",
        "      <td> 0.01</td>\n",
        "    </tr>\n",
        "    <tr>\n",
        "      <th>REACTOME_TRNA_AMINOACYLATION</th>\n",
        "      <td>  40</td>\n",
        "      <td> 25</td>\n",
        "      <td> 0.95</td>\n",
        "      <td> 0.01</td>\n",
        "    </tr>\n",
        "    <tr>\n",
        "      <th>REACTOME_POST_CHAPERONIN_TUBULIN_FOLDING_PATHWAY</th>\n",
        "      <td>  19</td>\n",
        "      <td>  8</td>\n",
        "      <td> 0.95</td>\n",
        "      <td> 0.00</td>\n",
        "    </tr>\n",
        "    <tr>\n",
        "      <th>KEGG_BASE_EXCISION_REPAIR</th>\n",
        "      <td>  33</td>\n",
        "      <td> 21</td>\n",
        "      <td> 0.93</td>\n",
        "      <td> 0.01</td>\n",
        "    </tr>\n",
        "  </tbody>\n",
        "</table>\n",
        "</div>"
       ],
       "metadata": {},
       "output_type": "pyout",
       "prompt_number": 22,
       "text": [
        "                                                  inPopulation  inStudySet  estimate  std.error\n",
        "KEGG_HOMOLOGOUS_RECOMBINATION                               28          17      1.00       0.00\n",
        "KEGG_N_GLYCAN_BIOSYNTHESIS                                  46          19      0.99       0.00\n",
        "BIOCARTA_RANMS_PATHWAY                                      10           9      0.98       0.00\n",
        "KEGG_SPLICEOSOME                                           126          59      0.98       0.00\n",
        "REACTOME_METABOLISM_OF_RNA                                  95          49      0.97       0.02\n",
        "REACTOME_COPI_MEDIATED_TRANSPORT                            10           7      0.96       0.01\n",
        "KEGG_PROTEIN_EXPORT                                         23          10      0.96       0.01\n",
        "REACTOME_TRNA_AMINOACYLATION                                40          25      0.95       0.01\n",
        "REACTOME_POST_CHAPERONIN_TUBULIN_FOLDING_PATHWAY            19           8      0.95       0.00\n",
        "KEGG_BASE_EXCISION_REPAIR                                   33          21      0.93       0.01"
       ]
      }
     ],
     "prompt_number": 22
    },
    {
     "cell_type": "code",
     "collapsed": false,
     "input": [
      "vec = tab_inf[tab_inf.num_dx > 1000].frac.ix[gs.index] < .25\n",
      "vec.value_counts()"
     ],
     "language": "python",
     "metadata": {},
     "outputs": [
      {
       "metadata": {},
       "output_type": "pyout",
       "prompt_number": 23,
       "text": [
        "False    16917\n",
        "True      3585\n",
        "dtype: int64"
       ]
      }
     ],
     "prompt_number": 23
    },
    {
     "cell_type": "code",
     "collapsed": false,
     "input": [
      "mm = run_mgsa(vec)\n",
      "mm.sort('estimate', ascending=False).head(10)"
     ],
     "language": "python",
     "metadata": {},
     "outputs": [
      {
       "html": [
        "<div style=\"max-height:1000px;max-width:1500px;overflow:auto;\">\n",
        "<table border=\"1\" class=\"dataframe\">\n",
        "  <thead>\n",
        "    <tr style=\"text-align: right;\">\n",
        "      <th></th>\n",
        "      <th>inPopulation</th>\n",
        "      <th>inStudySet</th>\n",
        "      <th>estimate</th>\n",
        "      <th>std.error</th>\n",
        "    </tr>\n",
        "  </thead>\n",
        "  <tbody>\n",
        "    <tr>\n",
        "      <th>REACTOME_SIGNALING_BY_BMP</th>\n",
        "      <td>  23</td>\n",
        "      <td> 15</td>\n",
        "      <td> 0.99</td>\n",
        "      <td> 0.00</td>\n",
        "    </tr>\n",
        "    <tr>\n",
        "      <th>REACTOME_NUCLEAR_RECEPTOR_TRANSCRIPTION_PATHWAY</th>\n",
        "      <td>  50</td>\n",
        "      <td> 21</td>\n",
        "      <td> 0.98</td>\n",
        "      <td> 0.01</td>\n",
        "    </tr>\n",
        "    <tr>\n",
        "      <th>KEGG_CALCIUM_SIGNALING_PATHWAY</th>\n",
        "      <td> 177</td>\n",
        "      <td> 59</td>\n",
        "      <td> 0.89</td>\n",
        "      <td> 0.03</td>\n",
        "    </tr>\n",
        "    <tr>\n",
        "      <th>REACTOME_RHO_GTPASE_CYCLE</th>\n",
        "      <td> 123</td>\n",
        "      <td> 36</td>\n",
        "      <td> 0.85</td>\n",
        "      <td> 0.02</td>\n",
        "    </tr>\n",
        "    <tr>\n",
        "      <th>KEGG_AXON_GUIDANCE</th>\n",
        "      <td> 129</td>\n",
        "      <td> 37</td>\n",
        "      <td> 0.82</td>\n",
        "      <td> 0.03</td>\n",
        "    </tr>\n",
        "    <tr>\n",
        "      <th>REACTOME_PHASE_1_FUNCTIONALIZATION_OF_COMPOUNDS</th>\n",
        "      <td>  67</td>\n",
        "      <td> 28</td>\n",
        "      <td> 0.80</td>\n",
        "      <td> 0.03</td>\n",
        "    </tr>\n",
        "    <tr>\n",
        "      <th>KEGG_TIGHT_JUNCTION</th>\n",
        "      <td> 132</td>\n",
        "      <td> 38</td>\n",
        "      <td> 0.78</td>\n",
        "      <td> 0.03</td>\n",
        "    </tr>\n",
        "    <tr>\n",
        "      <th>KEGG_VALINE_LEUCINE_AND_ISOLEUCINE_DEGRADATION</th>\n",
        "      <td>  44</td>\n",
        "      <td> 25</td>\n",
        "      <td> 0.76</td>\n",
        "      <td> 0.02</td>\n",
        "    </tr>\n",
        "    <tr>\n",
        "      <th>REACTOME_MYOGENESSIS</th>\n",
        "      <td>  29</td>\n",
        "      <td> 12</td>\n",
        "      <td> 0.70</td>\n",
        "      <td> 0.03</td>\n",
        "    </tr>\n",
        "    <tr>\n",
        "      <th>REACTOME_MUSCLE_CONTRACTION</th>\n",
        "      <td>  51</td>\n",
        "      <td> 20</td>\n",
        "      <td> 0.65</td>\n",
        "      <td> 0.03</td>\n",
        "    </tr>\n",
        "  </tbody>\n",
        "</table>\n",
        "</div>"
       ],
       "metadata": {},
       "output_type": "pyout",
       "prompt_number": 24,
       "text": [
        "                                                 inPopulation  inStudySet  estimate  std.error\n",
        "REACTOME_SIGNALING_BY_BMP                                  23          15      0.99       0.00\n",
        "REACTOME_NUCLEAR_RECEPTOR_TRANSCRIPTION_PATHWAY            50          21      0.98       0.01\n",
        "KEGG_CALCIUM_SIGNALING_PATHWAY                            177          59      0.89       0.03\n",
        "REACTOME_RHO_GTPASE_CYCLE                                 123          36      0.85       0.02\n",
        "KEGG_AXON_GUIDANCE                                        129          37      0.82       0.03\n",
        "REACTOME_PHASE_1_FUNCTIONALIZATION_OF_COMPOUNDS            67          28      0.80       0.03\n",
        "KEGG_TIGHT_JUNCTION                                       132          38      0.78       0.03\n",
        "KEGG_VALINE_LEUCINE_AND_ISOLEUCINE_DEGRADATION             44          25      0.76       0.02\n",
        "REACTOME_MYOGENESSIS                                       29          12      0.70       0.03\n",
        "REACTOME_MUSCLE_CONTRACTION                                51          20      0.65       0.03"
       ]
      }
     ],
     "prompt_number": 24
    },
    {
     "cell_type": "code",
     "collapsed": false,
     "input": [
      "def dx_group(split, matched_tn, fc=1.5):\n",
      "    tab_1 = binomial_test_screen(matched_tn.ix[:, ti(split==True)], fc=fc)\n",
      "    tab_1 = tab_1.ix[(((tab_1.frac - .5).abs() > .25) & (tab_1.p > .01)) == False]\n",
      "    \n",
      "    tab_0 = binomial_test_screen(matched_tn.ix[:, ti(split==False)], fc=fc)\n",
      "    tab_0 = tab_0.ix[(((tab_0.frac - .5).abs() > .25) & (tab_0.p > .01)) == False]\n",
      "    \n",
      "    df = matched_tn.ix[:, ti(split==True)]\n",
      "    ttest_1 = df.apply(ttest_rel, axis=1)\n",
      "    \n",
      "    df = matched_tn.ix[:, ti(split==False)]\n",
      "    ttest_0 = df.apply(ttest_rel, axis=1)\n",
      "    \n",
      "    t0 = pd.concat([tab_0, ttest_0], keys=['binom','ttest'], axis=1)\n",
      "    t1 = pd.concat([tab_1, ttest_1], keys=['binom','ttest'], axis=1)\n",
      "    t = pd.concat([t0, t1], keys=['miss','hit'], axis=1)\n",
      "    return t"
     ],
     "language": "python",
     "metadata": {},
     "outputs": [],
     "prompt_number": 30
    },
    {
     "cell_type": "code",
     "collapsed": false,
     "input": [
      "(tab.p < 10e-5).value_counts()"
     ],
     "language": "python",
     "metadata": {},
     "outputs": [
      {
       "metadata": {},
       "output_type": "pyout",
       "prompt_number": 31,
       "text": [
        "True     12097\n",
        "False     8221\n",
        "dtype: int64"
       ]
      }
     ],
     "prompt_number": 31
    },
    {
     "cell_type": "code",
     "collapsed": false,
     "input": [
      "hpv = pd.read_csv('/cellar/users/agross/Desktop/hpv.csv', index_col=0, squeeze=True,\n",
      "                  header=None)\n",
      "hpv = hpv.map({True: 'HNSC HPV+', False: 'HNSC HPV-'})\n",
      "c2 = hpv.combine_first(codes)"
     ],
     "language": "python",
     "metadata": {},
     "outputs": [],
     "prompt_number": 32
    },
    {
     "cell_type": "code",
     "collapsed": false,
     "input": [
      "t = tn_inf_c.xs('01',1,1)\n",
      "n = tn_inf_c.xs('11',1,1)\n",
      "t = t.ix[ti(bhCorrection(tab.p) < 10e-2)]\n",
      "t,n = t.align(n, join='inner')\n",
      "dd = t > n"
     ],
     "language": "python",
     "metadata": {},
     "outputs": [],
     "prompt_number": 211
    },
    {
     "cell_type": "code",
     "collapsed": false,
     "input": [
      "dd.shape"
     ],
     "language": "python",
     "metadata": {},
     "outputs": [
      {
       "metadata": {},
       "output_type": "pyout",
       "prompt_number": 212,
       "text": [
        "(16224, 5798)"
       ]
      }
     ],
     "prompt_number": 212
    },
    {
     "cell_type": "code",
     "collapsed": false,
     "input": [
      "p = '/cellar/users/agross/TCGA_Code/TCGA/Data/Firehose__2014_07_15/analyses'\n",
      "ext = 'Aggregate_Molecular_Subtype_Clusters'"
     ],
     "language": "python",
     "metadata": {},
     "outputs": [],
     "prompt_number": 35
    },
    {
     "cell_type": "code",
     "collapsed": false,
     "input": [
      "mRNA_clust = {}\n",
      "for c in cancers_to_use:\n",
      "    clusters = pd.read_table('{}/{}/{}/{}-TP.mergedcluster.txt'.format(p,c,ext,c),\n",
      "                             index_col=0)\n",
      "    clusters = FH.fix_barcode_columns(clusters.T).T\n",
      "    clusters = clusters.xs('01', level=1)\n",
      "    mRNA_clust[c] = clusters.mRNAseq_cNMF\n",
      "mRNA_clust = pd.DataFrame(mRNA_clust)"
     ],
     "language": "python",
     "metadata": {},
     "outputs": [],
     "prompt_number": 36
    },
    {
     "cell_type": "code",
     "collapsed": false,
     "input": [
      "mRNA_clust = mRNA_clust.stack().reset_index(1)\n",
      "mRNA_clust.columns = ['tissue','cluster']\n",
      "mRNA_clust = mRNA_clust.apply(lambda s: '_'.join(map(str, s)), axis=1)"
     ],
     "language": "python",
     "metadata": {},
     "outputs": [],
     "prompt_number": 37
    },
    {
     "cell_type": "code",
     "collapsed": false,
     "input": [
      "dd = (t > n) - .5"
     ],
     "language": "python",
     "metadata": {},
     "outputs": [],
     "prompt_number": 213
    },
    {
     "cell_type": "code",
     "collapsed": false,
     "input": [
      "t = tn_inf_c.xs('01',1,1)\n",
      "n = tn_inf_c.xs('11',1,1)\n",
      "#t = t.ix[ti(tab_inf.num_dx > 3000)]\n",
      "dd = t - n\n",
      "dd = dd.div(n.std(1), axis=0)\n",
      "dd = (-1 * (dd < -1)) + (1 * (dd > 1))\n",
      "dd = dd[(dd == 0).mean(1) < .75]"
     ],
     "language": "python",
     "metadata": {},
     "outputs": [],
     "prompt_number": 687
    },
    {
     "cell_type": "code",
     "collapsed": false,
     "input": [
      "m2 = mRNA_clust.ix[ti(codes.isin(['LUAD','LUSC','HNSC','THCA']))]"
     ],
     "language": "python",
     "metadata": {},
     "outputs": [],
     "prompt_number": 721
    },
    {
     "cell_type": "code",
     "collapsed": false,
     "input": [
      "fig, ax = subplots(figsize=(20,20))\n",
      "cc = dd.T.groupby(m2).mean().T\n",
      "#cs = dd.T.groupby(mRNA_clust).std().T\n",
      "#cc = cc / cs\n",
      "fancy_raster(cc.corr(), cluster=True, ax=ax)"
     ],
     "language": "python",
     "metadata": {},
     "outputs": [
      {
       "metadata": {},
       "output_type": "pyout",
       "prompt_number": 722,
       "text": [
        "<matplotlib.image.AxesImage at 0x7f05f2146fd0>"
       ]
      },
      {
       "metadata": {},
       "output_type": "display_data",
       "png": "[encoded data removed]",
       "text": [
        "<matplotlib.figure.Figure at 0x7f05f21c2290>"
       ]
      }
     ],
     "prompt_number": 722
    },
    {
     "cell_type": "code",
     "collapsed": false,
     "input": [
      "t = tn_inf_c.xs('01',1,1)\n",
      "n = tn_inf_c.xs('11',1,1)\n",
      "#t = t.ix[ti(tab_inf.num_dx > 3000)]\n",
      "t,n = t.align(n, join='inner')\n",
      "dd = t - n\n",
      "dd = dd.div(n.std(1), axis=0)\n",
      "dd = (-1 * (dd < -1)) + (1 * (dd > 1))\n",
      "dd = dd[(dd == 0).mean(1) < .75]"
     ],
     "language": "python",
     "metadata": {},
     "outputs": [],
     "prompt_number": 723
    },
    {
     "cell_type": "code",
     "collapsed": false,
     "input": [
      "cc = (dd).T.groupby(c2).mean().T\n",
      "fancy_raster(cc.corr(), cluster=True)"
     ],
     "language": "python",
     "metadata": {},
     "outputs": [
      {
       "metadata": {},
       "output_type": "pyout",
       "prompt_number": 672,
       "text": [
        "<matplotlib.image.AxesImage at 0x7f061c4ab3d0>"
       ]
      },
      {
       "metadata": {},
       "output_type": "display_data",
       "png": "[encoded data removed]",
       "text": [
        "<matplotlib.figure.Figure at 0x7f06250ffc50>"
       ]
      }
     ],
     "prompt_number": 672
    },
    {
     "cell_type": "code",
     "collapsed": false,
     "input": [
      "stacked = cc.corr().stack()\n",
      "stacked.index.names = ['l1','l2']\n",
      "stacked = stacked.reset_index()\n",
      "stacked.to_csv('/cellar/users/agross/clixo_tmp.tab', header=False, sep='\\t',\n",
      "               index=None)"
     ],
     "language": "python",
     "metadata": {},
     "outputs": [],
     "prompt_number": 724
    },
    {
     "cell_type": "code",
     "collapsed": false,
     "input": [
      "clixo = '/cellar/users/agross/sources/clixo_release_0.1/clixo'\n",
      "res = ! $clixo /cellar/users/agross/clixo_tmp.tab .01 .4 cancer\n",
      "ont = pd.DataFrame([r.split('\\t') for r in res if r.startswith('#') == False],\n",
      "                    columns=['node','cancer','type','distance'])"
     ],
     "language": "python",
     "metadata": {},
     "outputs": [],
     "prompt_number": 728
    },
    {
     "cell_type": "code",
     "collapsed": false,
     "input": [
      "from IPython.display import display_svg\n",
      "import pygraphviz as pgv"
     ],
     "language": "python",
     "metadata": {},
     "outputs": [],
     "prompt_number": 729
    },
    {
     "cell_type": "code",
     "collapsed": false,
     "input": [
      "figsize = (20,20)\n",
      "\n",
      "G=pgv.AGraph(name='test', directed=True)\n",
      "for i,edge in ont.iterrows():\n",
      "    G.add_edge(edge.node, edge.cancer, weight=1. / float(edge.distance),\n",
      "               arrowhead='vee')\n",
      "    e = G.get_edge(edge.node, edge.cancer)\n",
      "for n in G.nodes():\n",
      "    n.attr['label'] = n.name\n",
      "    n.attr['style'] = 'rounded'\n",
      "    n.attr['lwidth'] = .2\n",
      "    \n",
      "    if len(n.name) >= 3:\n",
      "        n.attr['color'] = 'red'\n",
      "    \n",
      "G.graph_attr['size'] = '{}, {}'.format(*figsize)\n",
      "svg = G.draw(format='svg', prog='dot')\n",
      "display_svg(svg, raw=True)"
     ],
     "language": "python",
     "metadata": {},
     "outputs": [
      {
       "metadata": {},
       "output_type": "display_data",
       "svg": [
        "<?xml version=\"1.0\" encoding=\"UTF-8\" standalone=\"no\"?>\n",
        "<!DOCTYPE svg PUBLIC \"-//W3C//DTD SVG 1.1//EN\"\n",
        " \"http://www.w3.org/Graphics/SVG/1.1/DTD/svg11.dtd\">\n",
        "<!-- Generated by graphviz version 2.26.3 (20100126.1600)\n",
        " -->\n",
        "<!-- Title: test Pages: 1 -->\n",
        "<svg width=\"1440pt\" height=\"314pt\"\n",
        " viewBox=\"0.00 0.00 1440.00 313.68\" xmlns=\"http://www.w3.org/2000/svg\" xmlns:xlink=\"http://www.w3.org/1999/xlink\">\n",
        "<g id=\"graph1\" class=\"graph\" transform=\"scale(0.917197 0.917197) rotate(0) translate(4 338)\">\n",
        "<title>test</title>\n",
        "<polygon fill=\"white\" stroke=\"white\" points=\"-4,5 -4,-338 1567,-338 1567,5 -4,5\"/>\n",
        "<!-- 16 -->\n",
        "<g id=\"node1\" class=\"node\"><title>16</title>\n",
        "<ellipse fill=\"none\" stroke=\"black\" cx=\"727\" cy=\"-93\" rx=\"27\" ry=\"18.3848\"/>\n",
        "<text text-anchor=\"middle\" x=\"727\" y=\"-89.4\" font-family=\"Times Roman,serif\" font-size=\"14.00\">16</text>\n",
        "</g>\n",
        "<!-- LUSC_2.0 -->\n",
        "<g id=\"node2\" class=\"node\"><title>LUSC_2.0</title>\n",
        "<ellipse fill=\"none\" stroke=\"red\" cx=\"531\" cy=\"-19\" rx=\"58.1882\" ry=\"18.3848\"/>\n",
        "<text text-anchor=\"middle\" x=\"531\" y=\"-15.4\" font-family=\"Times Roman,serif\" font-size=\"14.00\">LUSC_2.0</text>\n",
        "</g>\n",
        "<!-- 16&#45;&gt;LUSC_2.0 -->\n",
        "<g id=\"edge2\" class=\"edge\"><title>16&#45;&gt;LUSC_2.0</title>\n",
        "<path fill=\"none\" stroke=\"black\" d=\"M705.946,-81.1927C701.105,-78.6739 695.929,-76.1328 691,-74 655.85,-58.7912 614.999,-44.8071 583.373,-34.7455\"/>\n",
        "<polygon fill=\"black\" stroke=\"black\" points=\"573.448,-31.62 584.338,-30.3315 578.217,-33.1218 582.986,-34.6237 582.986,-34.6237 582.986,-34.6237 578.217,-33.1218 581.635,-38.9159 573.448,-31.62 573.448,-31.62\"/>\n",
        "</g>\n",
        "<!-- LUSC_1.0 -->\n",
        "<g id=\"node4\" class=\"node\"><title>LUSC_1.0</title>\n",
        "<ellipse fill=\"none\" stroke=\"red\" cx=\"665\" cy=\"-19\" rx=\"58.1882\" ry=\"18.3848\"/>\n",
        "<text text-anchor=\"middle\" x=\"665\" y=\"-15.4\" font-family=\"Times Roman,serif\" font-size=\"14.00\">LUSC_1.0</text>\n",
        "</g>\n",
        "<!-- 16&#45;&gt;LUSC_1.0 -->\n",
        "<g id=\"edge4\" class=\"edge\"><title>16&#45;&gt;LUSC_1.0</title>\n",
        "<path fill=\"none\" stroke=\"black\" d=\"M713.547,-76.9431C705.714,-67.594 695.652,-55.585 686.722,-44.9264\"/>\n",
        "<polygon fill=\"black\" stroke=\"black\" points=\"680.169,-37.1054 690.041,-41.8806 683.381,-40.938 686.592,-44.7706 686.592,-44.7706 686.592,-44.7706 683.381,-40.938 683.142,-47.6606 680.169,-37.1054 680.169,-37.1054\"/>\n",
        "</g>\n",
        "<!-- 17 -->\n",
        "<g id=\"node6\" class=\"node\"><title>17</title>\n",
        "<ellipse fill=\"none\" stroke=\"black\" cx=\"1115\" cy=\"-93\" rx=\"27\" ry=\"18.3848\"/>\n",
        "<text text-anchor=\"middle\" x=\"1115\" y=\"-89.4\" font-family=\"Times Roman,serif\" font-size=\"14.00\">17</text>\n",
        "</g>\n",
        "<!-- THCA_3.0 -->\n",
        "<g id=\"node7\" class=\"node\"><title>THCA_3.0</title>\n",
        "<ellipse fill=\"none\" stroke=\"red\" cx=\"1070\" cy=\"-19\" rx=\"60.8112\" ry=\"18.3848\"/>\n",
        "<text text-anchor=\"middle\" x=\"1070\" y=\"-15.4\" font-family=\"Times Roman,serif\" font-size=\"14.00\">THCA_3.0</text>\n",
        "</g>\n",
        "<!-- 17&#45;&gt;THCA_3.0 -->\n",
        "<g id=\"edge6\" class=\"edge\"><title>17&#45;&gt;THCA_3.0</title>\n",
        "<path fill=\"none\" stroke=\"black\" d=\"M1104.56,-75.8369C1099.2,-67.0109 1092.53,-56.0467 1086.49,-46.1097\"/>\n",
        "<polygon fill=\"black\" stroke=\"black\" points=\"1081.17,-37.3634 1090.21,-43.5695 1083.76,-41.6355 1086.36,-45.9077 1086.36,-45.9077 1086.36,-45.9077 1083.76,-41.6355 1082.52,-48.2458 1081.17,-37.3634 1081.17,-37.3634\"/>\n",
        "</g>\n",
        "<!-- THCA_4.0 -->\n",
        "<g id=\"node9\" class=\"node\"><title>THCA_4.0</title>\n",
        "<ellipse fill=\"none\" stroke=\"red\" cx=\"1210\" cy=\"-19\" rx=\"60.8112\" ry=\"18.3848\"/>\n",
        "<text text-anchor=\"middle\" x=\"1210\" y=\"-15.4\" font-family=\"Times Roman,serif\" font-size=\"14.00\">THCA_4.0</text>\n",
        "</g>\n",
        "<!-- 17&#45;&gt;THCA_4.0 -->\n",
        "<g id=\"edge8\" class=\"edge\"><title>17&#45;&gt;THCA_4.0</title>\n",
        "<path fill=\"none\" stroke=\"black\" d=\"M1132.87,-79.0812C1146.02,-68.8368 1164.22,-54.662 1179.63,-42.6532\"/>\n",
        "<polygon fill=\"black\" stroke=\"black\" points=\"1187.86,-36.2432 1182.74,-45.9385 1183.92,-39.3158 1179.97,-42.3884 1179.97,-42.3884 1179.97,-42.3884 1183.92,-39.3158 1177.21,-38.8383 1187.86,-36.2432 1187.86,-36.2432\"/>\n",
        "</g>\n",
        "<!-- 18 -->\n",
        "<g id=\"node11\" class=\"node\"><title>18</title>\n",
        "<ellipse fill=\"none\" stroke=\"black\" cx=\"621\" cy=\"-167\" rx=\"27\" ry=\"18.3848\"/>\n",
        "<text text-anchor=\"middle\" x=\"621\" y=\"-163.4\" font-family=\"Times Roman,serif\" font-size=\"14.00\">18</text>\n",
        "</g>\n",
        "<!-- LUAD_3.0 -->\n",
        "<g id=\"node12\" class=\"node\"><title>LUAD_3.0</title>\n",
        "<ellipse fill=\"none\" stroke=\"red\" cx=\"621\" cy=\"-93\" rx=\"60.8112\" ry=\"18.3848\"/>\n",
        "<text text-anchor=\"middle\" x=\"621\" y=\"-89.4\" font-family=\"Times Roman,serif\" font-size=\"14.00\">LUAD_3.0</text>\n",
        "</g>\n",
        "<!-- 18&#45;&gt;LUAD_3.0 -->\n",
        "<g id=\"edge10\" class=\"edge\"><title>18&#45;&gt;LUAD_3.0</title>\n",
        "<path fill=\"none\" stroke=\"black\" d=\"M621,-148.327C621,-140.264 621,-130.648 621,-121.711\"/>\n",
        "<polygon fill=\"black\" stroke=\"black\" points=\"621,-111.667 625.5,-121.667 621,-116.667 621,-121.667 621,-121.667 621,-121.667 621,-116.667 616.5,-121.667 621,-111.667 621,-111.667\"/>\n",
        "</g>\n",
        "<!-- LUSC_4.0 -->\n",
        "<g id=\"node14\" class=\"node\"><title>LUSC_4.0</title>\n",
        "<ellipse fill=\"none\" stroke=\"red\" cx=\"933\" cy=\"-19\" rx=\"58.1882\" ry=\"18.3848\"/>\n",
        "<text text-anchor=\"middle\" x=\"933\" y=\"-15.4\" font-family=\"Times Roman,serif\" font-size=\"14.00\">LUSC_4.0</text>\n",
        "</g>\n",
        "<!-- 18&#45;&gt;LUSC_4.0 -->\n",
        "<g id=\"edge12\" class=\"edge\"><title>18&#45;&gt;LUSC_4.0</title>\n",
        "<path fill=\"none\" stroke=\"black\" d=\"M646.24,-160.018C659.539,-156.372 676.134,-151.875 691,-148 754.836,-131.359 777.173,-143.749 835,-112 865.811,-95.0837 894.131,-66.1046 912.319,-44.9817\"/>\n",
        "<polygon fill=\"black\" stroke=\"black\" points=\"918.777,-37.3123 915.778,-47.8601 915.556,-41.1369 912.336,-44.9614 912.336,-44.9614 912.336,-44.9614 915.556,-41.1369 908.893,-42.0627 918.777,-37.3123 918.777,-37.3123\"/>\n",
        "</g>\n",
        "<!-- 19 -->\n",
        "<g id=\"node16\" class=\"node\"><title>19</title>\n",
        "<ellipse fill=\"none\" stroke=\"black\" cx=\"1293\" cy=\"-167\" rx=\"27\" ry=\"18.3848\"/>\n",
        "<text text-anchor=\"middle\" x=\"1293\" y=\"-163.4\" font-family=\"Times Roman,serif\" font-size=\"14.00\">19</text>\n",
        "</g>\n",
        "<!-- HNSC_3.0 -->\n",
        "<g id=\"node17\" class=\"node\"><title>HNSC_3.0</title>\n",
        "<ellipse fill=\"none\" stroke=\"red\" cx=\"1361\" cy=\"-93\" rx=\"60.8112\" ry=\"18.3848\"/>\n",
        "<text text-anchor=\"middle\" x=\"1361\" y=\"-89.4\" font-family=\"Times Roman,serif\" font-size=\"14.00\">HNSC_3.0</text>\n",
        "</g>\n",
        "<!-- 19&#45;&gt;HNSC_3.0 -->\n",
        "<g id=\"edge14\" class=\"edge\"><title>19&#45;&gt;HNSC_3.0</title>\n",
        "<path fill=\"none\" stroke=\"black\" d=\"M1307.42,-151.307C1316.14,-141.816 1327.47,-129.488 1337.46,-118.614\"/>\n",
        "<polygon fill=\"black\" stroke=\"black\" points=\"1344.45,-111.014 1340.99,-121.422 1341.06,-114.695 1337.68,-118.377 1337.68,-118.377 1337.68,-118.377 1341.06,-114.695 1334.37,-115.332 1344.45,-111.014 1344.45,-111.014\"/>\n",
        "</g>\n",
        "<!-- HNSC_2.0 -->\n",
        "<g id=\"node19\" class=\"node\"><title>HNSC_2.0</title>\n",
        "<ellipse fill=\"none\" stroke=\"red\" cx=\"1501\" cy=\"-93\" rx=\"60.8112\" ry=\"18.3848\"/>\n",
        "<text text-anchor=\"middle\" x=\"1501\" y=\"-89.4\" font-family=\"Times Roman,serif\" font-size=\"14.00\">HNSC_2.0</text>\n",
        "</g>\n",
        "<!-- 19&#45;&gt;HNSC_2.0 -->\n",
        "<g id=\"edge16\" class=\"edge\"><title>19&#45;&gt;HNSC_2.0</title>\n",
        "<path fill=\"none\" stroke=\"black\" d=\"M1317.27,-158.366C1350.08,-146.694 1409.34,-125.609 1451.69,-110.542\"/>\n",
        "<polygon fill=\"black\" stroke=\"black\" points=\"1461.26,-107.137 1453.35,-114.729 1456.55,-108.813 1451.84,-110.489 1451.84,-110.489 1451.84,-110.489 1456.55,-108.813 1450.33,-106.25 1461.26,-107.137 1461.26,-107.137\"/>\n",
        "</g>\n",
        "<!-- 20 -->\n",
        "<g id=\"node21\" class=\"node\"><title>20</title>\n",
        "<ellipse fill=\"none\" stroke=\"black\" cx=\"971\" cy=\"-167\" rx=\"27\" ry=\"18.3848\"/>\n",
        "<text text-anchor=\"middle\" x=\"971\" y=\"-163.4\" font-family=\"Times Roman,serif\" font-size=\"14.00\">20</text>\n",
        "</g>\n",
        "<!-- 20&#45;&gt;THCA_3.0 -->\n",
        "<g id=\"edge18\" class=\"edge\"><title>20&#45;&gt;THCA_3.0</title>\n",
        "<path fill=\"none\" stroke=\"black\" d=\"M992.218,-155.151C1007.8,-145.436 1028.37,-130.324 1041,-112 1054.34,-92.6426 1061.75,-66.8846 1065.73,-47.3854\"/>\n",
        "<polygon fill=\"black\" stroke=\"black\" points=\"1067.56,-37.5521 1070.15,-48.2063 1066.64,-42.4678 1065.73,-47.3836 1065.73,-47.3836 1065.73,-47.3836 1066.64,-42.4678 1061.3,-46.5609 1067.56,-37.5521 1067.56,-37.5521\"/>\n",
        "</g>\n",
        "<!-- THCA_1.0 -->\n",
        "<g id=\"node23\" class=\"node\"><title>THCA_1.0</title>\n",
        "<ellipse fill=\"none\" stroke=\"red\" cx=\"971\" cy=\"-93\" rx=\"60.8112\" ry=\"18.3848\"/>\n",
        "<text text-anchor=\"middle\" x=\"971\" y=\"-89.4\" font-family=\"Times Roman,serif\" font-size=\"14.00\">THCA_1.0</text>\n",
        "</g>\n",
        "<!-- 20&#45;&gt;THCA_1.0 -->\n",
        "<g id=\"edge20\" class=\"edge\"><title>20&#45;&gt;THCA_1.0</title>\n",
        "<path fill=\"none\" stroke=\"black\" d=\"M971,-148.327C971,-140.264 971,-130.648 971,-121.711\"/>\n",
        "<polygon fill=\"black\" stroke=\"black\" points=\"971,-111.667 975.5,-121.667 971,-116.667 971,-121.667 971,-121.667 971,-121.667 971,-116.667 966.5,-121.667 971,-111.667 971,-111.667\"/>\n",
        "</g>\n",
        "<!-- 21 -->\n",
        "<g id=\"node25\" class=\"node\"><title>21</title>\n",
        "<ellipse fill=\"none\" stroke=\"black\" cx=\"799\" cy=\"-93\" rx=\"27\" ry=\"18.3848\"/>\n",
        "<text text-anchor=\"middle\" x=\"799\" y=\"-89.4\" font-family=\"Times Roman,serif\" font-size=\"14.00\">21</text>\n",
        "</g>\n",
        "<!-- 21&#45;&gt;LUSC_1.0 -->\n",
        "<g id=\"edge22\" class=\"edge\"><title>21&#45;&gt;LUSC_1.0</title>\n",
        "<path fill=\"none\" stroke=\"black\" d=\"M777.767,-81.2745C757.743,-70.2165 727.272,-53.3891 703.051,-40.013\"/>\n",
        "<polygon fill=\"black\" stroke=\"black\" points=\"694.108,-35.0747 705.038,-35.9697 698.485,-37.4919 702.862,-39.909 702.862,-39.909 702.862,-39.909 698.485,-37.4919 700.687,-43.8482 694.108,-35.0747 694.108,-35.0747\"/>\n",
        "</g>\n",
        "<!-- 21&#45;&gt;LUSC_4.0 -->\n",
        "<g id=\"edge26\" class=\"edge\"><title>21&#45;&gt;LUSC_4.0</title>\n",
        "<path fill=\"none\" stroke=\"black\" d=\"M820.233,-81.2745C840.257,-70.2165 870.728,-53.3891 894.949,-40.013\"/>\n",
        "<polygon fill=\"black\" stroke=\"black\" points=\"903.892,-35.0747 897.313,-43.8482 899.515,-37.4919 895.138,-39.909 895.138,-39.909 895.138,-39.909 899.515,-37.4919 892.962,-35.9697 903.892,-35.0747 903.892,-35.0747\"/>\n",
        "</g>\n",
        "<!-- LUSC_3.0 -->\n",
        "<g id=\"node27\" class=\"node\"><title>LUSC_3.0</title>\n",
        "<ellipse fill=\"none\" stroke=\"red\" cx=\"799\" cy=\"-19\" rx=\"58.1882\" ry=\"18.3848\"/>\n",
        "<text text-anchor=\"middle\" x=\"799\" y=\"-15.4\" font-family=\"Times Roman,serif\" font-size=\"14.00\">LUSC_3.0</text>\n",
        "</g>\n",
        "<!-- 21&#45;&gt;LUSC_3.0 -->\n",
        "<g id=\"edge24\" class=\"edge\"><title>21&#45;&gt;LUSC_3.0</title>\n",
        "<path fill=\"none\" stroke=\"black\" d=\"M799,-74.3267C799,-66.2639 799,-56.6477 799,-47.7115\"/>\n",
        "<polygon fill=\"black\" stroke=\"black\" points=\"799,-37.6674 803.5,-47.6673 799,-42.6674 799,-47.6674 799,-47.6674 799,-47.6674 799,-42.6674 794.5,-47.6674 799,-37.6674 799,-37.6674\"/>\n",
        "</g>\n",
        "<!-- 22 -->\n",
        "<g id=\"node30\" class=\"node\"><title>22</title>\n",
        "<ellipse fill=\"none\" stroke=\"black\" cx=\"1221\" cy=\"-167\" rx=\"27\" ry=\"18.3848\"/>\n",
        "<text text-anchor=\"middle\" x=\"1221\" y=\"-163.4\" font-family=\"Times Roman,serif\" font-size=\"14.00\">22</text>\n",
        "</g>\n",
        "<!-- 22&#45;&gt;17 -->\n",
        "<g id=\"edge28\" class=\"edge\"><title>22&#45;&gt;17</title>\n",
        "<path fill=\"none\" stroke=\"black\" d=\"M1202.05,-153.77C1185.5,-142.214 1161.26,-125.293 1142.56,-112.239\"/>\n",
        "<polygon fill=\"black\" stroke=\"black\" points=\"1134.14,-106.365 1144.92,-108.399 1138.24,-109.227 1142.34,-112.089 1142.34,-112.089 1142.34,-112.089 1138.24,-109.227 1139.77,-115.779 1134.14,-106.365 1134.14,-106.365\"/>\n",
        "</g>\n",
        "<!-- THCA_2.0 -->\n",
        "<g id=\"node32\" class=\"node\"><title>THCA_2.0</title>\n",
        "<ellipse fill=\"none\" stroke=\"red\" cx=\"1221\" cy=\"-93\" rx=\"60.8112\" ry=\"18.3848\"/>\n",
        "<text text-anchor=\"middle\" x=\"1221\" y=\"-89.4\" font-family=\"Times Roman,serif\" font-size=\"14.00\">THCA_2.0</text>\n",
        "</g>\n",
        "<!-- 22&#45;&gt;THCA_2.0 -->\n",
        "<g id=\"edge30\" class=\"edge\"><title>22&#45;&gt;THCA_2.0</title>\n",
        "<path fill=\"none\" stroke=\"black\" d=\"M1221,-148.327C1221,-140.264 1221,-130.648 1221,-121.711\"/>\n",
        "<polygon fill=\"black\" stroke=\"black\" points=\"1221,-111.667 1225.5,-121.667 1221,-116.667 1221,-121.667 1221,-121.667 1221,-121.667 1221,-116.667 1216.5,-121.667 1221,-111.667 1221,-111.667\"/>\n",
        "</g>\n",
        "<!-- 23 -->\n",
        "<g id=\"node34\" class=\"node\"><title>23</title>\n",
        "<ellipse fill=\"none\" stroke=\"black\" cx=\"971\" cy=\"-241\" rx=\"27\" ry=\"18.3848\"/>\n",
        "<text text-anchor=\"middle\" x=\"971\" y=\"-237.4\" font-family=\"Times Roman,serif\" font-size=\"14.00\">23</text>\n",
        "</g>\n",
        "<!-- 23&#45;&gt;17 -->\n",
        "<g id=\"edge32\" class=\"edge\"><title>23&#45;&gt;17</title>\n",
        "<path fill=\"none\" stroke=\"black\" d=\"M982.505,-224.25C996.228,-204.851 1020.41,-172.436 1045,-148 1058.04,-135.041 1074.07,-122.251 1087.5,-112.27\"/>\n",
        "<polygon fill=\"black\" stroke=\"black\" points=\"1095.9,-106.144 1090.47,-115.674 1091.86,-109.092 1087.82,-112.04 1087.82,-112.04 1087.82,-112.04 1091.86,-109.092 1085.17,-108.405 1095.9,-106.144 1095.9,-106.144\"/>\n",
        "</g>\n",
        "<!-- 23&#45;&gt;20 -->\n",
        "<g id=\"edge34\" class=\"edge\"><title>23&#45;&gt;20</title>\n",
        "<path fill=\"none\" stroke=\"black\" d=\"M971,-222.327C971,-214.264 971,-204.648 971,-195.711\"/>\n",
        "<polygon fill=\"black\" stroke=\"black\" points=\"971,-185.667 975.5,-195.667 971,-190.667 971,-195.667 971,-195.667 971,-195.667 971,-190.667 966.5,-195.667 971,-185.667 971,-185.667\"/>\n",
        "</g>\n",
        "<!-- 24 -->\n",
        "<g id=\"node37\" class=\"node\"><title>24</title>\n",
        "<ellipse fill=\"none\" stroke=\"black\" cx=\"727\" cy=\"-167\" rx=\"27\" ry=\"18.3848\"/>\n",
        "<text text-anchor=\"middle\" x=\"727\" y=\"-163.4\" font-family=\"Times Roman,serif\" font-size=\"14.00\">24</text>\n",
        "</g>\n",
        "<!-- 24&#45;&gt;16 -->\n",
        "<g id=\"edge38\" class=\"edge\"><title>24&#45;&gt;16</title>\n",
        "<path fill=\"none\" stroke=\"black\" d=\"M727,-148.327C727,-140.264 727,-130.648 727,-121.711\"/>\n",
        "<polygon fill=\"black\" stroke=\"black\" points=\"727,-111.667 731.5,-121.667 727,-116.667 727,-121.667 727,-121.667 727,-121.667 727,-116.667 722.5,-121.667 727,-111.667 727,-111.667\"/>\n",
        "</g>\n",
        "<!-- 24&#45;&gt;21 -->\n",
        "<g id=\"edge36\" class=\"edge\"><title>24&#45;&gt;21</title>\n",
        "<path fill=\"none\" stroke=\"black\" d=\"M742.269,-151.307C752.36,-140.935 765.747,-127.176 776.983,-115.628\"/>\n",
        "<polygon fill=\"black\" stroke=\"black\" points=\"784,-108.417 780.251,-118.723 780.513,-112.001 777.026,-115.584 777.026,-115.584 777.026,-115.584 780.513,-112.001 773.801,-112.446 784,-108.417 784,-108.417\"/>\n",
        "</g>\n",
        "<!-- 25 -->\n",
        "<g id=\"node40\" class=\"node\"><title>25</title>\n",
        "<ellipse fill=\"none\" stroke=\"black\" cx=\"481\" cy=\"-167\" rx=\"27\" ry=\"18.3848\"/>\n",
        "<text text-anchor=\"middle\" x=\"481\" y=\"-163.4\" font-family=\"Times Roman,serif\" font-size=\"14.00\">25</text>\n",
        "</g>\n",
        "<!-- 25&#45;&gt;LUAD_3.0 -->\n",
        "<g id=\"edge40\" class=\"edge\"><title>25&#45;&gt;LUAD_3.0</title>\n",
        "<path fill=\"none\" stroke=\"black\" d=\"M502.568,-155.6C523.54,-144.515 555.888,-127.416 581.48,-113.889\"/>\n",
        "<polygon fill=\"black\" stroke=\"black\" points=\"590.57,-109.084 583.832,-117.736 586.15,-111.421 581.729,-113.757 581.729,-113.757 581.729,-113.757 586.15,-111.421 579.626,-109.779 590.57,-109.084 590.57,-109.084\"/>\n",
        "</g>\n",
        "<!-- LUAD_4.0 -->\n",
        "<g id=\"node42\" class=\"node\"><title>LUAD_4.0</title>\n",
        "<ellipse fill=\"none\" stroke=\"red\" cx=\"341\" cy=\"-93\" rx=\"60.8112\" ry=\"18.3848\"/>\n",
        "<text text-anchor=\"middle\" x=\"341\" y=\"-89.4\" font-family=\"Times Roman,serif\" font-size=\"14.00\">LUAD_4.0</text>\n",
        "</g>\n",
        "<!-- 25&#45;&gt;LUAD_4.0 -->\n",
        "<g id=\"edge42\" class=\"edge\"><title>25&#45;&gt;LUAD_4.0</title>\n",
        "<path fill=\"none\" stroke=\"black\" d=\"M459.432,-155.6C438.46,-144.515 406.112,-127.416 380.52,-113.889\"/>\n",
        "<polygon fill=\"black\" stroke=\"black\" points=\"371.43,-109.084 382.374,-109.779 375.85,-111.421 380.271,-113.757 380.271,-113.757 380.271,-113.757 375.85,-111.421 378.168,-117.736 371.43,-109.084 371.43,-109.084\"/>\n",
        "</g>\n",
        "<!-- LUAD_5.0 -->\n",
        "<g id=\"node44\" class=\"node\"><title>LUAD_5.0</title>\n",
        "<ellipse fill=\"none\" stroke=\"red\" cx=\"481\" cy=\"-93\" rx=\"60.8112\" ry=\"18.3848\"/>\n",
        "<text text-anchor=\"middle\" x=\"481\" y=\"-89.4\" font-family=\"Times Roman,serif\" font-size=\"14.00\">LUAD_5.0</text>\n",
        "</g>\n",
        "<!-- 25&#45;&gt;LUAD_5.0 -->\n",
        "<g id=\"edge44\" class=\"edge\"><title>25&#45;&gt;LUAD_5.0</title>\n",
        "<path fill=\"none\" stroke=\"black\" d=\"M481,-148.327C481,-140.264 481,-130.648 481,-121.711\"/>\n",
        "<polygon fill=\"black\" stroke=\"black\" points=\"481,-111.667 485.5,-121.667 481,-116.667 481,-121.667 481,-121.667 481,-121.667 481,-116.667 476.5,-121.667 481,-111.667 481,-111.667\"/>\n",
        "</g>\n",
        "<!-- LUAD_1.0 -->\n",
        "<g id=\"node46\" class=\"node\"><title>LUAD_1.0</title>\n",
        "<ellipse fill=\"none\" stroke=\"red\" cx=\"61\" cy=\"-93\" rx=\"60.8112\" ry=\"18.3848\"/>\n",
        "<text text-anchor=\"middle\" x=\"61\" y=\"-89.4\" font-family=\"Times Roman,serif\" font-size=\"14.00\">LUAD_1.0</text>\n",
        "</g>\n",
        "<!-- 25&#45;&gt;LUAD_1.0 -->\n",
        "<g id=\"edge46\" class=\"edge\"><title>25&#45;&gt;LUAD_1.0</title>\n",
        "<path fill=\"none\" stroke=\"black\" d=\"M454.031,-163.783C395.069,-156.526 250.403,-137.507 131,-112 125.897,-110.91 120.612,-109.675 115.338,-108.371\"/>\n",
        "<polygon fill=\"black\" stroke=\"black\" points=\"105.259,-105.796 116.061,-103.911 110.103,-107.034 114.948,-108.271 114.948,-108.271 114.948,-108.271 110.103,-107.034 113.834,-112.631 105.259,-105.796 105.259,-105.796\"/>\n",
        "</g>\n",
        "<!-- LUAD_2.0 -->\n",
        "<g id=\"node48\" class=\"node\"><title>LUAD_2.0</title>\n",
        "<ellipse fill=\"none\" stroke=\"red\" cx=\"201\" cy=\"-93\" rx=\"60.8112\" ry=\"18.3848\"/>\n",
        "<text text-anchor=\"middle\" x=\"201\" y=\"-89.4\" font-family=\"Times Roman,serif\" font-size=\"14.00\">LUAD_2.0</text>\n",
        "</g>\n",
        "<!-- 25&#45;&gt;LUAD_2.0 -->\n",
        "<g id=\"edge48\" class=\"edge\"><title>25&#45;&gt;LUAD_2.0</title>\n",
        "<path fill=\"none\" stroke=\"black\" d=\"M455.443,-160.385C415.886,-150.128 337.458,-129.722 271,-112 266.304,-110.748 261.433,-109.441 256.547,-108.125\"/>\n",
        "<polygon fill=\"black\" stroke=\"black\" points=\"246.546,-105.425 257.373,-103.687 251.373,-106.729 256.2,-108.032 256.2,-108.032 256.2,-108.032 251.373,-106.729 255.027,-112.376 246.546,-105.425 246.546,-105.425\"/>\n",
        "</g>\n",
        "<!-- 26 -->\n",
        "<g id=\"node50\" class=\"node\"><title>26</title>\n",
        "<ellipse fill=\"none\" stroke=\"black\" cx=\"1221\" cy=\"-241\" rx=\"27\" ry=\"18.3848\"/>\n",
        "<text text-anchor=\"middle\" x=\"1221\" y=\"-237.4\" font-family=\"Times Roman,serif\" font-size=\"14.00\">26</text>\n",
        "</g>\n",
        "<!-- 26&#45;&gt;19 -->\n",
        "<g id=\"edge52\" class=\"edge\"><title>26&#45;&gt;19</title>\n",
        "<path fill=\"none\" stroke=\"black\" d=\"M1236.27,-225.307C1246.36,-214.935 1259.75,-201.176 1270.98,-189.628\"/>\n",
        "<polygon fill=\"black\" stroke=\"black\" points=\"1278,-182.417 1274.25,-192.723 1274.51,-186.001 1271.03,-189.584 1271.03,-189.584 1271.03,-189.584 1274.51,-186.001 1267.8,-186.446 1278,-182.417 1278,-182.417\"/>\n",
        "</g>\n",
        "<!-- 26&#45;&gt;22 -->\n",
        "<g id=\"edge54\" class=\"edge\"><title>26&#45;&gt;22</title>\n",
        "<path fill=\"none\" stroke=\"black\" d=\"M1221,-222.327C1221,-214.264 1221,-204.648 1221,-195.711\"/>\n",
        "<polygon fill=\"black\" stroke=\"black\" points=\"1221,-185.667 1225.5,-195.667 1221,-190.667 1221,-195.667 1221,-195.667 1221,-195.667 1221,-190.667 1216.5,-195.667 1221,-185.667 1221,-185.667\"/>\n",
        "</g>\n",
        "<!-- HNSC_1.0 -->\n",
        "<g id=\"node51\" class=\"node\"><title>HNSC_1.0</title>\n",
        "<ellipse fill=\"none\" stroke=\"red\" cx=\"1115\" cy=\"-167\" rx=\"60.8112\" ry=\"18.3848\"/>\n",
        "<text text-anchor=\"middle\" x=\"1115\" y=\"-163.4\" font-family=\"Times Roman,serif\" font-size=\"14.00\">HNSC_1.0</text>\n",
        "</g>\n",
        "<!-- 26&#45;&gt;HNSC_1.0 -->\n",
        "<g id=\"edge50\" class=\"edge\"><title>26&#45;&gt;HNSC_1.0</title>\n",
        "<path fill=\"none\" stroke=\"black\" d=\"M1202.05,-227.77C1187,-217.267 1165.61,-202.331 1147.8,-189.896\"/>\n",
        "<polygon fill=\"black\" stroke=\"black\" points=\"1139.38,-184.022 1150.16,-186.057 1143.48,-186.884 1147.58,-189.746 1147.58,-189.746 1147.58,-189.746 1143.48,-186.884 1145.01,-193.436 1139.38,-184.022 1139.38,-184.022\"/>\n",
        "</g>\n",
        "<!-- 27 -->\n",
        "<g id=\"node55\" class=\"node\"><title>27</title>\n",
        "<ellipse fill=\"none\" stroke=\"black\" cx=\"621\" cy=\"-241\" rx=\"27\" ry=\"18.3848\"/>\n",
        "<text text-anchor=\"middle\" x=\"621\" y=\"-237.4\" font-family=\"Times Roman,serif\" font-size=\"14.00\">27</text>\n",
        "</g>\n",
        "<!-- 27&#45;&gt;18 -->\n",
        "<g id=\"edge58\" class=\"edge\"><title>27&#45;&gt;18</title>\n",
        "<path fill=\"none\" stroke=\"black\" d=\"M621,-222.327C621,-214.264 621,-204.648 621,-195.711\"/>\n",
        "<polygon fill=\"black\" stroke=\"black\" points=\"621,-185.667 625.5,-195.667 621,-190.667 621,-195.667 621,-195.667 621,-195.667 621,-190.667 616.5,-195.667 621,-185.667 621,-185.667\"/>\n",
        "</g>\n",
        "<!-- 27&#45;&gt;24 -->\n",
        "<g id=\"edge56\" class=\"edge\"><title>27&#45;&gt;24</title>\n",
        "<path fill=\"none\" stroke=\"black\" d=\"M639.951,-227.77C656.504,-216.214 680.742,-199.293 699.441,-186.239\"/>\n",
        "<polygon fill=\"black\" stroke=\"black\" points=\"707.856,-180.365 702.232,-189.779 703.756,-183.227 699.656,-186.089 699.656,-186.089 699.656,-186.089 703.756,-183.227 697.08,-182.399 707.856,-180.365 707.856,-180.365\"/>\n",
        "</g>\n",
        "<!-- 27&#45;&gt;25 -->\n",
        "<g id=\"edge60\" class=\"edge\"><title>27&#45;&gt;25</title>\n",
        "<path fill=\"none\" stroke=\"black\" d=\"M599.432,-229.6C575.967,-217.197 538.26,-197.266 511.708,-183.231\"/>\n",
        "<polygon fill=\"black\" stroke=\"black\" points=\"502.823,-178.535 513.767,-179.23 507.244,-180.872 511.664,-183.208 511.664,-183.208 511.664,-183.208 507.244,-180.872 509.561,-187.187 502.823,-178.535 502.823,-178.535\"/>\n",
        "</g>\n",
        "<!-- 28 -->\n",
        "<g id=\"node59\" class=\"node\"><title>28</title>\n",
        "<ellipse fill=\"none\" stroke=\"black\" cx=\"971\" cy=\"-315\" rx=\"27\" ry=\"18.3848\"/>\n",
        "<text text-anchor=\"middle\" x=\"971\" y=\"-311.4\" font-family=\"Times Roman,serif\" font-size=\"14.00\">28</text>\n",
        "</g>\n",
        "<!-- 28&#45;&gt;23 -->\n",
        "<g id=\"edge64\" class=\"edge\"><title>28&#45;&gt;23</title>\n",
        "<path fill=\"none\" stroke=\"black\" d=\"M971,-296.327C971,-288.264 971,-278.648 971,-269.711\"/>\n",
        "<polygon fill=\"black\" stroke=\"black\" points=\"971,-259.667 975.5,-269.667 971,-264.667 971,-269.667 971,-269.667 971,-269.667 971,-264.667 966.5,-269.667 971,-259.667 971,-259.667\"/>\n",
        "</g>\n",
        "<!-- 28&#45;&gt;26 -->\n",
        "<g id=\"edge62\" class=\"edge\"><title>28&#45;&gt;26</title>\n",
        "<path fill=\"none\" stroke=\"black\" d=\"M995.885,-307.634C1040.69,-294.371 1135.04,-266.445 1186.21,-251.297\"/>\n",
        "<polygon fill=\"black\" stroke=\"black\" points=\"1195.84,-248.446 1187.53,-255.599 1191.05,-249.865 1186.26,-251.284 1186.26,-251.284 1186.26,-251.284 1191.05,-249.865 1184.98,-246.969 1195.84,-248.446 1195.84,-248.446\"/>\n",
        "</g>\n",
        "<!-- 28&#45;&gt;27 -->\n",
        "<g id=\"edge66\" class=\"edge\"><title>28&#45;&gt;27</title>\n",
        "<path fill=\"none\" stroke=\"black\" d=\"M944.979,-309.498C883.221,-296.441 727.694,-263.558 656.988,-248.609\"/>\n",
        "<polygon fill=\"black\" stroke=\"black\" points=\"647.192,-246.538 657.907,-244.204 652.084,-247.572 656.976,-248.606 656.976,-248.606 656.976,-248.606 652.084,-247.572 656.045,-253.009 647.192,-246.538 647.192,-246.538\"/>\n",
        "</g>\n",
        "</g>\n",
        "</svg>\n"
       ]
      }
     ],
     "prompt_number": 730
    },
    {
     "cell_type": "code",
     "collapsed": false,
     "input": [
      "pwd"
     ],
     "language": "python",
     "metadata": {},
     "outputs": [
      {
       "metadata": {},
       "output_type": "pyout",
       "prompt_number": 1,
       "text": [
        "u'/cellar/users/agross/TCGA_Code/DX'"
       ]
      }
     ],
     "prompt_number": 1
    },
    {
     "cell_type": "code",
     "collapsed": false,
     "input": [
      "v1 = cc['BRCA']\n",
      "v2 = cc[['LUSC','LUAD']].mean(1)\n",
      "v3 = cc[['BLCA']].mean(1)"
     ],
     "language": "python",
     "metadata": {},
     "outputs": [],
     "prompt_number": 650
    },
    {
     "cell_type": "code",
     "collapsed": false,
     "input": [
      "v1 = cc['LUSC']\n",
      "v2 = cc[['HNSC HPV-','HNSC HPV+']].mean(1)\n",
      "v3 = cc[['LUAD']].mean(1)"
     ],
     "language": "python",
     "metadata": {},
     "outputs": [],
     "prompt_number": 678
    },
    {
     "cell_type": "code",
     "collapsed": false,
     "input": [
      "k = ti(pd.concat([(v1 - v3).abs(), (v1 - v2).abs()], 1).min(1) < .5)\n",
      "#k = ti((v2 > 0) != (v3 > 0))\n",
      "deg = np.arctan2((v1 - v3).abs(), (v1 - v2).abs()).order()\n",
      "deg = deg.ix[k]\n",
      "#deg = deg[deg.isin([deg.min(), deg.max()]) == False]\n",
      "deg = deg * (360 / (2*np.pi))"
     ],
     "language": "python",
     "metadata": {},
     "outputs": [],
     "prompt_number": 679
    },
    {
     "cell_type": "code",
     "collapsed": false,
     "input": [
      "deg.shape"
     ],
     "language": "python",
     "metadata": {},
     "outputs": [
      {
       "metadata": {},
       "output_type": "pyout",
       "prompt_number": 680,
       "text": [
        "(18024,)"
       ]
      }
     ],
     "prompt_number": 680
    },
    {
     "cell_type": "code",
     "collapsed": false,
     "input": [
      "deg.hist()"
     ],
     "language": "python",
     "metadata": {},
     "outputs": [
      {
       "metadata": {},
       "output_type": "pyout",
       "prompt_number": 681,
       "text": [
        "<matplotlib.axes.AxesSubplot at 0x7f061c5b6310>"
       ]
      },
      {
       "metadata": {},
       "output_type": "display_data",
       "png": "[encoded data removed]",
       "text": [
        "<matplotlib.figure.Figure at 0x7f0625006f90>"
       ]
      }
     ],
     "prompt_number": 681
    },
    {
     "cell_type": "code",
     "collapsed": false,
     "input": [
      "rr = screen_feature(deg, rev_kruskal, gs.T, align=False)\n",
      "direction = pd.Series({i: deg.groupby(v).mean().diff()[1] for i,v in gs.iteritems()})"
     ],
     "language": "python",
     "metadata": {},
     "outputs": [],
     "prompt_number": 682
    },
    {
     "cell_type": "code",
     "collapsed": false,
     "input": [
      "rr.ix[ti(direction < 0)].sort('p').head()"
     ],
     "language": "python",
     "metadata": {},
     "outputs": [
      {
       "html": [
        "<div style=\"max-height:1000px;max-width:1500px;overflow:auto;\">\n",
        "<table border=\"1\" class=\"dataframe\">\n",
        "  <thead>\n",
        "    <tr style=\"text-align: right;\">\n",
        "      <th></th>\n",
        "      <th>H</th>\n",
        "      <th>p</th>\n",
        "      <th>q</th>\n",
        "    </tr>\n",
        "  </thead>\n",
        "  <tbody>\n",
        "    <tr>\n",
        "      <th>REACTOME_FORMATION_OF_A_POOL_OF_FREE_40S_SUBUNITS</th>\n",
        "      <td> 86.27</td>\n",
        "      <td> 1.57e-20</td>\n",
        "      <td> 1.30e-17</td>\n",
        "    </tr>\n",
        "    <tr>\n",
        "      <th>REACTOME_PEPTIDE_CHAIN_ELONGATION</th>\n",
        "      <td> 84.83</td>\n",
        "      <td> 3.26e-20</td>\n",
        "      <td> 1.35e-17</td>\n",
        "    </tr>\n",
        "    <tr>\n",
        "      <th>REACTOME_TRANSLATION</th>\n",
        "      <td> 82.73</td>\n",
        "      <td> 9.42e-20</td>\n",
        "      <td> 2.61e-17</td>\n",
        "    </tr>\n",
        "    <tr>\n",
        "      <th>REACTOME_VIRAL_MRNA_TRANSLATION</th>\n",
        "      <td> 80.61</td>\n",
        "      <td> 2.75e-19</td>\n",
        "      <td> 5.72e-17</td>\n",
        "    </tr>\n",
        "    <tr>\n",
        "      <th>KEGG_RIBOSOME</th>\n",
        "      <td> 75.05</td>\n",
        "      <td> 4.58e-18</td>\n",
        "      <td> 7.62e-16</td>\n",
        "    </tr>\n",
        "  </tbody>\n",
        "</table>\n",
        "</div>"
       ],
       "metadata": {},
       "output_type": "pyout",
       "prompt_number": 683,
       "text": [
        "                                                       H         p         q\n",
        "REACTOME_FORMATION_OF_A_POOL_OF_FREE_40S_SUBUNITS  86.27  1.57e-20  1.30e-17\n",
        "REACTOME_PEPTIDE_CHAIN_ELONGATION                  84.83  3.26e-20  1.35e-17\n",
        "REACTOME_TRANSLATION                               82.73  9.42e-20  2.61e-17\n",
        "REACTOME_VIRAL_MRNA_TRANSLATION                    80.61  2.75e-19  5.72e-17\n",
        "KEGG_RIBOSOME                                      75.05  4.58e-18  7.62e-16"
       ]
      }
     ],
     "prompt_number": 683
    },
    {
     "cell_type": "code",
     "collapsed": false,
     "input": [
      "rr.ix[ti(direction > 0)].sort('p').head()"
     ],
     "language": "python",
     "metadata": {},
     "outputs": [
      {
       "html": [
        "<div style=\"max-height:1000px;max-width:1500px;overflow:auto;\">\n",
        "<table border=\"1\" class=\"dataframe\">\n",
        "  <thead>\n",
        "    <tr style=\"text-align: right;\">\n",
        "      <th></th>\n",
        "      <th>H</th>\n",
        "      <th>p</th>\n",
        "      <th>q</th>\n",
        "    </tr>\n",
        "  </thead>\n",
        "  <tbody>\n",
        "    <tr>\n",
        "      <th>REACTOME_DNA_STRAND_ELONGATION</th>\n",
        "      <td> 14.37</td>\n",
        "      <td> 1.50e-04</td>\n",
        "      <td> 0.01</td>\n",
        "    </tr>\n",
        "    <tr>\n",
        "      <th>REACTOME_ACTIVATION_OF_THE_PRE_REPLICATIVE_COMPLEX</th>\n",
        "      <td> 11.84</td>\n",
        "      <td> 5.79e-04</td>\n",
        "      <td> 0.02</td>\n",
        "    </tr>\n",
        "    <tr>\n",
        "      <th>REACTOME_ACTIVATION_OF_ATR_IN_RESPONSE_TO_REPLICATION_STRESS</th>\n",
        "      <td> 10.07</td>\n",
        "      <td> 1.50e-03</td>\n",
        "      <td> 0.05</td>\n",
        "    </tr>\n",
        "    <tr>\n",
        "      <th>KEGG_DNA_REPLICATION</th>\n",
        "      <td>  9.98</td>\n",
        "      <td> 1.58e-03</td>\n",
        "      <td> 0.05</td>\n",
        "    </tr>\n",
        "    <tr>\n",
        "      <th>REACTOME_CELL_CYCLE_MITOTIC</th>\n",
        "      <td>  9.94</td>\n",
        "      <td> 1.62e-03</td>\n",
        "      <td> 0.05</td>\n",
        "    </tr>\n",
        "  </tbody>\n",
        "</table>\n",
        "</div>"
       ],
       "metadata": {},
       "output_type": "pyout",
       "prompt_number": 684,
       "text": [
        "                                                                  H         p     q\n",
        "REACTOME_DNA_STRAND_ELONGATION                                14.37  1.50e-04  0.01\n",
        "REACTOME_ACTIVATION_OF_THE_PRE_REPLICATIVE_COMPLEX            11.84  5.79e-04  0.02\n",
        "REACTOME_ACTIVATION_OF_ATR_IN_RESPONSE_TO_REPLICATION_STRESS  10.07  1.50e-03  0.05\n",
        "KEGG_DNA_REPLICATION                                           9.98  1.58e-03  0.05\n",
        "REACTOME_CELL_CYCLE_MITOTIC                                    9.94  1.62e-03  0.05"
       ]
      }
     ],
     "prompt_number": 684
    },
    {
     "cell_type": "code",
     "collapsed": false,
     "input": [
      "violin_plot_pandas(gs['REACTOME_TRANSLATION'], deg)"
     ],
     "language": "python",
     "metadata": {},
     "outputs": [
      {
       "metadata": {},
       "output_type": "display_data",
       "png": "[encoded data removed]",
       "text": [
        "<matplotlib.figure.Figure at 0x7f061c43f290>"
       ]
      }
     ],
     "prompt_number": 685
    },
    {
     "cell_type": "code",
     "collapsed": false,
     "input": [
      "violin_plot_pandas(gs['REACTOME_DNA_STRAND_ELONGATION'], deg)"
     ],
     "language": "python",
     "metadata": {},
     "outputs": [
      {
       "metadata": {},
       "output_type": "display_data",
       "png": "[encoded data removed]",
       "text": [
        "<matplotlib.figure.Figure at 0x7f061c5d0390>"
       ]
      }
     ],
     "prompt_number": 686
    },
    {
     "cell_type": "code",
     "collapsed": false,
     "input": [
      "p53_dx = dx_group(c2 == 'HNSC HPV+', tn_inf_c, fc=1.25)"
     ],
     "language": "python",
     "metadata": {},
     "outputs": [],
     "prompt_number": 45
    },
    {
     "cell_type": "code",
     "collapsed": false,
     "input": [
      "p53_dx.sort([('hit','ttest','p')]).head(10)"
     ],
     "language": "python",
     "metadata": {},
     "outputs": [
      {
       "html": [
        "<div style=\"max-height:1000px;max-width:1500px;overflow:auto;\">\n",
        "<table border=\"1\" class=\"dataframe\">\n",
        "  <thead>\n",
        "    <tr>\n",
        "      <th></th>\n",
        "      <th colspan=\"6\" halign=\"left\">miss</th>\n",
        "      <th colspan=\"6\" halign=\"left\">hit</th>\n",
        "    </tr>\n",
        "    <tr>\n",
        "      <th></th>\n",
        "      <th colspan=\"4\" halign=\"left\">binom</th>\n",
        "      <th colspan=\"2\" halign=\"left\">ttest</th>\n",
        "      <th colspan=\"4\" halign=\"left\">binom</th>\n",
        "      <th colspan=\"2\" halign=\"left\">ttest</th>\n",
        "    </tr>\n",
        "    <tr>\n",
        "      <th></th>\n",
        "      <th>num_ox</th>\n",
        "      <th>num_dx</th>\n",
        "      <th>frac</th>\n",
        "      <th>p</th>\n",
        "      <th>p</th>\n",
        "      <th>t</th>\n",
        "      <th>num_ox</th>\n",
        "      <th>num_dx</th>\n",
        "      <th>frac</th>\n",
        "      <th>p</th>\n",
        "      <th>p</th>\n",
        "      <th>t</th>\n",
        "    </tr>\n",
        "  </thead>\n",
        "  <tbody>\n",
        "    <tr>\n",
        "      <th>DEFB109P1</th>\n",
        "      <td>  220</td>\n",
        "      <td>  235</td>\n",
        "      <td> 0.94</td>\n",
        "      <td> 6.93e-48</td>\n",
        "      <td>  5.80e-42</td>\n",
        "      <td>  13.6923230451</td>\n",
        "      <td>   1</td>\n",
        "      <td> 497</td>\n",
        "      <td> 0.00</td>\n",
        "      <td> 2.43e-147</td>\n",
        "      <td>  0.00e+00</td>\n",
        "      <td> -136.919694458</td>\n",
        "    </tr>\n",
        "    <tr>\n",
        "      <th>CENPO</th>\n",
        "      <td> 3678</td>\n",
        "      <td> 4283</td>\n",
        "      <td> 0.86</td>\n",
        "      <td> 0.00e+00</td>\n",
        "      <td>  0.00e+00</td>\n",
        "      <td>  60.4215730086</td>\n",
        "      <td> 497</td>\n",
        "      <td> 497</td>\n",
        "      <td> 1.00</td>\n",
        "      <td> 4.89e-150</td>\n",
        "      <td>  0.00e+00</td>\n",
        "      <td>  118.811141572</td>\n",
        "    </tr>\n",
        "    <tr>\n",
        "      <th>OR5B3</th>\n",
        "      <td>   60</td>\n",
        "      <td>   78</td>\n",
        "      <td> 0.77</td>\n",
        "      <td> 1.97e-06</td>\n",
        "      <td>  4.93e-11</td>\n",
        "      <td>  6.58668051389</td>\n",
        "      <td>   4</td>\n",
        "      <td> 497</td>\n",
        "      <td> 0.01</td>\n",
        "      <td> 1.24e-140</td>\n",
        "      <td> 6.95e-312</td>\n",
        "      <td> -91.1139868164</td>\n",
        "    </tr>\n",
        "    <tr>\n",
        "      <th>HOXC6</th>\n",
        "      <td> 2918</td>\n",
        "      <td> 4493</td>\n",
        "      <td> 0.65</td>\n",
        "      <td> 1.64e-90</td>\n",
        "      <td> 7.35e-145</td>\n",
        "      <td>  26.4446973763</td>\n",
        "      <td> 494</td>\n",
        "      <td> 497</td>\n",
        "      <td> 0.99</td>\n",
        "      <td> 1.00e-142</td>\n",
        "      <td> 3.77e-275</td>\n",
        "      <td>  75.8920929482</td>\n",
        "    </tr>\n",
        "    <tr>\n",
        "      <th>HOXA10</th>\n",
        "      <td> 2432</td>\n",
        "      <td> 4562</td>\n",
        "      <td> 0.53</td>\n",
        "      <td> 8.27e-06</td>\n",
        "      <td>  1.25e-19</td>\n",
        "      <td>   9.1001067218</td>\n",
        "      <td> 488</td>\n",
        "      <td> 493</td>\n",
        "      <td> 0.99</td>\n",
        "      <td> 1.88e-137</td>\n",
        "      <td> 1.85e-271</td>\n",
        "      <td>  74.4910476366</td>\n",
        "    </tr>\n",
        "    <tr>\n",
        "      <th>ADH4</th>\n",
        "      <td>  930</td>\n",
        "      <td> 4988</td>\n",
        "      <td> 0.19</td>\n",
        "      <td> 0.00e+00</td>\n",
        "      <td>  0.00e+00</td>\n",
        "      <td> -55.3053136265</td>\n",
        "      <td>   1</td>\n",
        "      <td> 494</td>\n",
        "      <td> 0.00</td>\n",
        "      <td> 1.94e-146</td>\n",
        "      <td> 5.04e-271</td>\n",
        "      <td> -74.3273689269</td>\n",
        "    </tr>\n",
        "    <tr>\n",
        "      <th>OR10X1</th>\n",
        "      <td>   31</td>\n",
        "      <td>   51</td>\n",
        "      <td> 0.61</td>\n",
        "      <td> 1.61e-01</td>\n",
        "      <td>  2.58e-05</td>\n",
        "      <td>  4.21174304499</td>\n",
        "      <td>   6</td>\n",
        "      <td> 497</td>\n",
        "      <td> 0.01</td>\n",
        "      <td> 1.00e-136</td>\n",
        "      <td> 1.75e-262</td>\n",
        "      <td> -71.1737620937</td>\n",
        "    </tr>\n",
        "    <tr>\n",
        "      <th>GPRIN1</th>\n",
        "      <td> 4776</td>\n",
        "      <td> 4966</td>\n",
        "      <td> 0.96</td>\n",
        "      <td> 0.00e+00</td>\n",
        "      <td>  0.00e+00</td>\n",
        "      <td>  109.900473669</td>\n",
        "      <td> 494</td>\n",
        "      <td> 495</td>\n",
        "      <td> 1.00</td>\n",
        "      <td> 9.70e-147</td>\n",
        "      <td> 1.08e-258</td>\n",
        "      <td>  69.8102356877</td>\n",
        "    </tr>\n",
        "    <tr>\n",
        "      <th>CAB39L</th>\n",
        "      <td>  532</td>\n",
        "      <td> 4638</td>\n",
        "      <td> 0.11</td>\n",
        "      <td> 0.00e+00</td>\n",
        "      <td>  0.00e+00</td>\n",
        "      <td> -70.9472867635</td>\n",
        "      <td>   0</td>\n",
        "      <td> 495</td>\n",
        "      <td> 0.00</td>\n",
        "      <td> 1.96e-149</td>\n",
        "      <td> 4.35e-255</td>\n",
        "      <td>  -68.532316574</td>\n",
        "    </tr>\n",
        "    <tr>\n",
        "      <th>OR2T1</th>\n",
        "      <td>   56</td>\n",
        "      <td>   56</td>\n",
        "      <td> 1.00</td>\n",
        "      <td> 2.78e-17</td>\n",
        "      <td>  1.22e-11</td>\n",
        "      <td>  6.79278261417</td>\n",
        "      <td>   7</td>\n",
        "      <td> 497</td>\n",
        "      <td> 0.01</td>\n",
        "      <td> 7.06e-135</td>\n",
        "      <td> 1.11e-252</td>\n",
        "      <td>  -67.690423915</td>\n",
        "    </tr>\n",
        "  </tbody>\n",
        "</table>\n",
        "</div>"
       ],
       "metadata": {},
       "output_type": "pyout",
       "prompt_number": 95,
       "text": [
        "             miss                                               miss     hit                                                 hit\n",
        "            binom                              ttest           ttest   binom                               ttest           ttest\n",
        "           num_ox  num_dx  frac         p          p               t  num_ox  num_dx  frac          p          p               t\n",
        "DEFB109P1     220     235  0.94  6.93e-48   5.80e-42   13.6923230451       1     497  0.00  2.43e-147   0.00e+00  -136.919694458\n",
        "CENPO        3678    4283  0.86  0.00e+00   0.00e+00   60.4215730086     497     497  1.00  4.89e-150   0.00e+00   118.811141572\n",
        "OR5B3          60      78  0.77  1.97e-06   4.93e-11   6.58668051389       4     497  0.01  1.24e-140  6.95e-312  -91.1139868164\n",
        "HOXC6        2918    4493  0.65  1.64e-90  7.35e-145   26.4446973763     494     497  0.99  1.00e-142  3.77e-275   75.8920929482\n",
        "HOXA10       2432    4562  0.53  8.27e-06   1.25e-19    9.1001067218     488     493  0.99  1.88e-137  1.85e-271   74.4910476366\n",
        "ADH4          930    4988  0.19  0.00e+00   0.00e+00  -55.3053136265       1     494  0.00  1.94e-146  5.04e-271  -74.3273689269\n",
        "OR10X1         31      51  0.61  1.61e-01   2.58e-05   4.21174304499       6     497  0.01  1.00e-136  1.75e-262  -71.1737620937\n",
        "GPRIN1       4776    4966  0.96  0.00e+00   0.00e+00   109.900473669     494     495  1.00  9.70e-147  1.08e-258   69.8102356877\n",
        "CAB39L        532    4638  0.11  0.00e+00   0.00e+00  -70.9472867635       0     495  0.00  1.96e-149  4.35e-255   -68.532316574\n",
        "OR2T1          56      56  1.00  2.78e-17   1.22e-11   6.79278261417       7     497  0.01  7.06e-135  1.11e-252   -67.690423915"
       ]
      }
     ],
     "prompt_number": 95
    },
    {
     "cell_type": "code",
     "collapsed": false,
     "input": [
      "paired_bp_tn_split(tn_inf_c.ix['BIRC5'], codes)"
     ],
     "language": "python",
     "metadata": {},
     "outputs": [
      {
       "metadata": {},
       "output_type": "display_data",
       "png": "[encoded data removed]",
       "text": [
        "<matplotlib.figure.Figure at 0x7f4507e73e90>"
       ]
      }
     ],
     "prompt_number": 80
    },
    {
     "cell_type": "code",
     "collapsed": false,
     "input": [
      "gg = ti((p53_dx.hit.binom.frac - p53_dx.miss.binom.frac).dropna().abs() > .3)\n",
      "gg = gg.intersection(ti(p53_dx.miss.binom.num_dx > 100))\n",
      "\n",
      "g2 = ti((p53_dx.hit.binom.frac - p53_dx.miss.binom.frac).dropna().abs() > .45)\n",
      "g2 = g2.intersection(ti(p53_dx.miss.binom.num_dx > 100))\n",
      "len(gg), len(g2)"
     ],
     "language": "python",
     "metadata": {},
     "outputs": [
      {
       "metadata": {},
       "output_type": "pyout",
       "prompt_number": 96,
       "text": [
        "(5972, 2411)"
       ]
      }
     ],
     "prompt_number": 96
    },
    {
     "cell_type": "code",
     "collapsed": false,
     "input": [
      "ax = None\n",
      "s1, s2 = p53_dx.hit.binom.frac, p53_dx.miss.binom.frac\n",
      "fig, ax = init_ax(ax, figsize=(5, 5))\n",
      "ax.hexbin(*match_series(s1,s2), gridsize=80, bins='log', cmap=cm.Greys)\n",
      "ax.annotate('rho = {0:.2}'.format(Tests.spearman_pandas(s1, s2)['rho']), (.95, .02),\n",
      "             xycoords='axes fraction', ha='right', va='bottom', size=14)\n",
      "\n",
      "series_scatter(s1.ix[gg], s2.ix[gg], ax=ax, s=10, alpha=.3,\n",
      "               color=colors[4], ann=None)\n",
      "\n",
      "series_scatter(s1.ix[g2], s2.ix[g2], ax=ax, s=10, alpha=1,\n",
      "               color=colors[0], ann=None)\n",
      "series_scatter(s1.ix[['MCM8']], s2.ix[['MCM8']], ax=ax, s=10, alpha=1,\n",
      "               color=colors[1], ann=None)\n",
      "\n",
      "prettify_ax(ax)\n",
      "ax.set_ybound(-.05,1.05)\n",
      "ax.set_xbound(-.05,1.05)\n",
      "ax.set_xlabel('TP53 Mutant')\n",
      "ax.set_ylabel('TP53 WT');"
     ],
     "language": "python",
     "metadata": {},
     "outputs": [
      {
       "metadata": {},
       "output_type": "display_data",
       "png": "[encoded data removed]",
       "text": [
        "<matplotlib.figure.Figure at 0x7f45082ed510>"
       ]
      }
     ],
     "prompt_number": 97
    },
    {
     "cell_type": "code",
     "collapsed": false,
     "input": [
      "v = p53_dx\n",
      "dx = (v.hit.binom.frac - v.miss.binom.frac).dropna()\n",
      "dx = dx.ix[ti(v.hit.binom.num_dx > 50)].dropna()\n",
      "\n",
      "gg = ti(dx.abs() > .3)\n",
      "g2 = ti(dx.abs() > .35)\n",
      "len(gg), len(g2)"
     ],
     "language": "python",
     "metadata": {},
     "outputs": [
      {
       "metadata": {},
       "output_type": "pyout",
       "prompt_number": 98,
       "text": [
        "(5740, 4332)"
       ]
      }
     ],
     "prompt_number": 98
    },
    {
     "cell_type": "code",
     "collapsed": false,
     "input": [
      "dx"
     ],
     "language": "python",
     "metadata": {},
     "outputs": [
      {
       "metadata": {},
       "output_type": "pyout",
       "prompt_number": 101,
       "text": [
        "?         -0.41\n",
        "A1BG       0.06\n",
        "A1CF      -0.06\n",
        "A2BP1     -0.12\n",
        "A2LD1     -0.27\n",
        "A2M        0.14\n",
        "A2ML1     -0.12\n",
        "A4GALT    -0.14\n",
        "A4GNT      0.39\n",
        "AAA1      -0.15\n",
        "AAAS      -0.27\n",
        "AACS      -0.29\n",
        "AACSL      0.16\n",
        "AADAC     -0.17\n",
        "AADACL2    0.13\n",
        "...\n",
        "ZSWIM7      -0.21\n",
        "ZUFSP        0.07\n",
        "ZW10        -0.05\n",
        "ZWILCH       0.12\n",
        "ZWINT        0.05\n",
        "ZXDA         0.08\n",
        "ZXDB         0.08\n",
        "ZXDC         0.29\n",
        "ZYG11A      -0.18\n",
        "ZYG11B       0.24\n",
        "ZYX          0.37\n",
        "ZZEF1        0.29\n",
        "ZZZ3         0.46\n",
        "psiTPTE22   -0.12\n",
        "tAKR         0.12\n",
        "Name: frac, Length: 19654, dtype: float64"
       ]
      }
     ],
     "prompt_number": 101
    },
    {
     "cell_type": "code",
     "collapsed": false,
     "input": [
      "vec = dx < -.35\n",
      "vec.value_counts()"
     ],
     "language": "python",
     "metadata": {},
     "outputs": [
      {
       "metadata": {},
       "output_type": "pyout",
       "prompt_number": 104,
       "text": [
        "False    17528\n",
        "True      2126\n",
        "dtype: int64"
       ]
      }
     ],
     "prompt_number": 104
    },
    {
     "cell_type": "code",
     "collapsed": false,
     "input": [
      "mm = run_mgsa(vec)\n",
      "mm.sort('estimate', ascending=False).head(10)"
     ],
     "language": "python",
     "metadata": {},
     "outputs": [
      {
       "html": [
        "<div style=\"max-height:1000px;max-width:1500px;overflow:auto;\">\n",
        "<table border=\"1\" class=\"dataframe\">\n",
        "  <thead>\n",
        "    <tr style=\"text-align: right;\">\n",
        "      <th></th>\n",
        "      <th>inPopulation</th>\n",
        "      <th>inStudySet</th>\n",
        "      <th>estimate</th>\n",
        "      <th>std.error</th>\n",
        "    </tr>\n",
        "  </thead>\n",
        "  <tbody>\n",
        "    <tr>\n",
        "      <th>REACTOME_ELECTRON_TRANSPORT_CHAIN</th>\n",
        "      <td>  65</td>\n",
        "      <td> 41</td>\n",
        "      <td> 0.99</td>\n",
        "      <td> 0.01</td>\n",
        "    </tr>\n",
        "    <tr>\n",
        "      <th>REACTOME_FORMATION_OF_ATP_BY_CHEMIOSMOTIC_COUPLING</th>\n",
        "      <td>  13</td>\n",
        "      <td>  8</td>\n",
        "      <td> 0.98</td>\n",
        "      <td> 0.01</td>\n",
        "    </tr>\n",
        "    <tr>\n",
        "      <th>REACTOME_PEPTIDE_CHAIN_ELONGATION</th>\n",
        "      <td>  84</td>\n",
        "      <td> 65</td>\n",
        "      <td> 0.60</td>\n",
        "      <td> 0.02</td>\n",
        "    </tr>\n",
        "    <tr>\n",
        "      <th>REACTOME_TRANSLATION</th>\n",
        "      <td> 120</td>\n",
        "      <td> 76</td>\n",
        "      <td> 0.28</td>\n",
        "      <td> 0.01</td>\n",
        "    </tr>\n",
        "    <tr>\n",
        "      <th>REACTOME_FORMATION_OF_A_POOL_OF_FREE_40S_SUBUNITS</th>\n",
        "      <td>  95</td>\n",
        "      <td> 68</td>\n",
        "      <td> 0.09</td>\n",
        "      <td> 0.01</td>\n",
        "    </tr>\n",
        "    <tr>\n",
        "      <th>REACTOME_BASE_FREE_SUGAR_PHOSPHATE_REMOVAL_VIA_THE_SINGLE_NUCLEOTIDE_REPLACEMENT_PATHWAY</th>\n",
        "      <td>  10</td>\n",
        "      <td>  4</td>\n",
        "      <td> 0.09</td>\n",
        "      <td> 0.01</td>\n",
        "    </tr>\n",
        "    <tr>\n",
        "      <th>KEGG_FRUCTOSE_AND_MANNOSE_METABOLISM</th>\n",
        "      <td>  34</td>\n",
        "      <td> 11</td>\n",
        "      <td> 0.08</td>\n",
        "      <td> 0.01</td>\n",
        "    </tr>\n",
        "    <tr>\n",
        "      <th>REACTOME_VIRAL_MRNA_TRANSLATION</th>\n",
        "      <td>  84</td>\n",
        "      <td> 64</td>\n",
        "      <td> 0.02</td>\n",
        "      <td> 0.01</td>\n",
        "    </tr>\n",
        "    <tr>\n",
        "      <th>REACTOME_REMOVAL_OF_DNA_PATCH_CONTAINING_ABASIC_RESIDUE</th>\n",
        "      <td>  15</td>\n",
        "      <td>  5</td>\n",
        "      <td> 0.02</td>\n",
        "      <td> 0.00</td>\n",
        "    </tr>\n",
        "    <tr>\n",
        "      <th>KEGG_RIBOFLAVIN_METABOLISM</th>\n",
        "      <td>  16</td>\n",
        "      <td>  5</td>\n",
        "      <td> 0.02</td>\n",
        "      <td> 0.00</td>\n",
        "    </tr>\n",
        "  </tbody>\n",
        "</table>\n",
        "</div>"
       ],
       "metadata": {},
       "output_type": "pyout",
       "prompt_number": 105,
       "text": [
        "                                                                                          inPopulation  inStudySet  estimate  std.error\n",
        "REACTOME_ELECTRON_TRANSPORT_CHAIN                                                                   65          41      0.99       0.01\n",
        "REACTOME_FORMATION_OF_ATP_BY_CHEMIOSMOTIC_COUPLING                                                  13           8      0.98       0.01\n",
        "REACTOME_PEPTIDE_CHAIN_ELONGATION                                                                   84          65      0.60       0.02\n",
        "REACTOME_TRANSLATION                                                                               120          76      0.28       0.01\n",
        "REACTOME_FORMATION_OF_A_POOL_OF_FREE_40S_SUBUNITS                                                   95          68      0.09       0.01\n",
        "REACTOME_BASE_FREE_SUGAR_PHOSPHATE_REMOVAL_VIA_THE_SINGLE_NUCLEOTIDE_REPLACEMENT_PATHWAY            10           4      0.09       0.01\n",
        "KEGG_FRUCTOSE_AND_MANNOSE_METABOLISM                                                                34          11      0.08       0.01\n",
        "REACTOME_VIRAL_MRNA_TRANSLATION                                                                     84          64      0.02       0.01\n",
        "REACTOME_REMOVAL_OF_DNA_PATCH_CONTAINING_ABASIC_RESIDUE                                             15           5      0.02       0.00\n",
        "KEGG_RIBOFLAVIN_METABOLISM                                                                          16           5      0.02       0.00"
       ]
      }
     ],
     "prompt_number": 105
    },
    {
     "cell_type": "code",
     "collapsed": false,
     "input": [
      "dx.order().tail()"
     ],
     "language": "python",
     "metadata": {},
     "outputs": [
      {
       "metadata": {},
       "output_type": "pyout",
       "prompt_number": 85,
       "text": [
        "CD34     0.84\n",
        "EZH1     0.86\n",
        "PRX      0.86\n",
        "NISCH    0.87\n",
        "IP6K1    0.87\n",
        "Name: frac, dtype: float64"
       ]
      }
     ],
     "prompt_number": 85
    },
    {
     "cell_type": "code",
     "collapsed": false,
     "input": [
      "rr = screen_feature(dx, rev_kruskal, gs.T)\n",
      "v = dx.abs()\n",
      "direction = pd.Series({n: diff(v.groupby(s).median())[0] for n,s in gs.iteritems()})\n",
      "direction.name = 'direction'\n",
      "\n",
      "rr = rr.ix[ti(direction>0)]\n",
      "rr_filtered = filter_pathway_hits(rr[rr.q < .01].sort('p'), gs)\n",
      "direction2 = pd.Series({n: diff(tab.frac.groupby(s).median())[0] for n,s in gs.iteritems()\n",
      "                        if n in rr_filtered.index})\n",
      "direction2.name = 'direction'\n",
      "(rr_filtered.join(direction2)).sort('p').head(10)"
     ],
     "language": "python",
     "metadata": {},
     "outputs": [
      {
       "html": [
        "<div style=\"max-height:1000px;max-width:1500px;overflow:auto;\">\n",
        "<table border=\"1\" class=\"dataframe\">\n",
        "  <thead>\n",
        "    <tr style=\"text-align: right;\">\n",
        "      <th></th>\n",
        "      <th>H</th>\n",
        "      <th>p</th>\n",
        "      <th>q</th>\n",
        "      <th>direction</th>\n",
        "    </tr>\n",
        "  </thead>\n",
        "  <tbody>\n",
        "    <tr>\n",
        "      <th>REACTOME_METABOLISM_OF_AMINO_ACIDS</th>\n",
        "      <td> 80.93</td>\n",
        "      <td> 2.34e-19</td>\n",
        "      <td> 1.75e-16</td>\n",
        "      <td> 0.02</td>\n",
        "    </tr>\n",
        "    <tr>\n",
        "      <th>KEGG_CYTOKINE_CYTOKINE_RECEPTOR_INTERACTION</th>\n",
        "      <td> 79.77</td>\n",
        "      <td> 4.20e-19</td>\n",
        "      <td> 1.75e-16</td>\n",
        "      <td>-0.02</td>\n",
        "    </tr>\n",
        "    <tr>\n",
        "      <th>REACTOME_SIGNALING_IN_IMMUNE_SYSTEM</th>\n",
        "      <td> 66.16</td>\n",
        "      <td> 4.16e-16</td>\n",
        "      <td> 1.15e-13</td>\n",
        "      <td>-0.01</td>\n",
        "    </tr>\n",
        "    <tr>\n",
        "      <th>REACTOME_METABOLISM_OF_LIPIDS_AND_LIPOPROTEINS</th>\n",
        "      <td> 47.01</td>\n",
        "      <td> 7.07e-12</td>\n",
        "      <td> 1.18e-09</td>\n",
        "      <td>-0.05</td>\n",
        "    </tr>\n",
        "    <tr>\n",
        "      <th>REACTOME_METABOLISM_OF_CARBOHYDRATES</th>\n",
        "      <td> 23.86</td>\n",
        "      <td> 1.04e-06</td>\n",
        "      <td> 3.45e-05</td>\n",
        "      <td> 0.05</td>\n",
        "    </tr>\n",
        "    <tr>\n",
        "      <th>REACTOME_PHASE_II_CONJUGATION</th>\n",
        "      <td> 23.30</td>\n",
        "      <td> 1.39e-06</td>\n",
        "      <td> 3.97e-05</td>\n",
        "      <td>-0.06</td>\n",
        "    </tr>\n",
        "    <tr>\n",
        "      <th>REACTOME_METABOLISM_OF_VITAMINS_AND_COFACTORS</th>\n",
        "      <td> 19.68</td>\n",
        "      <td> 9.18e-06</td>\n",
        "      <td> 1.66e-04</td>\n",
        "      <td> 0.01</td>\n",
        "    </tr>\n",
        "    <tr>\n",
        "      <th>REACTOME_CENTROSOME_MATURATION</th>\n",
        "      <td> 14.21</td>\n",
        "      <td> 1.63e-04</td>\n",
        "      <td> 1.60e-03</td>\n",
        "      <td> 0.08</td>\n",
        "    </tr>\n",
        "    <tr>\n",
        "      <th>REACTOME_MUSCLE_CONTRACTION</th>\n",
        "      <td> 13.45</td>\n",
        "      <td> 2.45e-04</td>\n",
        "      <td> 2.17e-03</td>\n",
        "      <td>-0.11</td>\n",
        "    </tr>\n",
        "    <tr>\n",
        "      <th>BIOCARTA_FREE_PATHWAY</th>\n",
        "      <td> 11.59</td>\n",
        "      <td> 6.64e-04</td>\n",
        "      <td> 5.16e-03</td>\n",
        "      <td> 0.06</td>\n",
        "    </tr>\n",
        "  </tbody>\n",
        "</table>\n",
        "</div>"
       ],
       "metadata": {},
       "output_type": "pyout",
       "prompt_number": 357,
       "text": [
        "                                                    H         p         q  direction\n",
        "REACTOME_METABOLISM_OF_AMINO_ACIDS              80.93  2.34e-19  1.75e-16       0.02\n",
        "KEGG_CYTOKINE_CYTOKINE_RECEPTOR_INTERACTION     79.77  4.20e-19  1.75e-16      -0.02\n",
        "REACTOME_SIGNALING_IN_IMMUNE_SYSTEM             66.16  4.16e-16  1.15e-13      -0.01\n",
        "REACTOME_METABOLISM_OF_LIPIDS_AND_LIPOPROTEINS  47.01  7.07e-12  1.18e-09      -0.05\n",
        "REACTOME_METABOLISM_OF_CARBOHYDRATES            23.86  1.04e-06  3.45e-05       0.05\n",
        "REACTOME_PHASE_II_CONJUGATION                   23.30  1.39e-06  3.97e-05      -0.06\n",
        "REACTOME_METABOLISM_OF_VITAMINS_AND_COFACTORS   19.68  9.18e-06  1.66e-04       0.01\n",
        "REACTOME_CENTROSOME_MATURATION                  14.21  1.63e-04  1.60e-03       0.08\n",
        "REACTOME_MUSCLE_CONTRACTION                     13.45  2.45e-04  2.17e-03      -0.11\n",
        "BIOCARTA_FREE_PATHWAY                           11.59  6.64e-04  5.16e-03       0.06"
       ]
      }
     ],
     "prompt_number": 357
    }
   ],
   "metadata": {}
  }
 ]
}