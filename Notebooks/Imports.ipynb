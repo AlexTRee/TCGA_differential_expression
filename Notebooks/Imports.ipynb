{
 "metadata": {
  "kernelspec": {
   "codemirror_mode": {
    "name": "ipython",
    "version": 2
   },
   "display_name": "IPython (Python 2)",
   "language": "python",
   "name": "python2"
  },
  "name": "",
  "signature": "sha256:b8516ebea0cef6b8391373a9aad2165d2cbc74523b6740674f44a99ea0669960"
 },
 "nbformat": 3,
 "nbformat_minor": 0,
 "worksheets": [
  {
   "cells": [
    {
     "cell_type": "heading",
     "level": 1,
     "metadata": {},
     "source": [
      "Global Imports"
     ]
    },
    {
     "cell_type": "code",
     "collapsed": false,
     "input": [
      "%matplotlib inline"
     ],
     "language": "python",
     "metadata": {},
     "outputs": [],
     "prompt_number": 2
    },
    {
     "cell_type": "code",
     "collapsed": false,
     "input": [
      "import matplotlib.pyplot as plt\n",
      "from matplotlib.pyplot import subplots"
     ],
     "language": "python",
     "metadata": {},
     "outputs": []
    },
    {
     "cell_type": "heading",
     "level": 3,
     "metadata": {},
     "source": [
      "External Package Imports"
     ]
    },
    {
     "cell_type": "code",
     "collapsed": false,
     "input": [
      "import os as os\n",
      "import pickle as pickle\n",
      "import pandas as pd"
     ],
     "language": "python",
     "metadata": {},
     "outputs": [],
     "prompt_number": 3
    },
    {
     "cell_type": "code",
     "collapsed": false,
     "input": [
      "if os.getcwd().endswith('Notebooks'):\n",
      "    os.chdir('..')"
     ],
     "language": "python",
     "metadata": {},
     "outputs": [],
     "prompt_number": 22
    },
    {
     "cell_type": "heading",
     "level": 3,
     "metadata": {},
     "source": [
      "Module Imports"
     ]
    },
    {
     "cell_type": "code",
     "collapsed": false,
     "input": [
      "from Stats.Scipy import *\n",
      "from Stats.Survival import *\n",
      "\n",
      "from Helpers.Pandas import *\n",
      "from Helpers.LinAlg import *\n",
      "\n",
      "from Figures.FigureHelpers import *\n",
      "from Figures.Pandas import *\n",
      "from Figures.Boxplots import *\n",
      "from Figures.Survival import draw_survival_curve, survival_and_stats\n",
      "from Figures.Survival import draw_survival_curves\n",
      "from Figures.Survival import survival_stat_plot"
     ],
     "language": "python",
     "metadata": {},
     "outputs": [],
     "prompt_number": 4
    },
    {
     "cell_type": "code",
     "collapsed": false,
     "input": [
      "import Data.Firehose as FH\n",
      "from Data.Containers import get_run"
     ],
     "language": "python",
     "metadata": {},
     "outputs": [],
     "prompt_number": 5
    },
    {
     "cell_type": "code",
     "collapsed": false,
     "input": [
      "from api.helpers import *"
     ],
     "language": "python",
     "metadata": {},
     "outputs": [],
     "prompt_number": 6
    },
    {
     "cell_type": "heading",
     "level": 3,
     "metadata": {},
     "source": [
      "Tweaking Display Parameters"
     ]
    },
    {
     "cell_type": "code",
     "collapsed": false,
     "input": [
      "pd.set_option('precision', 3)\n",
      "pd.set_option('display.width', 300)\n",
      "plt.rcParams['font.size'] = 12"
     ],
     "language": "python",
     "metadata": {},
     "outputs": [],
     "prompt_number": 7
    },
    {
     "cell_type": "code",
     "collapsed": false,
     "input": [
      "'''Color schemes for paper taken from http://colorbrewer2.org/'''\n",
      "colors = plt.rcParams['axes.color_cycle']\n",
      "colors_st = ['#CA0020', '#F4A582', '#92C5DE', '#0571B0']\n",
      "colors_th = ['#E66101', '#FDB863', '#B2ABD2', '#5E3C99']"
     ],
     "language": "python",
     "metadata": {},
     "outputs": [],
     "prompt_number": 8
    },
    {
     "cell_type": "heading",
     "level": 3,
     "metadata": {},
     "source": [
      "Read in All of the Expression Data"
     ]
    },
    {
     "cell_type": "code",
     "collapsed": false,
     "input": [
      "r2 = pd.read_hdf('/data/RNASeq_2014_07_15.h5', 'HNSC')"
     ],
     "language": "python",
     "metadata": {},
     "outputs": [],
     "prompt_number": 9
    },
    {
     "cell_type": "code",
     "collapsed": false,
     "input": [
      "matched_tn = pd.read_hdf('/data/RNASeq_2014_07_15.h5', 'matched_tn')"
     ],
     "language": "python",
     "metadata": {},
     "outputs": [],
     "prompt_number": 10
    },
    {
     "cell_type": "code",
     "collapsed": false,
     "input": [
      "store = pd.HDFStore('/data/RNASeq_2014_07_15.h5')\n",
      "codes = store['codes']\n",
      "cancers  = set(codes.unique()).intersection(set([c[1:] for c in store.keys()]))\n",
      "cancers = cancers - {'COADREAD'}\n",
      "store.close()"
     ],
     "language": "python",
     "metadata": {},
     "outputs": [],
     "prompt_number": 11
    },
    {
     "cell_type": "code",
     "collapsed": false,
     "input": [
      "rna_df = pd.concat([pd.read_hdf('/data/RNASeq_2014_07_15.h5', c) for c in cancers],\n",
      "                   axis=1)"
     ],
     "language": "python",
     "metadata": {},
     "outputs": [],
     "prompt_number": 12
    },
    {
     "cell_type": "code",
     "collapsed": false,
     "input": [
      "#paired_bp_tn_split(matched_tn.ix['ADH1B'], codes)"
     ],
     "language": "python",
     "metadata": {},
     "outputs": [],
     "prompt_number": 23
    },
    {
     "cell_type": "code",
     "collapsed": false,
     "input": [],
     "language": "python",
     "metadata": {},
     "outputs": []
    }
   ],
   "metadata": {}
  }
 ]
}