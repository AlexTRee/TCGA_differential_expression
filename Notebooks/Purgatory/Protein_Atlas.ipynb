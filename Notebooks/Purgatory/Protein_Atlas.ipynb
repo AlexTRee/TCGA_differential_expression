{
 "cells": [
  {
   "cell_type": "markdown",
   "metadata": {},
   "source": [
    "# Human Protien Atlas Data Processing"
   ]
  },
  {
   "cell_type": "markdown",
   "metadata": {},
   "source": [
    "Here we are pulling data in and processing it. \n",
    "* [Here](http://www.sciencemag.org/content/347/6220/1260419.full) is the paper by Uhlen et al. on the dataset \n",
    "* The data was obtained from [proteinatlas.org](http://www.proteinatlas.org/)"
   ]
  },
  {
   "cell_type": "code",
   "execution_count": null,
   "metadata": {
    "collapsed": true
   },
   "outputs": [],
   "source": [
    "%matplotlib inline"
   ]
  },
  {
   "cell_type": "code",
   "execution_count": 26,
   "metadata": {
    "collapsed": true
   },
   "outputs": [],
   "source": [
    "import pandas as pd"
   ]
  },
  {
   "cell_type": "code",
   "execution_count": 27,
   "metadata": {
    "collapsed": true
   },
   "outputs": [],
   "source": [
    "path = '/cellar/users/agross/Data/Protein_Atlas/'"
   ]
  },
  {
   "cell_type": "markdown",
   "metadata": {},
   "source": [
    "### Cancer File"
   ]
  },
  {
   "cell_type": "code",
   "execution_count": 140,
   "metadata": {
    "collapsed": false
   },
   "outputs": [],
   "source": [
    "cancer = pd.read_csv(path + 'cancer.csv')"
   ]
  },
  {
   "cell_type": "code",
   "execution_count": 141,
   "metadata": {
    "collapsed": false
   },
   "outputs": [
    {
     "data": {
      "text/html": [
       "<div style=\"max-height:1000px;max-width:1500px;overflow:auto;\">\n",
       "<table border=\"1\" class=\"dataframe\">\n",
       "  <thead>\n",
       "    <tr style=\"text-align: right;\">\n",
       "      <th></th>\n",
       "      <th>Gene</th>\n",
       "      <th>Tumor</th>\n",
       "      <th>Level</th>\n",
       "      <th>Count patients</th>\n",
       "      <th>Total patients</th>\n",
       "      <th>Expression type</th>\n",
       "    </tr>\n",
       "  </thead>\n",
       "  <tbody>\n",
       "    <tr>\n",
       "      <th>0</th>\n",
       "      <td> ENSG00000000003</td>\n",
       "      <td> breast cancer</td>\n",
       "      <td>         High</td>\n",
       "      <td> 1</td>\n",
       "      <td> 12</td>\n",
       "      <td> Staining</td>\n",
       "    </tr>\n",
       "    <tr>\n",
       "      <th>1</th>\n",
       "      <td> ENSG00000000003</td>\n",
       "      <td> breast cancer</td>\n",
       "      <td>       Medium</td>\n",
       "      <td> 7</td>\n",
       "      <td> 12</td>\n",
       "      <td> Staining</td>\n",
       "    </tr>\n",
       "    <tr>\n",
       "      <th>2</th>\n",
       "      <td> ENSG00000000003</td>\n",
       "      <td> breast cancer</td>\n",
       "      <td>          Low</td>\n",
       "      <td> 2</td>\n",
       "      <td> 12</td>\n",
       "      <td> Staining</td>\n",
       "    </tr>\n",
       "    <tr>\n",
       "      <th>3</th>\n",
       "      <td> ENSG00000000003</td>\n",
       "      <td> breast cancer</td>\n",
       "      <td> Not detected</td>\n",
       "      <td> 2</td>\n",
       "      <td> 12</td>\n",
       "      <td> Staining</td>\n",
       "    </tr>\n",
       "    <tr>\n",
       "      <th>4</th>\n",
       "      <td> ENSG00000000003</td>\n",
       "      <td>     carcinoid</td>\n",
       "      <td>         High</td>\n",
       "      <td> 0</td>\n",
       "      <td>  4</td>\n",
       "      <td> Staining</td>\n",
       "    </tr>\n",
       "  </tbody>\n",
       "</table>\n",
       "</div>"
      ],
      "text/plain": [
       "              Gene          Tumor         Level  Count patients  \\\n",
       "0  ENSG00000000003  breast cancer          High               1   \n",
       "1  ENSG00000000003  breast cancer        Medium               7   \n",
       "2  ENSG00000000003  breast cancer           Low               2   \n",
       "3  ENSG00000000003  breast cancer  Not detected               2   \n",
       "4  ENSG00000000003      carcinoid          High               0   \n",
       "\n",
       "   Total patients Expression type  \n",
       "0              12        Staining  \n",
       "1              12        Staining  \n",
       "2              12        Staining  \n",
       "3              12        Staining  \n",
       "4               4        Staining  "
      ]
     },
     "execution_count": 141,
     "metadata": {},
     "output_type": "execute_result"
    }
   ],
   "source": [
    "cancer.head()"
   ]
  },
  {
   "cell_type": "code",
   "execution_count": 142,
   "metadata": {
    "collapsed": false
   },
   "outputs": [
    {
     "data": {
      "text/plain": [
       "Staining    1329016\n",
       "dtype: int64"
      ]
     },
     "execution_count": 142,
     "metadata": {},
     "output_type": "execute_result"
    }
   ],
   "source": [
    "cancer['Expression type'].value_counts()"
   ]
  },
  {
   "cell_type": "code",
   "execution_count": 143,
   "metadata": {
    "collapsed": false
   },
   "outputs": [
    {
     "data": {
      "text/plain": [
       "High            332254\n",
       "Medium          332254\n",
       "Low             332254\n",
       "Not detected    332254\n",
       "dtype: int64"
      ]
     },
     "execution_count": 143,
     "metadata": {},
     "output_type": "execute_result"
    }
   ],
   "source": [
    "cancer.Level.value_counts()"
   ]
  },
  {
   "cell_type": "code",
   "execution_count": 144,
   "metadata": {
    "collapsed": false
   },
   "outputs": [
    {
     "data": {
      "text/plain": [
       "cervical cancer         66452\n",
       "liver cancer            66452\n",
       "pancreatic cancer       66452\n",
       "glioma                  66452\n",
       "prostate cancer         66452\n",
       "breast cancer           66452\n",
       "endometrial cancer      66452\n",
       "head and neck cancer    66452\n",
       "testis cancer           66452\n",
       "lung cancer             66452\n",
       "stomach cancer          66452\n",
       "skin cancer             66452\n",
       "lymphoma                66452\n",
       "urothelial cancer       66452\n",
       "melanoma                66452\n",
       "thyroid cancer          66452\n",
       "renal cancer            66452\n",
       "ovarian cancer          66448\n",
       "colorectal cancer       66448\n",
       "carcinoid               66436\n",
       "dtype: int64"
      ]
     },
     "execution_count": 144,
     "metadata": {},
     "output_type": "execute_result"
    }
   ],
   "source": [
    "cancer.Tumor.value_counts()"
   ]
  },
  {
   "cell_type": "markdown",
   "metadata": {},
   "source": [
    "Just double checking that the counts add up to the 'Total patients' column."
   ]
  },
  {
   "cell_type": "code",
   "execution_count": 152,
   "metadata": {
    "collapsed": false
   },
   "outputs": [],
   "source": [
    "gb = cancer.groupby(['Gene','Tumor'])\n",
    "assert all(gb['Count patients'].sum() == gb['Total patients'].first())"
   ]
  },
  {
   "cell_type": "code",
   "execution_count": 153,
   "metadata": {
    "collapsed": false
   },
   "outputs": [],
   "source": [
    "stacked = cancer.set_index(['Gene','Tumor','Level'])['Count patients']\n",
    "stacked = stacked.unstack('Level')"
   ]
  },
  {
   "cell_type": "code",
   "execution_count": 154,
   "metadata": {
    "collapsed": false
   },
   "outputs": [
    {
     "data": {
      "text/html": [
       "<div style=\"max-height:1000px;max-width:1500px;overflow:auto;\">\n",
       "<table border=\"1\" class=\"dataframe\">\n",
       "  <thead>\n",
       "    <tr style=\"text-align: right;\">\n",
       "      <th></th>\n",
       "      <th>Level</th>\n",
       "      <th>High</th>\n",
       "      <th>Low</th>\n",
       "      <th>Medium</th>\n",
       "      <th>Not detected</th>\n",
       "    </tr>\n",
       "    <tr>\n",
       "      <th>Gene</th>\n",
       "      <th>Tumor</th>\n",
       "      <th></th>\n",
       "      <th></th>\n",
       "      <th></th>\n",
       "      <th></th>\n",
       "    </tr>\n",
       "  </thead>\n",
       "  <tbody>\n",
       "    <tr>\n",
       "      <th rowspan=\"5\" valign=\"top\">ENSG00000000003</th>\n",
       "      <th>breast cancer</th>\n",
       "      <td>  1</td>\n",
       "      <td> 2</td>\n",
       "      <td> 7</td>\n",
       "      <td> 2</td>\n",
       "    </tr>\n",
       "    <tr>\n",
       "      <th>carcinoid</th>\n",
       "      <td>  0</td>\n",
       "      <td> 1</td>\n",
       "      <td> 1</td>\n",
       "      <td> 2</td>\n",
       "    </tr>\n",
       "    <tr>\n",
       "      <th>cervical cancer</th>\n",
       "      <td> 11</td>\n",
       "      <td> 0</td>\n",
       "      <td> 1</td>\n",
       "      <td> 0</td>\n",
       "    </tr>\n",
       "    <tr>\n",
       "      <th>colorectal cancer</th>\n",
       "      <td>  0</td>\n",
       "      <td> 2</td>\n",
       "      <td> 6</td>\n",
       "      <td> 2</td>\n",
       "    </tr>\n",
       "    <tr>\n",
       "      <th>endometrial cancer</th>\n",
       "      <td> 10</td>\n",
       "      <td> 0</td>\n",
       "      <td> 2</td>\n",
       "      <td> 0</td>\n",
       "    </tr>\n",
       "  </tbody>\n",
       "</table>\n",
       "</div>"
      ],
      "text/plain": [
       "Level                               High  Low  Medium  Not detected\n",
       "Gene            Tumor                                              \n",
       "ENSG00000000003 breast cancer          1    2       7             2\n",
       "                carcinoid              0    1       1             2\n",
       "                cervical cancer       11    0       1             0\n",
       "                colorectal cancer      0    2       6             2\n",
       "                endometrial cancer    10    0       2             0"
      ]
     },
     "execution_count": 154,
     "metadata": {},
     "output_type": "execute_result"
    }
   ],
   "source": [
    "stacked.head()"
   ]
  },
  {
   "cell_type": "code",
   "execution_count": 155,
   "metadata": {
    "collapsed": true
   },
   "outputs": [],
   "source": [
    "cancer = stacked"
   ]
  },
  {
   "cell_type": "markdown",
   "metadata": {},
   "source": [
    "### Normal Tissue File"
   ]
  },
  {
   "cell_type": "code",
   "execution_count": 70,
   "metadata": {
    "collapsed": true
   },
   "outputs": [],
   "source": [
    "normals = pd.read_csv(path + 'normal_tissue.csv')"
   ]
  },
  {
   "cell_type": "code",
   "execution_count": 71,
   "metadata": {
    "collapsed": false
   },
   "outputs": [
    {
     "data": {
      "text/html": [
       "<div style=\"max-height:1000px;max-width:1500px;overflow:auto;\">\n",
       "<table border=\"1\" class=\"dataframe\">\n",
       "  <thead>\n",
       "    <tr style=\"text-align: right;\">\n",
       "      <th></th>\n",
       "      <th>Gene</th>\n",
       "      <th>Tissue</th>\n",
       "      <th>Cell type</th>\n",
       "      <th>Level</th>\n",
       "      <th>Expression type</th>\n",
       "      <th>Reliability</th>\n",
       "    </tr>\n",
       "  </thead>\n",
       "  <tbody>\n",
       "    <tr>\n",
       "      <th>0</th>\n",
       "      <td> ENSG00000000003</td>\n",
       "      <td> adrenal gland</td>\n",
       "      <td>     glandular cells</td>\n",
       "      <td> Not detected</td>\n",
       "      <td> APE</td>\n",
       "      <td> Supportive</td>\n",
       "    </tr>\n",
       "    <tr>\n",
       "      <th>1</th>\n",
       "      <td> ENSG00000000003</td>\n",
       "      <td>      appendix</td>\n",
       "      <td>     glandular cells</td>\n",
       "      <td>       Medium</td>\n",
       "      <td> APE</td>\n",
       "      <td> Supportive</td>\n",
       "    </tr>\n",
       "    <tr>\n",
       "      <th>2</th>\n",
       "      <td> ENSG00000000003</td>\n",
       "      <td>      appendix</td>\n",
       "      <td>     lymphoid tissue</td>\n",
       "      <td> Not detected</td>\n",
       "      <td> APE</td>\n",
       "      <td> Supportive</td>\n",
       "    </tr>\n",
       "    <tr>\n",
       "      <th>3</th>\n",
       "      <td> ENSG00000000003</td>\n",
       "      <td>   bone marrow</td>\n",
       "      <td> hematopoietic cells</td>\n",
       "      <td> Not detected</td>\n",
       "      <td> APE</td>\n",
       "      <td> Supportive</td>\n",
       "    </tr>\n",
       "    <tr>\n",
       "      <th>4</th>\n",
       "      <td> ENSG00000000003</td>\n",
       "      <td>        breast</td>\n",
       "      <td>          adipocytes</td>\n",
       "      <td> Not detected</td>\n",
       "      <td> APE</td>\n",
       "      <td> Supportive</td>\n",
       "    </tr>\n",
       "  </tbody>\n",
       "</table>\n",
       "</div>"
      ],
      "text/plain": [
       "              Gene         Tissue            Cell type         Level  \\\n",
       "0  ENSG00000000003  adrenal gland      glandular cells  Not detected   \n",
       "1  ENSG00000000003       appendix      glandular cells        Medium   \n",
       "2  ENSG00000000003       appendix      lymphoid tissue  Not detected   \n",
       "3  ENSG00000000003    bone marrow  hematopoietic cells  Not detected   \n",
       "4  ENSG00000000003         breast           adipocytes  Not detected   \n",
       "\n",
       "  Expression type Reliability  \n",
       "0             APE  Supportive  \n",
       "1             APE  Supportive  \n",
       "2             APE  Supportive  \n",
       "3             APE  Supportive  \n",
       "4             APE  Supportive  "
      ]
     },
     "execution_count": 71,
     "metadata": {},
     "output_type": "execute_result"
    }
   ],
   "source": [
    "normals.head()"
   ]
  },
  {
   "cell_type": "code",
   "execution_count": 46,
   "metadata": {
    "collapsed": false
   },
   "outputs": [
    {
     "data": {
      "text/plain": [
       "APE    1319440\n",
       "dtype: int64"
      ]
     },
     "execution_count": 46,
     "metadata": {},
     "output_type": "execute_result"
    }
   ],
   "source": [
    "normals['Expression type'].value_counts()"
   ]
  },
  {
   "cell_type": "code",
   "execution_count": 75,
   "metadata": {
    "collapsed": false
   },
   "outputs": [],
   "source": [
    "del normals['Expression type']"
   ]
  },
  {
   "cell_type": "code",
   "execution_count": 49,
   "metadata": {
    "collapsed": false
   },
   "outputs": [
    {
     "data": {
      "text/plain": [
       "Uncertain     905350\n",
       "Supportive    414090\n",
       "dtype: int64"
      ]
     },
     "execution_count": 49,
     "metadata": {},
     "output_type": "execute_result"
    }
   ],
   "source": [
    "normals['Reliability'].value_counts()"
   ]
  },
  {
   "cell_type": "code",
   "execution_count": 52,
   "metadata": {
    "collapsed": false
   },
   "outputs": [
    {
     "data": {
      "text/plain": [
       "Not detected    526361\n",
       "Medium          380303\n",
       "Low             251843\n",
       "High            160933\n",
       "dtype: int64"
      ]
     },
     "execution_count": 52,
     "metadata": {},
     "output_type": "execute_result"
    }
   ],
   "source": [
    "normals['Level'].value_counts()"
   ]
  },
  {
   "cell_type": "code",
   "execution_count": 56,
   "metadata": {
    "collapsed": false
   },
   "outputs": [
    {
     "data": {
      "text/plain": [
       "array(['adrenal gland', 'appendix', 'bone marrow', 'breast', 'bronchus',\n",
       "       'cerebellum', 'cerebral cortex', 'cervix, uterine', 'colon',\n",
       "       'duodenum', 'endometrium 1', 'endometrium 2', 'epididymis',\n",
       "       'esophagus', 'fallopian tube', 'gallbladder', 'heart muscle',\n",
       "       'hippocampus', 'kidney', 'lateral ventricle', 'liver', 'lung',\n",
       "       'lymph node', 'nasopharynx', 'oral mucosa', 'ovary', 'pancreas',\n",
       "       'parathyroid gland', 'placenta', 'prostate', 'rectum',\n",
       "       'salivary gland', 'seminal vesicle', 'skeletal muscle', 'skin 1',\n",
       "       'skin 2', 'small intestine', 'smooth muscle', 'soft tissue 1',\n",
       "       'soft tissue 2', 'spleen', 'stomach 1', 'stomach 2', 'testis',\n",
       "       'thyroid gland', 'tonsil', 'urinary bladder', 'vagina'], dtype=object)"
      ]
     },
     "execution_count": 56,
     "metadata": {},
     "output_type": "execute_result"
    }
   ],
   "source": [
    "normals.Tissue.unique()"
   ]
  },
  {
   "cell_type": "code",
   "execution_count": 59,
   "metadata": {
    "collapsed": false
   },
   "outputs": [
    {
     "data": {
      "text/plain": [
       "array(['glandular cells', 'lymphoid tissue', 'hematopoietic cells',\n",
       "       'adipocytes', 'myoepithelial cells', 'respiratory epithelial cells',\n",
       "       'cells in granular layer', 'cells in molecular layer',\n",
       "       'Purkinje cells', 'endothelial cells', 'glial cells',\n",
       "       'neuronal cells', 'neuropil', 'squamous epithelial cells',\n",
       "       'peripheral nerve/ganglion', 'cells in endometrial stroma',\n",
       "       'myocytes', 'cells in glomeruli', 'cells in tubules',\n",
       "       'bile duct cells', 'hepatocytes', 'macrophages', 'pneumocytes',\n",
       "       'germinal center cells', 'non-germinal center cells',\n",
       "       'ovarian stroma cells', 'exocrine glandular cells',\n",
       "       'islets of Langerhans', 'decidual cells', 'trophoblastic cells',\n",
       "       'fibroblasts', 'keratinocytes', 'Langerhans', 'melanocytes',\n",
       "       'epidermal cells', 'smooth muscle cells', 'peripheral nerve',\n",
       "       'cells in red pulp', 'cells in white pulp',\n",
       "       'cells in seminiferous ducts', 'Leydig cells', 'urothelial cells',\n",
       "       'follicle cells', 'chondrocytes'], dtype=object)"
      ]
     },
     "execution_count": 59,
     "metadata": {},
     "output_type": "execute_result"
    }
   ],
   "source": [
    "normals['Cell type'].unique()"
   ]
  },
  {
   "cell_type": "code",
   "execution_count": 63,
   "metadata": {
    "collapsed": false
   },
   "outputs": [
    {
     "data": {
      "text/plain": [
       "(83, 2)"
      ]
     },
     "execution_count": 63,
     "metadata": {},
     "output_type": "execute_result"
    }
   ],
   "source": [
    "normals[['Tissue','Cell type']].drop_duplicates().shape"
   ]
  },
  {
   "cell_type": "markdown",
   "metadata": {},
   "source": [
    "### Subcellular location"
   ]
  },
  {
   "cell_type": "code",
   "execution_count": 78,
   "metadata": {
    "collapsed": true
   },
   "outputs": [],
   "source": [
    "loc = pd.read_csv(path + 'subcellular_location.csv')"
   ]
  },
  {
   "cell_type": "code",
   "execution_count": 97,
   "metadata": {
    "collapsed": false
   },
   "outputs": [
    {
     "data": {
      "text/html": [
       "<div style=\"max-height:1000px;max-width:1500px;overflow:auto;\">\n",
       "<table border=\"1\" class=\"dataframe\">\n",
       "  <thead>\n",
       "    <tr style=\"text-align: right;\">\n",
       "      <th></th>\n",
       "      <th>Gene</th>\n",
       "      <th>Main location</th>\n",
       "      <th>Other location</th>\n",
       "      <th>Expression type</th>\n",
       "      <th>Reliability</th>\n",
       "    </tr>\n",
       "  </thead>\n",
       "  <tbody>\n",
       "    <tr>\n",
       "      <th>0</th>\n",
       "      <td> ENSG00000000003</td>\n",
       "      <td>                             Cytoplasm</td>\n",
       "      <td>                                      NaN</td>\n",
       "      <td> APE</td>\n",
       "      <td>  Uncertain</td>\n",
       "    </tr>\n",
       "    <tr>\n",
       "      <th>1</th>\n",
       "      <td> ENSG00000000457</td>\n",
       "      <td>           Cytoskeleton (Microtubules)</td>\n",
       "      <td> Nucleus but not nucleoli;Golgi apparatus</td>\n",
       "      <td> APE</td>\n",
       "      <td>  Uncertain</td>\n",
       "    </tr>\n",
       "    <tr>\n",
       "      <th>2</th>\n",
       "      <td> ENSG00000000460</td>\n",
       "      <td> Nucleus but not nucleoli;Mitochondria</td>\n",
       "      <td>                                      NaN</td>\n",
       "      <td> APE</td>\n",
       "      <td>  Uncertain</td>\n",
       "    </tr>\n",
       "    <tr>\n",
       "      <th>3</th>\n",
       "      <td> ENSG00000001036</td>\n",
       "      <td> Nucleus but not nucleoli;Mitochondria</td>\n",
       "      <td>                                      NaN</td>\n",
       "      <td> APE</td>\n",
       "      <td>  Uncertain</td>\n",
       "    </tr>\n",
       "    <tr>\n",
       "      <th>4</th>\n",
       "      <td> ENSG00000001084</td>\n",
       "      <td>                      Nucleus;Nucleoli</td>\n",
       "      <td>                                Cytoplasm</td>\n",
       "      <td> APE</td>\n",
       "      <td> Supportive</td>\n",
       "    </tr>\n",
       "  </tbody>\n",
       "</table>\n",
       "</div>"
      ],
      "text/plain": [
       "              Gene                          Main location  \\\n",
       "0  ENSG00000000003                              Cytoplasm   \n",
       "1  ENSG00000000457            Cytoskeleton (Microtubules)   \n",
       "2  ENSG00000000460  Nucleus but not nucleoli;Mitochondria   \n",
       "3  ENSG00000001036  Nucleus but not nucleoli;Mitochondria   \n",
       "4  ENSG00000001084                       Nucleus;Nucleoli   \n",
       "\n",
       "                             Other location Expression type Reliability  \n",
       "0                                       NaN             APE   Uncertain  \n",
       "1  Nucleus but not nucleoli;Golgi apparatus             APE   Uncertain  \n",
       "2                                       NaN             APE   Uncertain  \n",
       "3                                       NaN             APE   Uncertain  \n",
       "4                                 Cytoplasm             APE  Supportive  "
      ]
     },
     "execution_count": 97,
     "metadata": {},
     "output_type": "execute_result"
    }
   ],
   "source": [
    "loc.head()"
   ]
  },
  {
   "cell_type": "code",
   "execution_count": 79,
   "metadata": {
    "collapsed": false
   },
   "outputs": [
    {
     "data": {
      "text/plain": [
       "APE         8656\n",
       "Staining     201\n",
       "dtype: int64"
      ]
     },
     "execution_count": 79,
     "metadata": {},
     "output_type": "execute_result"
    }
   ],
   "source": [
    "loc['Expression type'].value_counts()"
   ]
  },
  {
   "cell_type": "code",
   "execution_count": 81,
   "metadata": {
    "collapsed": false
   },
   "outputs": [
    {
     "data": {
      "text/plain": [
       "Uncertain         4499\n",
       "Supportive        4355\n",
       "Non-supportive       3\n",
       "dtype: int64"
      ]
     },
     "execution_count": 81,
     "metadata": {},
     "output_type": "execute_result"
    }
   ],
   "source": [
    "loc.Reliability.value_counts()"
   ]
  },
  {
   "cell_type": "code",
   "execution_count": 86,
   "metadata": {
    "collapsed": false
   },
   "outputs": [
    {
     "data": {
      "text/plain": [
       "Nucleus but not nucleoli              2050\n",
       "Cytoplasm                             1282\n",
       "Nucleus                                948\n",
       "Mitochondria                           488\n",
       "Vesicles                               482\n",
       "Nucleus but not nucleoli;Cytoplasm     328\n",
       "Nucleoli                               322\n",
       "Plasma membrane;Cytoplasm              268\n",
       "Nucleus;Nucleoli                       240\n",
       "Golgi apparatus                        227\n",
       "dtype: int64"
      ]
     },
     "execution_count": 86,
     "metadata": {},
     "output_type": "execute_result"
    }
   ],
   "source": [
    "loc['Main location'].value_counts().head(10)"
   ]
  },
  {
   "cell_type": "markdown",
   "metadata": {},
   "source": [
    "### RNA"
   ]
  },
  {
   "cell_type": "code",
   "execution_count": 88,
   "metadata": {
    "collapsed": true
   },
   "outputs": [],
   "source": [
    "rna = pd.read_csv(path + 'rna.csv')"
   ]
  },
  {
   "cell_type": "code",
   "execution_count": 98,
   "metadata": {
    "collapsed": false
   },
   "outputs": [
    {
     "data": {
      "text/html": [
       "<div style=\"max-height:1000px;max-width:1500px;overflow:auto;\">\n",
       "<table border=\"1\" class=\"dataframe\">\n",
       "  <thead>\n",
       "    <tr style=\"text-align: right;\">\n",
       "      <th></th>\n",
       "      <th>Gene</th>\n",
       "      <th>Sample</th>\n",
       "      <th>Value</th>\n",
       "      <th>Abundance</th>\n",
       "    </tr>\n",
       "  </thead>\n",
       "  <tbody>\n",
       "    <tr>\n",
       "      <th>0</th>\n",
       "      <td> ENSG00000000003</td>\n",
       "      <td>  A-431</td>\n",
       "      <td> 21.3</td>\n",
       "      <td> Medium</td>\n",
       "    </tr>\n",
       "    <tr>\n",
       "      <th>1</th>\n",
       "      <td> ENSG00000000003</td>\n",
       "      <td>   A549</td>\n",
       "      <td> 32.5</td>\n",
       "      <td> Medium</td>\n",
       "    </tr>\n",
       "    <tr>\n",
       "      <th>2</th>\n",
       "      <td> ENSG00000000003</td>\n",
       "      <td> AN3-CA</td>\n",
       "      <td> 38.2</td>\n",
       "      <td> Medium</td>\n",
       "    </tr>\n",
       "    <tr>\n",
       "      <th>3</th>\n",
       "      <td> ENSG00000000003</td>\n",
       "      <td>   BEWO</td>\n",
       "      <td> 31.4</td>\n",
       "      <td> Medium</td>\n",
       "    </tr>\n",
       "    <tr>\n",
       "      <th>4</th>\n",
       "      <td> ENSG00000000003</td>\n",
       "      <td> CACO-2</td>\n",
       "      <td> 63.9</td>\n",
       "      <td>   High</td>\n",
       "    </tr>\n",
       "  </tbody>\n",
       "</table>\n",
       "</div>"
      ],
      "text/plain": [
       "              Gene  Sample  Value Abundance\n",
       "0  ENSG00000000003   A-431   21.3    Medium\n",
       "1  ENSG00000000003    A549   32.5    Medium\n",
       "2  ENSG00000000003  AN3-CA   38.2    Medium\n",
       "3  ENSG00000000003    BEWO   31.4    Medium\n",
       "4  ENSG00000000003  CACO-2   63.9      High"
      ]
     },
     "execution_count": 98,
     "metadata": {},
     "output_type": "execute_result"
    }
   ],
   "source": [
    "rna.head()"
   ]
  },
  {
   "cell_type": "code",
   "execution_count": 94,
   "metadata": {
    "collapsed": false
   },
   "outputs": [
    {
     "data": {
      "text/plain": [
       "FPKM    1546127\n",
       "dtype: int64"
      ]
     },
     "execution_count": 94,
     "metadata": {},
     "output_type": "execute_result"
    }
   ],
   "source": [
    "rna.Unit.value_counts()"
   ]
  },
  {
   "cell_type": "code",
   "execution_count": 95,
   "metadata": {
    "collapsed": true
   },
   "outputs": [],
   "source": [
    "del rna['Unit']"
   ]
  },
  {
   "cell_type": "code",
   "execution_count": 108,
   "metadata": {
    "collapsed": false
   },
   "outputs": [
    {
     "data": {
      "text/html": [
       "<div style=\"max-height:1000px;max-width:1500px;overflow:auto;\">\n",
       "<table border=\"1\" class=\"dataframe\">\n",
       "  <thead>\n",
       "    <tr style=\"text-align: right;\">\n",
       "      <th></th>\n",
       "      <th>count</th>\n",
       "      <th>mean</th>\n",
       "    </tr>\n",
       "    <tr>\n",
       "      <th>Abundance</th>\n",
       "      <th></th>\n",
       "      <th></th>\n",
       "    </tr>\n",
       "  </thead>\n",
       "  <tbody>\n",
       "    <tr>\n",
       "      <th>Not detected</th>\n",
       "      <td> 610736</td>\n",
       "      <td>   0.138966</td>\n",
       "    </tr>\n",
       "    <tr>\n",
       "      <th>Low</th>\n",
       "      <td> 476583</td>\n",
       "      <td>   6.894431</td>\n",
       "    </tr>\n",
       "    <tr>\n",
       "      <th>Medium</th>\n",
       "      <td> 312896</td>\n",
       "      <td>  26.212112</td>\n",
       "    </tr>\n",
       "    <tr>\n",
       "      <th>High</th>\n",
       "      <td> 145912</td>\n",
       "      <td> 179.379383</td>\n",
       "    </tr>\n",
       "  </tbody>\n",
       "</table>\n",
       "</div>"
      ],
      "text/plain": [
       "               count        mean\n",
       "Abundance                       \n",
       "Not detected  610736    0.138966\n",
       "Low           476583    6.894431\n",
       "Medium        312896   26.212112\n",
       "High          145912  179.379383"
      ]
     },
     "execution_count": 108,
     "metadata": {},
     "output_type": "execute_result"
    }
   ],
   "source": [
    "rna.groupby('Abundance').Value.agg({'mean':'mean','count':'count'}).sort('mean')"
   ]
  },
  {
   "cell_type": "code",
   "execution_count": 112,
   "metadata": {
    "collapsed": false
   },
   "outputs": [
    {
     "data": {
      "text/plain": [
       "(20344, 76)"
      ]
     },
     "execution_count": 112,
     "metadata": {},
     "output_type": "execute_result"
    }
   ],
   "source": [
    "rna_df = rna.set_index(['Gene','Sample']).Value.unstack()\n",
    "rna_df.shape"
   ]
  },
  {
   "cell_type": "markdown",
   "metadata": {},
   "source": [
    "### Metadata"
   ]
  },
  {
   "cell_type": "code",
   "execution_count": 115,
   "metadata": {
    "collapsed": false
   },
   "outputs": [],
   "source": [
    "meta = pd.read_table(path + 'proteinatlas.tab')"
   ]
  },
  {
   "cell_type": "code",
   "execution_count": 119,
   "metadata": {
    "collapsed": false
   },
   "outputs": [
    {
     "data": {
      "text/html": [
       "<div style=\"max-height:1000px;max-width:1500px;overflow:auto;\">\n",
       "<table border=\"1\" class=\"dataframe\">\n",
       "  <thead>\n",
       "    <tr style=\"text-align: right;\">\n",
       "      <th></th>\n",
       "      <th>0</th>\n",
       "      <th>1</th>\n",
       "      <th>2</th>\n",
       "    </tr>\n",
       "  </thead>\n",
       "  <tbody>\n",
       "    <tr>\n",
       "      <th>Gene</th>\n",
       "      <td>                                            TSPAN6</td>\n",
       "      <td>                                 TNMD</td>\n",
       "      <td>                                              DPM1</td>\n",
       "    </tr>\n",
       "    <tr>\n",
       "      <th>Gene synonym</th>\n",
       "      <td>                             T245, TM4SF6, TSPAN-6</td>\n",
       "      <td> BRICD4, ChM1L, myodulin, TEM, tendin</td>\n",
       "      <td>                                       CDGIE, MPDS</td>\n",
       "    </tr>\n",
       "    <tr>\n",
       "      <th>Ensembl</th>\n",
       "      <td>                                   ENSG00000000003</td>\n",
       "      <td>                      ENSG00000000005</td>\n",
       "      <td>                                   ENSG00000000419</td>\n",
       "    </tr>\n",
       "    <tr>\n",
       "      <th>Gene description</th>\n",
       "      <td>                                     Tetraspanin 6</td>\n",
       "      <td>                          Tenomodulin</td>\n",
       "      <td> Dolichyl-phosphate mannosyltransferase polypep...</td>\n",
       "    </tr>\n",
       "    <tr>\n",
       "      <th>Chromosome</th>\n",
       "      <td>                                                 X</td>\n",
       "      <td>                                    X</td>\n",
       "      <td>                                                20</td>\n",
       "    </tr>\n",
       "    <tr>\n",
       "      <th>Position</th>\n",
       "      <td>                                 99883667-99894988</td>\n",
       "      <td>                    99839799-99854882</td>\n",
       "      <td>                                 49551404-49575092</td>\n",
       "    </tr>\n",
       "    <tr>\n",
       "      <th>Protein class</th>\n",
       "      <td> Predicted membrane proteins, Protein evidence ...</td>\n",
       "      <td>          Predicted membrane proteins</td>\n",
       "      <td> Disease related genes, Enzymes, Plasma protein...</td>\n",
       "    </tr>\n",
       "    <tr>\n",
       "      <th>Evidence summary</th>\n",
       "      <td>                         Evidence at protein level</td>\n",
       "      <td>         Evidence at transcript level</td>\n",
       "      <td>                         Evidence at protein level</td>\n",
       "    </tr>\n",
       "    <tr>\n",
       "      <th>HPA evidence</th>\n",
       "      <td>                         Evidence at protein level</td>\n",
       "      <td>         Evidence at transcript level</td>\n",
       "      <td>                      Evidence at transcript level</td>\n",
       "    </tr>\n",
       "    <tr>\n",
       "      <th>UniProt evidence</th>\n",
       "      <td>                         Evidence at protein level</td>\n",
       "      <td>         Evidence at transcript level</td>\n",
       "      <td>                         Evidence at protein level</td>\n",
       "    </tr>\n",
       "    <tr>\n",
       "      <th>MS evidence</th>\n",
       "      <td>                         Evidence at protein level</td>\n",
       "      <td>                                  NaN</td>\n",
       "      <td>                         Evidence at protein level</td>\n",
       "    </tr>\n",
       "    <tr>\n",
       "      <th>Antibody</th>\n",
       "      <td>                                         HPA004109</td>\n",
       "      <td>                 HPA034961, HPA055634</td>\n",
       "      <td>                                         HPA051818</td>\n",
       "    </tr>\n",
       "    <tr>\n",
       "      <th>Reliability (IH)</th>\n",
       "      <td>                                        Supportive</td>\n",
       "      <td>                            Uncertain</td>\n",
       "      <td>                                         Uncertain</td>\n",
       "    </tr>\n",
       "    <tr>\n",
       "      <th>Reliability (IF)</th>\n",
       "      <td>                                         Uncertain</td>\n",
       "      <td>                                  NaN</td>\n",
       "      <td>                                               NaN</td>\n",
       "    </tr>\n",
       "    <tr>\n",
       "      <th>Subcellular location</th>\n",
       "      <td>                                         Cytoplasm</td>\n",
       "      <td>                                  NaN</td>\n",
       "      <td>                                               NaN</td>\n",
       "    </tr>\n",
       "    <tr>\n",
       "      <th>RNA tissue category</th>\n",
       "      <td>                                             Mixed</td>\n",
       "      <td>                      Tissue enhanced</td>\n",
       "      <td>                                  Expressed in all</td>\n",
       "    </tr>\n",
       "    <tr>\n",
       "      <th>RNA TS</th>\n",
       "      <td>                                               NaN</td>\n",
       "      <td>                                    0</td>\n",
       "      <td>                                               NaN</td>\n",
       "    </tr>\n",
       "    <tr>\n",
       "      <th>RNA TS FPKM</th>\n",
       "      <td>                                               NaN</td>\n",
       "      <td>                 adipose tissue: 12.3</td>\n",
       "      <td>                                               NaN</td>\n",
       "    </tr>\n",
       "    <tr>\n",
       "      <th>FPKM max in non-specific</th>\n",
       "      <td>                              fallopian tube: 72.8</td>\n",
       "      <td>                        placenta: 3.4</td>\n",
       "      <td>                               adrenal gland: 50.1</td>\n",
       "    </tr>\n",
       "  </tbody>\n",
       "</table>\n",
       "</div>"
      ],
      "text/plain": [
       "                                                                          0  \\\n",
       "Gene                                                                 TSPAN6   \n",
       "Gene synonym                                          T245, TM4SF6, TSPAN-6   \n",
       "Ensembl                                                     ENSG00000000003   \n",
       "Gene description                                              Tetraspanin 6   \n",
       "Chromosome                                                                X   \n",
       "Position                                                  99883667-99894988   \n",
       "Protein class             Predicted membrane proteins, Protein evidence ...   \n",
       "Evidence summary                                  Evidence at protein level   \n",
       "HPA evidence                                      Evidence at protein level   \n",
       "UniProt evidence                                  Evidence at protein level   \n",
       "MS evidence                                       Evidence at protein level   \n",
       "Antibody                                                          HPA004109   \n",
       "Reliability (IH)                                                 Supportive   \n",
       "Reliability (IF)                                                  Uncertain   \n",
       "Subcellular location                                              Cytoplasm   \n",
       "RNA tissue category                                                   Mixed   \n",
       "RNA TS                                                                  NaN   \n",
       "RNA TS FPKM                                                             NaN   \n",
       "FPKM max in non-specific                               fallopian tube: 72.8   \n",
       "\n",
       "                                                             1  \\\n",
       "Gene                                                      TNMD   \n",
       "Gene synonym              BRICD4, ChM1L, myodulin, TEM, tendin   \n",
       "Ensembl                                        ENSG00000000005   \n",
       "Gene description                                   Tenomodulin   \n",
       "Chromosome                                                   X   \n",
       "Position                                     99839799-99854882   \n",
       "Protein class                      Predicted membrane proteins   \n",
       "Evidence summary                  Evidence at transcript level   \n",
       "HPA evidence                      Evidence at transcript level   \n",
       "UniProt evidence                  Evidence at transcript level   \n",
       "MS evidence                                                NaN   \n",
       "Antibody                                  HPA034961, HPA055634   \n",
       "Reliability (IH)                                     Uncertain   \n",
       "Reliability (IF)                                           NaN   \n",
       "Subcellular location                                       NaN   \n",
       "RNA tissue category                            Tissue enhanced   \n",
       "RNA TS                                                       0   \n",
       "RNA TS FPKM                               adipose tissue: 12.3   \n",
       "FPKM max in non-specific                         placenta: 3.4   \n",
       "\n",
       "                                                                          2  \n",
       "Gene                                                                   DPM1  \n",
       "Gene synonym                                                    CDGIE, MPDS  \n",
       "Ensembl                                                     ENSG00000000419  \n",
       "Gene description          Dolichyl-phosphate mannosyltransferase polypep...  \n",
       "Chromosome                                                               20  \n",
       "Position                                                  49551404-49575092  \n",
       "Protein class             Disease related genes, Enzymes, Plasma protein...  \n",
       "Evidence summary                                  Evidence at protein level  \n",
       "HPA evidence                                   Evidence at transcript level  \n",
       "UniProt evidence                                  Evidence at protein level  \n",
       "MS evidence                                       Evidence at protein level  \n",
       "Antibody                                                          HPA051818  \n",
       "Reliability (IH)                                                  Uncertain  \n",
       "Reliability (IF)                                                        NaN  \n",
       "Subcellular location                                                    NaN  \n",
       "RNA tissue category                                        Expressed in all  \n",
       "RNA TS                                                                  NaN  \n",
       "RNA TS FPKM                                                             NaN  \n",
       "FPKM max in non-specific                                adrenal gland: 50.1  "
      ]
     },
     "execution_count": 119,
     "metadata": {},
     "output_type": "execute_result"
    }
   ],
   "source": [
    "meta.head(3).T"
   ]
  },
  {
   "cell_type": "code",
   "execution_count": 122,
   "metadata": {
    "collapsed": false
   },
   "outputs": [
    {
     "data": {
      "text/plain": [
       "1    20181\n",
       "2       86\n",
       "3        1\n",
       "dtype: int64"
      ]
     },
     "execution_count": 122,
     "metadata": {},
     "output_type": "execute_result"
    }
   ],
   "source": [
    "meta.Gene.value_counts().value_counts()"
   ]
  },
  {
   "cell_type": "code",
   "execution_count": 126,
   "metadata": {
    "collapsed": false
   },
   "outputs": [],
   "source": [
    "mapping = meta.set_index('Ensembl')['Gene']"
   ]
  },
  {
   "cell_type": "code",
   "execution_count": 134,
   "metadata": {
    "collapsed": false
   },
   "outputs": [
    {
     "data": {
      "text/plain": [
       "Nucleus but not nucleoli               1234\n",
       "Cytoplasm                               846\n",
       "Nucleus but not nucleoli, Cytoplasm     675\n",
       "Nucleus                                 489\n",
       "Mitochondria                            363\n",
       "dtype: int64"
      ]
     },
     "execution_count": 134,
     "metadata": {},
     "output_type": "execute_result"
    }
   ],
   "source": [
    "meta['Subcellular location'].value_counts().head()"
   ]
  },
  {
   "cell_type": "markdown",
   "metadata": {},
   "source": [
    "### Mapping tumor to normals"
   ]
  },
  {
   "cell_type": "code",
   "execution_count": 189,
   "metadata": {
    "collapsed": true
   },
   "outputs": [],
   "source": [
    "tn_map = {'breast cancer': [('breast','glandular cells')],\n",
    "          'carcinoid': [('pancreas','islets of Langerhans')],\n",
    "          'cervical cancer': [('cervix, uterine','squamous epithelial cells'),\n",
    "                              ('cervix, uterine','glandular cells')],\n",
    "          'colorectal cancer': [('colon','glandular cells'),\n",
    "                                ('rectum','glandular cells')],\n",
    "          'endometrial cancer': [('endometrium 1', 'glandular cells'),\n",
    "                                 ('endometrium 2', 'glandular cells')],\n",
    "          'glioma':[('cerebral cortex', 'glial cells')],\n",
    "          'head and neck cancer': [('oral mucosa', 'squamous epithelial cells'),\n",
    "                                   ('tonsil', 'squamous epithelial cells'),\n",
    "                                   ('salivary gland', 'glandular cells')],\n",
    "          'liver cancer': [('liver', 'bile duct cells'),\n",
    "                           ('liver', 'hepatocytes')],\n",
    "          'lung cancer': [('bronchus', 'respiratory epithelial cells'),\n",
    "                          ('lung', 'pneumocytes')],\n",
    "          'lymphoma': [('lymph node', 'germinal center cells'),\n",
    "                       ('lymph node', 'non-germinal center cells')],\n",
    "          'melanoma': [('skin 1', 'melanocytes')],\n",
    "          'pancreatic cancer': [('pancreas', 'exocrine glandular cells')],\n",
    "          'prostate cancer': [('prostate', 'glandular cells')],\n",
    "          'renal cancer': [('kidney', 'cells in tubules')],\n",
    "          'skin cancer': [('skin 1', 'keratinocytes')],\n",
    "          'stomach cancer': [('stomach 1', 'glandular cells'),\n",
    "                             ('stomach 2', 'glandular cells')],\n",
    "          'testis cancer': [('testis', 'cells in seminiferous ducts')],\n",
    "          'urothelial cancer': [('urinary bladder', 'urothelial cells')]}                                  \n",
    " "
   ]
  },
  {
   "cell_type": "code",
   "execution_count": 210,
   "metadata": {
    "collapsed": false
   },
   "outputs": [
    {
     "data": {
      "text/plain": [
       "array(['breast cancer', 'carcinoid', 'cervical cancer',\n",
       "       'colorectal cancer', 'endometrial cancer', 'glioma',\n",
       "       'head and neck cancer', 'liver cancer', 'lung cancer', 'lymphoma',\n",
       "       'melanoma', 'ovarian cancer', 'pancreatic cancer',\n",
       "       'prostate cancer', 'renal cancer', 'skin cancer', 'stomach cancer',\n",
       "       'testis cancer', 'thyroid cancer', 'urothelial cancer'], dtype=object)"
      ]
     },
     "execution_count": 210,
     "metadata": {},
     "output_type": "execute_result"
    }
   ],
   "source": [
    "cancer.index.get_level_values('Tumor').unique()"
   ]
  },
  {
   "cell_type": "code",
   "execution_count": 138,
   "metadata": {
    "collapsed": false
   },
   "outputs": [
    {
     "data": {
      "text/plain": [
       "array([['adrenal gland', 'glandular cells'],\n",
       "       ['appendix', 'glandular cells'],\n",
       "       ['appendix', 'lymphoid tissue'],\n",
       "       ['bone marrow', 'hematopoietic cells'],\n",
       "       ['breast', 'adipocytes'],\n",
       "       ['breast', 'glandular cells'],\n",
       "       ['breast', 'myoepithelial cells'],\n",
       "       ['bronchus', 'respiratory epithelial cells'],\n",
       "       ['cerebellum', 'cells in granular layer'],\n",
       "       ['cerebellum', 'cells in molecular layer'],\n",
       "       ['cerebellum', 'Purkinje cells'],\n",
       "       ['cerebral cortex', 'endothelial cells'],\n",
       "       ['cerebral cortex', 'glial cells'],\n",
       "       ['cerebral cortex', 'neuronal cells'],\n",
       "       ['cerebral cortex', 'neuropil'],\n",
       "       ['cervix, uterine', 'glandular cells'],\n",
       "       ['cervix, uterine', 'squamous epithelial cells'],\n",
       "       ['colon', 'endothelial cells'],\n",
       "       ['colon', 'glandular cells'],\n",
       "       ['colon', 'peripheral nerve/ganglion'],\n",
       "       ['duodenum', 'glandular cells'],\n",
       "       ['endometrium 1', 'cells in endometrial stroma'],\n",
       "       ['endometrium 1', 'glandular cells'],\n",
       "       ['endometrium 2', 'cells in endometrial stroma'],\n",
       "       ['endometrium 2', 'glandular cells'],\n",
       "       ['epididymis', 'glandular cells'],\n",
       "       ['esophagus', 'squamous epithelial cells'],\n",
       "       ['fallopian tube', 'glandular cells'],\n",
       "       ['gallbladder', 'glandular cells'],\n",
       "       ['heart muscle', 'myocytes'],\n",
       "       ['hippocampus', 'glial cells'],\n",
       "       ['hippocampus', 'neuronal cells'],\n",
       "       ['kidney', 'cells in glomeruli'],\n",
       "       ['kidney', 'cells in tubules'],\n",
       "       ['lateral ventricle', 'glial cells'],\n",
       "       ['lateral ventricle', 'neuronal cells'],\n",
       "       ['liver', 'bile duct cells'],\n",
       "       ['liver', 'hepatocytes'],\n",
       "       ['lung', 'macrophages'],\n",
       "       ['lung', 'pneumocytes'],\n",
       "       ['lymph node', 'germinal center cells'],\n",
       "       ['lymph node', 'non-germinal center cells'],\n",
       "       ['nasopharynx', 'respiratory epithelial cells'],\n",
       "       ['oral mucosa', 'squamous epithelial cells'],\n",
       "       ['ovary', 'ovarian stroma cells'],\n",
       "       ['pancreas', 'exocrine glandular cells'],\n",
       "       ['pancreas', 'islets of Langerhans'],\n",
       "       ['parathyroid gland', 'glandular cells'],\n",
       "       ['placenta', 'decidual cells'],\n",
       "       ['placenta', 'trophoblastic cells'],\n",
       "       ['prostate', 'glandular cells'],\n",
       "       ['rectum', 'glandular cells'],\n",
       "       ['salivary gland', 'glandular cells'],\n",
       "       ['seminal vesicle', 'glandular cells'],\n",
       "       ['skeletal muscle', 'myocytes'],\n",
       "       ['skin 1', 'fibroblasts'],\n",
       "       ['skin 1', 'keratinocytes'],\n",
       "       ['skin 1', 'Langerhans'],\n",
       "       ['skin 1', 'melanocytes'],\n",
       "       ['skin 2', 'epidermal cells'],\n",
       "       ['small intestine', 'glandular cells'],\n",
       "       ['smooth muscle', 'smooth muscle cells'],\n",
       "       ['soft tissue 1', 'adipocytes'],\n",
       "       ['soft tissue 1', 'fibroblasts'],\n",
       "       ['soft tissue 1', 'peripheral nerve'],\n",
       "       ['soft tissue 2', 'adipocytes'],\n",
       "       ['soft tissue 2', 'fibroblasts'],\n",
       "       ['soft tissue 2', 'peripheral nerve'],\n",
       "       ['spleen', 'cells in red pulp'],\n",
       "       ['spleen', 'cells in white pulp'],\n",
       "       ['stomach 1', 'glandular cells'],\n",
       "       ['stomach 2', 'glandular cells'],\n",
       "       ['testis', 'cells in seminiferous ducts'],\n",
       "       ['testis', 'Leydig cells'],\n",
       "       ['thyroid gland', 'glandular cells'],\n",
       "       ['tonsil', 'germinal center cells'],\n",
       "       ['tonsil', 'non-germinal center cells'],\n",
       "       ['tonsil', 'squamous epithelial cells'],\n",
       "       ['urinary bladder', 'urothelial cells'],\n",
       "       ['vagina', 'squamous epithelial cells'],\n",
       "       ['ovary', 'follicle cells'],\n",
       "       ['soft tissue 1', 'chondrocytes'],\n",
       "       ['soft tissue 2', 'chondrocytes']], dtype=object)"
      ]
     },
     "execution_count": 138,
     "metadata": {},
     "output_type": "execute_result"
    }
   ],
   "source": [
    "normals[['Tissue','Cell type']].drop_duplicates().as_matrix()"
   ]
  }
 ],
 "metadata": {
  "kernelspec": {
   "display_name": "Python 2",
   "language": "python",
   "name": "python2"
  },
  "language_info": {
   "codemirror_mode": {
    "name": "ipython",
    "version": 2
   },
   "file_extension": ".py",
   "mimetype": "text/x-python",
   "name": "python",
   "nbconvert_exporter": "python",
   "pygments_lexer": "ipython2",
   "version": "2.7.7"
  }
 },
 "nbformat": 4,
 "nbformat_minor": 0
}
