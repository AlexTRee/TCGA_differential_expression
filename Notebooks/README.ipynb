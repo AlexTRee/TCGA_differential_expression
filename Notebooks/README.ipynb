{
 "cells": [
  {
   "cell_type": "markdown",
   "metadata": {},
   "source": [
    "# README"
   ]
  },
  {
   "cell_type": "markdown",
   "metadata": {},
   "source": [
    "This repository contains all of the analysis notebook required for the reproduction of the manuscript __Analysis of matched tumor and normal profiles reveals proliferation-independent signals underlying cancer__.  "
   ]
  },
  {
   "cell_type": "markdown",
   "metadata": {},
   "source": [
    "## Dependencies  \n",
    "\n",
    "This code uses a number of features in the scientific python stack as well as a small set of standard R libraries. Thus far, this code has only been tested in a Linux enviroment, it may take some modification to run on other operating systems.\n",
    "I highly recomend installing a scientific Python distribution such as Anaconda or Enthought to handle the majority of the Python dependencies in this project (other than rPy2). These are both free for academic use."
   ]
  },
  {
   "cell_type": "markdown",
   "metadata": {},
   "source": [
    "### Python Dependencies \n",
    "\n",
    "* [Numpy and Scipy](http://www.scipy.org/), numeric calculations and statistics in Python \n",
    "* [matplotlib](http://matplotlib.org/), plotting in Python\n",
    "* [Pandas](http://pandas.pydata.org/), data-frames for Python, handles the majority of data-structures  \n",
    "* [rPy2](http://rpy.sourceforge.net/rpy2.html), communication between R and Python  \n",
    "  * __NOT IN DISTRIBUTIONS__  \n",
    "  * I recommend installing with `pip install rpy2`  \n",
    "  * Needs R to be compiled with shared libraries  "
   ]
  },
  {
   "cell_type": "markdown",
   "metadata": {},
   "source": [
    "### My Internal Package Dependencies\n",
    "\n",
    "These are Python packages that I use internally for things such as statistics and visualization. They are all available on [my Github page](https://github.com/theandygross), I recomend downloading them and installing them with `python setup.py install`.  I appoligize for the generic names, I am hoping to develop these a bit more and make them into proper packages up to spec in my next code refactor.   \n",
    "\n",
    "* [Figures](https://github.com/theandygross/Figures) \n",
    "  * Code for better figure generation, mainly using Pandas data-structures \n",
    "  * I am slowly phasing this out and replacing with the very nice [seaborn](http://stanford.edu/~mwaskom/software/seaborn/index.html) library  \n",
    "  \n",
    "* [Stats](https://github.com/theandygross/Stats)  \n",
    "  * Contains two packages, __Stats__ and __Helpers__ \n",
    "  * __Stats__ has a number of helper functions that wrap calls to R or scipy statistics functions and allow them to play nicer with Pandas data-structures  \n",
    "  * __Helpers__ has a number of common tasks that I envoke to make code a bit more readable \n",
    "  \n",
    "* [NotebookImport](https://github.com/theandygross/NotebookImport) \n",
    "  * Utility for importing IPython notebooks as modules\n",
    "  * Code taken from [MinRK's Gist](http://nbviewer.ipython.org/gist/minrk/6011986) \n",
    "  * This is dependent on the IPython/Jupyter version you are using, you may get deprecation warnings, I am trying to keep this up to date but I'm not sure how backwards compatable things are\n",
    "  \n",
    "* [MethylTools](https://github.com/theandygross/MethylTools)\n",
    "  * Utility for organizing probe annotations for the Illumina methylation450k chip \n",
    "  * Has some R dependencies"
   ]
  },
  {
   "cell_type": "markdown",
   "metadata": {},
   "source": [
    "### R Dependencies \n",
    "* [IlluminaHumanMethylation450kanno.ilmn12.hg19](http://bioconductor.org/packages/release/data/annotation/html/IlluminaHumanMethylation450kanno.ilmn12.hg19.html)\n",
    "    * Used for methylation probe annotations \n",
    "    * Should only be a dependency for the MethylTools package\n",
    "* [mgsa](http://www.bioconductor.org/packages/release/bioc/html/mgsa.html) \n",
    "    * Model based GSEA  \n",
    "    * I don't use this in the paper but it is in some exploritory analysis"
   ]
  }
 ],
 "metadata": {
  "kernelspec": {
   "display_name": "Python 2",
   "language": "python",
   "name": "python2"
  },
  "language_info": {
   "codemirror_mode": {
    "name": "ipython",
    "version": 2
   },
   "file_extension": ".py",
   "mimetype": "text/x-python",
   "name": "python",
   "nbconvert_exporter": "python",
   "pygments_lexer": "ipython2",
   "version": "2.7.9"
  }
 },
 "nbformat": 4,
 "nbformat_minor": 0
}
