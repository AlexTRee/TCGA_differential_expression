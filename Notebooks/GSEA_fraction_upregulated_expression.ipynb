{
 "cells": [
  {
   "cell_type": "markdown",
   "metadata": {},
   "source": [
    "# Exploration of fraction upregulated on paired RNA-Sequencing data"
   ]
  },
  {
   "cell_type": "code",
   "execution_count": 2,
   "metadata": {
    "collapsed": false
   },
   "outputs": [
    {
     "data": {
      "text/html": [
       "importing IPython notebook from <a href='./DX_screen.ipynb' target='_blank'>DX_screen</a>"
      ]
     },
     "metadata": {},
     "output_type": "display_data"
    }
   ],
   "source": [
    "import NotebookImport\n",
    "from DX_screen import *"
   ]
  },
  {
   "cell_type": "markdown",
   "metadata": {},
   "source": [
    "Here I'm running GSEA on the fraction upregulated signal across genes. "
   ]
  },
  {
   "cell_type": "code",
   "execution_count": 3,
   "metadata": {
    "collapsed": true
   },
   "outputs": [],
   "source": [
    "gs2 = gene_sets.ix[dx_rna.index].fillna(0)\n",
    "rr = screen_feature(dx_rna.frac, rev_kruskal, gs2.T, \n",
    "                    align=False)\n",
    "fp = (1.*gene_sets.T * dx_rna.frac).T.dropna().replace(0, np.nan).mean().order()\n",
    "fp.name = 'mean frac'"
   ]
  },
  {
   "cell_type": "markdown",
   "metadata": {},
   "source": [
    "First I do a greedy filter based on p-values to find non-overlapping gene sets that are significantly associated with the tumor signal. For details see the [filter_pathway_hits](./Imports.ipynb#filter_pathway_hits) funciton."
   ]
  },
  {
   "cell_type": "code",
   "execution_count": 4,
   "metadata": {
    "collapsed": false
   },
   "outputs": [
    {
     "data": {
      "text/html": [
       "<div>\n",
       "<table border=\"1\" class=\"dataframe\">\n",
       "  <thead>\n",
       "    <tr style=\"text-align: right;\">\n",
       "      <th></th>\n",
       "      <th>H</th>\n",
       "      <th>p</th>\n",
       "      <th>q</th>\n",
       "      <th>mean frac</th>\n",
       "    </tr>\n",
       "    <tr>\n",
       "      <th>Gene_Set</th>\n",
       "      <th></th>\n",
       "      <th></th>\n",
       "      <th></th>\n",
       "      <th></th>\n",
       "    </tr>\n",
       "  </thead>\n",
       "  <tbody>\n",
       "    <tr>\n",
       "      <th>REACTOME_CELL_CYCLE</th>\n",
       "      <td>340.12</td>\n",
       "      <td>6.00e-76</td>\n",
       "      <td>7.98e-73</td>\n",
       "      <td>0.67</td>\n",
       "    </tr>\n",
       "    <tr>\n",
       "      <th>REACTOME_METABOLISM_OF_PROTEINS</th>\n",
       "      <td>152.80</td>\n",
       "      <td>4.24e-35</td>\n",
       "      <td>6.26e-33</td>\n",
       "      <td>0.59</td>\n",
       "    </tr>\n",
       "    <tr>\n",
       "      <th>REACTOME_PROCESSING_OF_CAPPED_INTRON_CONTAINING_PRE_MRNA</th>\n",
       "      <td>120.53</td>\n",
       "      <td>4.83e-28</td>\n",
       "      <td>3.78e-26</td>\n",
       "      <td>0.65</td>\n",
       "    </tr>\n",
       "    <tr>\n",
       "      <th>REACTOME_SIGNALING_BY_GPCR</th>\n",
       "      <td>67.14</td>\n",
       "      <td>2.53e-16</td>\n",
       "      <td>5.51e-15</td>\n",
       "      <td>0.45</td>\n",
       "    </tr>\n",
       "    <tr>\n",
       "      <th>REACTOME_BIOLOGICAL_OXIDATIONS</th>\n",
       "      <td>53.88</td>\n",
       "      <td>2.13e-13</td>\n",
       "      <td>3.59e-12</td>\n",
       "      <td>0.40</td>\n",
       "    </tr>\n",
       "    <tr>\n",
       "      <th>REACTOME_TRNA_AMINOACYLATION</th>\n",
       "      <td>51.59</td>\n",
       "      <td>6.85e-13</td>\n",
       "      <td>1.10e-11</td>\n",
       "      <td>0.67</td>\n",
       "    </tr>\n",
       "    <tr>\n",
       "      <th>KEGG_PPAR_SIGNALING_PATHWAY</th>\n",
       "      <td>37.09</td>\n",
       "      <td>1.13e-09</td>\n",
       "      <td>1.38e-08</td>\n",
       "      <td>0.39</td>\n",
       "    </tr>\n",
       "    <tr>\n",
       "      <th>NABA_ECM_GLYCOPROTEINS</th>\n",
       "      <td>30.59</td>\n",
       "      <td>3.19e-08</td>\n",
       "      <td>3.35e-07</td>\n",
       "      <td>0.43</td>\n",
       "    </tr>\n",
       "    <tr>\n",
       "      <th>KEGG_RNA_DEGRADATION</th>\n",
       "      <td>30.51</td>\n",
       "      <td>3.33e-08</td>\n",
       "      <td>3.43e-07</td>\n",
       "      <td>0.61</td>\n",
       "    </tr>\n",
       "    <tr>\n",
       "      <th>REACTOME_METABOLISM_OF_NUCLEOTIDES</th>\n",
       "      <td>20.05</td>\n",
       "      <td>7.53e-06</td>\n",
       "      <td>5.44e-05</td>\n",
       "      <td>0.59</td>\n",
       "    </tr>\n",
       "  </tbody>\n",
       "</table>\n",
       "</div>"
      ],
      "text/plain": [
       "                                                         H         p         q  mean frac\n",
       "Gene_Set                                                                                 \n",
       "REACTOME_CELL_CYCLE                                 340.12  6.00e-76  7.98e-73       0.67\n",
       "REACTOME_METABOLISM_OF_PROTEINS                     152.80  4.24e-35  6.26e-33       0.59\n",
       "REACTOME_PROCESSING_OF_CAPPED_INTRON_CONTAINING...  120.53  4.83e-28  3.78e-26       0.65\n",
       "REACTOME_SIGNALING_BY_GPCR                           67.14  2.53e-16  5.51e-15       0.45\n",
       "REACTOME_BIOLOGICAL_OXIDATIONS                       53.88  2.13e-13  3.59e-12       0.40\n",
       "REACTOME_TRNA_AMINOACYLATION                         51.59  6.85e-13  1.10e-11       0.67\n",
       "KEGG_PPAR_SIGNALING_PATHWAY                          37.09  1.13e-09  1.38e-08       0.39\n",
       "NABA_ECM_GLYCOPROTEINS                               30.59  3.19e-08  3.35e-07       0.43\n",
       "KEGG_RNA_DEGRADATION                                 30.51  3.33e-08  3.43e-07       0.61\n",
       "REACTOME_METABOLISM_OF_NUCLEOTIDES                   20.05  7.53e-06  5.44e-05       0.59"
      ]
     },
     "execution_count": 4,
     "metadata": {},
     "output_type": "execute_result"
    }
   ],
   "source": [
    "ff_u = filter_pathway_hits(rr.ix[ti(fp>.5)].p.order(), gs2)\n",
    "ff_p = filter_pathway_hits(rr.ix[ti(fp<.5)].p.order(), gs2)\n",
    "ff = ff_u.append(ff_p)\n",
    "\n",
    "selected = rr.ix[ff[ff < .00001].index].join(fp)\n",
    "selected.sort('p')"
   ]
  },
  {
   "cell_type": "markdown",
   "metadata": {},
   "source": [
    "The cell-cycle is a large pathway with lots of subsets in the mSigDB database. Here I'm looking for significant subsets within this pathway. "
   ]
  },
  {
   "cell_type": "code",
   "execution_count": 5,
   "metadata": {
    "collapsed": false
   },
   "outputs": [
    {
     "data": {
      "text/html": [
       "<div>\n",
       "<table border=\"1\" class=\"dataframe\">\n",
       "  <thead>\n",
       "    <tr style=\"text-align: right;\">\n",
       "      <th></th>\n",
       "      <th>H</th>\n",
       "      <th>p</th>\n",
       "      <th>q</th>\n",
       "      <th>mean frac</th>\n",
       "    </tr>\n",
       "  </thead>\n",
       "  <tbody>\n",
       "    <tr>\n",
       "      <th>REACTOME_DEPOSITION_OF_NEW_CENPA_CONTAINING_NUCLEOSOMES_AT_THE_CENTROMERE</th>\n",
       "      <td>101.96</td>\n",
       "      <td>5.65e-24</td>\n",
       "      <td>3.13e-22</td>\n",
       "      <td>0.74</td>\n",
       "    </tr>\n",
       "    <tr>\n",
       "      <th>REACTOME_M_G1_TRANSITION</th>\n",
       "      <td>133.77</td>\n",
       "      <td>6.12e-31</td>\n",
       "      <td>5.43e-29</td>\n",
       "      <td>0.73</td>\n",
       "    </tr>\n",
       "  </tbody>\n",
       "</table>\n",
       "</div>"
      ],
      "text/plain": [
       "                                                         H         p         q  mean frac\n",
       "REACTOME_DEPOSITION_OF_NEW_CENPA_CONTAINING_NUC...  101.96  5.65e-24  3.13e-22       0.74\n",
       "REACTOME_M_G1_TRANSITION                            133.77  6.12e-31  5.43e-29       0.73"
      ]
     },
     "execution_count": 5,
     "metadata": {},
     "output_type": "execute_result"
    }
   ],
   "source": [
    "d = pd.DataFrame({g: gs2['REACTOME_CELL_CYCLE'] for g in gs2.columns})\n",
    "a,b = odds_ratio_df(d.T>0, gs2.T>0)\n",
    "\n",
    "dd = rr.ix[ti((a > 100) & (rr.q < 10e-15))].join(fp).sort(fp.name, ascending=False)\n",
    "filter_pathway_hits(dd, gs2)"
   ]
  },
  {
   "cell_type": "markdown",
   "metadata": {},
   "source": [
    "These two gene sets are completely non-overlapping subsets of the cell-cycle. "
   ]
  },
  {
   "cell_type": "code",
   "execution_count": 9,
   "metadata": {
    "collapsed": false
   },
   "outputs": [
    {
     "data": {
      "text/plain": [
       "neither    18295\n",
       "first         72\n",
       "second        53\n",
       "dtype: int64"
      ]
     },
     "execution_count": 9,
     "metadata": {},
     "output_type": "execute_result"
    }
   ],
   "source": [
    "m_g1 = 'REACTOME_M_G1_TRANSITION'\n",
    "cepna = 'REACTOME_DEPOSITION_OF_NEW_CENPA_CONTAINING_NUCLEOSOMES_AT_THE_CENTROMERE'\n",
    "combine(gs2[m_g1]>0, gs2[cepna]>0).value_counts()"
   ]
  },
  {
   "cell_type": "code",
   "execution_count": 10,
   "metadata": {
    "collapsed": false
   },
   "outputs": [
    {
     "data": {
      "image/png": "[encoded data removed]",
      "text/plain": [
       "<matplotlib.figure.Figure at 0x7f4856e16e90>"
      ]
     },
     "metadata": {},
     "output_type": "display_data"
    }
   ],
   "source": [
    "fig, ax = subplots()\n",
    "v = pd.concat([dx_rna.frac, \n",
    "               dx_rna.frac.ix[ti(gs2['REACTOME_CELL_CYCLE']>0)],\n",
    "               dx_rna.frac.ix[ti(gs2[m_g1]>0)],\n",
    "               dx_rna.frac.ix[ti(gs2[cepna]>0)]\n",
    "               ]).dropna()\n",
    "v1 = pd.concat([pd.Series('All Genes', dx_rna.frac.index), \n",
    "                pd.Series('Cell Cycle', ti(gs2['REACTOME_CELL_CYCLE']>0)),\n",
    "                pd.Series('M/G1\\nTransition', ti(gs2[m_g1]>0)),\n",
    "                pd.Series('CEPNA\\nDeposition', ti(gs2[cepna]>0))\n",
    "                ])\n",
    "v1.name = ''\n",
    "v.name = 'Fraction Overexpressed'\n",
    "o = ['All Genes','Cell Cycle','CEPNA\\nDeposition',\n",
    "     'M/G1\\nTransition']\n",
    "violin_plot_pandas(v1, v, order=o, ann=None, ax=ax)\n",
    "prettify_ax(ax)\n",
    "ax.spines['bottom'].set_visible(False)\n",
    "ax.axhline(.5, color='grey', lw=2, ls='--');"
   ]
  },
  {
   "cell_type": "markdown",
   "metadata": {},
   "source": [
    "I can also change the greedy filter to look for gene-sets with large effect sizes as opposed to p-values. This is going to give us smaller, but more specific gene-sets. "
   ]
  },
  {
   "cell_type": "code",
   "execution_count": 11,
   "metadata": {
    "collapsed": false
   },
   "outputs": [
    {
     "data": {
      "text/html": [
       "<div>\n",
       "<table border=\"1\" class=\"dataframe\">\n",
       "  <thead>\n",
       "    <tr style=\"text-align: right;\">\n",
       "      <th></th>\n",
       "      <th>H</th>\n",
       "      <th>p</th>\n",
       "      <th>q</th>\n",
       "      <th>mean frac</th>\n",
       "    </tr>\n",
       "  </thead>\n",
       "  <tbody>\n",
       "    <tr>\n",
       "      <th>REACTOME_UNWINDING_OF_DNA</th>\n",
       "      <td>28.36</td>\n",
       "      <td>1.01e-07</td>\n",
       "      <td>9.71e-07</td>\n",
       "      <td>0.81</td>\n",
       "    </tr>\n",
       "    <tr>\n",
       "      <th>REACTOME_EXTENSION_OF_TELOMERES</th>\n",
       "      <td>54.89</td>\n",
       "      <td>1.27e-13</td>\n",
       "      <td>2.17e-12</td>\n",
       "      <td>0.75</td>\n",
       "    </tr>\n",
       "    <tr>\n",
       "      <th>REACTOME_DEPOSITION_OF_NEW_CENPA_CONTAINING_NUCLEOSOMES_AT_THE_CENTROMERE</th>\n",
       "      <td>101.96</td>\n",
       "      <td>5.65e-24</td>\n",
       "      <td>3.13e-22</td>\n",
       "      <td>0.74</td>\n",
       "    </tr>\n",
       "    <tr>\n",
       "      <th>BIOCARTA_PROTEASOME_PATHWAY</th>\n",
       "      <td>55.43</td>\n",
       "      <td>9.70e-14</td>\n",
       "      <td>1.72e-12</td>\n",
       "      <td>0.73</td>\n",
       "    </tr>\n",
       "    <tr>\n",
       "      <th>REACTOME_FANCONI_ANEMIA_PATHWAY</th>\n",
       "      <td>30.10</td>\n",
       "      <td>4.11e-08</td>\n",
       "      <td>4.14e-07</td>\n",
       "      <td>0.70</td>\n",
       "    </tr>\n",
       "    <tr>\n",
       "      <th>PID_FOXM1_PATHWAY</th>\n",
       "      <td>34.39</td>\n",
       "      <td>4.51e-09</td>\n",
       "      <td>5.13e-08</td>\n",
       "      <td>0.69</td>\n",
       "    </tr>\n",
       "    <tr>\n",
       "      <th>REACTOME_CYTOSOLIC_TRNA_AMINOACYLATION</th>\n",
       "      <td>33.38</td>\n",
       "      <td>7.60e-09</td>\n",
       "      <td>8.49e-08</td>\n",
       "      <td>0.69</td>\n",
       "    </tr>\n",
       "    <tr>\n",
       "      <th>REACTOME_MRNA_SPLICING_MINOR_PATHWAY</th>\n",
       "      <td>50.54</td>\n",
       "      <td>1.17e-12</td>\n",
       "      <td>1.78e-11</td>\n",
       "      <td>0.68</td>\n",
       "    </tr>\n",
       "    <tr>\n",
       "      <th>KEGG_FATTY_ACID_METABOLISM</th>\n",
       "      <td>47.58</td>\n",
       "      <td>5.28e-12</td>\n",
       "      <td>7.63e-11</td>\n",
       "      <td>0.32</td>\n",
       "    </tr>\n",
       "    <tr>\n",
       "      <th>REACTOME_NEP_NS2_INTERACTS_WITH_THE_CELLULAR_EXPORT_MACHINERY</th>\n",
       "      <td>32.01</td>\n",
       "      <td>1.53e-08</td>\n",
       "      <td>1.67e-07</td>\n",
       "      <td>0.66</td>\n",
       "    </tr>\n",
       "    <tr>\n",
       "      <th>REACTOME_SRP_DEPENDENT_COTRANSLATIONAL_PROTEIN_TARGETING_TO_MEMBRANE</th>\n",
       "      <td>91.26</td>\n",
       "      <td>1.26e-21</td>\n",
       "      <td>5.09e-20</td>\n",
       "      <td>0.63</td>\n",
       "    </tr>\n",
       "    <tr>\n",
       "      <th>REACTOME_DEADENYLATION_DEPENDENT_MRNA_DECAY</th>\n",
       "      <td>25.93</td>\n",
       "      <td>3.54e-07</td>\n",
       "      <td>3.11e-06</td>\n",
       "      <td>0.62</td>\n",
       "    </tr>\n",
       "    <tr>\n",
       "      <th>REACTOME_ASPARAGINE_N_LINKED_GLYCOSYLATION</th>\n",
       "      <td>37.87</td>\n",
       "      <td>7.57e-10</td>\n",
       "      <td>9.41e-09</td>\n",
       "      <td>0.61</td>\n",
       "    </tr>\n",
       "    <tr>\n",
       "      <th>REACTOME_CYTOCHROME_P450_ARRANGED_BY_SUBSTRATE_TYPE</th>\n",
       "      <td>25.40</td>\n",
       "      <td>4.65e-07</td>\n",
       "      <td>4.02e-06</td>\n",
       "      <td>0.39</td>\n",
       "    </tr>\n",
       "    <tr>\n",
       "      <th>KEGG_COMPLEMENT_AND_COAGULATION_CASCADES</th>\n",
       "      <td>24.51</td>\n",
       "      <td>7.38e-07</td>\n",
       "      <td>6.10e-06</td>\n",
       "      <td>0.41</td>\n",
       "    </tr>\n",
       "    <tr>\n",
       "      <th>REACTOME_G_ALPHA_S_SIGNALLING_EVENTS</th>\n",
       "      <td>30.83</td>\n",
       "      <td>2.81e-08</td>\n",
       "      <td>2.99e-07</td>\n",
       "      <td>0.42</td>\n",
       "    </tr>\n",
       "    <tr>\n",
       "      <th>NABA_ECM_GLYCOPROTEINS</th>\n",
       "      <td>30.59</td>\n",
       "      <td>3.19e-08</td>\n",
       "      <td>3.35e-07</td>\n",
       "      <td>0.43</td>\n",
       "    </tr>\n",
       "    <tr>\n",
       "      <th>NABA_SECRETED_FACTORS</th>\n",
       "      <td>38.37</td>\n",
       "      <td>5.87e-10</td>\n",
       "      <td>7.43e-09</td>\n",
       "      <td>0.44</td>\n",
       "    </tr>\n",
       "  </tbody>\n",
       "</table>\n",
       "</div>"
      ],
      "text/plain": [
       "                                                         H         p         q  mean frac\n",
       "REACTOME_UNWINDING_OF_DNA                            28.36  1.01e-07  9.71e-07       0.81\n",
       "REACTOME_EXTENSION_OF_TELOMERES                      54.89  1.27e-13  2.17e-12       0.75\n",
       "REACTOME_DEPOSITION_OF_NEW_CENPA_CONTAINING_NUC...  101.96  5.65e-24  3.13e-22       0.74\n",
       "BIOCARTA_PROTEASOME_PATHWAY                          55.43  9.70e-14  1.72e-12       0.73\n",
       "REACTOME_FANCONI_ANEMIA_PATHWAY                      30.10  4.11e-08  4.14e-07       0.70\n",
       "PID_FOXM1_PATHWAY                                    34.39  4.51e-09  5.13e-08       0.69\n",
       "REACTOME_CYTOSOLIC_TRNA_AMINOACYLATION               33.38  7.60e-09  8.49e-08       0.69\n",
       "REACTOME_MRNA_SPLICING_MINOR_PATHWAY                 50.54  1.17e-12  1.78e-11       0.68\n",
       "KEGG_FATTY_ACID_METABOLISM                           47.58  5.28e-12  7.63e-11       0.32\n",
       "REACTOME_NEP_NS2_INTERACTS_WITH_THE_CELLULAR_EX...   32.01  1.53e-08  1.67e-07       0.66\n",
       "REACTOME_SRP_DEPENDENT_COTRANSLATIONAL_PROTEIN_...   91.26  1.26e-21  5.09e-20       0.63\n",
       "REACTOME_DEADENYLATION_DEPENDENT_MRNA_DECAY          25.93  3.54e-07  3.11e-06       0.62\n",
       "REACTOME_ASPARAGINE_N_LINKED_GLYCOSYLATION           37.87  7.57e-10  9.41e-09       0.61\n",
       "REACTOME_CYTOCHROME_P450_ARRANGED_BY_SUBSTRATE_...   25.40  4.65e-07  4.02e-06       0.39\n",
       "KEGG_COMPLEMENT_AND_COAGULATION_CASCADES             24.51  7.38e-07  6.10e-06       0.41\n",
       "REACTOME_G_ALPHA_S_SIGNALLING_EVENTS                 30.83  2.81e-08  2.99e-07       0.42\n",
       "NABA_ECM_GLYCOPROTEINS                               30.59  3.19e-08  3.35e-07       0.43\n",
       "NABA_SECRETED_FACTORS                                38.37  5.87e-10  7.43e-09       0.44"
      ]
     },
     "execution_count": 11,
     "metadata": {},
     "output_type": "execute_result"
    }
   ],
   "source": [
    "f2 = fp.ix[ti(rr.q < .00001)]\n",
    "ff_u = filter_pathway_hits(fp.ix[ti(f2>.5)].order()[::-1], gs2)\n",
    "ff_p = filter_pathway_hits(fp.ix[ti(f2<.5)].order(), gs2)\n",
    "ff = ff_u.append(ff_p)\n",
    "\n",
    "selected = rr.ix[ff.index].join(f2)\n",
    "selected.ix[(f2 - .5).abs().order().index[::-1]].dropna()"
   ]
  },
  {
   "cell_type": "markdown",
   "metadata": {},
   "source": [
    "Interestingly unwinding of DNA has a very large effect size but is a relatviely small gene set at only 11 genes. "
   ]
  },
  {
   "cell_type": "code",
   "execution_count": 15,
   "metadata": {
    "collapsed": false
   },
   "outputs": [
    {
     "data": {
      "image/png": "[encoded data removed]",
      "text/plain": [
       "<matplotlib.figure.Figure at 0x7f4858254050>"
      ]
     },
     "metadata": {},
     "output_type": "display_data"
    }
   ],
   "source": [
    "unwind = 'REACTOME_UNWINDING_OF_DNA'\n",
    "telo = 'REACTOME_EXTENSION_OF_TELOMERES'\n",
    "\n",
    "fig, ax = subplots()\n",
    "v = pd.concat([dx_rna.frac, \n",
    "               dx_rna.frac.ix[ti(gs2[cepna]>0)],\n",
    "               dx_rna.frac.ix[ti(gs2[unwind]>0)],\n",
    "               dx_rna.frac.ix[ti(gs2[telo]>0)]\n",
    "               ]).dropna()\n",
    "v1 = pd.concat([pd.Series('All Genes', dx_rna.frac.index), \n",
    "                pd.Series('CEPNA\\nDeposition', ti(gs2[cepna]>0)),\n",
    "                pd.Series('Unwinding\\nof DNA', ti(gs2[unwind]>0)),\n",
    "                pd.Series('Extension\\nof Telomeres', ti(gs2[telo]>0))\n",
    "                ])\n",
    "v1.name = ''\n",
    "v.name = 'Fraction Overexpressed'\n",
    "o = ['All Genes', 'CEPNA\\nDeposition',\n",
    "     'Extension\\nof Telomeres', 'Unwinding\\nof DNA', ]\n",
    "violin_plot_pandas(v1, v, order=o, ann=None, ax=ax)\n",
    "prettify_ax(ax)\n",
    "ax.spines['bottom'].set_visible(False)\n",
    "ax.axhline(.5, color='grey', lw=2, ls='--');"
   ]
  }
 ],
 "metadata": {
  "kernelspec": {
   "display_name": "Python 2",
   "language": "python",
   "name": "python2"
  },
  "language_info": {
   "codemirror_mode": {
    "name": "ipython",
    "version": 2
   },
   "file_extension": ".py",
   "mimetype": "text/x-python",
   "name": "python",
   "nbconvert_exporter": "python",
   "pygments_lexer": "ipython2",
   "version": "2.7.9"
  }
 },
 "nbformat": 4,
 "nbformat_minor": 0
}
