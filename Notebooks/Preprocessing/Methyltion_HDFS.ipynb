{
 "cells": [
  {
   "cell_type": "markdown",
   "metadata": {},
   "source": [
    "# Dump Methylation Data into a HDF Store"
   ]
  },
  {
   "cell_type": "markdown",
   "metadata": {},
   "source": [
    "* Should allow for much faster IO and quick local quires \n",
    "* I'm putting this on my computers disk as opposed to the network to limit network traffic with this big file"
   ]
  },
  {
   "cell_type": "code",
   "execution_count": 10,
   "metadata": {
    "collapsed": false
   },
   "outputs": [],
   "source": [
    "import os as os\n",
    "import pandas as pd"
   ]
  },
  {
   "cell_type": "code",
   "execution_count": 11,
   "metadata": {
    "collapsed": false
   },
   "outputs": [],
   "source": [
    "os.chdir('/cellar/users/agross/TCGA_Code/TCGA/src')"
   ]
  },
  {
   "cell_type": "code",
   "execution_count": 12,
   "metadata": {
    "collapsed": false
   },
   "outputs": [],
   "source": [
    "import Data.Firehose as FH\n",
    "from Processing.Helpers import *"
   ]
  },
  {
   "cell_type": "code",
   "execution_count": 13,
   "metadata": {
    "collapsed": false
   },
   "outputs": [],
   "source": [
    "p = '/cellar/users/agross/TCGA_Code/CancerData/Data/Firehose__2015_04_02/stddata/'\n",
    "ext = '/methylation/humanmethylation450/jhu_usc_edu/Level_3/within_bioassay_data_set_function/data/data.txt'"
   ]
  },
  {
   "cell_type": "code",
   "execution_count": 14,
   "metadata": {
    "collapsed": false
   },
   "outputs": [],
   "source": [
    "fs = !ls $p*$ext"
   ]
  },
  {
   "cell_type": "code",
   "execution_count": 15,
   "metadata": {
    "collapsed": false
   },
   "outputs": [
    {
     "data": {
      "text/plain": [
       "34"
      ]
     },
     "execution_count": 15,
     "metadata": {},
     "output_type": "execute_result"
    }
   ],
   "source": [
    "len(fs)"
   ]
  },
  {
   "cell_type": "code",
   "execution_count": 16,
   "metadata": {
    "collapsed": false
   },
   "outputs": [],
   "source": [
    "store = pd.HDFStore('/data_ssd/TCGA_methylation_2015_04_02.h5')"
   ]
  },
  {
   "cell_type": "code",
   "execution_count": 17,
   "metadata": {
    "collapsed": false,
    "scrolled": true
   },
   "outputs": [
    {
     "name": "stdout",
     "output_type": "stream",
     "text": [
      "starting ACC\n",
      "saving ACC\n",
      "starting BLCA\n",
      "saving BLCA\n",
      "starting BRCA\n",
      "saving BRCA\n",
      "starting CESC\n",
      "saving CESC\n",
      "starting CHOL\n",
      "saving CHOL\n",
      "starting COAD\n",
      "saving COAD\n",
      "starting DLBC\n",
      "saving DLBC\n",
      "starting ESCA\n",
      "saving ESCA\n",
      "starting GBM\n",
      "saving GBM\n",
      "starting HNSC\n",
      "saving HNSC\n",
      "starting KICH\n",
      "saving KICH\n",
      "starting KIRC\n",
      "saving KIRC\n",
      "starting KIRP\n",
      "saving KIRP\n",
      "starting LAML\n",
      "saving LAML\n",
      "starting LGG\n",
      "saving LGG\n",
      "starting LIHC\n",
      "saving LIHC\n",
      "starting LUAD\n",
      "saving LUAD\n",
      "starting LUSC\n",
      "saving LUSC\n",
      "starting MESO\n",
      "saving MESO\n",
      "starting OV\n",
      "saving OV\n",
      "starting PAAD\n",
      "saving PAAD\n",
      "starting PCPG\n",
      "saving PCPG\n",
      "starting PRAD\n",
      "saving PRAD\n",
      "starting READ\n",
      "saving READ\n",
      "starting SARC\n",
      "saving SARC\n",
      "starting SKCM\n",
      "saving SKCM\n",
      "starting STAD\n",
      "saving STAD\n",
      "starting STES\n",
      "saving STES\n",
      "starting TGCT\n",
      "saving TGCT\n",
      "starting THCA\n",
      "saving THCA\n",
      "starting THYM\n",
      "saving THYM\n",
      "starting UCEC\n",
      "saving UCEC\n",
      "starting UCS\n",
      "saving UCS\n",
      "starting UVM\n",
      "saving UVM\n",
      "CPU times: user 24min 50s, sys: 3min, total: 27min 50s\n",
      "Wall time: 1h 12min 52s\n"
     ]
    }
   ],
   "source": [
    "%%time \n",
    "for f in fs:\n",
    "    cancer = f.split(p)[1].split('/')[0]\n",
    "    print 'starting ' + cancer\n",
    "    ann = pd.read_table(f, nrows=1, index_col=0)\n",
    "    cols = ti(ann.ix['Composite Element REF'] == 'Beta_value')\n",
    "    cols = pd.Index(['Hybridization REF']).append(cols)\n",
    "    df = pd.read_table(f, index_col=0, usecols=cols, skiprows=[1])\n",
    "    df = FH.fix_barcode_columns(df)\n",
    "    print 'saving ' + cancer\n",
    "    store.append(cancer, df)\n",
    "    store.create_table_index(cancer, optlevel=9, kind='full')"
   ]
  },
  {
   "cell_type": "code",
   "execution_count": 18,
   "metadata": {
    "collapsed": true
   },
   "outputs": [],
   "source": [
    "store.close()"
   ]
  },
  {
   "cell_type": "code",
   "execution_count": 19,
   "metadata": {
    "collapsed": false
   },
   "outputs": [],
   "source": [
    "store.open()"
   ]
  },
  {
   "cell_type": "code",
   "execution_count": 21,
   "metadata": {
    "collapsed": true
   },
   "outputs": [],
   "source": [
    "df = pd.read_hdf(store.filename, 'BRCA')"
   ]
  },
  {
   "cell_type": "markdown",
   "metadata": {},
   "source": [
    "# Need to fix, getting FFPEs  for BRCA, others"
   ]
  },
  {
   "cell_type": "code",
   "execution_count": 20,
   "metadata": {
    "collapsed": false
   },
   "outputs": [
    {
     "name": "stdout",
     "output_type": "stream",
     "text": [
      "/ACC fail\n",
      "/BLCA : 42\n",
      "/BRCA fail\n",
      "/CESC : 6\n",
      "/CHOL : 18\n",
      "/COAD : 76\n",
      "/DLBC fail\n",
      "/ESCA : 32\n",
      "/GBM : 2\n",
      "/HNSC : 100\n",
      "/KICH fail\n",
      "/KIRC : 320\n",
      "/KIRP : 90\n",
      "/LAML fail\n",
      "/LGG fail\n",
      "/LIHC : 100\n",
      "/LUAD : 58\n",
      "/LUSC : 80\n",
      "/MESO fail\n",
      "/OV fail\n",
      "/PAAD : 20\n",
      "/PCPG : 6\n",
      "/PRAD : 100\n",
      "/READ : 14\n",
      "/SARC : 8\n",
      "/SKCM fail\n",
      "/STAD : 4\n",
      "/STES : 36\n",
      "/TGCT fail\n",
      "/THCA : 112\n",
      "/THYM : 4\n",
      "/UCEC : 66\n",
      "/UCS fail\n",
      "/UVM fail\n"
     ]
    }
   ],
   "source": [
    "matched_tn = {}\n",
    "for f in store.keys():\n",
    "    df = pd.read_hdf(store.filename, f)\n",
    "    cols = list(df.columns)\n",
    "    pts = [c for c in cols if (c[0],'01') in cols and (c[0], '11') in \n",
    "               cols and c[1] in ['01','11']]\n",
    "    if len(pts) > 0:\n",
    "        matched_tn[f] = df[pts]\n",
    "        print '{} : {}'.format(f, len(pts))\n",
    "    else:\n",
    "        print '{} fail'.format(f)"
   ]
  },
  {
   "cell_type": "code",
   "execution_count": 23,
   "metadata": {
    "collapsed": false
   },
   "outputs": [],
   "source": [
    "mtn = pd.concat(matched_tn.values(), axis=1)"
   ]
  },
  {
   "cell_type": "code",
   "execution_count": 24,
   "metadata": {
    "collapsed": false
   },
   "outputs": [],
   "source": [
    "mtn.to_hdf(store, 'matched_tn', format='t')"
   ]
  }
 ],
 "metadata": {
  "kernelspec": {
   "display_name": "Python 2",
   "language": "python",
   "name": "python2"
  },
  "language_info": {
   "codemirror_mode": {
    "name": "ipython",
    "version": 2
   },
   "file_extension": ".py",
   "mimetype": "text/x-python",
   "name": "python",
   "nbconvert_exporter": "python",
   "pygments_lexer": "ipython2",
   "version": "2.7.9"
  }
 },
 "nbformat": 4,
 "nbformat_minor": 0
}
