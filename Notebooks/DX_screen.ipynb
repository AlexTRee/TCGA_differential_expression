{
 "cells": [
  {
   "cell_type": "markdown",
   "metadata": {},
   "source": [
    "# Fraction upregulated screen "
   ]
  },
  {
   "cell_type": "markdown",
   "metadata": {},
   "source": [
    "Import everything from the imports notebook. This reads in all of the expression data as well as the functions needed to analyse differential expression data."
   ]
  },
  {
   "cell_type": "code",
   "execution_count": 1,
   "metadata": {
    "collapsed": false
   },
   "outputs": [
    {
     "data": {
      "text/html": [
       "importing IPython notebook from <a href='./Imports.ipynb' target='_blank'>Imports</a>"
      ]
     },
     "metadata": {},
     "output_type": "display_data"
    },
    {
     "data": {
      "text/html": [
       "importing IPython notebook from <a href='./Global_Parameters.ipynb' target='_blank'>Global_Parameters</a>"
      ]
     },
     "metadata": {},
     "output_type": "display_data"
    }
   ],
   "source": [
    "import NotebookImport\n",
    "from Imports import *"
   ]
  },
  {
   "cell_type": "markdown",
   "metadata": {},
   "source": [
    "__matched_meth__ is our matched methylation data.  "
   ]
  },
  {
   "cell_type": "code",
   "execution_count": 3,
   "metadata": {
    "collapsed": false
   },
   "outputs": [],
   "source": [
    "matched_meth = pd.read_hdf(METH_STORE, 'matched_tn')\n",
    "matched_meth = matched_meth.groupby(axis=1, level=[0,1]).first()"
   ]
  },
  {
   "cell_type": "code",
   "execution_count": 4,
   "metadata": {
    "collapsed": false
   },
   "outputs": [
    {
     "data": {
      "text/html": [
       "<div style=\"max-height:1000px;max-width:1500px;overflow:auto;\">\n",
       "<table border=\"1\" class=\"dataframe\">\n",
       "  <thead>\n",
       "    <tr>\n",
       "      <th></th>\n",
       "      <th colspan=\"2\" halign=\"left\">TCGA-05-5420</th>\n",
       "      <th colspan=\"2\" halign=\"left\">TCGA-18-3417</th>\n",
       "      <th colspan=\"2\" halign=\"left\">TCGA-18-4721</th>\n",
       "      <th colspan=\"2\" halign=\"left\">TCGA-18-5592</th>\n",
       "      <th colspan=\"2\" halign=\"left\">TCGA-18-5595</th>\n",
       "    </tr>\n",
       "    <tr>\n",
       "      <th></th>\n",
       "      <th>01</th>\n",
       "      <th>11</th>\n",
       "      <th>01</th>\n",
       "      <th>11</th>\n",
       "      <th>01</th>\n",
       "      <th>11</th>\n",
       "      <th>01</th>\n",
       "      <th>11</th>\n",
       "      <th>01</th>\n",
       "      <th>11</th>\n",
       "    </tr>\n",
       "  </thead>\n",
       "  <tbody>\n",
       "    <tr>\n",
       "      <th>cg00000029</th>\n",
       "      <td> 0.40</td>\n",
       "      <td> 0.23</td>\n",
       "      <td> 0.23</td>\n",
       "      <td> 0.18</td>\n",
       "      <td> 0.31</td>\n",
       "      <td> 0.24</td>\n",
       "      <td> 0.17</td>\n",
       "      <td> 0.25</td>\n",
       "      <td> 0.16</td>\n",
       "      <td> 0.16</td>\n",
       "    </tr>\n",
       "    <tr>\n",
       "      <th>cg00000165</th>\n",
       "      <td> 0.20</td>\n",
       "      <td> 0.18</td>\n",
       "      <td> 0.51</td>\n",
       "      <td> 0.15</td>\n",
       "      <td> 0.40</td>\n",
       "      <td> 0.15</td>\n",
       "      <td> 0.74</td>\n",
       "      <td> 0.14</td>\n",
       "      <td> 0.80</td>\n",
       "      <td> 0.18</td>\n",
       "    </tr>\n",
       "    <tr>\n",
       "      <th>cg00000236</th>\n",
       "      <td> 0.79</td>\n",
       "      <td> 0.85</td>\n",
       "      <td> 0.91</td>\n",
       "      <td> 0.85</td>\n",
       "      <td> 0.87</td>\n",
       "      <td> 0.88</td>\n",
       "      <td> 0.91</td>\n",
       "      <td> 0.90</td>\n",
       "      <td> 0.90</td>\n",
       "      <td> 0.89</td>\n",
       "    </tr>\n",
       "    <tr>\n",
       "      <th>cg00000289</th>\n",
       "      <td> 0.63</td>\n",
       "      <td> 0.64</td>\n",
       "      <td> 0.73</td>\n",
       "      <td> 0.77</td>\n",
       "      <td> 0.64</td>\n",
       "      <td> 0.81</td>\n",
       "      <td> 0.67</td>\n",
       "      <td> 0.76</td>\n",
       "      <td> 0.74</td>\n",
       "      <td> 0.77</td>\n",
       "    </tr>\n",
       "    <tr>\n",
       "      <th>cg00000292</th>\n",
       "      <td> 0.73</td>\n",
       "      <td> 0.69</td>\n",
       "      <td> 0.67</td>\n",
       "      <td> 0.69</td>\n",
       "      <td> 0.77</td>\n",
       "      <td> 0.68</td>\n",
       "      <td> 0.51</td>\n",
       "      <td> 0.68</td>\n",
       "      <td> 0.59</td>\n",
       "      <td> 0.69</td>\n",
       "    </tr>\n",
       "  </tbody>\n",
       "</table>\n",
       "</div>"
      ],
      "text/plain": [
       "            TCGA-05-5420        TCGA-18-3417        TCGA-18-4721        TCGA-18-5592        TCGA-18-5595      \n",
       "                      01    11            01    11            01    11            01    11            01    11\n",
       "cg00000029          0.40  0.23          0.23  0.18          0.31  0.24          0.17  0.25          0.16  0.16\n",
       "cg00000165          0.20  0.18          0.51  0.15          0.40  0.15          0.74  0.14          0.80  0.18\n",
       "cg00000236          0.79  0.85          0.91  0.85          0.87  0.88          0.91  0.90          0.90  0.89\n",
       "cg00000289          0.63  0.64          0.73  0.77          0.64  0.81          0.67  0.76          0.74  0.77\n",
       "cg00000292          0.73  0.69          0.67  0.69          0.77  0.68          0.51  0.68          0.59  0.69"
      ]
     },
     "execution_count": 4,
     "metadata": {},
     "output_type": "execute_result"
    }
   ],
   "source": [
    "matched_meth.T.head(10).T.head()"
   ]
  },
  {
   "cell_type": "code",
   "execution_count": 5,
   "metadata": {
    "collapsed": false
   },
   "outputs": [
    {
     "data": {
      "text/plain": [
       "629"
      ]
     },
     "execution_count": 5,
     "metadata": {},
     "output_type": "execute_result"
    }
   ],
   "source": [
    "matched_meth.shape[1] / 2"
   ]
  },
  {
   "cell_type": "markdown",
   "metadata": {},
   "source": [
    "Read in matched Gene and miRNA expression data."
   ]
  },
  {
   "cell_type": "code",
   "execution_count": 6,
   "metadata": {
    "collapsed": false
   },
   "outputs": [],
   "source": [
    "matched_rna = matched_tn\n",
    "matched_mir = pd.read_hdf(MIRNA_STORE, 'matched_tn')"
   ]
  },
  {
   "cell_type": "markdown",
   "metadata": {},
   "source": [
    "### Run a simple screen for DX genes \n",
    "* Here we take the matched data and run a basic screen\n",
    "* fc = 1 means that we have no foldchange buffer for a gene to be considered over or underexpressed in a patient \n",
    "* If there are ties or missing data, I omit these from the test.  This can cause underpowered tests which have extreme test statistics but weak p-values.  For this reason I filter all gene/probes/markers with a sample size of less than 300 patients."
   ]
  },
  {
   "cell_type": "code",
   "execution_count": 7,
   "metadata": {
    "collapsed": false
   },
   "outputs": [],
   "source": [
    "dx_rna = binomial_test_screen(matched_rna, fc=1.)\n",
    "dx_rna = dx_rna[dx_rna.num_dx > 300]"
   ]
  },
  {
   "cell_type": "code",
   "execution_count": 10,
   "metadata": {
    "collapsed": false
   },
   "outputs": [
    {
     "data": {
      "text/html": [
       "<div style=\"max-height:1000px;max-width:1500px;overflow:auto;\">\n",
       "<table border=\"1\" class=\"dataframe\">\n",
       "  <thead>\n",
       "    <tr style=\"text-align: right;\">\n",
       "      <th></th>\n",
       "      <th>num_ox</th>\n",
       "      <th>num_dx</th>\n",
       "      <th>frac</th>\n",
       "      <th>p</th>\n",
       "    </tr>\n",
       "  </thead>\n",
       "  <tbody>\n",
       "    <tr>\n",
       "      <th>PKMYT1</th>\n",
       "      <td> 618</td>\n",
       "      <td> 649</td>\n",
       "      <td> 0.95</td>\n",
       "      <td> 8.00e-143</td>\n",
       "    </tr>\n",
       "    <tr>\n",
       "      <th>UBE2C</th>\n",
       "      <td> 617</td>\n",
       "      <td> 649</td>\n",
       "      <td> 0.95</td>\n",
       "      <td> 1.55e-141</td>\n",
       "    </tr>\n",
       "    <tr>\n",
       "      <th>IQGAP3</th>\n",
       "      <td> 617</td>\n",
       "      <td> 649</td>\n",
       "      <td> 0.95</td>\n",
       "      <td> 1.55e-141</td>\n",
       "    </tr>\n",
       "    <tr>\n",
       "      <th>ASF1B</th>\n",
       "      <td> 616</td>\n",
       "      <td> 649</td>\n",
       "      <td> 0.95</td>\n",
       "      <td> 2.90e-140</td>\n",
       "    </tr>\n",
       "    <tr>\n",
       "      <th>ADH1B</th>\n",
       "      <td>  34</td>\n",
       "      <td> 649</td>\n",
       "      <td> 0.05</td>\n",
       "      <td> 5.26e-139</td>\n",
       "    </tr>\n",
       "    <tr>\n",
       "      <th>MELK</th>\n",
       "      <td> 615</td>\n",
       "      <td> 649</td>\n",
       "      <td> 0.95</td>\n",
       "      <td> 5.26e-139</td>\n",
       "    </tr>\n",
       "    <tr>\n",
       "      <th>CDT1</th>\n",
       "      <td> 615</td>\n",
       "      <td> 649</td>\n",
       "      <td> 0.95</td>\n",
       "      <td> 5.26e-139</td>\n",
       "    </tr>\n",
       "    <tr>\n",
       "      <th>SEMA5B</th>\n",
       "      <td> 615</td>\n",
       "      <td> 649</td>\n",
       "      <td> 0.95</td>\n",
       "      <td> 5.26e-139</td>\n",
       "    </tr>\n",
       "    <tr>\n",
       "      <th>TPX2</th>\n",
       "      <td> 613</td>\n",
       "      <td> 649</td>\n",
       "      <td> 0.94</td>\n",
       "      <td> 1.58e-136</td>\n",
       "    </tr>\n",
       "    <tr>\n",
       "      <th>SPC24</th>\n",
       "      <td> 613</td>\n",
       "      <td> 649</td>\n",
       "      <td> 0.94</td>\n",
       "      <td> 1.58e-136</td>\n",
       "    </tr>\n",
       "  </tbody>\n",
       "</table>\n",
       "</div>"
      ],
      "text/plain": [
       "        num_ox  num_dx  frac          p\n",
       "PKMYT1     618     649  0.95  8.00e-143\n",
       "UBE2C      617     649  0.95  1.55e-141\n",
       "IQGAP3     617     649  0.95  1.55e-141\n",
       "ASF1B      616     649  0.95  2.90e-140\n",
       "ADH1B       34     649  0.05  5.26e-139\n",
       "MELK       615     649  0.95  5.26e-139\n",
       "CDT1       615     649  0.95  5.26e-139\n",
       "SEMA5B     615     649  0.95  5.26e-139\n",
       "TPX2       613     649  0.94  1.58e-136\n",
       "SPC24      613     649  0.94  1.58e-136"
      ]
     },
     "execution_count": 10,
     "metadata": {},
     "output_type": "execute_result"
    }
   ],
   "source": [
    "dx_rna.sort('p').head(10)"
   ]
  },
  {
   "cell_type": "code",
   "execution_count": 9,
   "metadata": {
    "collapsed": false
   },
   "outputs": [
    {
     "data": {
      "text/plain": [
       "num_ox     6.03e+02\n",
       "num_dx     6.49e+02\n",
       "frac       9.29e-01\n",
       "p         7.59e-125\n",
       "Name: FOXM1, dtype: float64"
      ]
     },
     "execution_count": 9,
     "metadata": {},
     "output_type": "execute_result"
    }
   ],
   "source": [
    "dx_rna.ix['FOXM1']"
   ]
  },
  {
   "cell_type": "markdown",
   "metadata": {},
   "source": [
    "Not only is ADH1B the most downregulated gene, but many of the other genes in the ADH familly have large effects as well. I go into this with a bit more depth in the [alcohol_metabolism](./alcohol_metabolism.ipynb) Notebook."
   ]
  },
  {
   "cell_type": "code",
   "execution_count": 11,
   "metadata": {
    "collapsed": false
   },
   "outputs": [
    {
     "data": {
      "image/png": "[encoded data removed]",
      "text/plain": [
       "<matplotlib.figure.Figure at 0x7ff4fb74f590>"
      ]
     },
     "metadata": {},
     "output_type": "display_data"
    }
   ],
   "source": [
    "#Do not import\n",
    "fig, ax = subplots(figsize=(7.75,2.5))\n",
    "paired_bp_tn_split(matched_rna.ix['ADH1B'], codes, data_type='mRNA',\n",
    "                   ax=ax)\n",
    "fig.tight_layout()"
   ]
  },
  {
   "cell_type": "code",
   "execution_count": 8,
   "metadata": {
    "collapsed": false
   },
   "outputs": [
    {
     "data": {
      "text/html": [
       "<div style=\"max-height:1000px;max-width:1500px;overflow:auto;\">\n",
       "<table border=\"1\" class=\"dataframe\">\n",
       "  <thead>\n",
       "    <tr style=\"text-align: right;\">\n",
       "      <th></th>\n",
       "      <th>num_ox</th>\n",
       "      <th>num_dx</th>\n",
       "      <th>frac</th>\n",
       "      <th>p</th>\n",
       "    </tr>\n",
       "  </thead>\n",
       "  <tbody>\n",
       "    <tr>\n",
       "      <th>ADH1A</th>\n",
       "      <td> 38</td>\n",
       "      <td> 649</td>\n",
       "      <td> 0.06</td>\n",
       "      <td> 4.24e-134</td>\n",
       "    </tr>\n",
       "    <tr>\n",
       "      <th>ADH1B</th>\n",
       "      <td> 34</td>\n",
       "      <td> 649</td>\n",
       "      <td> 0.05</td>\n",
       "      <td> 5.26e-139</td>\n",
       "    </tr>\n",
       "    <tr>\n",
       "      <th>ADH1C</th>\n",
       "      <td> 75</td>\n",
       "      <td> 649</td>\n",
       "      <td> 0.12</td>\n",
       "      <td>  3.84e-96</td>\n",
       "    </tr>\n",
       "  </tbody>\n",
       "</table>\n",
       "</div>"
      ],
      "text/plain": [
       "       num_ox  num_dx  frac          p\n",
       "ADH1A      38     649  0.06  4.24e-134\n",
       "ADH1B      34     649  0.05  5.26e-139\n",
       "ADH1C      75     649  0.12   3.84e-96"
      ]
     },
     "execution_count": 8,
     "metadata": {},
     "output_type": "execute_result"
    }
   ],
   "source": [
    "dx_rna.ix[['ADH1A','ADH1B','ADH1C']]"
   ]
  },
  {
   "cell_type": "code",
   "execution_count": 9,
   "metadata": {
    "collapsed": false
   },
   "outputs": [
    {
     "data": {
      "text/plain": [
       "ADH1A     11.5\n",
       "ADH1B      6.5\n",
       "ADH1C    147.5\n",
       "Name: p, dtype: float64"
      ]
     },
     "execution_count": 9,
     "metadata": {},
     "output_type": "execute_result"
    }
   ],
   "source": [
    "dx_rna.p.rank().ix[['ADH1A','ADH1B','ADH1C']]"
   ]
  },
  {
   "cell_type": "markdown",
   "metadata": {},
   "source": [
    "### MicroRNA Screen"
   ]
  },
  {
   "cell_type": "code",
   "execution_count": 12,
   "metadata": {
    "collapsed": true
   },
   "outputs": [],
   "source": [
    "dx_mir = binomial_test_screen(matched_mir, fc=1.)\n",
    "dx_mir = dx_mir[dx_mir.num_dx > 300]"
   ]
  },
  {
   "cell_type": "code",
   "execution_count": 13,
   "metadata": {
    "collapsed": false
   },
   "outputs": [
    {
     "data": {
      "text/html": [
       "<div style=\"max-height:1000px;max-width:1500px;overflow:auto;\">\n",
       "<table border=\"1\" class=\"dataframe\">\n",
       "  <thead>\n",
       "    <tr style=\"text-align: right;\">\n",
       "      <th></th>\n",
       "      <th>num_ox</th>\n",
       "      <th>num_dx</th>\n",
       "      <th>frac</th>\n",
       "      <th>p</th>\n",
       "    </tr>\n",
       "  </thead>\n",
       "  <tbody>\n",
       "    <tr>\n",
       "      <th>hsa-mir-21</th>\n",
       "      <td> 594</td>\n",
       "      <td> 642</td>\n",
       "      <td> 0.93</td>\n",
       "      <td> 9.15e-121</td>\n",
       "    </tr>\n",
       "    <tr>\n",
       "      <th>hsa-mir-139</th>\n",
       "      <td>  66</td>\n",
       "      <td> 642</td>\n",
       "      <td> 0.10</td>\n",
       "      <td> 1.42e-102</td>\n",
       "    </tr>\n",
       "    <tr>\n",
       "      <th>hsa-mir-133a-1</th>\n",
       "      <td> 105</td>\n",
       "      <td> 642</td>\n",
       "      <td> 0.16</td>\n",
       "      <td>  9.53e-71</td>\n",
       "    </tr>\n",
       "    <tr>\n",
       "      <th>hsa-mir-1307</th>\n",
       "      <td> 536</td>\n",
       "      <td> 642</td>\n",
       "      <td> 0.83</td>\n",
       "      <td>  4.84e-70</td>\n",
       "    </tr>\n",
       "    <tr>\n",
       "      <th>hsa-mir-204</th>\n",
       "      <td> 106</td>\n",
       "      <td> 642</td>\n",
       "      <td> 0.17</td>\n",
       "      <td>  4.84e-70</td>\n",
       "    </tr>\n",
       "  </tbody>\n",
       "</table>\n",
       "</div>"
      ],
      "text/plain": [
       "                num_ox  num_dx  frac          p\n",
       "hsa-mir-21         594     642  0.93  9.15e-121\n",
       "hsa-mir-139         66     642  0.10  1.42e-102\n",
       "hsa-mir-133a-1     105     642  0.16   9.53e-71\n",
       "hsa-mir-1307       536     642  0.83   4.84e-70\n",
       "hsa-mir-204        106     642  0.17   4.84e-70"
      ]
     },
     "execution_count": 13,
     "metadata": {},
     "output_type": "execute_result"
    }
   ],
   "source": [
    "dx_mir.sort('p').head()"
   ]
  },
  {
   "cell_type": "code",
   "execution_count": 15,
   "metadata": {
    "collapsed": false
   },
   "outputs": [
    {
     "data": {
      "image/png": "[encoded data removed]",
      "text/plain": [
       "<matplotlib.figure.Figure at 0x7ff4fb74fc90>"
      ]
     },
     "metadata": {},
     "output_type": "display_data"
    }
   ],
   "source": [
    "#Do not import\n",
    "fig, ax = subplots(figsize=(6.5,2.5))\n",
    "paired_bp_tn_split(matched_mir.ix['hsa-mir-21'], codes, data_type='',\n",
    "                   ax=ax)\n",
    "fig.tight_layout()"
   ]
  },
  {
   "cell_type": "code",
   "execution_count": 14,
   "metadata": {
    "collapsed": false
   },
   "outputs": [
    {
     "data": {
      "image/png": "[encoded data removed]",
      "text/plain": [
       "<matplotlib.figure.Figure at 0x7ff4fb74f390>"
      ]
     },
     "metadata": {},
     "output_type": "display_data"
    }
   ],
   "source": [
    "#Do not import\n",
    "paired_bp_tn_split(matched_mir.ix['hsa-mir-139'], codes, data_type='')"
   ]
  },
  {
   "cell_type": "markdown",
   "metadata": {},
   "source": [
    "### Methylation Screen"
   ]
  },
  {
   "cell_type": "code",
   "execution_count": 16,
   "metadata": {
    "collapsed": true
   },
   "outputs": [],
   "source": [
    "dx_meth = binomial_test_screen(matched_meth, fc=1.)\n",
    "dx_meth = dx_meth[dx_meth.num_dx > 300]"
   ]
  },
  {
   "cell_type": "code",
   "execution_count": 17,
   "metadata": {
    "collapsed": false
   },
   "outputs": [
    {
     "data": {
      "text/html": [
       "<div style=\"max-height:1000px;max-width:1500px;overflow:auto;\">\n",
       "<table border=\"1\" class=\"dataframe\">\n",
       "  <thead>\n",
       "    <tr style=\"text-align: right;\">\n",
       "      <th></th>\n",
       "      <th>num_ox</th>\n",
       "      <th>num_dx</th>\n",
       "      <th>frac</th>\n",
       "      <th>p</th>\n",
       "    </tr>\n",
       "    <tr>\n",
       "      <th>Hybridization REF</th>\n",
       "      <th></th>\n",
       "      <th></th>\n",
       "      <th></th>\n",
       "      <th></th>\n",
       "    </tr>\n",
       "  </thead>\n",
       "  <tbody>\n",
       "    <tr>\n",
       "      <th>cg10216717</th>\n",
       "      <td>  22</td>\n",
       "      <td> 704</td>\n",
       "      <td> 0.03</td>\n",
       "      <td> 6.95e-171</td>\n",
       "    </tr>\n",
       "    <tr>\n",
       "      <th>cg06570224</th>\n",
       "      <td> 680</td>\n",
       "      <td> 704</td>\n",
       "      <td> 0.97</td>\n",
       "      <td> 5.87e-168</td>\n",
       "    </tr>\n",
       "    <tr>\n",
       "      <th>cg12597389</th>\n",
       "      <td> 679</td>\n",
       "      <td> 704</td>\n",
       "      <td> 0.96</td>\n",
       "      <td> 1.60e-166</td>\n",
       "    </tr>\n",
       "    <tr>\n",
       "      <th>cg27166177</th>\n",
       "      <td>  27</td>\n",
       "      <td> 704</td>\n",
       "      <td> 0.04</td>\n",
       "      <td> 1.05e-163</td>\n",
       "    </tr>\n",
       "    <tr>\n",
       "      <th>cg17811434</th>\n",
       "      <td>  29</td>\n",
       "      <td> 704</td>\n",
       "      <td> 0.04</td>\n",
       "      <td> 5.94e-161</td>\n",
       "    </tr>\n",
       "  </tbody>\n",
       "</table>\n",
       "</div>"
      ],
      "text/plain": [
       "                   num_ox  num_dx  frac          p\n",
       "Hybridization REF                                 \n",
       "cg10216717             22     704  0.03  6.95e-171\n",
       "cg06570224            680     704  0.97  5.87e-168\n",
       "cg12597389            679     704  0.96  1.60e-166\n",
       "cg27166177             27     704  0.04  1.05e-163\n",
       "cg17811434             29     704  0.04  5.94e-161"
      ]
     },
     "execution_count": 17,
     "metadata": {},
     "output_type": "execute_result"
    }
   ],
   "source": [
    "dx_meth.sort('p').head()"
   ]
  },
  {
   "cell_type": "code",
   "execution_count": 18,
   "metadata": {
    "collapsed": false
   },
   "outputs": [
    {
     "data": {
      "image/png": "[encoded data removed]",
      "text/plain": [
       "<matplotlib.figure.Figure at 0x7ff50a7e9950>"
      ]
     },
     "metadata": {},
     "output_type": "display_data"
    }
   ],
   "source": [
    "#Do not import\n",
    "paired_bp_tn_split(matched_meth.ix['cg10216717'], codes, data_type='Beta')"
   ]
  },
  {
   "cell_type": "markdown",
   "metadata": {},
   "source": [
    "#### Plot disributions of fraction upregulated statistic \n",
    "\n",
    "We are going to want to reuse this plot so here I'm wrapping it in a function."
   ]
  },
  {
   "cell_type": "code",
   "execution_count": 19,
   "metadata": {
    "collapsed": false
   },
   "outputs": [],
   "source": [
    "def fig_1e(ax):\n",
    "    draw_dist(dx_meth.frac, ax=ax, lw=2.5)\n",
    "    draw_dist(dx_rna.frac, ax=ax, lw=2.5, bins=200)\n",
    "    draw_dist(dx_mir.frac, ax=ax, lw=2.5, bins=100)\n",
    "\n",
    "\n",
    "    ax.set_yticks([])\n",
    "    ax.set_xticks([0,.5,1])\n",
    "    ax.set_ylabel('Density')\n",
    "    ax.set_xlabel('Fraction')\n",
    "    ax.legend(('Methylation','mRNA','miRNA'), frameon=False)\n",
    "    prettify_ax(ax)\n",
    "    return ax"
   ]
  },
  {
   "cell_type": "code",
   "execution_count": 20,
   "metadata": {
    "collapsed": false
   },
   "outputs": [
    {
     "data": {
      "image/png": "[encoded data removed]",
      "text/plain": [
       "<matplotlib.figure.Figure at 0x7ff50a7e9150>"
      ]
     },
     "metadata": {},
     "output_type": "display_data"
    }
   ],
   "source": [
    "#Do not import\n",
    "fig, ax = subplots(1,1, figsize=(5,3))\n",
    "fig_1e(ax);"
   ]
  }
 ],
 "metadata": {
  "kernelspec": {
   "display_name": "Python 2",
   "language": "python",
   "name": "python2"
  },
  "language_info": {
   "codemirror_mode": {
    "name": "ipython",
    "version": 2
   },
   "file_extension": ".py",
   "mimetype": "text/x-python",
   "name": "python",
   "nbconvert_exporter": "python",
   "pygments_lexer": "ipython2",
   "version": "2.7.9"
  }
 },
 "nbformat": 4,
 "nbformat_minor": 0
}
