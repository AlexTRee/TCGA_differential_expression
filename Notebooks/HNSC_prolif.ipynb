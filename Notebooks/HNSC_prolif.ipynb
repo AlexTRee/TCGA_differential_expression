{
 "cells": [
  {
   "cell_type": "code",
   "execution_count": 1,
   "metadata": {
    "collapsed": false
   },
   "outputs": [
    {
     "data": {
      "text/html": [
       "importing IPython notebook from <a href='./Imports.ipynb' target='_blank'>Imports</a>"
      ]
     },
     "metadata": {},
     "output_type": "display_data"
    }
   ],
   "source": [
    "import NotebookImport\n",
    "from Imports import *"
   ]
  },
  {
   "cell_type": "code",
   "execution_count": 2,
   "metadata": {
    "collapsed": false
   },
   "outputs": [
    {
     "name": "stdout",
     "output_type": "stream",
     "text": [
      "/cellar/users/agross/TCGA_Code/DX/Notebooks\n"
     ]
    }
   ],
   "source": [
    "cd Notebooks/"
   ]
  },
  {
   "cell_type": "code",
   "execution_count": 3,
   "metadata": {
    "collapsed": false
   },
   "outputs": [
    {
     "data": {
      "text/html": [
       "importing IPython notebook from <a href='./Preprocessing/ClinicalDataFilters.ipynb' target='_blank'>Preprocessing/ClinicalDataFilters</a>"
      ]
     },
     "metadata": {},
     "output_type": "display_data"
    },
    {
     "data": {
      "text/html": [
       "importing IPython notebook from <a href='./Preprocessing/ClinicalData.ipynb' target='_blank'>Preprocessing/ClinicalData</a>"
      ]
     },
     "metadata": {},
     "output_type": "display_data"
    },
    {
     "name": "stdout",
     "output_type": "stream",
     "text": [
      "PCPG\n",
      "UCS\n",
      "TGCT\n",
      "CHOL\n",
      "THYM\n",
      "MESO\n",
      "FPPP\n"
     ]
    },
    {
     "name": "stderr",
     "output_type": "stream",
     "text": [
      "/cellar/users/agross/anaconda2/lib/python2.7/site-packages/Processing/ProcessClinicalDataPortal.py:37: SettingWithCopyWarning: A value is trying to be set on a copy of a slice from a DataFrame.\n",
      "Try using .loc[row_index,col_indexer] = value instead\n",
      "  f['vitalstatus'] = f['daystodeath'].isnull()\n"
     ]
    }
   ],
   "source": [
    "from Preprocessing.ClinicalDataFilters import *"
   ]
  },
  {
   "cell_type": "code",
   "execution_count": 4,
   "metadata": {
    "collapsed": true
   },
   "outputs": [],
   "source": [
    "proliferation = pd.read_csv('/cellar/users/agross/TCGA_Code/DX/rna_signature.csv',\n",
    "                            header=None, index_col=[0,1], squeeze=True)\n",
    "proliferation = proliferation[:,1]\n",
    "proliferation.name = 'proliferation'"
   ]
  },
  {
   "cell_type": "code",
   "execution_count": 5,
   "metadata": {
    "collapsed": false
   },
   "outputs": [],
   "source": [
    "v = rna_df.ix['ABCB1'][:,'01']"
   ]
  },
  {
   "cell_type": "code",
   "execution_count": 22,
   "metadata": {
    "collapsed": false
   },
   "outputs": [],
   "source": [
    "cancer = run.load_cancer('HNSC')\n",
    "rna = cancer.load_data('mRNASeq')"
   ]
  },
  {
   "cell_type": "code",
   "execution_count": 23,
   "metadata": {
    "collapsed": false
   },
   "outputs": [
    {
     "name": "stdout",
     "output_type": "stream",
     "text": [
      "CPU times: user 58.1 s, sys: 43.8 ms, total: 58.1 s\n",
      "Wall time: 58.1 s\n"
     ]
    }
   ],
   "source": [
    "%%time\n",
    "rr = {}\n",
    "for i,v in rna.pathways.iterrows():\n",
    "    rr[i] = get_cox_ph_ms(surv_5y, v, [proliferation, age > 75], \n",
    "                          interactions=False)"
   ]
  },
  {
   "cell_type": "code",
   "execution_count": 24,
   "metadata": {
    "collapsed": false
   },
   "outputs": [
    {
     "data": {
      "text/html": [
       "<div style=\"max-height:1000px;max-width:1500px;overflow:auto;\">\n",
       "<table border=\"1\" class=\"dataframe\">\n",
       "  <thead>\n",
       "    <tr style=\"text-align: right;\">\n",
       "      <th></th>\n",
       "      <th>LR</th>\n",
       "      <th>feature_p</th>\n",
       "      <th>fmla</th>\n",
       "      <th>hazzard</th>\n",
       "    </tr>\n",
       "  </thead>\n",
       "  <tbody>\n",
       "    <tr>\n",
       "      <th>REACTOME_CELLEXTRACELLULAR_MATRIX_INTERACTIONS</th>\n",
       "      <td> 0.000853</td>\n",
       "      <td> 0.000967</td>\n",
       "      <td> Surv(days, event) ~ feature + proliferation + ...</td>\n",
       "      <td> 1.31</td>\n",
       "    </tr>\n",
       "    <tr>\n",
       "      <th>REACTOME_STRIATED_MUSCLE_CONTRACTION</th>\n",
       "      <td> 0.000887</td>\n",
       "      <td> 0.000758</td>\n",
       "      <td> Surv(days, event) ~ feature + proliferation + ...</td>\n",
       "      <td>  1.3</td>\n",
       "    </tr>\n",
       "    <tr>\n",
       "      <th>REACTOME_MUSCLE_CONTRACTION</th>\n",
       "      <td>  0.00109</td>\n",
       "      <td> 0.000943</td>\n",
       "      <td> Surv(days, event) ~ feature + proliferation + ...</td>\n",
       "      <td> 1.29</td>\n",
       "    </tr>\n",
       "    <tr>\n",
       "      <th>BIOCARTA_PLATELETAPP_PATHWAY</th>\n",
       "      <td>  0.00233</td>\n",
       "      <td>   0.0028</td>\n",
       "      <td> Surv(days, event) ~ feature + proliferation + ...</td>\n",
       "      <td> 1.28</td>\n",
       "    </tr>\n",
       "    <tr>\n",
       "      <th>BIOCARTA_IL4_PATHWAY</th>\n",
       "      <td>  0.00368</td>\n",
       "      <td>  0.00428</td>\n",
       "      <td> Surv(days, event) ~ feature + proliferation + ...</td>\n",
       "      <td> 1.26</td>\n",
       "    </tr>\n",
       "  </tbody>\n",
       "</table>\n",
       "</div>"
      ],
      "text/plain": [
       "                                                      LR feature_p                                               fmla hazzard\n",
       "REACTOME_CELLEXTRACELLULAR_MATRIX_INTERACTIONS  0.000853  0.000967  Surv(days, event) ~ feature + proliferation + ...    1.31\n",
       "REACTOME_STRIATED_MUSCLE_CONTRACTION            0.000887  0.000758  Surv(days, event) ~ feature + proliferation + ...     1.3\n",
       "REACTOME_MUSCLE_CONTRACTION                      0.00109  0.000943  Surv(days, event) ~ feature + proliferation + ...    1.29\n",
       "BIOCARTA_PLATELETAPP_PATHWAY                     0.00233    0.0028  Surv(days, event) ~ feature + proliferation + ...    1.28\n",
       "BIOCARTA_IL4_PATHWAY                             0.00368   0.00428  Surv(days, event) ~ feature + proliferation + ...    1.26"
      ]
     },
     "execution_count": 24,
     "metadata": {},
     "output_type": "execute_result"
    }
   ],
   "source": [
    "pd.concat(rr,1).T.sort('LR').head()"
   ]
  },
  {
   "cell_type": "code",
   "execution_count": 32,
   "metadata": {
    "collapsed": false
   },
   "outputs": [],
   "source": [
    "rr2 = {}\n",
    "for g in run.gene_sets['REACTOME_STRIATED_MUSCLE_CONTRACTION']:\n",
    "    if g not in rna.df.index:\n",
    "        continue\n",
    "    rr2[g] = get_cox_ph_ms(surv_5y, rna.df.ix[g][:,'01'], [proliferation, age > 75], \n",
    "                          interactions=False)\n",
    "rr2 = pd.concat(rr2,1).T.sort('LR')"
   ]
  },
  {
   "cell_type": "code",
   "execution_count": 33,
   "metadata": {
    "collapsed": false
   },
   "outputs": [
    {
     "data": {
      "text/html": [
       "<div style=\"max-height:1000px;max-width:1500px;overflow:auto;\">\n",
       "<table border=\"1\" class=\"dataframe\">\n",
       "  <thead>\n",
       "    <tr style=\"text-align: right;\">\n",
       "      <th></th>\n",
       "      <th>LR</th>\n",
       "      <th>feature_p</th>\n",
       "      <th>fmla</th>\n",
       "      <th>hazzard</th>\n",
       "    </tr>\n",
       "  </thead>\n",
       "  <tbody>\n",
       "    <tr>\n",
       "      <th>DES</th>\n",
       "      <td> 0.000121</td>\n",
       "      <td> 0.000138</td>\n",
       "      <td> Surv(days, event) ~ feature + proliferation + ...</td>\n",
       "      <td> 1.07</td>\n",
       "    </tr>\n",
       "    <tr>\n",
       "      <th>MYL1</th>\n",
       "      <td> 0.000151</td>\n",
       "      <td> 0.000159</td>\n",
       "      <td> Surv(days, event) ~ feature + proliferation + ...</td>\n",
       "      <td> 1.05</td>\n",
       "    </tr>\n",
       "    <tr>\n",
       "      <th>MYL2</th>\n",
       "      <td> 0.000263</td>\n",
       "      <td> 0.000273</td>\n",
       "      <td> Surv(days, event) ~ feature + proliferation + ...</td>\n",
       "      <td> 1.06</td>\n",
       "    </tr>\n",
       "    <tr>\n",
       "      <th>ACTN2</th>\n",
       "      <td> 0.000913</td>\n",
       "      <td> 0.000875</td>\n",
       "      <td> Surv(days, event) ~ feature + proliferation + ...</td>\n",
       "      <td> 1.06</td>\n",
       "    </tr>\n",
       "    <tr>\n",
       "      <th>TNNI1</th>\n",
       "      <td> 0.000971</td>\n",
       "      <td> 0.000859</td>\n",
       "      <td> Surv(days, event) ~ feature + proliferation + ...</td>\n",
       "      <td>  1.1</td>\n",
       "    </tr>\n",
       "  </tbody>\n",
       "</table>\n",
       "</div>"
      ],
      "text/plain": [
       "             LR feature_p                                               fmla hazzard\n",
       "DES    0.000121  0.000138  Surv(days, event) ~ feature + proliferation + ...    1.07\n",
       "MYL1   0.000151  0.000159  Surv(days, event) ~ feature + proliferation + ...    1.05\n",
       "MYL2   0.000263  0.000273  Surv(days, event) ~ feature + proliferation + ...    1.06\n",
       "ACTN2  0.000913  0.000875  Surv(days, event) ~ feature + proliferation + ...    1.06\n",
       "TNNI1  0.000971  0.000859  Surv(days, event) ~ feature + proliferation + ...     1.1"
      ]
     },
     "execution_count": 33,
     "metadata": {},
     "output_type": "execute_result"
    }
   ],
   "source": [
    "rr2.head()"
   ]
  },
  {
   "cell_type": "code",
   "execution_count": 34,
   "metadata": {
    "collapsed": false
   },
   "outputs": [
    {
     "data": {
      "text/plain": [
       "hazard       exp(coef)      47.79\n",
       "             exp(-coef)      0.02\n",
       "             lower .95       2.85\n",
       "             upper .95     800.45\n",
       "LR           stat            7.75\n",
       "             df              1.00\n",
       "             p               0.01\n",
       "concordance  stat            0.56\n",
       "             se              0.02\n",
       "dtype: float64"
      ]
     },
     "execution_count": 34,
     "metadata": {},
     "output_type": "execute_result"
    }
   ],
   "source": [
    "idx = rna.df.columns.levels[0]\n",
    "cox(proliferation.ix[idx], surv_5y)"
   ]
  },
  {
   "cell_type": "code",
   "execution_count": 35,
   "metadata": {
    "collapsed": false
   },
   "outputs": [
    {
     "data": {
      "text/plain": [
       "hazard       exp(coef)     1.03\n",
       "             exp(-coef)    0.97\n",
       "             lower .95     1.01\n",
       "             upper .95     1.06\n",
       "LR           stat          6.92\n",
       "             df            1.00\n",
       "             p             0.01\n",
       "concordance  stat          0.56\n",
       "             se            0.02\n",
       "dtype: float64"
      ]
     },
     "execution_count": 35,
     "metadata": {},
     "output_type": "execute_result"
    }
   ],
   "source": [
    "v = rna.df.ix[['MYL1']].mean()[:,'01']\n",
    "cox(v, surv_5y)"
   ]
  },
  {
   "cell_type": "code",
   "execution_count": 45,
   "metadata": {
    "collapsed": false
   },
   "outputs": [],
   "source": [
    "p = proliferation.ix[v.index].dropna()\n",
    "p = (pd.DataFrame({q: p > p.quantile(q) for q in np.arange(.2,1.01, .5)})\n",
    "                 .apply(pd.Series.idxmin,1))"
   ]
  },
  {
   "cell_type": "code",
   "execution_count": 46,
   "metadata": {
    "collapsed": false
   },
   "outputs": [
    {
     "data": {
      "image/png": "[encoded data removed]",
      "text/plain": [
       "<matplotlib.figure.Figure at 0x7f27a462b450>"
      ]
     },
     "metadata": {},
     "output_type": "display_data"
    }
   ],
   "source": [
    "v = rna.df.ix['MYL1'][:,'01']\n",
    "draw_survival_curves(to_quants(v, std=1),\n",
    "                     surv_5y, p, legend=True)"
   ]
  },
  {
   "cell_type": "code",
   "execution_count": 53,
   "metadata": {
    "collapsed": false
   },
   "outputs": [
    {
     "data": {
      "image/png": "[encoded data removed]",
      "text/plain": [
       "<matplotlib.figure.Figure at 0x7fe4f9bc0a10>"
      ]
     },
     "metadata": {},
     "output_type": "display_data"
    }
   ],
   "source": [
    "series_scatter(rna.df.ix['FUCA1'][:,'01'], proliferation)"
   ]
  },
  {
   "cell_type": "code",
   "execution_count": 55,
   "metadata": {
    "collapsed": false
   },
   "outputs": [
    {
     "name": "stdout",
     "output_type": "stream",
     "text": [
      "STAD\n",
      "ESCA\n",
      "LAML\n"
     ]
    }
   ],
   "source": [
    "r = {}\n",
    "for c in codes.unique():\n",
    "    try:\n",
    "        r[c] = get_cox_ph_ms(surv_5y, rna_df.ix['FUCA1'][:,'01'].ix[ti(codes==c)], \n",
    "                            [proliferation], \n",
    "                            interactions=False)\n",
    "    except:\n",
    "        print c"
   ]
  },
  {
   "cell_type": "code",
   "execution_count": 56,
   "metadata": {
    "collapsed": false
   },
   "outputs": [
    {
     "data": {
      "text/html": [
       "<div style=\"max-height:1000px;max-width:1500px;overflow:auto;\">\n",
       "<table border=\"1\" class=\"dataframe\">\n",
       "  <thead>\n",
       "    <tr style=\"text-align: right;\">\n",
       "      <th></th>\n",
       "      <th>LR</th>\n",
       "      <th>feature_p</th>\n",
       "      <th>fmla</th>\n",
       "      <th>hazzard</th>\n",
       "    </tr>\n",
       "  </thead>\n",
       "  <tbody>\n",
       "    <tr>\n",
       "      <th>ACC</th>\n",
       "      <td> 1.59e-05</td>\n",
       "      <td>  9.2e-06</td>\n",
       "      <td> Surv(days, event) ~ feature + proliferation\\n</td>\n",
       "      <td> 0.414</td>\n",
       "    </tr>\n",
       "    <tr>\n",
       "      <th>KIRC</th>\n",
       "      <td> 5.44e-05</td>\n",
       "      <td> 6.76e-05</td>\n",
       "      <td> Surv(days, event) ~ feature + proliferation\\n</td>\n",
       "      <td> 0.599</td>\n",
       "    </tr>\n",
       "    <tr>\n",
       "      <th>LGG</th>\n",
       "      <td>  0.00168</td>\n",
       "      <td>  0.00157</td>\n",
       "      <td> Surv(days, event) ~ feature + proliferation\\n</td>\n",
       "      <td>  1.69</td>\n",
       "    </tr>\n",
       "    <tr>\n",
       "      <th>BLCA</th>\n",
       "      <td>  0.00565</td>\n",
       "      <td>  0.00356</td>\n",
       "      <td>                 Surv(days, event) ~ feature\\n</td>\n",
       "      <td> 0.791</td>\n",
       "    </tr>\n",
       "    <tr>\n",
       "      <th>SARC</th>\n",
       "      <td>  0.00856</td>\n",
       "      <td>  0.00948</td>\n",
       "      <td> Surv(days, event) ~ feature + proliferation\\n</td>\n",
       "      <td> 0.756</td>\n",
       "    </tr>\n",
       "  </tbody>\n",
       "</table>\n",
       "</div>"
      ],
      "text/plain": [
       "            LR feature_p                                           fmla hazzard\n",
       "ACC   1.59e-05   9.2e-06  Surv(days, event) ~ feature + proliferation\\n   0.414\n",
       "KIRC  5.44e-05  6.76e-05  Surv(days, event) ~ feature + proliferation\\n   0.599\n",
       "LGG    0.00168   0.00157  Surv(days, event) ~ feature + proliferation\\n    1.69\n",
       "BLCA   0.00565   0.00356                  Surv(days, event) ~ feature\\n   0.791\n",
       "SARC   0.00856   0.00948  Surv(days, event) ~ feature + proliferation\\n   0.756"
      ]
     },
     "execution_count": 56,
     "metadata": {},
     "output_type": "execute_result"
    }
   ],
   "source": [
    "pd.concat(r, 1).T.sort('LR').head()"
   ]
  },
  {
   "cell_type": "code",
   "execution_count": 77,
   "metadata": {
    "collapsed": false
   },
   "outputs": [
    {
     "data": {
      "image/png": "[encoded data removed]",
      "text/plain": [
       "<matplotlib.figure.Figure at 0x7fe4efe50650>"
      ]
     },
     "metadata": {},
     "output_type": "display_data"
    }
   ],
   "source": [
    "draw_survival_curves(to_quants(rna_df.ix['FUCA1'][:,'01'].ix[ti(codes=='ACC')].dropna(), \n",
    "                               q=.5),\n",
    "                     surv_5y, to_quants(proliferation.ix[ti(codes=='ACC')].dropna(), \n",
    "                                        q=.33), legend=True)"
   ]
  },
  {
   "cell_type": "code",
   "execution_count": 59,
   "metadata": {
    "collapsed": false
   },
   "outputs": [
    {
     "name": "stdout",
     "output_type": "stream",
     "text": [
      "STAD\n",
      "ESCA\n",
      "LAML\n"
     ]
    }
   ],
   "source": [
    "r = {}\n",
    "for c in codes.unique():\n",
    "    try:\n",
    "        r[c] = get_cox_ph_ms(surv_5y, rna_df.ix['ENGASE'][:,'01'].ix[ti(codes==c)], \n",
    "                            [proliferation], \n",
    "                            interactions=False)\n",
    "    except:\n",
    "        print c"
   ]
  },
  {
   "cell_type": "code",
   "execution_count": 36,
   "metadata": {
    "collapsed": false
   },
   "outputs": [
    {
     "data": {
      "text/html": [
       "<div style=\"max-height:1000px;max-width:1500px;overflow:auto;\">\n",
       "<table border=\"1\" class=\"dataframe\">\n",
       "  <thead>\n",
       "    <tr style=\"text-align: right;\">\n",
       "      <th></th>\n",
       "      <th>LR</th>\n",
       "      <th>feature_p</th>\n",
       "      <th>fmla</th>\n",
       "      <th>hazzard</th>\n",
       "    </tr>\n",
       "  </thead>\n",
       "  <tbody>\n",
       "    <tr>\n",
       "      <th>CESC</th>\n",
       "      <td> 0.000992</td>\n",
       "      <td> 0.000567</td>\n",
       "      <td> Surv(days, event) ~ feature + proliferation\\n</td>\n",
       "      <td> 0.812</td>\n",
       "    </tr>\n",
       "    <tr>\n",
       "      <th>UCEC</th>\n",
       "      <td>  0.00197</td>\n",
       "      <td>  0.00214</td>\n",
       "      <td> Surv(days, event) ~ feature + proliferation\\n</td>\n",
       "      <td> 0.823</td>\n",
       "    </tr>\n",
       "    <tr>\n",
       "      <th>LIHC</th>\n",
       "      <td>  0.00797</td>\n",
       "      <td>  0.00869</td>\n",
       "      <td> Surv(days, event) ~ feature + proliferation\\n</td>\n",
       "      <td> 0.855</td>\n",
       "    </tr>\n",
       "    <tr>\n",
       "      <th>PAAD</th>\n",
       "      <td>    0.013</td>\n",
       "      <td>   0.0132</td>\n",
       "      <td> Surv(days, event) ~ feature + proliferation\\n</td>\n",
       "      <td>  1.22</td>\n",
       "    </tr>\n",
       "    <tr>\n",
       "      <th>HNSC</th>\n",
       "      <td>   0.0152</td>\n",
       "      <td>   0.0147</td>\n",
       "      <td> Surv(days, event) ~ feature + proliferation\\n</td>\n",
       "      <td> 0.903</td>\n",
       "    </tr>\n",
       "  </tbody>\n",
       "</table>\n",
       "</div>"
      ],
      "text/plain": [
       "            LR feature_p                                           fmla hazzard\n",
       "CESC  0.000992  0.000567  Surv(days, event) ~ feature + proliferation\\n   0.812\n",
       "UCEC   0.00197   0.00214  Surv(days, event) ~ feature + proliferation\\n   0.823\n",
       "LIHC   0.00797   0.00869  Surv(days, event) ~ feature + proliferation\\n   0.855\n",
       "PAAD     0.013    0.0132  Surv(days, event) ~ feature + proliferation\\n    1.22\n",
       "HNSC    0.0152    0.0147  Surv(days, event) ~ feature + proliferation\\n   0.903"
      ]
     },
     "execution_count": 36,
     "metadata": {},
     "output_type": "execute_result"
    }
   ],
   "source": [
    "pd.concat(r, 1).T.sort('LR').head()"
   ]
  }
 ],
 "metadata": {
  "kernelspec": {
   "display_name": "Python 2",
   "language": "python",
   "name": "python2"
  },
  "language_info": {
   "codemirror_mode": {
    "name": "ipython",
    "version": 2
   },
   "file_extension": ".py",
   "mimetype": "text/x-python",
   "name": "python",
   "nbconvert_exporter": "python",
   "pygments_lexer": "ipython2",
   "version": "2.7.9"
  }
 },
 "nbformat": 4,
 "nbformat_minor": 0
}
