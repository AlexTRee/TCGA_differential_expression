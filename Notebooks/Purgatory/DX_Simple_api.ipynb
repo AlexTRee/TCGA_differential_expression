{
 "worksheets": [
  {
   "cells": [
    {
     "cell_type": "code",
     "metadata": {},
     "outputs": [],
     "input": [
      "import NotebookImport\n",
      "from Imports import *\n"
     ],
     "language": "python"
    },
    {
     "cell_type": "code",
     "metadata": {},
     "outputs": [],
     "input": [
      ""
     ],
     "language": "python"
    },
    {
     "cell_type": "code",
     "metadata": {},
     "outputs": [],
     "input": [
      "tab = binomial_test_screen(matched_tn, fc=1.)"
     ],
     "language": "python",
     "prompt_number": 2
    },
    {
     "cell_type": "code",
     "metadata": {},
     "outputs": [
      {
       "output_type": "display_data",
       "png": "[encoded data removed]",
       "text": [
        "<matplotlib.figure.Figure at 0x7f786a0772d0>"
       ],
       "metadata": {}
      }
     ],
     "input": [
      "fig, ax = subplots(figsize=(6,4))\n",
      "tab.frac.hist(ax=ax)\n",
      "ax.set_xlabel('Fraction of Patients Induced')\n",
      "ax.set_ylabel('# of Genes')\n",
      "prettify_ax(ax)"
     ],
     "language": "python",
     "prompt_number": 3
    },
    {
     "cell_type": "code",
     "metadata": {},
     "outputs": [
      {
       "html": [
        "<div style=\"max-height:1000px;max-width:1500px;overflow:auto;\">\n",
        "<table border=\"1\" class=\"dataframe\">\n",
        "  <thead>\n",
        "    <tr style=\"text-align: right;\">\n",
        "      <th></th>\n",
        "      <th>num_ox</th>\n",
        "      <th>num_dx</th>\n",
        "      <th>frac</th>\n",
        "      <th>p</th>\n",
        "    </tr>\n",
        "  </thead>\n",
        "  <tbody>\n",
        "    <tr>\n",
        "      <th>ADH1B</th>\n",
        "      <td>  28</td>\n",
        "      <td> 650</td>\n",
        "      <td> 0.04</td>\n",
        "      <td> 4.71e-147</td>\n",
        "    </tr>\n",
        "    <tr>\n",
        "      <th>IQGAP3</th>\n",
        "      <td> 619</td>\n",
        "      <td> 650</td>\n",
        "      <td> 0.95</td>\n",
        "      <td> 4.20e-143</td>\n",
        "    </tr>\n",
        "    <tr>\n",
        "      <th>KIF4A</th>\n",
        "      <td> 618</td>\n",
        "      <td> 650</td>\n",
        "      <td> 0.95</td>\n",
        "      <td> 8.14e-142</td>\n",
        "    </tr>\n",
        "    <tr>\n",
        "      <th>FOXM1</th>\n",
        "      <td> 617</td>\n",
        "      <td> 650</td>\n",
        "      <td> 0.95</td>\n",
        "      <td> 1.53e-140</td>\n",
        "    </tr>\n",
        "    <tr>\n",
        "      <th>GSTM5</th>\n",
        "      <td>  34</td>\n",
        "      <td> 650</td>\n",
        "      <td> 0.05</td>\n",
        "      <td> 2.78e-139</td>\n",
        "    </tr>\n",
        "    <tr>\n",
        "      <th>PKMYT1</th>\n",
        "      <td> 615</td>\n",
        "      <td> 650</td>\n",
        "      <td> 0.95</td>\n",
        "      <td> 4.90e-138</td>\n",
        "    </tr>\n",
        "    <tr>\n",
        "      <th>UBE2C</th>\n",
        "      <td> 613</td>\n",
        "      <td> 650</td>\n",
        "      <td> 0.94</td>\n",
        "      <td> 1.39e-135</td>\n",
        "    </tr>\n",
        "    <tr>\n",
        "      <th>ADH1A</th>\n",
        "      <td>  37</td>\n",
        "      <td> 646</td>\n",
        "      <td> 0.06</td>\n",
        "      <td> 1.76e-134</td>\n",
        "    </tr>\n",
        "    <tr>\n",
        "      <th>CDT1</th>\n",
        "      <td> 612</td>\n",
        "      <td> 650</td>\n",
        "      <td> 0.94</td>\n",
        "      <td> 2.25e-134</td>\n",
        "    </tr>\n",
        "    <tr>\n",
        "      <th>TROAP</th>\n",
        "      <td> 612</td>\n",
        "      <td> 650</td>\n",
        "      <td> 0.94</td>\n",
        "      <td> 2.25e-134</td>\n",
        "    </tr>\n",
        "  </tbody>\n",
        "</table>\n",
        "</div>"
       ],
       "text": [
        "        num_ox  num_dx  frac          p\n",
        "ADH1B       28     650  0.04  4.71e-147\n",
        "IQGAP3     619     650  0.95  4.20e-143\n",
        "KIF4A      618     650  0.95  8.14e-142\n",
        "FOXM1      617     650  0.95  1.53e-140\n",
        "GSTM5       34     650  0.05  2.78e-139\n",
        "PKMYT1     615     650  0.95  4.90e-138\n",
        "UBE2C      613     650  0.94  1.39e-135\n",
        "ADH1A       37     646  0.06  1.76e-134\n",
        "CDT1       612     650  0.94  2.25e-134\n",
        "TROAP      612     650  0.94  2.25e-134"
       ],
       "metadata": {}
      }
     ],
     "input": [
      "tab.sort('p').head(10)"
     ],
     "language": "python",
     "prompt_number": 4
    },
    {
     "cell_type": "heading",
     "metadata": {},
     "level": 1,
     "source": [
      "Infer Missing Values with KNN"
     ]
    },
    {
     "cell_type": "code",
     "metadata": {},
     "outputs": [],
     "input": [
      "cancers = codes.ix[matched_tn.columns.get_level_values(0)].unique()\n",
      "pts = matched_tn.columns.get_level_values(0)\n",
      "cancers_to_use = ti(codes.ix[pts].value_counts() > 15)"
     ],
     "language": "python",
     "prompt_number": 7
    },
    {
     "cell_type": "code",
     "metadata": {},
     "outputs": [],
     "input": [
      "df_inf = {c: infer_normal_knn(rna_df.ix[:, ti(codes == c)], r_curtoff=.3, k=5)\n",
      "          for c in cancers_to_use}\n",
      "tn_inf_c = pd.concat(df_inf.values(), axis=1)"
     ],
     "language": "python",
     "prompt_number": 9
    },
    {
     "cell_type": "code",
     "metadata": {},
     "outputs": [],
     "input": [
      "tab_inf = binomial_test_screen(tn_inf_c, fc=1.5)"
     ],
     "language": "python",
     "prompt_number": 12
    },
    {
     "cell_type": "code",
     "metadata": {},
     "outputs": [
      {
       "html": [
        "<div style=\"max-height:1000px;max-width:1500px;overflow:auto;\">\n",
        "<table border=\"1\" class=\"dataframe\">\n",
        "  <thead>\n",
        "    <tr style=\"text-align: right;\">\n",
        "      <th></th>\n",
        "      <th>num_ox</th>\n",
        "      <th>num_dx</th>\n",
        "      <th>frac</th>\n",
        "      <th>p</th>\n",
        "    </tr>\n",
        "  </thead>\n",
        "  <tbody>\n",
        "    <tr>\n",
        "      <th>ASF1B</th>\n",
        "      <td> 5300</td>\n",
        "      <td> 5346</td>\n",
        "      <td> 0.99</td>\n",
        "      <td>  0.00e+00</td>\n",
        "    </tr>\n",
        "    <tr>\n",
        "      <th>TPX2</th>\n",
        "      <td> 5437</td>\n",
        "      <td> 5484</td>\n",
        "      <td> 0.99</td>\n",
        "      <td>  0.00e+00</td>\n",
        "    </tr>\n",
        "    <tr>\n",
        "      <th>MOGS</th>\n",
        "      <td> 3152</td>\n",
        "      <td> 3178</td>\n",
        "      <td> 0.99</td>\n",
        "      <td>  0.00e+00</td>\n",
        "    </tr>\n",
        "    <tr>\n",
        "      <th>UBE2C</th>\n",
        "      <td> 5537</td>\n",
        "      <td> 5582</td>\n",
        "      <td> 0.99</td>\n",
        "      <td>  0.00e+00</td>\n",
        "    </tr>\n",
        "    <tr>\n",
        "      <th>IQGAP3</th>\n",
        "      <td> 5527</td>\n",
        "      <td> 5571</td>\n",
        "      <td> 0.99</td>\n",
        "      <td>  0.00e+00</td>\n",
        "    </tr>\n",
        "    <tr>\n",
        "      <th>UHRF1</th>\n",
        "      <td> 5495</td>\n",
        "      <td> 5538</td>\n",
        "      <td> 0.99</td>\n",
        "      <td>  0.00e+00</td>\n",
        "    </tr>\n",
        "    <tr>\n",
        "      <th>FOXM1</th>\n",
        "      <td> 5344</td>\n",
        "      <td> 5385</td>\n",
        "      <td> 0.99</td>\n",
        "      <td>  0.00e+00</td>\n",
        "    </tr>\n",
        "    <tr>\n",
        "      <th>PKMYT1</th>\n",
        "      <td> 5544</td>\n",
        "      <td> 5585</td>\n",
        "      <td> 0.99</td>\n",
        "      <td> 4.94e-324</td>\n",
        "    </tr>\n",
        "    <tr>\n",
        "      <th>SNRPB</th>\n",
        "      <td> 3824</td>\n",
        "      <td> 3850</td>\n",
        "      <td> 0.99</td>\n",
        "      <td>  0.00e+00</td>\n",
        "    </tr>\n",
        "    <tr>\n",
        "      <th>C20orf20</th>\n",
        "      <td> 3743</td>\n",
        "      <td> 3751</td>\n",
        "      <td> 1.00</td>\n",
        "      <td>  0.00e+00</td>\n",
        "    </tr>\n",
        "  </tbody>\n",
        "</table>\n",
        "</div>"
       ],
       "text": [
        "          num_ox  num_dx  frac          p\n",
        "ASF1B       5300    5346  0.99   0.00e+00\n",
        "TPX2        5437    5484  0.99   0.00e+00\n",
        "MOGS        3152    3178  0.99   0.00e+00\n",
        "UBE2C       5537    5582  0.99   0.00e+00\n",
        "IQGAP3      5527    5571  0.99   0.00e+00\n",
        "UHRF1       5495    5538  0.99   0.00e+00\n",
        "FOXM1       5344    5385  0.99   0.00e+00\n",
        "PKMYT1      5544    5585  0.99  4.94e-324\n",
        "SNRPB       3824    3850  0.99   0.00e+00\n",
        "C20orf20    3743    3751  1.00   0.00e+00"
       ],
       "metadata": {}
      }
     ],
     "input": [
      "tab_inf[tab_inf.num_dx > 1000].sort('frac').tail(10)"
     ],
     "language": "python",
     "prompt_number": 13
    },
    {
     "cell_type": "heading",
     "metadata": {},
     "level": 3,
     "source": [
      "Gene Set Enrichment"
     ]
    },
    {
     "cell_type": "code",
     "metadata": {},
     "outputs": [
      {
       "output_type": "stream",
       "stream": "stdout",
       "text": [
        "False    18659\n",
        "True      1843\n",
        "dtype: int64\n"
       ]
      },
      {
       "html": [
        "<div style=\"max-height:1000px;max-width:1500px;overflow:auto;\">\n",
        "<table border=\"1\" class=\"dataframe\">\n",
        "  <thead>\n",
        "    <tr style=\"text-align: right;\">\n",
        "      <th></th>\n",
        "      <th>inPopulation</th>\n",
        "      <th>inStudySet</th>\n",
        "      <th>estimate</th>\n",
        "      <th>std.error</th>\n",
        "    </tr>\n",
        "  </thead>\n",
        "  <tbody>\n",
        "    <tr>\n",
        "      <th>KEGG_HOMOLOGOUS_RECOMBINATION</th>\n",
        "      <td>  28</td>\n",
        "      <td> 15</td>\n",
        "      <td> 1.00</td>\n",
        "      <td> 8.34e-04</td>\n",
        "    </tr>\n",
        "    <tr>\n",
        "      <th>BIOCARTA_RANMS_PATHWAY</th>\n",
        "      <td>  10</td>\n",
        "      <td>  9</td>\n",
        "      <td> 0.99</td>\n",
        "      <td> 1.02e-03</td>\n",
        "    </tr>\n",
        "    <tr>\n",
        "      <th>REACTOME_COPI_MEDIATED_TRANSPORT</th>\n",
        "      <td>  10</td>\n",
        "      <td>  7</td>\n",
        "      <td> 0.99</td>\n",
        "      <td> 2.98e-03</td>\n",
        "    </tr>\n",
        "    <tr>\n",
        "      <th>KEGG_N_GLYCAN_BIOSYNTHESIS</th>\n",
        "      <td>  46</td>\n",
        "      <td> 15</td>\n",
        "      <td> 0.99</td>\n",
        "      <td> 3.24e-03</td>\n",
        "    </tr>\n",
        "    <tr>\n",
        "      <th>KEGG_SPLICEOSOME</th>\n",
        "      <td> 126</td>\n",
        "      <td> 48</td>\n",
        "      <td> 0.92</td>\n",
        "      <td> 1.75e-02</td>\n",
        "    </tr>\n",
        "    <tr>\n",
        "      <th>KEGG_PYRIMIDINE_METABOLISM</th>\n",
        "      <td>  98</td>\n",
        "      <td> 32</td>\n",
        "      <td> 0.88</td>\n",
        "      <td> 2.55e-02</td>\n",
        "    </tr>\n",
        "    <tr>\n",
        "      <th>REACTOME_FANCONI_ANEMIA_PATHWAY</th>\n",
        "      <td>  15</td>\n",
        "      <td> 11</td>\n",
        "      <td> 0.88</td>\n",
        "      <td> 2.92e-02</td>\n",
        "    </tr>\n",
        "    <tr>\n",
        "      <th>REACTOME_CELL_CYCLE_CHECKPOINTS</th>\n",
        "      <td> 110</td>\n",
        "      <td> 72</td>\n",
        "      <td> 0.87</td>\n",
        "      <td> 1.89e-02</td>\n",
        "    </tr>\n",
        "    <tr>\n",
        "      <th>REACTOME_EXTENSION_OF_TELOMERES</th>\n",
        "      <td>  28</td>\n",
        "      <td> 21</td>\n",
        "      <td> 0.84</td>\n",
        "      <td> 8.08e-02</td>\n",
        "    </tr>\n",
        "    <tr>\n",
        "      <th>REACTOME_METABOLISM_OF_RNA</th>\n",
        "      <td>  95</td>\n",
        "      <td> 35</td>\n",
        "      <td> 0.83</td>\n",
        "      <td> 3.71e-02</td>\n",
        "    </tr>\n",
        "  </tbody>\n",
        "</table>\n",
        "</div>"
       ],
       "text": [
        "                                  inPopulation  inStudySet  estimate  std.error\n",
        "KEGG_HOMOLOGOUS_RECOMBINATION               28          15      1.00   8.34e-04\n",
        "BIOCARTA_RANMS_PATHWAY                      10           9      0.99   1.02e-03\n",
        "REACTOME_COPI_MEDIATED_TRANSPORT            10           7      0.99   2.98e-03\n",
        "KEGG_N_GLYCAN_BIOSYNTHESIS                  46          15      0.99   3.24e-03\n",
        "KEGG_SPLICEOSOME                           126          48      0.92   1.75e-02\n",
        "KEGG_PYRIMIDINE_METABOLISM                  98          32      0.88   2.55e-02\n",
        "REACTOME_FANCONI_ANEMIA_PATHWAY             15          11      0.88   2.92e-02\n",
        "REACTOME_CELL_CYCLE_CHECKPOINTS            110          72      0.87   1.89e-02\n",
        "REACTOME_EXTENSION_OF_TELOMERES             28          21      0.84   8.08e-02\n",
        "REACTOME_METABOLISM_OF_RNA                  95          35      0.83   3.71e-02"
       ],
       "metadata": {}
      }
     ],
     "input": [
      "vec = tab_inf[tab_inf.num_dx > 1000].frac.ix[gene_sets.index] > .85\n",
      "print vec.value_counts()\n",
      "mm = run_mgsa(vec)\n",
      "mm.sort('estimate', ascending=False).head(10)"
     ],
     "language": "python",
     "prompt_number": 34
    },
    {
     "cell_type": "code",
     "metadata": {},
     "outputs": [
      {
       "output_type": "stream",
       "stream": "stdout",
       "text": [
        "False    18847\n",
        "True      1655\n",
        "dtype: int64\n"
       ]
      },
      {
       "html": [
        "<div style=\"max-height:1000px;max-width:1500px;overflow:auto;\">\n",
        "<table border=\"1\" class=\"dataframe\">\n",
        "  <thead>\n",
        "    <tr style=\"text-align: right;\">\n",
        "      <th></th>\n",
        "      <th>inPopulation</th>\n",
        "      <th>inStudySet</th>\n",
        "      <th>estimate</th>\n",
        "      <th>std.error</th>\n",
        "    </tr>\n",
        "  </thead>\n",
        "  <tbody>\n",
        "    <tr>\n",
        "      <th>KEGG_PROPANOATE_METABOLISM</th>\n",
        "      <td> 32</td>\n",
        "      <td> 15</td>\n",
        "      <td> 0.92</td>\n",
        "      <td> 0.01</td>\n",
        "    </tr>\n",
        "    <tr>\n",
        "      <th>REACTOME_SIGNALING_BY_BMP</th>\n",
        "      <td> 23</td>\n",
        "      <td>  8</td>\n",
        "      <td> 0.91</td>\n",
        "      <td> 0.01</td>\n",
        "    </tr>\n",
        "    <tr>\n",
        "      <th>BIOCARTA_RHO_PATHWAY</th>\n",
        "      <td> 32</td>\n",
        "      <td> 11</td>\n",
        "      <td> 0.79</td>\n",
        "      <td> 0.01</td>\n",
        "    </tr>\n",
        "    <tr>\n",
        "      <th>BIOCARTA_MET_PATHWAY</th>\n",
        "      <td> 37</td>\n",
        "      <td> 10</td>\n",
        "      <td> 0.59</td>\n",
        "      <td> 0.01</td>\n",
        "    </tr>\n",
        "    <tr>\n",
        "      <th>REACTOME_NUCLEAR_RECEPTOR_TRANSCRIPTION_PATHWAY</th>\n",
        "      <td> 50</td>\n",
        "      <td> 12</td>\n",
        "      <td> 0.58</td>\n",
        "      <td> 0.02</td>\n",
        "    </tr>\n",
        "    <tr>\n",
        "      <th>KEGG_VALINE_LEUCINE_AND_ISOLEUCINE_DEGRADATION</th>\n",
        "      <td> 44</td>\n",
        "      <td> 16</td>\n",
        "      <td> 0.50</td>\n",
        "      <td> 0.02</td>\n",
        "    </tr>\n",
        "    <tr>\n",
        "      <th>BIOCARTA_PGC1A_PATHWAY</th>\n",
        "      <td> 23</td>\n",
        "      <td>  9</td>\n",
        "      <td> 0.48</td>\n",
        "      <td> 0.01</td>\n",
        "    </tr>\n",
        "    <tr>\n",
        "      <th>BIOCARTA_VIP_PATHWAY</th>\n",
        "      <td> 26</td>\n",
        "      <td> 11</td>\n",
        "      <td> 0.44</td>\n",
        "      <td> 0.01</td>\n",
        "    </tr>\n",
        "    <tr>\n",
        "      <th>KEGG_FATTY_ACID_METABOLISM</th>\n",
        "      <td> 42</td>\n",
        "      <td> 14</td>\n",
        "      <td> 0.40</td>\n",
        "      <td> 0.02</td>\n",
        "    </tr>\n",
        "    <tr>\n",
        "      <th>REACTOME_MAP_KINASES_ACTIVATION_IN_TLR_CASCADE</th>\n",
        "      <td> 44</td>\n",
        "      <td> 12</td>\n",
        "      <td> 0.37</td>\n",
        "      <td> 0.02</td>\n",
        "    </tr>\n",
        "  </tbody>\n",
        "</table>\n",
        "</div>"
       ],
       "text": [
        "                                                 inPopulation  inStudySet  estimate  std.error\n",
        "KEGG_PROPANOATE_METABOLISM                                 32          15      0.92       0.01\n",
        "REACTOME_SIGNALING_BY_BMP                                  23           8      0.91       0.01\n",
        "BIOCARTA_RHO_PATHWAY                                       32          11      0.79       0.01\n",
        "BIOCARTA_MET_PATHWAY                                       37          10      0.59       0.01\n",
        "REACTOME_NUCLEAR_RECEPTOR_TRANSCRIPTION_PATHWAY            50          12      0.58       0.02\n",
        "KEGG_VALINE_LEUCINE_AND_ISOLEUCINE_DEGRADATION             44          16      0.50       0.02\n",
        "BIOCARTA_PGC1A_PATHWAY                                     23           9      0.48       0.01\n",
        "BIOCARTA_VIP_PATHWAY                                       26          11      0.44       0.01\n",
        "KEGG_FATTY_ACID_METABOLISM                                 42          14      0.40       0.02\n",
        "REACTOME_MAP_KINASES_ACTIVATION_IN_TLR_CASCADE             44          12      0.37       0.02"
       ],
       "metadata": {}
      }
     ],
     "input": [
      "vec = tab_inf[tab_inf.num_dx > 1000].frac.ix[gene_sets.index] < .15\n",
      "print vec.value_counts()\n",
      "mm = run_mgsa(vec)\n",
      "mm.sort('estimate', ascending=False).head(10)"
     ],
     "language": "python",
     "prompt_number": 35
    },
    {
     "cell_type": "heading",
     "metadata": {},
     "level": 3,
     "source": [
      "Splitting on a Grouping"
     ]
    },
    {
     "cell_type": "code",
     "metadata": {},
     "outputs": [],
     "input": [
      "mut_all = pd.read_csv('/cellar/users/agross/TCGA_Code/TCGA/Data/MAFs_new_2/meta.csv', index_col=[1,2])\n",
      "mut = mut_all['0'].unstack().fillna(0)\n",
      "mut = FH.fix_barcode_columns(mut)\n",
      "mut = mut.xs('01', axis=1, level=1)"
     ],
     "language": "python",
     "prompt_number": 39
    },
    {
     "cell_type": "code",
     "metadata": {},
     "outputs": [
      {
       "output_type": "pyout",
       "prompt_number": 192,
       "text": [
        "float64    5798\n",
        "dtype: int64"
       ],
       "metadata": {}
      }
     ],
     "input": [
      "dx.dtypes.value_counts()"
     ],
     "language": "python",
     "prompt_number": 192
    },
    {
     "cell_type": "code",
     "metadata": {},
     "outputs": [
      {
       "output_type": "stream",
       "stream": "stdout",
       "text": [
        " "
       ]
      }
     ],
     "input": [
      "g = (dx > 0)\n",
      "%prun g.sum(1)"
     ],
     "language": "python",
     "prompt_number": 186
    },
    {
     "cell_type": "code",
     "metadata": {},
     "outputs": [
      {
       "output_type": "stream",
       "stream": "stdout",
       "text": [
        " "
       ]
      }
     ],
     "input": [
      "%prun counts = (dx > 0).sum(1, skipna=False)"
     ],
     "language": "python",
     "prompt_number": 199
    },
    {
     "cell_type": "code",
     "metadata": {},
     "outputs": [],
     "input": [
      "df = tn_inf_c\n",
      "fc = 1.25 \n",
      "\n",
      "a, b = df.xs('01', 1, 1), df.xs('11', 1, 1)\n",
      "dx = a - b\n",
      "dx = dx[dx.abs() > np.log2(fc)]\n",
      "dx_g = dx\n",
      "    \n",
      "def binomial_test_screen_fast(pts, p=.5):\n",
      "    \"\"\"\n",
      "    Run a binomial test on a DataFrame.\n",
      "\n",
      "    df:\n",
      "        DataFrame of measurements.  Should have a multi-index with\n",
      "        subjects on the first level and tissue type ('01' or '11')\n",
      "        on the second level.\n",
      "    fc:\n",
      "        Fold-chance cutoff to use\n",
      "    \"\"\"\n",
      "    dx = dx_g.ix[:, pts]\n",
      "    n = dx.count(1)\n",
      "    counts = (dx > 0).sum(1, skipna=False)\n",
      "    cn = pd.concat([counts, n], 1)\n",
      "    cn = cn[cn.sum(1) > 0]\n",
      "    #b_test = cn.apply(lambda s: binom_test(s[0], s[1], p), axis=1)\n",
      "    dist = (1.*cn[0] / cn[1])\n",
      "    tab = pd.concat([cn[0], cn[1], dist, dist],\n",
      "                    keys=['num_ox', 'num_dx', 'frac',],\n",
      "                    axis=1)\n",
      "    return tab\n",
      "\n",
      "def dx_group(split):\n",
      "    \"\"\"\n",
      "    Run a differential expression analysis on a cohort, splitting on a\n",
      "    binary variable.  I.E. Do patients with TP53 mutations have differing\n",
      "    patterns of differential expression that wild-types.\n",
      "    \"\"\"\n",
      "    tab_1 = binomial_test_screen_fast(ti(split == True))\n",
      "    tab_1 = tab_1.ix[(((tab_1.frac - .5).abs() > .25) & (tab_1.num_dx < 10)) ==\n",
      "                     False]\n",
      "\n",
      "    tab_0 = binomial_test_screen_fast(ti(split == False))\n",
      "    tab_0 = tab_0.ix[(((tab_0.frac - .5).abs() > .25) & (tab_1.num_dx < 10)) ==\n",
      "                     False]\n",
      "    t = pd.concat([tab_0, tab_1], keys=['miss', 'hit'], axis=1)\n",
      "    return t"
     ],
     "language": "python",
     "prompt_number": 204
    },
    {
     "cell_type": "code",
     "metadata": {},
     "outputs": [],
     "input": [
      "hit_rate = (mut > 0).sum(1)\n",
      "genes = hit_rate.order().tail(50).index"
     ],
     "language": "python",
     "prompt_number": 206
    },
    {
     "cell_type": "code",
     "metadata": {},
     "outputs": [],
     "input": [
      "dx_mat = {g: dx_group(mut.ix[g]>0) for g in genes}"
     ],
     "language": "python",
     "prompt_number": 207
    },
    {
     "cell_type": "code",
     "metadata": {},
     "outputs": [],
     "input": [
      "dx_cancer = {c: dx_group(codes == c) for c in cancers_to_use}"
     ],
     "language": "python",
     "prompt_number": 241
    },
    {
     "cell_type": "code",
     "metadata": {},
     "outputs": [
      {
       "output_type": "pyout",
       "prompt_number": 239,
       "text": [
        "<matplotlib.axes.AxesSubplot at 0x7f786a8a6e10>"
       ],
       "metadata": {}
      },
      {
       "output_type": "display_data",
       "png": "[encoded data removed]",
       "text": [
        "<matplotlib.figure.Figure at 0x7f786aee9b90>"
       ],
       "metadata": {}
      }
     ],
     "input": [
      "dx_df.ix['BRAF'].dropna().order().hist()"
     ],
     "language": "python",
     "prompt_number": 239
    },
    {
     "cell_type": "code",
     "metadata": {},
     "outputs": [],
     "input": [
      "dx_c = pd.concat(dx_cancer)\n",
      "dx_m = pd.concat(dx_mat)\n",
      "dx_m = pd.concat([dx_c, dx_m])\n",
      "dx_df = (dx_m.hit.frac - dx_m.miss.frac).unstack()"
     ],
     "language": "python",
     "prompt_number": 246
    },
    {
     "cell_type": "code",
     "metadata": {},
     "outputs": [
      {
       "output_type": "pyout",
       "prompt_number": 258,
       "text": [
        "APC        0.42\n",
        "abParts    0.44\n",
        "PCDHAC2    0.46\n",
        "PCDHGC5    0.49\n",
        "MLL3       0.55\n",
        "HMCN1      0.56\n",
        "AHNAK2     0.56\n",
        "NEB        0.57\n",
        "ATRX       0.58\n",
        "DST        0.59\n",
        "BAGE2      0.59\n",
        "RYR1       0.60\n",
        "OBSCN      0.61\n",
        "SSPO       0.62\n",
        "MLL2       0.63\n",
        "LUSC       0.63\n",
        "MUC17      0.63\n",
        "GPR98      0.66\n",
        "MUC5B      0.66\n",
        "SPTA1      0.69\n",
        "CSMD1      0.69\n",
        "FAT4       0.69\n",
        "SNHG14     0.69\n",
        "PCDH15     0.70\n",
        "RYR3       0.70\n",
        "DNAH9      0.72\n",
        "FAT3       0.73\n",
        "ZFHX4      0.73\n",
        "MUC16      0.73\n",
        "APOB       0.73\n",
        "RYR2       0.74\n",
        "USH2A      0.76\n",
        "PCLO       0.76\n",
        "FLG        0.76\n",
        "XIRP2      0.76\n",
        "LRP1B      0.78\n",
        "SYNE1      0.78\n",
        "DNAH5      0.79\n",
        "CSMD3      0.80\n",
        "TTN        0.84\n",
        "dtype: float64"
       ],
       "metadata": {}
      }
     ],
     "input": [
      "dx_df.T.corr().replace(1, np.nan).stack().ix['TP53'].order().tail(40)"
     ],
     "language": "python",
     "prompt_number": 258
    },
    {
     "cell_type": "code",
     "metadata": {},
     "outputs": [
      {
       "output_type": "stream",
       "stream": "stdout",
       "text": [
        " "
       ]
      }
     ],
     "input": [
      "%prun p53_dx2 = dx_group(mut.ix['TP53']>0)"
     ],
     "language": "python",
     "prompt_number": 205
    },
    {
     "cell_type": "code",
     "metadata": {},
     "outputs": [],
     "input": [
      "p53_dx = dx_group(mut.ix['TP53']>0, tn_inf_c, fc=1.25)"
     ],
     "language": "python",
     "prompt_number": 40
    },
    {
     "cell_type": "code",
     "metadata": {},
     "outputs": [
      {
       "html": [
        "<div style=\"max-height:1000px;max-width:1500px;overflow:auto;\">\n",
        "<table border=\"1\" class=\"dataframe\">\n",
        "  <thead>\n",
        "    <tr>\n",
        "      <th></th>\n",
        "      <th colspan=\"6\" halign=\"left\">miss</th>\n",
        "      <th colspan=\"6\" halign=\"left\">hit</th>\n",
        "    </tr>\n",
        "    <tr>\n",
        "      <th></th>\n",
        "      <th colspan=\"4\" halign=\"left\">binom</th>\n",
        "      <th colspan=\"2\" halign=\"left\">ttest</th>\n",
        "      <th colspan=\"4\" halign=\"left\">binom</th>\n",
        "      <th colspan=\"2\" halign=\"left\">ttest</th>\n",
        "    </tr>\n",
        "    <tr>\n",
        "      <th></th>\n",
        "      <th>num_ox</th>\n",
        "      <th>num_dx</th>\n",
        "      <th>frac</th>\n",
        "      <th>p</th>\n",
        "      <th>p</th>\n",
        "      <th>t</th>\n",
        "      <th>num_ox</th>\n",
        "      <th>num_dx</th>\n",
        "      <th>frac</th>\n",
        "      <th>p</th>\n",
        "      <th>p</th>\n",
        "      <th>t</th>\n",
        "    </tr>\n",
        "  </thead>\n",
        "  <tbody>\n",
        "    <tr>\n",
        "      <th>SPAG5</th>\n",
        "      <td> 1681</td>\n",
        "      <td> 2459</td>\n",
        "      <td> 0.68</td>\n",
        "      <td>  1.23e-75</td>\n",
        "      <td>  6.29e-93</td>\n",
        "      <td>  21.2881724133</td>\n",
        "      <td> 1397</td>\n",
        "      <td> 1440</td>\n",
        "      <td> 0.97</td>\n",
        "      <td>  0.00e+00</td>\n",
        "      <td> 0</td>\n",
        "      <td>   62.450311908</td>\n",
        "    </tr>\n",
        "    <tr>\n",
        "      <th>CA9</th>\n",
        "      <td> 1824</td>\n",
        "      <td> 2532</td>\n",
        "      <td> 0.72</td>\n",
        "      <td> 1.55e-112</td>\n",
        "      <td> 9.55e-247</td>\n",
        "      <td>  37.4733783931</td>\n",
        "      <td> 1304</td>\n",
        "      <td> 1457</td>\n",
        "      <td> 0.89</td>\n",
        "      <td> 7.37e-228</td>\n",
        "      <td> 0</td>\n",
        "      <td>  52.0640021443</td>\n",
        "    </tr>\n",
        "    <tr>\n",
        "      <th>FAM72A</th>\n",
        "      <td> 2174</td>\n",
        "      <td> 2468</td>\n",
        "      <td> 0.88</td>\n",
        "      <td>  0.00e+00</td>\n",
        "      <td>  0.00e+00</td>\n",
        "      <td>  53.2121350968</td>\n",
        "      <td> 1428</td>\n",
        "      <td> 1453</td>\n",
        "      <td> 0.98</td>\n",
        "      <td>  0.00e+00</td>\n",
        "      <td> 0</td>\n",
        "      <td>  73.9880200581</td>\n",
        "    </tr>\n",
        "    <tr>\n",
        "      <th>PDK4</th>\n",
        "      <td>  412</td>\n",
        "      <td> 2467</td>\n",
        "      <td> 0.17</td>\n",
        "      <td> 2.54e-261</td>\n",
        "      <td>  0.00e+00</td>\n",
        "      <td> -48.0675044106</td>\n",
        "      <td>   27</td>\n",
        "      <td> 1458</td>\n",
        "      <td> 0.02</td>\n",
        "      <td>  0.00e+00</td>\n",
        "      <td> 0</td>\n",
        "      <td> -75.9955998517</td>\n",
        "    </tr>\n",
        "    <tr>\n",
        "      <th>MYOC</th>\n",
        "      <td>  400</td>\n",
        "      <td> 2512</td>\n",
        "      <td> 0.16</td>\n",
        "      <td> 6.52e-280</td>\n",
        "      <td>  0.00e+00</td>\n",
        "      <td> -53.3613355885</td>\n",
        "      <td>   49</td>\n",
        "      <td> 1467</td>\n",
        "      <td> 0.03</td>\n",
        "      <td>  0.00e+00</td>\n",
        "      <td> 0</td>\n",
        "      <td> -77.0070979209</td>\n",
        "    </tr>\n",
        "    <tr>\n",
        "      <th>CAB39L</th>\n",
        "      <td>  228</td>\n",
        "      <td> 2330</td>\n",
        "      <td> 0.10</td>\n",
        "      <td> 4.94e-324</td>\n",
        "      <td>  0.00e+00</td>\n",
        "      <td> -56.3652248018</td>\n",
        "      <td>   93</td>\n",
        "      <td> 1380</td>\n",
        "      <td> 0.07</td>\n",
        "      <td> 3.02e-269</td>\n",
        "      <td> 0</td>\n",
        "      <td> -51.6992859032</td>\n",
        "    </tr>\n",
        "    <tr>\n",
        "      <th>COL10A1</th>\n",
        "      <td> 1776</td>\n",
        "      <td> 2488</td>\n",
        "      <td> 0.71</td>\n",
        "      <td> 5.10e-104</td>\n",
        "      <td> 1.41e-183</td>\n",
        "      <td>  31.3438943256</td>\n",
        "      <td> 1340</td>\n",
        "      <td> 1452</td>\n",
        "      <td> 0.92</td>\n",
        "      <td> 1.51e-267</td>\n",
        "      <td> 0</td>\n",
        "      <td>  56.1347009955</td>\n",
        "    </tr>\n",
        "    <tr>\n",
        "      <th>PRICKLE2</th>\n",
        "      <td>  242</td>\n",
        "      <td> 2185</td>\n",
        "      <td> 0.11</td>\n",
        "      <td> 4.94e-324</td>\n",
        "      <td>  0.00e+00</td>\n",
        "      <td> -48.3632551751</td>\n",
        "      <td>   71</td>\n",
        "      <td> 1365</td>\n",
        "      <td> 0.05</td>\n",
        "      <td> 1.90e-291</td>\n",
        "      <td> 0</td>\n",
        "      <td> -51.5404353944</td>\n",
        "    </tr>\n",
        "    <tr>\n",
        "      <th>ANLN</th>\n",
        "      <td> 2328</td>\n",
        "      <td> 2468</td>\n",
        "      <td> 0.94</td>\n",
        "      <td>  0.00e+00</td>\n",
        "      <td>  0.00e+00</td>\n",
        "      <td>  71.2485421772</td>\n",
        "      <td> 1435</td>\n",
        "      <td> 1451</td>\n",
        "      <td> 0.99</td>\n",
        "      <td>  0.00e+00</td>\n",
        "      <td> 0</td>\n",
        "      <td>  76.0790875421</td>\n",
        "    </tr>\n",
        "    <tr>\n",
        "      <th>FAM64A</th>\n",
        "      <td> 2470</td>\n",
        "      <td> 2537</td>\n",
        "      <td> 0.97</td>\n",
        "      <td>  0.00e+00</td>\n",
        "      <td>  0.00e+00</td>\n",
        "      <td>  84.6502351984</td>\n",
        "      <td> 1411</td>\n",
        "      <td> 1433</td>\n",
        "      <td> 0.98</td>\n",
        "      <td>  0.00e+00</td>\n",
        "      <td> 0</td>\n",
        "      <td>  64.9024717104</td>\n",
        "    </tr>\n",
        "  </tbody>\n",
        "</table>\n",
        "</div>"
       ],
       "text": [
        "            miss                                                miss     hit                                             hit\n",
        "           binom                               ttest           ttest   binom                           ttest           ttest\n",
        "          num_ox  num_dx  frac          p          p               t  num_ox  num_dx  frac          p      p               t\n",
        "SPAG5       1681    2459  0.68   1.23e-75   6.29e-93   21.2881724133    1397    1440  0.97   0.00e+00      0    62.450311908\n",
        "CA9         1824    2532  0.72  1.55e-112  9.55e-247   37.4733783931    1304    1457  0.89  7.37e-228      0   52.0640021443\n",
        "FAM72A      2174    2468  0.88   0.00e+00   0.00e+00   53.2121350968    1428    1453  0.98   0.00e+00      0   73.9880200581\n",
        "PDK4         412    2467  0.17  2.54e-261   0.00e+00  -48.0675044106      27    1458  0.02   0.00e+00      0  -75.9955998517\n",
        "MYOC         400    2512  0.16  6.52e-280   0.00e+00  -53.3613355885      49    1467  0.03   0.00e+00      0  -77.0070979209\n",
        "CAB39L       228    2330  0.10  4.94e-324   0.00e+00  -56.3652248018      93    1380  0.07  3.02e-269      0  -51.6992859032\n",
        "COL10A1     1776    2488  0.71  5.10e-104  1.41e-183   31.3438943256    1340    1452  0.92  1.51e-267      0   56.1347009955\n",
        "PRICKLE2     242    2185  0.11  4.94e-324   0.00e+00  -48.3632551751      71    1365  0.05  1.90e-291      0  -51.5404353944\n",
        "ANLN        2328    2468  0.94   0.00e+00   0.00e+00   71.2485421772    1435    1451  0.99   0.00e+00      0   76.0790875421\n",
        "FAM64A      2470    2537  0.97   0.00e+00   0.00e+00   84.6502351984    1411    1433  0.98   0.00e+00      0   64.9024717104"
       ],
       "metadata": {}
      }
     ],
     "input": [
      "p53_dx.sort([('hit','ttest','p')]).head(10)"
     ],
     "language": "python",
     "prompt_number": 41
    },
    {
     "cell_type": "code",
     "metadata": {},
     "outputs": [
      {
       "output_type": "pyout",
       "prompt_number": 52,
       "text": [
        "(678, 29)"
       ],
       "metadata": {}
      }
     ],
     "input": [
      "gg = ti((p53_dx.hit.binom.frac - p53_dx.miss.binom.frac).dropna().abs() > .3)\n",
      "gg = gg.intersection(ti(p53_dx.miss.binom.num_dx > 100))\n",
      "\n",
      "g2 = ti((p53_dx.hit.binom.frac - p53_dx.miss.binom.frac).dropna().abs() > .45)\n",
      "g2 = g2.intersection(ti(p53_dx.miss.binom.num_dx > 100))\n",
      "len(gg), len(g2)"
     ],
     "language": "python",
     "prompt_number": 52
    },
    {
     "cell_type": "code",
     "metadata": {},
     "outputs": [
      {
       "ename": "AttributeError",
       "evalue": "'DataFrame' object has no attribute 'frac'",
       "output_type": "pyerr",
       "traceback": [
        "\u001b[1;31m---------------------------------------------------------------------------\u001b[0m",
        "\u001b[1;31mAttributeError\u001b[0m                            Traceback (most recent call last)",
        "\u001b[1;32m<ipython-input-275-0f871dd8439e>\u001b[0m in \u001b[0;36m<module>\u001b[1;34m()\u001b[0m\n\u001b[0;32m      2\u001b[0m \u001b[0mdx_mat\u001b[0m \u001b[1;33m=\u001b[0m \u001b[0mp53_dx\u001b[0m\u001b[1;33m\u001b[0m\u001b[0m\n\u001b[0;32m      3\u001b[0m \u001b[1;33m\u001b[0m\u001b[0m\n\u001b[1;32m----> 4\u001b[1;33m \u001b[0ms1\u001b[0m\u001b[1;33m,\u001b[0m \u001b[0ms2\u001b[0m \u001b[1;33m=\u001b[0m \u001b[0mdx_mat\u001b[0m\u001b[1;33m.\u001b[0m\u001b[0mhit\u001b[0m\u001b[1;33m.\u001b[0m\u001b[0mfrac\u001b[0m\u001b[1;33m,\u001b[0m \u001b[0mdx_mat\u001b[0m\u001b[1;33m.\u001b[0m\u001b[0mmiss\u001b[0m\u001b[1;33m.\u001b[0m\u001b[0mfrac\u001b[0m\u001b[1;33m\u001b[0m\u001b[0m\n\u001b[0m\u001b[0;32m      5\u001b[0m \u001b[0mfig\u001b[0m\u001b[1;33m,\u001b[0m \u001b[0max\u001b[0m \u001b[1;33m=\u001b[0m \u001b[0minit_ax\u001b[0m\u001b[1;33m(\u001b[0m\u001b[0max\u001b[0m\u001b[1;33m,\u001b[0m \u001b[0mfigsize\u001b[0m\u001b[1;33m=\u001b[0m\u001b[1;33m(\u001b[0m\u001b[1;36m5\u001b[0m\u001b[1;33m,\u001b[0m \u001b[1;36m5\u001b[0m\u001b[1;33m)\u001b[0m\u001b[1;33m)\u001b[0m\u001b[1;33m\u001b[0m\u001b[0m\n\u001b[0;32m      6\u001b[0m \u001b[0max\u001b[0m\u001b[1;33m.\u001b[0m\u001b[0mhexbin\u001b[0m\u001b[1;33m(\u001b[0m\u001b[1;33m*\u001b[0m\u001b[0mmatch_series\u001b[0m\u001b[1;33m(\u001b[0m\u001b[0ms1\u001b[0m\u001b[1;33m,\u001b[0m\u001b[0ms2\u001b[0m\u001b[1;33m)\u001b[0m\u001b[1;33m,\u001b[0m \u001b[0mgridsize\u001b[0m\u001b[1;33m=\u001b[0m\u001b[1;36m80\u001b[0m\u001b[1;33m,\u001b[0m \u001b[0mbins\u001b[0m\u001b[1;33m=\u001b[0m\u001b[1;34m'log'\u001b[0m\u001b[1;33m,\u001b[0m \u001b[0mcmap\u001b[0m\u001b[1;33m=\u001b[0m\u001b[0mplt\u001b[0m\u001b[1;33m.\u001b[0m\u001b[0mcm\u001b[0m\u001b[1;33m.\u001b[0m\u001b[0mGreys\u001b[0m\u001b[1;33m)\u001b[0m\u001b[1;33m\u001b[0m\u001b[0m\n",
        "\u001b[1;32m/cellar/users/agross/anaconda2/lib/python2.7/site-packages/pandas/core/generic.pyc\u001b[0m in \u001b[0;36m__getattr__\u001b[1;34m(self, name)\u001b[0m\n\u001b[0;32m   1841\u001b[0m                 \u001b[1;32mreturn\u001b[0m \u001b[0mself\u001b[0m\u001b[1;33m[\u001b[0m\u001b[0mname\u001b[0m\u001b[1;33m]\u001b[0m\u001b[1;33m\u001b[0m\u001b[0m\n\u001b[0;32m   1842\u001b[0m             raise AttributeError(\"'%s' object has no attribute '%s'\" %\n\u001b[1;32m-> 1843\u001b[1;33m                                  (type(self).__name__, name))\n\u001b[0m\u001b[0;32m   1844\u001b[0m \u001b[1;33m\u001b[0m\u001b[0m\n\u001b[0;32m   1845\u001b[0m     \u001b[1;32mdef\u001b[0m \u001b[0m__setattr__\u001b[0m\u001b[1;33m(\u001b[0m\u001b[0mself\u001b[0m\u001b[1;33m,\u001b[0m \u001b[0mname\u001b[0m\u001b[1;33m,\u001b[0m \u001b[0mvalue\u001b[0m\u001b[1;33m)\u001b[0m\u001b[1;33m:\u001b[0m\u001b[1;33m\u001b[0m\u001b[0m\n",
        "\u001b[1;31mAttributeError\u001b[0m: 'DataFrame' object has no attribute 'frac'"
       ]
      }
     ],
     "input": [
      "ax = None\n",
      "dx_mat = p53_dx\n",
      "\n",
      "s1, s2 = dx_mat.hit.frac, dx_mat.miss.frac\n",
      "fig, ax = init_ax(ax, figsize=(5, 5))\n",
      "ax.hexbin(*match_series(s1,s2), gridsize=80, bins='log', cmap=plt.cm.Greys)\n",
      "ax.annotate('rho = {0:.2}'.format(Tests.spearman_pandas(s1, s2)['rho']), (.95, .02),\n",
      "             xycoords='axes fraction', ha='right', va='bottom', size=14)\n",
      "\n",
      "series_scatter(s1.ix[gg], s2.ix[gg], ax=ax, s=10, alpha=.3,\n",
      "               color=colors[4], ann=None)\n",
      "\n",
      "series_scatter(s1.ix[g2], s2.ix[g2], ax=ax, s=10, alpha=1,\n",
      "               color=colors[0], ann=None)\n",
      "\n",
      "prettify_ax(ax)\n",
      "ax.set_ybound(-.05,1.05)\n",
      "ax.set_xbound(-.05,1.05)\n",
      "ax.set_xlabel('TP53 Mutant')\n",
      "ax.set_ylabel('TP53 WT');"
     ],
     "language": "python",
     "prompt_number": 275
    },
    {
     "cell_type": "code",
     "metadata": {},
     "outputs": [
      {
       "output_type": "pyout",
       "prompt_number": 57,
       "text": [
        "PLA2G2E    -0.61\n",
        "MDM2       -0.59\n",
        "RPS27L     -0.58\n",
        "EDA2R      -0.49\n",
        "NPDC1      -0.47\n",
        "SPATA18    -0.47\n",
        "RUFY1      -0.47\n",
        "MED20       0.45\n",
        "SENP2       0.45\n",
        "KIAA0947    0.45\n",
        "NKX2-4      0.45\n",
        "HTATSF1     0.46\n",
        "MDC1        0.46\n",
        "SEPHS1      0.46\n",
        "OPA1        0.46\n",
        "VAPB        0.46\n",
        "GAGE2E      0.46\n",
        "CXorf56     0.47\n",
        "LHX1        0.48\n",
        "TGS1        0.48\n",
        "TCFL5       0.51\n",
        "DHX36       0.51\n",
        "CXorf51     0.52\n",
        "Name: frac, dtype: float64"
       ],
       "metadata": {}
      }
     ],
     "input": [
      "dx = (p53_dx.hit.binom.frac - p53_dx.miss.binom.frac).dropna()\n",
      "dx = dx.ix[ti(p53_dx.hit.binom.num_dx > 100)].dropna()\n",
      "dx.ix[g2].dropna().order()"
     ],
     "language": "python",
     "prompt_number": 57
    },
    {
     "cell_type": "code",
     "metadata": {},
     "outputs": [
      {
       "output_type": "display_data",
       "png": "[encoded data removed]",
       "text": [
        "<matplotlib.figure.Figure at 0x7f786a50fd50>"
       ],
       "metadata": {}
      }
     ],
     "input": [
      "violin_plot_pandas(mut.ix['TP53']>0, tn_inf_c.ix['MDM2'][:, '01'] - tn_inf_c.ix['MDM2'][:, '11'])"
     ],
     "language": "python",
     "prompt_number": 92
    },
    {
     "cell_type": "code",
     "metadata": {},
     "outputs": [
      {
       "output_type": "display_data",
       "png": "[encoded data removed]",
       "text": [
        "<matplotlib.figure.Figure at 0x7f7868d9c710>"
       ],
       "metadata": {}
      }
     ],
     "input": [
      "fig, axs = subplots(2,1, figsize=(9,6))\n",
      "paired_bp_tn_split(tn_inf_c.ix['MDM2'], codes.ix[ti(mut.ix['TP53']==0)],\n",
      "                   ax=axs[0])\n",
      "paired_bp_tn_split(tn_inf_c.ix['MDM2'], codes.ix[ti(mut.ix['TP53']>0)],\n",
      "                   ax=axs[1])\n",
      "for ax in axs:\n",
      "    ax.set_ylim(8,14)"
     ],
     "language": "python",
     "prompt_number": 90
    },
    {
     "cell_type": "code",
     "metadata": {},
     "outputs": [
      {
       "output_type": "pyout",
       "prompt_number": 58,
       "text": [
        "(670, 249)"
       ],
       "metadata": {}
      }
     ],
     "input": [
      "v = p53_dx\n",
      "dx = (v.hit.binom.frac - v.miss.binom.frac).dropna()\n",
      "dx = dx.ix[ti(v.hit.binom.num_dx > 50)].dropna()\n",
      "\n",
      "gg = ti(dx.abs() > .3)\n",
      "g2 = ti(dx.abs() > .35)\n",
      "len(gg), len(g2)"
     ],
     "language": "python",
     "prompt_number": 58
    },
    {
     "cell_type": "code",
     "metadata": {},
     "outputs": [
      {
       "output_type": "stream",
       "stream": "stdout",
       "text": [
        "False    18804\n",
        "True      1267\n",
        "dtype: int64\n"
       ]
      },
      {
       "html": [
        "<div style=\"max-height:1000px;max-width:1500px;overflow:auto;\">\n",
        "<table border=\"1\" class=\"dataframe\">\n",
        "  <thead>\n",
        "    <tr style=\"text-align: right;\">\n",
        "      <th></th>\n",
        "      <th>inPopulation</th>\n",
        "      <th>inStudySet</th>\n",
        "      <th>estimate</th>\n",
        "      <th>std.error</th>\n",
        "    </tr>\n",
        "  </thead>\n",
        "  <tbody>\n",
        "    <tr>\n",
        "      <th>KEGG_LYSOSOME</th>\n",
        "      <td> 121</td>\n",
        "      <td> 24</td>\n",
        "      <td> 0.99</td>\n",
        "      <td> 0.00</td>\n",
        "    </tr>\n",
        "    <tr>\n",
        "      <th>KEGG_HEMATOPOIETIC_CELL_LINEAGE</th>\n",
        "      <td>  84</td>\n",
        "      <td> 19</td>\n",
        "      <td> 0.98</td>\n",
        "      <td> 0.01</td>\n",
        "    </tr>\n",
        "    <tr>\n",
        "      <th>REACTOME_RHO_GTPASE_CYCLE</th>\n",
        "      <td> 123</td>\n",
        "      <td> 21</td>\n",
        "      <td> 0.94</td>\n",
        "      <td> 0.02</td>\n",
        "    </tr>\n",
        "    <tr>\n",
        "      <th>BIOCARTA_IL10_PATHWAY</th>\n",
        "      <td>  17</td>\n",
        "      <td>  5</td>\n",
        "      <td> 0.88</td>\n",
        "      <td> 0.02</td>\n",
        "    </tr>\n",
        "    <tr>\n",
        "      <th>REACTOME_PEPTIDE_CHAIN_ELONGATION</th>\n",
        "      <td>  84</td>\n",
        "      <td> 26</td>\n",
        "      <td> 0.81</td>\n",
        "      <td> 0.01</td>\n",
        "    </tr>\n",
        "    <tr>\n",
        "      <th>BIOCARTA_PML_PATHWAY</th>\n",
        "      <td>  17</td>\n",
        "      <td>  6</td>\n",
        "      <td> 0.78</td>\n",
        "      <td> 0.01</td>\n",
        "    </tr>\n",
        "    <tr>\n",
        "      <th>REACTOME_SIGNALING_IN_IMMUNE_SYSTEM</th>\n",
        "      <td> 328</td>\n",
        "      <td> 62</td>\n",
        "      <td> 0.78</td>\n",
        "      <td> 0.05</td>\n",
        "    </tr>\n",
        "    <tr>\n",
        "      <th>KEGG_FC_EPSILON_RI_SIGNALING_PATHWAY</th>\n",
        "      <td>  78</td>\n",
        "      <td> 15</td>\n",
        "      <td> 0.74</td>\n",
        "      <td> 0.02</td>\n",
        "    </tr>\n",
        "    <tr>\n",
        "      <th>KEGG_FC_GAMMA_R_MEDIATED_PHAGOCYTOSIS</th>\n",
        "      <td>  95</td>\n",
        "      <td> 17</td>\n",
        "      <td> 0.73</td>\n",
        "      <td> 0.02</td>\n",
        "    </tr>\n",
        "    <tr>\n",
        "      <th>BIOCARTA_MAPK_PATHWAY</th>\n",
        "      <td>  87</td>\n",
        "      <td> 13</td>\n",
        "      <td> 0.70</td>\n",
        "      <td> 0.02</td>\n",
        "    </tr>\n",
        "  </tbody>\n",
        "</table>\n",
        "</div>"
       ],
       "text": [
        "                                       inPopulation  inStudySet  estimate  std.error\n",
        "KEGG_LYSOSOME                                   121          24      0.99       0.00\n",
        "KEGG_HEMATOPOIETIC_CELL_LINEAGE                  84          19      0.98       0.01\n",
        "REACTOME_RHO_GTPASE_CYCLE                       123          21      0.94       0.02\n",
        "BIOCARTA_IL10_PATHWAY                            17           5      0.88       0.02\n",
        "REACTOME_PEPTIDE_CHAIN_ELONGATION                84          26      0.81       0.01\n",
        "BIOCARTA_PML_PATHWAY                             17           6      0.78       0.01\n",
        "REACTOME_SIGNALING_IN_IMMUNE_SYSTEM             328          62      0.78       0.05\n",
        "KEGG_FC_EPSILON_RI_SIGNALING_PATHWAY             78          15      0.74       0.02\n",
        "KEGG_FC_GAMMA_R_MEDIATED_PHAGOCYTOSIS            95          17      0.73       0.02\n",
        "BIOCARTA_MAPK_PATHWAY                            87          13      0.70       0.02"
       ],
       "metadata": {}
      }
     ],
     "input": [
      "vec = dx < -.2\n",
      "print vec.value_counts()\n",
      "mm = run_mgsa(vec)\n",
      "mm.sort('estimate', ascending=False).head(10)"
     ],
     "language": "python",
     "prompt_number": 64
    },
    {
     "cell_type": "code",
     "metadata": {},
     "outputs": [
      {
       "output_type": "display_data",
       "png": "[encoded data removed]",
       "text": [
        "<matplotlib.figure.Figure at 0x7f78691edf50>"
       ],
       "metadata": {}
      }
     ],
     "input": [
      "violin_plot_pandas(gene_sets['KEGG_LYSOSOME'], dx)"
     ],
     "language": "python",
     "prompt_number": 68
    },
    {
     "cell_type": "code",
     "metadata": {},
     "outputs": [
      {
       "output_type": "stream",
       "stream": "stdout",
       "text": [
        "False    18287\n",
        "True      1784\n",
        "dtype: int64\n"
       ]
      },
      {
       "html": [
        "<div style=\"max-height:1000px;max-width:1500px;overflow:auto;\">\n",
        "<table border=\"1\" class=\"dataframe\">\n",
        "  <thead>\n",
        "    <tr style=\"text-align: right;\">\n",
        "      <th></th>\n",
        "      <th>inPopulation</th>\n",
        "      <th>inStudySet</th>\n",
        "      <th>estimate</th>\n",
        "      <th>std.error</th>\n",
        "    </tr>\n",
        "  </thead>\n",
        "  <tbody>\n",
        "    <tr>\n",
        "      <th>KEGG_SPLICEOSOME</th>\n",
        "      <td> 126</td>\n",
        "      <td> 36</td>\n",
        "      <td> 1.00</td>\n",
        "      <td> 4.00e-04</td>\n",
        "    </tr>\n",
        "    <tr>\n",
        "      <th>REACTOME_SNRNP_ASSEMBLY</th>\n",
        "      <td>  50</td>\n",
        "      <td> 16</td>\n",
        "      <td> 0.51</td>\n",
        "      <td> 1.38e-02</td>\n",
        "    </tr>\n",
        "    <tr>\n",
        "      <th>REACTOME_CELL_CYCLE_MITOTIC</th>\n",
        "      <td> 306</td>\n",
        "      <td> 54</td>\n",
        "      <td> 0.50</td>\n",
        "      <td> 5.34e-02</td>\n",
        "    </tr>\n",
        "    <tr>\n",
        "      <th>REACTOME_TRANSCRIPTION</th>\n",
        "      <td> 194</td>\n",
        "      <td> 42</td>\n",
        "      <td> 0.47</td>\n",
        "      <td> 3.68e-02</td>\n",
        "    </tr>\n",
        "    <tr>\n",
        "      <th>REACTOME_CD28_CO_STIMULATION</th>\n",
        "      <td>  29</td>\n",
        "      <td>  8</td>\n",
        "      <td> 0.41</td>\n",
        "      <td> 1.02e-02</td>\n",
        "    </tr>\n",
        "    <tr>\n",
        "      <th>REACTOME_FORMATION_AND_MATURATION_OF_MRNA_TRANSCRIPT</th>\n",
        "      <td> 152</td>\n",
        "      <td> 40</td>\n",
        "      <td> 0.40</td>\n",
        "      <td> 4.09e-02</td>\n",
        "    </tr>\n",
        "    <tr>\n",
        "      <th>REACTOME_DNA_REPAIR</th>\n",
        "      <td> 102</td>\n",
        "      <td> 22</td>\n",
        "      <td> 0.37</td>\n",
        "      <td> 2.83e-02</td>\n",
        "    </tr>\n",
        "    <tr>\n",
        "      <th>REACTOME_ASSOCIATION_OF_TRIC_CCT_WITH_TARGET_PROTEINS_DURING_BIOSYNTHESIS</th>\n",
        "      <td>  29</td>\n",
        "      <td>  7</td>\n",
        "      <td> 0.35</td>\n",
        "      <td> 8.50e-03</td>\n",
        "    </tr>\n",
        "    <tr>\n",
        "      <th>REACTOME_CENTROSOME_MATURATION</th>\n",
        "      <td>  72</td>\n",
        "      <td> 16</td>\n",
        "      <td> 0.26</td>\n",
        "      <td> 2.18e-02</td>\n",
        "    </tr>\n",
        "    <tr>\n",
        "      <th>REACTOME_PURINE_RIBONUCLEOSIDE_MONOPHOSPHATE_BIOSYNTHESIS</th>\n",
        "      <td>  11</td>\n",
        "      <td>  4</td>\n",
        "      <td> 0.26</td>\n",
        "      <td> 2.51e-03</td>\n",
        "    </tr>\n",
        "  </tbody>\n",
        "</table>\n",
        "</div>"
       ],
       "text": [
        "                                                                           inPopulation  inStudySet  estimate  std.error\n",
        "KEGG_SPLICEOSOME                                                                    126          36      1.00   4.00e-04\n",
        "REACTOME_SNRNP_ASSEMBLY                                                              50          16      0.51   1.38e-02\n",
        "REACTOME_CELL_CYCLE_MITOTIC                                                         306          54      0.50   5.34e-02\n",
        "REACTOME_TRANSCRIPTION                                                              194          42      0.47   3.68e-02\n",
        "REACTOME_CD28_CO_STIMULATION                                                         29           8      0.41   1.02e-02\n",
        "REACTOME_FORMATION_AND_MATURATION_OF_MRNA_TRANSCRIPT                                152          40      0.40   4.09e-02\n",
        "REACTOME_DNA_REPAIR                                                                 102          22      0.37   2.83e-02\n",
        "REACTOME_ASSOCIATION_OF_TRIC_CCT_WITH_TARGET_PROTEINS_DURING_BIOSYNTHESIS            29           7      0.35   8.50e-03\n",
        "REACTOME_CENTROSOME_MATURATION                                                       72          16      0.26   2.18e-02\n",
        "REACTOME_PURINE_RIBONUCLEOSIDE_MONOPHOSPHATE_BIOSYNTHESIS                            11           4      0.26   2.51e-03"
       ],
       "metadata": {}
      }
     ],
     "input": [
      "vec = dx > .2\n",
      "print vec.value_counts()\n",
      "mm = run_mgsa(vec)\n",
      "mm.sort('estimate', ascending=False).head(10)"
     ],
     "language": "python",
     "prompt_number": 65
    },
    {
     "cell_type": "markdown",
     "metadata": {},
     "source": [
      "Seems to be supported by literature [link](http://www.ncbi.nlm.nih.gov/pubmed/22349816)."
     ]
    },
    {
     "cell_type": "code",
     "metadata": {},
     "outputs": [
      {
       "output_type": "display_data",
       "png": "[encoded data removed]",
       "text": [
        "<matplotlib.figure.Figure at 0x7f78693b9e10>"
       ],
       "metadata": {}
      }
     ],
     "input": [
      "violin_plot_pandas(gene_sets['KEGG_SPLICEOSOME'], dx)"
     ],
     "language": "python",
     "prompt_number": 70
    },
    {
     "cell_type": "code",
     "metadata": {},
     "outputs": [
      {
       "output_type": "pyout",
       "prompt_number": 76,
       "text": [
        "TRA2B      0.43\n",
        "ISY1       0.41\n",
        "SF3A3      0.38\n",
        "SNRNP40    0.37\n",
        "PPIL1      0.35\n",
        "NCBP1      0.34\n",
        "CDC5L      0.33\n",
        "HNRNPM     0.32\n",
        "SFRS13A    0.31\n",
        "SF3B2      0.29\n",
        "Name: frac, dtype: float64"
       ],
       "metadata": {}
      }
     ],
     "input": [
      "dx.ix[ti(gene_sets['KEGG_SPLICEOSOME']>0)].order()[::-1].head(10)"
     ],
     "language": "python",
     "prompt_number": 76
    },
    {
     "cell_type": "code",
     "metadata": {},
     "outputs": [
      {
       "output_type": "pyout",
       "prompt_number": 261,
       "text": [
        "<module 'api.helpers' from 'api/helpers.py'>"
       ],
       "metadata": {}
      }
     ],
     "input": [
      "import api.helpers as h\n",
      "reload(h)"
     ],
     "language": "python",
     "prompt_number": 261
    },
    {
     "cell_type": "code",
     "metadata": {},
     "outputs": [],
     "input": [
      "from api.helpers import dx_group"
     ],
     "language": "python",
     "prompt_number": 262
    },
    {
     "cell_type": "code",
     "metadata": {},
     "outputs": [],
     "input": [
      "ttn_dx = dx_group(mut.ix['ATRX']>0, tn_inf_c, fc=1.25)"
     ],
     "language": "python",
     "prompt_number": 263
    },
    {
     "cell_type": "code",
     "metadata": {},
     "outputs": [
      {
       "output_type": "pyout",
       "prompt_number": 264,
       "text": [
        "(23, 2)"
       ],
       "metadata": {}
      }
     ],
     "input": [
      "gg = ti((ttn_dx.hit.binom.frac - ttn_dx.miss.binom.frac).dropna().abs() > .3)\n",
      "gg = gg.intersection(ti(ttn_dx.miss.binom.num_dx > 100))\n",
      "\n",
      "g2 = ti((ttn_dx.hit.binom.frac - ttn_dx.miss.binom.frac).dropna().abs() > .45)\n",
      "g2 = g2.intersection(ti(ttn_dx.miss.binom.num_dx > 100))\n",
      "len(gg), len(g2)"
     ],
     "language": "python",
     "prompt_number": 264
    },
    {
     "cell_type": "code",
     "metadata": {},
     "outputs": [
      {
       "output_type": "display_data",
       "png": "[encoded data removed]",
       "text": [
        "<matplotlib.figure.Figure at 0x7f7846f71450>"
       ],
       "metadata": {}
      }
     ],
     "input": [
      "ax = None\n",
      "s1, s2 = ttn_dx.hit.binom.frac, ttn_dx.miss.binom.frac\n",
      "fig, ax = init_ax(ax, figsize=(5, 5))\n",
      "ax.hexbin(*match_series(s1,s2), gridsize=80, bins='log', cmap=plt.cm.Greys)\n",
      "ax.annotate('rho = {0:.2}'.format(Tests.spearman_pandas(s1, s2)['rho']), (.95, .02),\n",
      "             xycoords='axes fraction', ha='right', va='bottom', size=14)\n",
      "\n",
      "series_scatter(s1.ix[gg], s2.ix[gg], ax=ax, s=10, alpha=.3,\n",
      "               color=colors[4], ann=None)\n",
      "\n",
      "series_scatter(s1.ix[g2], s2.ix[g2], ax=ax, s=10, alpha=1,\n",
      "               color=colors[0], ann=None)\n",
      "series_scatter(s1.ix[['MCM8']], s2.ix[['MCM8']], ax=ax, s=10, alpha=1,\n",
      "               color=colors[1], ann=None)\n",
      "\n",
      "prettify_ax(ax)\n",
      "ax.set_ybound(-.05,1.05)\n",
      "ax.set_xbound(-.05,1.05)\n",
      "ax.set_xlabel('TP53 Mutant')\n",
      "ax.set_ylabel('TP53 WT');"
     ],
     "language": "python",
     "prompt_number": 266
    },
    {
     "cell_type": "markdown",
     "metadata": {},
     "source": [
      "this is a test and only a test"
     ]
    },
    {
     "cell_type": "code",
     "metadata": {},
     "outputs": [],
     "input": [
      ""
     ],
     "language": "python"
    }
   ]
  }
 ],
 "cells": [],
 "metadata": {
  "kernelspec": {
   "codemirror_mode": {
    "name": "ipython",
    "version": 2.0
   },
   "display_name": "IPython (Python 2)",
   "language": "python",
   "name": "python2"
  },
  "name": "",
  "signature": "sha256:a125b0538000379e57194f1ce6bee3a553816b16d1dfbbb8dfe1181f99cf8995"
 },
 "nbformat": 3,
 "nbformat_minor": 0
}