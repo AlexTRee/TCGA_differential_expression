{
 "cells": [
  {
   "cell_type": "code",
   "execution_count": 1,
   "metadata": {
    "collapsed": false
   },
   "outputs": [
    {
     "data": {
      "text/html": [
       "importing IPython notebook from <a href='./Imports.ipynb' target='_blank'>Imports</a>"
      ]
     },
     "metadata": {},
     "output_type": "display_data"
    }
   ],
   "source": [
    "import NotebookImport\n",
    "from Imports import *"
   ]
  },
  {
   "cell_type": "code",
   "execution_count": 2,
   "metadata": {
    "collapsed": true
   },
   "outputs": [],
   "source": [
    "tab = binomial_test_screen(matched_tn, fc=1.)"
   ]
  },
  {
   "cell_type": "code",
   "execution_count": 3,
   "metadata": {
    "collapsed": false
   },
   "outputs": [
    {
     "data": {
      "image/png": "[encoded data removed]",
      "text/plain": [
       "<matplotlib.figure.Figure at 0x7fcccdda41d0>"
      ]
     },
     "metadata": {},
     "output_type": "display_data"
    }
   ],
   "source": [
    "fig, ax = subplots(figsize=(6,4))\n",
    "tab.frac.hist(ax=ax)\n",
    "ax.set_xlabel('Fraction of Patients Induced')\n",
    "ax.set_ylabel('# of Genes')\n",
    "prettify_ax(ax)"
   ]
  },
  {
   "cell_type": "code",
   "execution_count": 4,
   "metadata": {
    "collapsed": false
   },
   "outputs": [
    {
     "data": {
      "text/html": [
       "<div style=\"max-height:1000px;max-width:1500px;overflow:auto;\">\n",
       "<table border=\"1\" class=\"dataframe\">\n",
       "  <thead>\n",
       "    <tr style=\"text-align: right;\">\n",
       "      <th></th>\n",
       "      <th>num_ox</th>\n",
       "      <th>num_dx</th>\n",
       "      <th>frac</th>\n",
       "      <th>p</th>\n",
       "    </tr>\n",
       "  </thead>\n",
       "  <tbody>\n",
       "    <tr>\n",
       "      <th>ADH1B</th>\n",
       "      <td>  29</td>\n",
       "      <td> 669</td>\n",
       "      <td> 0.04</td>\n",
       "      <td> 4.52e-151</td>\n",
       "    </tr>\n",
       "    <tr>\n",
       "      <th>IQGAP3</th>\n",
       "      <td> 636</td>\n",
       "      <td> 669</td>\n",
       "      <td> 0.95</td>\n",
       "      <td> 7.71e-146</td>\n",
       "    </tr>\n",
       "    <tr>\n",
       "      <th>FOXM1</th>\n",
       "      <td> 635</td>\n",
       "      <td> 669</td>\n",
       "      <td> 0.95</td>\n",
       "      <td> 1.44e-144</td>\n",
       "    </tr>\n",
       "    <tr>\n",
       "      <th>KIF4A</th>\n",
       "      <td> 635</td>\n",
       "      <td> 669</td>\n",
       "      <td> 0.95</td>\n",
       "      <td> 1.44e-144</td>\n",
       "    </tr>\n",
       "    <tr>\n",
       "      <th>GSTM5</th>\n",
       "      <td>  36</td>\n",
       "      <td> 669</td>\n",
       "      <td> 0.05</td>\n",
       "      <td> 4.63e-142</td>\n",
       "    </tr>\n",
       "    <tr>\n",
       "      <th>PKMYT1</th>\n",
       "      <td> 633</td>\n",
       "      <td> 669</td>\n",
       "      <td> 0.95</td>\n",
       "      <td> 4.63e-142</td>\n",
       "    </tr>\n",
       "    <tr>\n",
       "      <th>TROAP</th>\n",
       "      <td> 631</td>\n",
       "      <td> 669</td>\n",
       "      <td> 0.94</td>\n",
       "      <td> 1.32e-139</td>\n",
       "    </tr>\n",
       "    <tr>\n",
       "      <th>UBE2C</th>\n",
       "      <td> 631</td>\n",
       "      <td> 669</td>\n",
       "      <td> 0.94</td>\n",
       "      <td> 1.32e-139</td>\n",
       "    </tr>\n",
       "    <tr>\n",
       "      <th>ADH1A</th>\n",
       "      <td>  38</td>\n",
       "      <td> 665</td>\n",
       "      <td> 0.06</td>\n",
       "      <td> 1.67e-138</td>\n",
       "    </tr>\n",
       "    <tr>\n",
       "      <th>TPX2</th>\n",
       "      <td> 628</td>\n",
       "      <td> 669</td>\n",
       "      <td> 0.94</td>\n",
       "      <td> 5.20e-136</td>\n",
       "    </tr>\n",
       "  </tbody>\n",
       "</table>\n",
       "</div>"
      ],
      "text/plain": [
       "        num_ox  num_dx  frac          p\n",
       "ADH1B       29     669  0.04  4.52e-151\n",
       "IQGAP3     636     669  0.95  7.71e-146\n",
       "FOXM1      635     669  0.95  1.44e-144\n",
       "KIF4A      635     669  0.95  1.44e-144\n",
       "GSTM5       36     669  0.05  4.63e-142\n",
       "PKMYT1     633     669  0.95  4.63e-142\n",
       "TROAP      631     669  0.94  1.32e-139\n",
       "UBE2C      631     669  0.94  1.32e-139\n",
       "ADH1A       38     665  0.06  1.67e-138\n",
       "TPX2       628     669  0.94  5.20e-136"
      ]
     },
     "execution_count": 4,
     "metadata": {},
     "output_type": "execute_result"
    }
   ],
   "source": [
    "tab.sort('p').head(10)"
   ]
  },
  {
   "cell_type": "markdown",
   "metadata": {},
   "source": [
    "### Infer Missing Values with KNN"
   ]
  },
  {
   "cell_type": "code",
   "execution_count": 4,
   "metadata": {
    "collapsed": true
   },
   "outputs": [],
   "source": [
    "cancers = codes.ix[matched_tn.columns.get_level_values(0)].unique()\n",
    "pts = matched_tn.columns.get_level_values(0)\n",
    "cancers_to_use = ti(codes.ix[pts].value_counts() > 15)"
   ]
  },
  {
   "cell_type": "code",
   "execution_count": 5,
   "metadata": {
    "collapsed": true
   },
   "outputs": [],
   "source": [
    "df_inf = {c: infer_normal_knn(rna_df.ix[:, ti(codes == c)], r_curtoff=.3, k=5)\n",
    "          for c in cancers_to_use}\n",
    "tn_inf_c = pd.concat(df_inf.values(), axis=1)"
   ]
  },
  {
   "cell_type": "code",
   "execution_count": 6,
   "metadata": {
    "collapsed": true
   },
   "outputs": [],
   "source": [
    "tab_inf = binomial_test_screen(tn_inf_c, fc=1.5)"
   ]
  },
  {
   "cell_type": "code",
   "execution_count": 7,
   "metadata": {
    "collapsed": false
   },
   "outputs": [
    {
     "data": {
      "text/html": [
       "<div style=\"max-height:1000px;max-width:1500px;overflow:auto;\">\n",
       "<table border=\"1\" class=\"dataframe\">\n",
       "  <thead>\n",
       "    <tr style=\"text-align: right;\">\n",
       "      <th></th>\n",
       "      <th>num_ox</th>\n",
       "      <th>num_dx</th>\n",
       "      <th>frac</th>\n",
       "      <th>p</th>\n",
       "    </tr>\n",
       "  </thead>\n",
       "  <tbody>\n",
       "    <tr>\n",
       "      <th>ASF1B</th>\n",
       "      <td> 5300</td>\n",
       "      <td> 5346</td>\n",
       "      <td> 0.99</td>\n",
       "      <td>  0.00e+00</td>\n",
       "    </tr>\n",
       "    <tr>\n",
       "      <th>TPX2</th>\n",
       "      <td> 5437</td>\n",
       "      <td> 5484</td>\n",
       "      <td> 0.99</td>\n",
       "      <td>  0.00e+00</td>\n",
       "    </tr>\n",
       "    <tr>\n",
       "      <th>MOGS</th>\n",
       "      <td> 3152</td>\n",
       "      <td> 3178</td>\n",
       "      <td> 0.99</td>\n",
       "      <td>  0.00e+00</td>\n",
       "    </tr>\n",
       "    <tr>\n",
       "      <th>UBE2C</th>\n",
       "      <td> 5537</td>\n",
       "      <td> 5582</td>\n",
       "      <td> 0.99</td>\n",
       "      <td>  0.00e+00</td>\n",
       "    </tr>\n",
       "    <tr>\n",
       "      <th>IQGAP3</th>\n",
       "      <td> 5527</td>\n",
       "      <td> 5571</td>\n",
       "      <td> 0.99</td>\n",
       "      <td>  0.00e+00</td>\n",
       "    </tr>\n",
       "    <tr>\n",
       "      <th>UHRF1</th>\n",
       "      <td> 5495</td>\n",
       "      <td> 5538</td>\n",
       "      <td> 0.99</td>\n",
       "      <td>  0.00e+00</td>\n",
       "    </tr>\n",
       "    <tr>\n",
       "      <th>FOXM1</th>\n",
       "      <td> 5344</td>\n",
       "      <td> 5385</td>\n",
       "      <td> 0.99</td>\n",
       "      <td>  0.00e+00</td>\n",
       "    </tr>\n",
       "    <tr>\n",
       "      <th>PKMYT1</th>\n",
       "      <td> 5544</td>\n",
       "      <td> 5585</td>\n",
       "      <td> 0.99</td>\n",
       "      <td> 4.94e-324</td>\n",
       "    </tr>\n",
       "    <tr>\n",
       "      <th>SNRPB</th>\n",
       "      <td> 3824</td>\n",
       "      <td> 3850</td>\n",
       "      <td> 0.99</td>\n",
       "      <td>  0.00e+00</td>\n",
       "    </tr>\n",
       "    <tr>\n",
       "      <th>C20orf20</th>\n",
       "      <td> 3743</td>\n",
       "      <td> 3751</td>\n",
       "      <td> 1.00</td>\n",
       "      <td>  0.00e+00</td>\n",
       "    </tr>\n",
       "  </tbody>\n",
       "</table>\n",
       "</div>"
      ],
      "text/plain": [
       "          num_ox  num_dx  frac          p\n",
       "ASF1B       5300    5346  0.99   0.00e+00\n",
       "TPX2        5437    5484  0.99   0.00e+00\n",
       "MOGS        3152    3178  0.99   0.00e+00\n",
       "UBE2C       5537    5582  0.99   0.00e+00\n",
       "IQGAP3      5527    5571  0.99   0.00e+00\n",
       "UHRF1       5495    5538  0.99   0.00e+00\n",
       "FOXM1       5344    5385  0.99   0.00e+00\n",
       "PKMYT1      5544    5585  0.99  4.94e-324\n",
       "SNRPB       3824    3850  0.99   0.00e+00\n",
       "C20orf20    3743    3751  1.00   0.00e+00"
      ]
     },
     "execution_count": 7,
     "metadata": {},
     "output_type": "execute_result"
    }
   ],
   "source": [
    "tab_inf[tab_inf.num_dx > 1000].sort('frac').tail(10)"
   ]
  },
  {
   "cell_type": "markdown",
   "metadata": {},
   "source": [
    "### Gene Set Enrichment"
   ]
  },
  {
   "cell_type": "code",
   "execution_count": 5,
   "metadata": {
    "collapsed": false
   },
   "outputs": [
    {
     "ename": "NameError",
     "evalue": "name 'tab_inf' is not defined",
     "output_type": "error",
     "traceback": [
      "\u001b[1;31m---------------------------------------------------------------------------\u001b[0m",
      "\u001b[1;31mNameError\u001b[0m                                 Traceback (most recent call last)",
      "\u001b[1;32m<ipython-input-5-a82d6099649b>\u001b[0m in \u001b[0;36m<module>\u001b[1;34m()\u001b[0m\n\u001b[1;32m----> 1\u001b[1;33m \u001b[0mvec\u001b[0m \u001b[1;33m=\u001b[0m \u001b[0mtab_inf\u001b[0m\u001b[1;33m[\u001b[0m\u001b[0mtab_inf\u001b[0m\u001b[1;33m.\u001b[0m\u001b[0mnum_dx\u001b[0m \u001b[1;33m>\u001b[0m \u001b[1;36m1000\u001b[0m\u001b[1;33m]\u001b[0m\u001b[1;33m.\u001b[0m\u001b[0mfrac\u001b[0m\u001b[1;33m.\u001b[0m\u001b[0mix\u001b[0m\u001b[1;33m[\u001b[0m\u001b[0mgene_sets\u001b[0m\u001b[1;33m.\u001b[0m\u001b[0mindex\u001b[0m\u001b[1;33m]\u001b[0m \u001b[1;33m>\u001b[0m \u001b[1;36m.85\u001b[0m\u001b[1;33m\u001b[0m\u001b[0m\n\u001b[0m\u001b[0;32m      2\u001b[0m \u001b[1;32mprint\u001b[0m \u001b[0mvec\u001b[0m\u001b[1;33m.\u001b[0m\u001b[0mvalue_counts\u001b[0m\u001b[1;33m(\u001b[0m\u001b[1;33m)\u001b[0m\u001b[1;33m\u001b[0m\u001b[0m\n\u001b[0;32m      3\u001b[0m \u001b[0mmm\u001b[0m \u001b[1;33m=\u001b[0m \u001b[0mrun_mgsa\u001b[0m\u001b[1;33m(\u001b[0m\u001b[0mvec\u001b[0m\u001b[1;33m)\u001b[0m\u001b[1;33m\u001b[0m\u001b[0m\n\u001b[0;32m      4\u001b[0m \u001b[0mmm\u001b[0m\u001b[1;33m.\u001b[0m\u001b[0msort\u001b[0m\u001b[1;33m(\u001b[0m\u001b[1;34m'estimate'\u001b[0m\u001b[1;33m,\u001b[0m \u001b[0mascending\u001b[0m\u001b[1;33m=\u001b[0m\u001b[0mFalse\u001b[0m\u001b[1;33m)\u001b[0m\u001b[1;33m.\u001b[0m\u001b[0mhead\u001b[0m\u001b[1;33m(\u001b[0m\u001b[1;36m10\u001b[0m\u001b[1;33m)\u001b[0m\u001b[1;33m\u001b[0m\u001b[0m\n",
      "\u001b[1;31mNameError\u001b[0m: name 'tab_inf' is not defined"
     ]
    }
   ],
   "source": [
    "vec = tab_inf[tab_inf.num_dx > 1000].frac.ix[gene_sets.index] > .85\n",
    "print vec.value_counts()\n",
    "mm = run_mgsa(vec)\n",
    "mm.sort('estimate', ascending=False).head(10)"
   ]
  },
  {
   "cell_type": "code",
   "execution_count": 28,
   "metadata": {
    "collapsed": false
   },
   "outputs": [
    {
     "name": "stdout",
     "output_type": "stream",
     "text": [
      "False    20308\n",
      "True       194\n",
      "dtype: int64\n"
     ]
    }
   ],
   "source": [
    "vec = tab[tab.num_dx > 100].frac.ix[gene_sets.index] > .85\n",
    "print vec.value_counts()\n",
    "mm2 = run_mgsa(vec)"
   ]
  },
  {
   "cell_type": "code",
   "execution_count": 9,
   "metadata": {
    "collapsed": false
   },
   "outputs": [
    {
     "name": "stdout",
     "output_type": "stream",
     "text": [
      "False    18847\n",
      "True      1655\n",
      "dtype: int64\n"
     ]
    },
    {
     "data": {
      "text/html": [
       "<div style=\"max-height:1000px;max-width:1500px;overflow:auto;\">\n",
       "<table border=\"1\" class=\"dataframe\">\n",
       "  <thead>\n",
       "    <tr style=\"text-align: right;\">\n",
       "      <th></th>\n",
       "      <th>inPopulation</th>\n",
       "      <th>inStudySet</th>\n",
       "      <th>estimate</th>\n",
       "      <th>std.error</th>\n",
       "    </tr>\n",
       "  </thead>\n",
       "  <tbody>\n",
       "    <tr>\n",
       "      <th>KEGG_PROPANOATE_METABOLISM</th>\n",
       "      <td> 32</td>\n",
       "      <td> 15</td>\n",
       "      <td> 0.92</td>\n",
       "      <td> 0.02</td>\n",
       "    </tr>\n",
       "    <tr>\n",
       "      <th>REACTOME_SIGNALING_BY_BMP</th>\n",
       "      <td> 23</td>\n",
       "      <td>  8</td>\n",
       "      <td> 0.92</td>\n",
       "      <td> 0.01</td>\n",
       "    </tr>\n",
       "    <tr>\n",
       "      <th>BIOCARTA_RHO_PATHWAY</th>\n",
       "      <td> 32</td>\n",
       "      <td> 11</td>\n",
       "      <td> 0.78</td>\n",
       "      <td> 0.02</td>\n",
       "    </tr>\n",
       "    <tr>\n",
       "      <th>REACTOME_NUCLEAR_RECEPTOR_TRANSCRIPTION_PATHWAY</th>\n",
       "      <td> 50</td>\n",
       "      <td> 12</td>\n",
       "      <td> 0.61</td>\n",
       "      <td> 0.01</td>\n",
       "    </tr>\n",
       "    <tr>\n",
       "      <th>BIOCARTA_MET_PATHWAY</th>\n",
       "      <td> 37</td>\n",
       "      <td> 10</td>\n",
       "      <td> 0.61</td>\n",
       "      <td> 0.02</td>\n",
       "    </tr>\n",
       "    <tr>\n",
       "      <th>KEGG_VALINE_LEUCINE_AND_ISOLEUCINE_DEGRADATION</th>\n",
       "      <td> 44</td>\n",
       "      <td> 16</td>\n",
       "      <td> 0.51</td>\n",
       "      <td> 0.01</td>\n",
       "    </tr>\n",
       "    <tr>\n",
       "      <th>BIOCARTA_PGC1A_PATHWAY</th>\n",
       "      <td> 23</td>\n",
       "      <td>  9</td>\n",
       "      <td> 0.47</td>\n",
       "      <td> 0.01</td>\n",
       "    </tr>\n",
       "    <tr>\n",
       "      <th>BIOCARTA_VIP_PATHWAY</th>\n",
       "      <td> 26</td>\n",
       "      <td> 11</td>\n",
       "      <td> 0.45</td>\n",
       "      <td> 0.01</td>\n",
       "    </tr>\n",
       "    <tr>\n",
       "      <th>KEGG_FATTY_ACID_METABOLISM</th>\n",
       "      <td> 42</td>\n",
       "      <td> 14</td>\n",
       "      <td> 0.40</td>\n",
       "      <td> 0.01</td>\n",
       "    </tr>\n",
       "    <tr>\n",
       "      <th>BIOCARTA_LONGEVITY_PATHWAY</th>\n",
       "      <td> 15</td>\n",
       "      <td>  5</td>\n",
       "      <td> 0.38</td>\n",
       "      <td> 0.01</td>\n",
       "    </tr>\n",
       "  </tbody>\n",
       "</table>\n",
       "</div>"
      ],
      "text/plain": [
       "                                                 inPopulation  inStudySet  estimate  std.error\n",
       "KEGG_PROPANOATE_METABOLISM                                 32          15      0.92       0.02\n",
       "REACTOME_SIGNALING_BY_BMP                                  23           8      0.92       0.01\n",
       "BIOCARTA_RHO_PATHWAY                                       32          11      0.78       0.02\n",
       "REACTOME_NUCLEAR_RECEPTOR_TRANSCRIPTION_PATHWAY            50          12      0.61       0.01\n",
       "BIOCARTA_MET_PATHWAY                                       37          10      0.61       0.02\n",
       "KEGG_VALINE_LEUCINE_AND_ISOLEUCINE_DEGRADATION             44          16      0.51       0.01\n",
       "BIOCARTA_PGC1A_PATHWAY                                     23           9      0.47       0.01\n",
       "BIOCARTA_VIP_PATHWAY                                       26          11      0.45       0.01\n",
       "KEGG_FATTY_ACID_METABOLISM                                 42          14      0.40       0.01\n",
       "BIOCARTA_LONGEVITY_PATHWAY                                 15           5      0.38       0.01"
      ]
     },
     "execution_count": 9,
     "metadata": {},
     "output_type": "execute_result"
    }
   ],
   "source": [
    "vec = tab_inf[tab_inf.num_dx > 1000].frac.ix[gene_sets.index] < .15\n",
    "print vec.value_counts()\n",
    "mm = run_mgsa(vec)\n",
    "mm.sort('estimate', ascending=False).head(10)"
   ]
  },
  {
   "cell_type": "code",
   "execution_count": 85,
   "metadata": {
    "collapsed": true
   },
   "outputs": [],
   "source": [
    "tab_lusc = binomial_test_screen(matched_tn.ix[:, ti(codes=='BRCA')], fc=1.5)"
   ]
  },
  {
   "cell_type": "code",
   "execution_count": 86,
   "metadata": {
    "collapsed": false
   },
   "outputs": [
    {
     "data": {
      "text/html": [
       "<div style=\"max-height:1000px;max-width:1500px;overflow:auto;\">\n",
       "<table border=\"1\" class=\"dataframe\">\n",
       "  <thead>\n",
       "    <tr style=\"text-align: right;\">\n",
       "      <th></th>\n",
       "      <th>num_ox</th>\n",
       "      <th>num_dx</th>\n",
       "      <th>frac</th>\n",
       "      <th>p</th>\n",
       "    </tr>\n",
       "  </thead>\n",
       "  <tbody>\n",
       "    <tr>\n",
       "      <th>COL10A1</th>\n",
       "      <td> 111</td>\n",
       "      <td> 111</td>\n",
       "      <td> 1</td>\n",
       "      <td> 7.70e-34</td>\n",
       "    </tr>\n",
       "    <tr>\n",
       "      <th>MMP11</th>\n",
       "      <td> 111</td>\n",
       "      <td> 111</td>\n",
       "      <td> 1</td>\n",
       "      <td> 7.70e-34</td>\n",
       "    </tr>\n",
       "    <tr>\n",
       "      <th>KIAA0101</th>\n",
       "      <td> 110</td>\n",
       "      <td> 110</td>\n",
       "      <td> 1</td>\n",
       "      <td> 1.54e-33</td>\n",
       "    </tr>\n",
       "    <tr>\n",
       "      <th>LRRC3B</th>\n",
       "      <td>   0</td>\n",
       "      <td> 110</td>\n",
       "      <td> 0</td>\n",
       "      <td> 1.54e-33</td>\n",
       "    </tr>\n",
       "    <tr>\n",
       "      <th>HLF</th>\n",
       "      <td>   0</td>\n",
       "      <td> 110</td>\n",
       "      <td> 0</td>\n",
       "      <td> 1.54e-33</td>\n",
       "    </tr>\n",
       "  </tbody>\n",
       "</table>\n",
       "</div>"
      ],
      "text/plain": [
       "          num_ox  num_dx  frac         p\n",
       "COL10A1      111     111     1  7.70e-34\n",
       "MMP11        111     111     1  7.70e-34\n",
       "KIAA0101     110     110     1  1.54e-33\n",
       "LRRC3B         0     110     0  1.54e-33\n",
       "HLF            0     110     0  1.54e-33"
      ]
     },
     "execution_count": 86,
     "metadata": {},
     "output_type": "execute_result"
    }
   ],
   "source": [
    "tab_lusc.sort('p').head()"
   ]
  },
  {
   "cell_type": "code",
   "execution_count": 87,
   "metadata": {
    "collapsed": false
   },
   "outputs": [
    {
     "name": "stdout",
     "output_type": "stream",
     "text": [
      "False    17494\n",
      "True      3008\n",
      "dtype: int64\n"
     ]
    },
    {
     "data": {
      "text/html": [
       "<div style=\"max-height:1000px;max-width:1500px;overflow:auto;\">\n",
       "<table border=\"1\" class=\"dataframe\">\n",
       "  <thead>\n",
       "    <tr style=\"text-align: right;\">\n",
       "      <th></th>\n",
       "      <th>inPopulation</th>\n",
       "      <th>inStudySet</th>\n",
       "      <th>estimate</th>\n",
       "      <th>std.error</th>\n",
       "    </tr>\n",
       "  </thead>\n",
       "  <tbody>\n",
       "    <tr>\n",
       "      <th>KEGG_N_GLYCAN_BIOSYNTHESIS</th>\n",
       "      <td>  46</td>\n",
       "      <td> 22</td>\n",
       "      <td> 1.00</td>\n",
       "      <td> 0.00</td>\n",
       "    </tr>\n",
       "    <tr>\n",
       "      <th>BIOCARTA_RANMS_PATHWAY</th>\n",
       "      <td>  10</td>\n",
       "      <td>  9</td>\n",
       "      <td> 0.98</td>\n",
       "      <td> 0.00</td>\n",
       "    </tr>\n",
       "    <tr>\n",
       "      <th>REACTOME_RNA_POLYMERASE_I_PROMOTER_OPENING</th>\n",
       "      <td>  56</td>\n",
       "      <td> 35</td>\n",
       "      <td> 0.97</td>\n",
       "      <td> 0.01</td>\n",
       "    </tr>\n",
       "    <tr>\n",
       "      <th>REACTOME_TRNA_AMINOACYLATION</th>\n",
       "      <td>  40</td>\n",
       "      <td> 21</td>\n",
       "      <td> 0.96</td>\n",
       "      <td> 0.00</td>\n",
       "    </tr>\n",
       "    <tr>\n",
       "      <th>REACTOME_MITOTIC_M_M_G1_PHASES</th>\n",
       "      <td> 157</td>\n",
       "      <td> 99</td>\n",
       "      <td> 0.96</td>\n",
       "      <td> 0.01</td>\n",
       "    </tr>\n",
       "    <tr>\n",
       "      <th>KEGG_PROTEIN_EXPORT</th>\n",
       "      <td>  23</td>\n",
       "      <td> 11</td>\n",
       "      <td> 0.95</td>\n",
       "      <td> 0.00</td>\n",
       "    </tr>\n",
       "    <tr>\n",
       "      <th>BIOCARTA_EIF2_PATHWAY</th>\n",
       "      <td>  11</td>\n",
       "      <td>  7</td>\n",
       "      <td> 0.93</td>\n",
       "      <td> 0.01</td>\n",
       "    </tr>\n",
       "    <tr>\n",
       "      <th>BIOCARTA_RAB_PATHWAY</th>\n",
       "      <td>  12</td>\n",
       "      <td>  7</td>\n",
       "      <td> 0.92</td>\n",
       "      <td> 0.01</td>\n",
       "    </tr>\n",
       "    <tr>\n",
       "      <th>REACTOME_FANCONI_ANEMIA_PATHWAY</th>\n",
       "      <td>  15</td>\n",
       "      <td>  9</td>\n",
       "      <td> 0.88</td>\n",
       "      <td> 0.01</td>\n",
       "    </tr>\n",
       "    <tr>\n",
       "      <th>KEGG_HOMOLOGOUS_RECOMBINATION</th>\n",
       "      <td>  28</td>\n",
       "      <td> 13</td>\n",
       "      <td> 0.79</td>\n",
       "      <td> 0.00</td>\n",
       "    </tr>\n",
       "  </tbody>\n",
       "</table>\n",
       "</div>"
      ],
      "text/plain": [
       "                                            inPopulation  inStudySet  estimate  std.error\n",
       "KEGG_N_GLYCAN_BIOSYNTHESIS                            46          22      1.00       0.00\n",
       "BIOCARTA_RANMS_PATHWAY                                10           9      0.98       0.00\n",
       "REACTOME_RNA_POLYMERASE_I_PROMOTER_OPENING            56          35      0.97       0.01\n",
       "REACTOME_TRNA_AMINOACYLATION                          40          21      0.96       0.00\n",
       "REACTOME_MITOTIC_M_M_G1_PHASES                       157          99      0.96       0.01\n",
       "KEGG_PROTEIN_EXPORT                                   23          11      0.95       0.00\n",
       "BIOCARTA_EIF2_PATHWAY                                 11           7      0.93       0.01\n",
       "BIOCARTA_RAB_PATHWAY                                  12           7      0.92       0.01\n",
       "REACTOME_FANCONI_ANEMIA_PATHWAY                       15           9      0.88       0.01\n",
       "KEGG_HOMOLOGOUS_RECOMBINATION                         28          13      0.79       0.00"
      ]
     },
     "execution_count": 87,
     "metadata": {},
     "output_type": "execute_result"
    }
   ],
   "source": [
    "vec = tab_lusc.frac.ix[gene_sets.index] > .85\n",
    "print vec.value_counts()\n",
    "mm_lusc = run_mgsa(vec)\n",
    "mm_lusc.sort('estimate', ascending=False).head(10)"
   ]
  },
  {
   "cell_type": "code",
   "execution_count": 77,
   "metadata": {
    "collapsed": true
   },
   "outputs": [],
   "source": [
    "tab_rest = binomial_test_screen(matched_tn.ix[:, ti(codes!='BRCA')], fc=1.5)"
   ]
  },
  {
   "cell_type": "code",
   "execution_count": 81,
   "metadata": {
    "collapsed": false
   },
   "outputs": [
    {
     "name": "stdout",
     "output_type": "stream",
     "text": [
      "False    19337\n",
      "True      1165\n",
      "dtype: int64\n"
     ]
    },
    {
     "data": {
      "text/html": [
       "<div style=\"max-height:1000px;max-width:1500px;overflow:auto;\">\n",
       "<table border=\"1\" class=\"dataframe\">\n",
       "  <thead>\n",
       "    <tr style=\"text-align: right;\">\n",
       "      <th></th>\n",
       "      <th>inPopulation</th>\n",
       "      <th>inStudySet</th>\n",
       "      <th>estimate</th>\n",
       "      <th>std.error</th>\n",
       "    </tr>\n",
       "  </thead>\n",
       "  <tbody>\n",
       "    <tr>\n",
       "      <th>REACTOME_CELL_CYCLE_MITOTIC</th>\n",
       "      <td> 306</td>\n",
       "      <td> 117</td>\n",
       "      <td> 1.00</td>\n",
       "      <td> 7.11e-04</td>\n",
       "    </tr>\n",
       "    <tr>\n",
       "      <th>KEGG_N_GLYCAN_BIOSYNTHESIS</th>\n",
       "      <td>  46</td>\n",
       "      <td>  12</td>\n",
       "      <td> 1.00</td>\n",
       "      <td> 8.25e-04</td>\n",
       "    </tr>\n",
       "    <tr>\n",
       "      <th>KEGG_HOMOLOGOUS_RECOMBINATION</th>\n",
       "      <td>  28</td>\n",
       "      <td>  10</td>\n",
       "      <td> 1.00</td>\n",
       "      <td> 7.09e-04</td>\n",
       "    </tr>\n",
       "    <tr>\n",
       "      <th>REACTOME_COPI_MEDIATED_TRANSPORT</th>\n",
       "      <td>  10</td>\n",
       "      <td>   6</td>\n",
       "      <td> 0.99</td>\n",
       "      <td> 3.13e-03</td>\n",
       "    </tr>\n",
       "    <tr>\n",
       "      <th>BIOCARTA_RANMS_PATHWAY</th>\n",
       "      <td>  10</td>\n",
       "      <td>   8</td>\n",
       "      <td> 0.99</td>\n",
       "      <td> 1.53e-03</td>\n",
       "    </tr>\n",
       "    <tr>\n",
       "      <th>REACTOME_EXTENSION_OF_TELOMERES</th>\n",
       "      <td>  28</td>\n",
       "      <td>  15</td>\n",
       "      <td> 0.97</td>\n",
       "      <td> 5.02e-03</td>\n",
       "    </tr>\n",
       "    <tr>\n",
       "      <th>REACTOME_FANCONI_ANEMIA_PATHWAY</th>\n",
       "      <td>  15</td>\n",
       "      <td>   7</td>\n",
       "      <td> 0.95</td>\n",
       "      <td> 1.85e-02</td>\n",
       "    </tr>\n",
       "    <tr>\n",
       "      <th>REACTOME_SEMA3A_PAK_DEPENDENT_AXON_REPULSION</th>\n",
       "      <td>  15</td>\n",
       "      <td>   5</td>\n",
       "      <td> 0.95</td>\n",
       "      <td> 9.08e-03</td>\n",
       "    </tr>\n",
       "    <tr>\n",
       "      <th>REACTOME_FORMATION_OF_TUBULIN_FOLDING_INTERMEDIATES_BY_CCT_TRIC</th>\n",
       "      <td>  22</td>\n",
       "      <td>   9</td>\n",
       "      <td> 0.86</td>\n",
       "      <td> 8.80e-03</td>\n",
       "    </tr>\n",
       "    <tr>\n",
       "      <th>BIOCARTA_GLYCOLYSIS_PATHWAY</th>\n",
       "      <td>  10</td>\n",
       "      <td>   4</td>\n",
       "      <td> 0.81</td>\n",
       "      <td> 2.10e-02</td>\n",
       "    </tr>\n",
       "  </tbody>\n",
       "</table>\n",
       "</div>"
      ],
      "text/plain": [
       "                                                                 inPopulation  inStudySet  estimate  std.error\n",
       "REACTOME_CELL_CYCLE_MITOTIC                                               306         117      1.00   7.11e-04\n",
       "KEGG_N_GLYCAN_BIOSYNTHESIS                                                 46          12      1.00   8.25e-04\n",
       "KEGG_HOMOLOGOUS_RECOMBINATION                                              28          10      1.00   7.09e-04\n",
       "REACTOME_COPI_MEDIATED_TRANSPORT                                           10           6      0.99   3.13e-03\n",
       "BIOCARTA_RANMS_PATHWAY                                                     10           8      0.99   1.53e-03\n",
       "REACTOME_EXTENSION_OF_TELOMERES                                            28          15      0.97   5.02e-03\n",
       "REACTOME_FANCONI_ANEMIA_PATHWAY                                            15           7      0.95   1.85e-02\n",
       "REACTOME_SEMA3A_PAK_DEPENDENT_AXON_REPULSION                               15           5      0.95   9.08e-03\n",
       "REACTOME_FORMATION_OF_TUBULIN_FOLDING_INTERMEDIATES_BY_CCT_TRIC            22           9      0.86   8.80e-03\n",
       "BIOCARTA_GLYCOLYSIS_PATHWAY                                                10           4      0.81   2.10e-02"
      ]
     },
     "execution_count": 81,
     "metadata": {},
     "output_type": "execute_result"
    }
   ],
   "source": [
    "vec = tab_rest.frac.ix[gene_sets.index] > .85\n",
    "print vec.value_counts()\n",
    "mm_rest = run_mgsa(vec)\n",
    "mm_rest.sort('estimate', ascending=False).head(10)"
   ]
  },
  {
   "cell_type": "code",
   "execution_count": 88,
   "metadata": {
    "collapsed": false
   },
   "outputs": [
    {
     "data": {
      "image/png": "[encoded data removed]",
      "text/plain": [
       "<matplotlib.figure.Figure at 0x7fe2d12bae50>"
      ]
     },
     "metadata": {},
     "output_type": "display_data"
    }
   ],
   "source": [
    "series_scatter(mm_rest.estimate, mm_lusc.estimate)"
   ]
  },
  {
   "cell_type": "code",
   "execution_count": 90,
   "metadata": {
    "collapsed": false
   },
   "outputs": [
    {
     "data": {
      "text/plain": [
       "REACTOME_CELL_CYCLE_MITOTIC                                    -0.97\n",
       "REACTOME_SEMA3A_PAK_DEPENDENT_AXON_REPULSION                   -0.88\n",
       "REACTOME_COPI_MEDIATED_TRANSPORT                               -0.54\n",
       "KEGG_PYRIMIDINE_METABOLISM                                     -0.53\n",
       "REACTOME_FORMATION_OF_TUBULIN_FOLDING_INTERMEDIATES_BY_CCT_TRIC   -0.45\n",
       "KEGG_AMINOACYL_TRNA_BIOSYNTHESIS                               -0.39\n",
       "BIOCARTA_GLYCOLYSIS_PATHWAY                                    -0.38\n",
       "KEGG_DNA_REPLICATION                                           -0.36\n",
       "KEGG_ONE_CARBON_POOL_BY_FOLATE                                 -0.33\n",
       "REACTOME_EXTENSION_OF_TELOMERES                                -0.32\n",
       "KEGG_LYSINE_DEGRADATION                                        -0.30\n",
       "REACTOME_G2_M_CHECKPOINTS                                      -0.30\n",
       "BIOCARTA_TNFR1_PATHWAY                                         -0.29\n",
       "REACTOME_FORMATION_AND_MATURATION_OF_MRNA_TRANSCRIPT           -0.27\n",
       "REACTOME_MICRORNA_BIOGENESIS                                   -0.27\n",
       "...\n",
       "REACTOME_TRANSFORMATION_OF_LANOSTEROL_TO_CHOLESTEROL            0.36\n",
       "REACTOME_SYNTHESIS_AND_INTERCONVERSION_OF_NUCLEOTIDE_DI_AND_TRIPHOSPHATES    0.36\n",
       "REACTOME_TRNA_AMINOACYLATION                                    0.42\n",
       "REACTOME_SYNTHESIS_OF_GPI_ANCHORED_PROTEINS                     0.44\n",
       "REACTOME_PREFOLDIN_MEDIATED_TRANSFER_OF_SUBSTRATE_TO_CCT_TRIC    0.50\n",
       "REACTOME_CELL_CYCLE_CHECKPOINTS                                 0.51\n",
       "REACTOME_MEMBRANE_TRAFFICKING                                   0.55\n",
       "REACTOME_INTRINSIC_PATHWAY_FOR_APOPTOSIS                        0.58\n",
       "BIOCARTA_RHO_PATHWAY                                            0.67\n",
       "REACTOME_METABOLISM_OF_MRNA                                     0.71\n",
       "BIOCARTA_EIF2_PATHWAY                                           0.87\n",
       "BIOCARTA_RAB_PATHWAY                                            0.92\n",
       "REACTOME_MITOTIC_M_M_G1_PHASES                                  0.94\n",
       "KEGG_PROTEIN_EXPORT                                             0.95\n",
       "REACTOME_RNA_POLYMERASE_I_PROMOTER_OPENING                      0.97\n",
       "Name: estimate, Length: 832, dtype: float64"
      ]
     },
     "execution_count": 90,
     "metadata": {},
     "output_type": "execute_result"
    }
   ],
   "source": [
    "(mm_lusc.estimate - mm_rest.estimate).order()"
   ]
  }
 ],
 "metadata": {
  "kernelspec": {
   "display_name": "Python 2",
   "language": "python",
   "name": "python2"
  },
  "language_info": {
   "codemirror_mode": {
    "name": "ipython",
    "version": 2
   },
   "file_extension": ".py",
   "mimetype": "text/x-python",
   "name": "python",
   "nbconvert_exporter": "python",
   "pygments_lexer": "ipython2",
   "version": "2.7.9"
  }
 },
 "nbformat": 4,
 "nbformat_minor": 0
}
