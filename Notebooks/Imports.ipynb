{
 "metadata": {
  "kernelspec": {
   "codemirror_mode": {
    "name": "ipython",
    "version": 2
   },
   "display_name": "IPython (Python 2)",
   "language": "python",
   "name": "python2"
  },
  "name": "",
  "signature": "sha256:03ea07ad0003878bbb0306665259f3767f0f26c357a8146e4e048c441afeccc2"
 },
 "nbformat": 3,
 "nbformat_minor": 0,
 "worksheets": [
  {
   "cells": [
    {
     "cell_type": "heading",
     "level": 1,
     "metadata": {},
     "source": [
      "Global Imports"
     ]
    },
    {
     "cell_type": "code",
     "collapsed": false,
     "input": [
      "%pylab inline"
     ],
     "language": "python",
     "metadata": {},
     "outputs": [
      {
       "output_type": "stream",
       "stream": "stdout",
       "text": [
        "Populating the interactive namespace from numpy and matplotlib\n"
       ]
      }
     ],
     "prompt_number": 1
    },
    {
     "cell_type": "heading",
     "level": 3,
     "metadata": {},
     "source": [
      "External Package Imports"
     ]
    },
    {
     "cell_type": "code",
     "collapsed": false,
     "input": [
      "import os as os\n",
      "import pickle as pickle\n",
      "import pandas as pd"
     ],
     "language": "python",
     "metadata": {},
     "outputs": [],
     "prompt_number": 2
    },
    {
     "cell_type": "heading",
     "level": 3,
     "metadata": {},
     "source": [
      "Module Imports"
     ]
    },
    {
     "cell_type": "code",
     "collapsed": false,
     "input": [
      "from Stats.Scipy import *\n",
      "from Stats.Survival import *\n",
      "\n",
      "from Helpers.Pandas import *\n",
      "from Helpers.LinAlg import *\n",
      "\n",
      "from Figures.FigureHelpers import *\n",
      "from Figures.Pandas import *\n",
      "from Figures.Boxplots import *\n",
      "from Figures.Survival import draw_survival_curve, survival_and_stats\n",
      "from Figures.Survival import draw_survival_curves\n",
      "from Figures.Survival import survival_stat_plot"
     ],
     "language": "python",
     "metadata": {},
     "outputs": [],
     "prompt_number": 3
    },
    {
     "cell_type": "code",
     "collapsed": false,
     "input": [
      "import Data.Firehose as FH"
     ],
     "language": "python",
     "metadata": {},
     "outputs": [],
     "prompt_number": 4
    },
    {
     "cell_type": "heading",
     "level": 3,
     "metadata": {},
     "source": [
      "Tweaking Display Parameters"
     ]
    },
    {
     "cell_type": "code",
     "collapsed": false,
     "input": [
      "pd.set_option('precision', 3)\n",
      "pd.set_option('display.width', 300)\n",
      "plt.rcParams['font.size'] = 12"
     ],
     "language": "python",
     "metadata": {},
     "outputs": [],
     "prompt_number": 5
    },
    {
     "cell_type": "code",
     "collapsed": false,
     "input": [
      "'''Color schemes for paper taken from http://colorbrewer2.org/'''\n",
      "colors = plt.rcParams['axes.color_cycle']\n",
      "colors_st = ['#CA0020', '#F4A582', '#92C5DE', '#0571B0']\n",
      "colors_th = ['#E66101', '#FDB863', '#B2ABD2', '#5E3C99']"
     ],
     "language": "python",
     "metadata": {},
     "outputs": [],
     "prompt_number": 6
    },
    {
     "cell_type": "code",
     "collapsed": false,
     "input": [
      "def get_run(firehose_dir, version='Latest'):\n",
      "    '''\n",
      "    Helper to get a run from the file-system. \n",
      "    '''\n",
      "    path = '{}/ucsd_analyses'.format(firehose_dir)\n",
      "    if version is 'Latest':\n",
      "        version = sorted(os.listdir(path))[-1]\n",
      "    run = pickle.load(open('{}/{}/RunObject.p'.format(path, version), 'rb'))\n",
      "    return run"
     ],
     "language": "python",
     "metadata": {},
     "outputs": [],
     "prompt_number": 7
    },
    {
     "cell_type": "code",
     "collapsed": false,
     "input": [
      "def filter_pathway_hits(hits, gs, cutoff=.01):\n",
      "    '''\n",
      "    Takes a vector of p-values and a DataFrame of binary defined gene-sets.\n",
      "    '''\n",
      "    l = [hits.index[0]]\n",
      "    for gg in hits.index:\n",
      "        flag = 0\n",
      "        for g2 in l:\n",
      "            if gg in l:\n",
      "                flag = 1\n",
      "                break\n",
      "            elif (chi2_cont_test(gs[gg], gs[g2])['p'] < .00001):\n",
      "                flag = 1\n",
      "                break\n",
      "        if flag == 0:\n",
      "            l.append(gg)\n",
      "    hits_filtered = hits.ix[l]\n",
      "    return hits_filtered"
     ],
     "language": "python",
     "metadata": {},
     "outputs": [],
     "prompt_number": 8
    },
    {
     "cell_type": "heading",
     "level": 3,
     "metadata": {},
     "source": [
      "Read in All of the Expression Data"
     ]
    },
    {
     "cell_type": "code",
     "collapsed": false,
     "input": [
      "r2 = pd.read_hdf('/data/RNASeq_2014_07_15.h5', 'HNSC')"
     ],
     "language": "python",
     "metadata": {},
     "outputs": [],
     "prompt_number": 25
    },
    {
     "cell_type": "code",
     "collapsed": false,
     "input": [
      "matched_tn = pd.read_hdf('/data/RNASeq_2014_07_15.h5', 'matched_tn')"
     ],
     "language": "python",
     "metadata": {},
     "outputs": [],
     "prompt_number": 33
    },
    {
     "cell_type": "code",
     "collapsed": false,
     "input": [
      "store = pd.HDFStore('/data/RNASeq_2014_07_15.h5')\n",
      "codes = store['codes']\n",
      "cancers  = set(codes.unique()).intersection(set([c[1:] for c in store.keys()]))\n",
      "cancers = cancers - {'COADREAD'}\n",
      "store.close()"
     ],
     "language": "python",
     "metadata": {},
     "outputs": [],
     "prompt_number": 68
    },
    {
     "cell_type": "code",
     "collapsed": false,
     "input": [
      "rna_df = pd.concat([pd.read_hdf('/data/RNASeq_2014_07_15.h5', c) for c in cancers],\n",
      "                   axis=1)"
     ],
     "language": "python",
     "metadata": {},
     "outputs": [],
     "prompt_number": 58
    },
    {
     "cell_type": "heading",
     "level": 1,
     "metadata": {},
     "source": [
      "Figures"
     ]
    },
    {
     "cell_type": "code",
     "collapsed": false,
     "input": [
      "def paired_bp_tn_split(vec, assignment, ax=None, split_vals=('01', '11'),\n",
      "                       data_type='gene expression'):\n",
      "    \"\"\"\n",
      "    Paired boxplot for a single Series, with splitting on the index,\n",
      "    grouped by assignment. I.E. Tumor-Normal gene expression split by\n",
      "    cancer.\n",
      "    \n",
      "    vec: \n",
      "        vector of values to plot.\n",
      "    assignment: \n",
      "        vector mapping keys to group assignment\n",
      "    ax (None):\n",
      "        matplotlib axis to plot on or None\n",
      "    split_vals ('01','11'):\n",
      "        Values to split the boxplot pairing on. The default of \n",
      "        ('01','11') indicates tumor vs. normal in the standard \n",
      "        TCGA barcode nomenclature.  This should coorespond to values\n",
      "        on the second level of the index for vec and assignment.\n",
      "        \n",
      "    **both vec and assignment should have an overlapping index with\n",
      "    multiple levels**\n",
      "    \"\"\"\n",
      "    _, ax = init_ax(ax, figsize=(8, 3))\n",
      "    if vec.name != None:\n",
      "        label = vec.name  # lose label in manipulation\n",
      "    else:\n",
      "        label = ''\n",
      "    g1 = split_vals[0]\n",
      "    g2 = split_vals[1]\n",
      "    vec = pd.concat([vec[:, g1], vec[:, g2]], keys=[g1, g2],\n",
      "                    axis=1)\n",
      "    vec = vec.dropna().stack()\n",
      "\n",
      "    counts = vec.unstack().groupby(assignment).size()\n",
      "    groups = list(true_index(counts > 5))\n",
      "    groups = vec.unstack().groupby(assignment).median()[g1].ix[groups]\n",
      "    groups = groups.order().index[::-1]\n",
      "\n",
      "    l1 = [np.array(vec[:, g1].ix[true_index(assignment == c)].dropna())\n",
      "          for c in groups]\n",
      "    l2 = [np.array(vec[:, g2].ix[true_index(assignment == c)].dropna())\n",
      "          for c in groups]\n",
      "    boxes = [x for t in zip(l1, l2) for x in t if len(t[1]) > 5]\n",
      "\n",
      "    ax, bp = paired_boxplot(boxes, ax)\n",
      "    labels = ['{}\\n({})'.format(c, counts[c]) for c in groups]\n",
      "    ax.set_xticklabels(labels)\n",
      "    prettify_ax(ax)\n",
      "    ax.set_ylabel('{} {}'.fomat(label, data_type)"
     ],
     "language": "python",
     "metadata": {},
     "outputs": [],
     "prompt_number": 60
    },
    {
     "cell_type": "heading",
     "level": 1,
     "metadata": {},
     "source": [
      "Processing"
     ]
    },
    {
     "cell_type": "code",
     "collapsed": false,
     "input": [
      "from scipy.stats import binom_test"
     ],
     "language": "python",
     "metadata": {},
     "outputs": [],
     "prompt_number": 61
    },
    {
     "cell_type": "code",
     "collapsed": false,
     "input": [
      "def binomial_test_screen(df, fc=1.5, p=.5):\n",
      "    \"\"\"\n",
      "    Run a binomial test on a DataFrame.\n",
      "\n",
      "    \"\"\"\n",
      "    a, b = df.xs('01', 1, 1), df.xs('11', 1, 1)\n",
      "    dx = a - b\n",
      "    dx = dx[dx.abs() > np.log2(fc)]\n",
      "    n = dx.count(1)\n",
      "    counts = (dx > 0).sum(1)\n",
      "    cn = pd.concat([counts, n], 1)\n",
      "    cn = cn[cn.sum(1) > 0]\n",
      "    b_test = cn.apply(lambda s: binom_test(s[0], s[1], p), axis=1)\n",
      "    dist = (1.*cn[0] / cn[1])\n",
      "    tab = pd.concat([cn[0], cn[1], dist, b_test],\n",
      "                    keys=['num_ox', 'num_dx', 'frac', 'p'],\n",
      "                    axis=1)\n",
      "    return tab\n",
      "\n",
      "\n",
      "def pull_out_tn(df):\n",
      "    df = pd.concat([df.xs('01',1,1), df.xs('11',1,1)],\n",
      "                    keys=['01','11'], axis=1)\n",
      "    df.columns = df.columns.swaplevel(0,1)\n",
      "\n",
      "    svd = frame_svd(df)\n",
      "    keep = svd[2].apply(ttest_rel).T.p < .001\n",
      "    S = pd.Series(svd[1]) * 1.*keep\n",
      "    S = pd.DataFrame(sp.linalg.diagsvd(S, len(S), len(S)), index=S.index,\n",
      "                     columns=S.index)\n",
      "    df_new = svd[0].dot(S).dot(svd[2].T)\n",
      "    return df_new\n"
     ],
     "language": "python",
     "metadata": {},
     "outputs": [],
     "prompt_number": 62
    },
    {
     "cell_type": "code",
     "collapsed": false,
     "input": [
      "paired_bp_tn_split(matched_tn.ix['ADH1B'], codes)"
     ],
     "language": "python",
     "metadata": {},
     "outputs": [
      {
       "metadata": {},
       "output_type": "display_data",
       "png": "[encoded data removed]",
       "text": [
        "<matplotlib.figure.Figure at 0x7fbe076e6190>"
       ]
      }
     ],
     "prompt_number": 69
    }
   ],
   "metadata": {}
  }
 ]
}