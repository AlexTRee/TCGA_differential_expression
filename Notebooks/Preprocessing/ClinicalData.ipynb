{
 "cells": [
  {
   "cell_type": "markdown",
   "metadata": {},
   "source": [
    "# Importing Clinical Data"
   ]
  },
  {
   "cell_type": "code",
   "execution_count": 1,
   "metadata": {
    "collapsed": true
   },
   "outputs": [],
   "source": [
    "import os as os\n",
    "import pickle as pickle\n",
    "import pandas as pd"
   ]
  },
  {
   "cell_type": "code",
   "execution_count": 2,
   "metadata": {
    "collapsed": false
   },
   "outputs": [],
   "source": [
    "import Data as Data\n",
    "from Helpers.Pandas import *"
   ]
  },
  {
   "cell_type": "code",
   "execution_count": 3,
   "metadata": {
    "collapsed": true
   },
   "outputs": [],
   "source": [
    "def get_run(firehose_dir, version='Latest'):\n",
    "    '''\n",
    "    Helper to get a run from the file-system. \n",
    "    '''\n",
    "    path = '{}/ucsd_analyses'.format(firehose_dir)\n",
    "    if version is 'Latest':\n",
    "        version = sorted(os.listdir(path))[-1]\n",
    "    run = pickle.load(open('{}/{}/RunObject.p'.format(path, version), 'rb'))\n",
    "    return run"
   ]
  },
  {
   "cell_type": "code",
   "execution_count": 4,
   "metadata": {
    "collapsed": true
   },
   "outputs": [],
   "source": [
    "OUT_PATH = '/cellar/users/agross/TCGA_Code/CancerData/Data'\n",
    "RUN_DATE = '2015_04_02'\n",
    "VERSION = 'all'\n",
    "CANCER = 'HNSC'\n",
    "FIGDIR = '../Figures/'\n",
    "if not os.path.isdir(FIGDIR):\n",
    "    os.makedirs(FIGDIR)"
   ]
  },
  {
   "cell_type": "code",
   "execution_count": 5,
   "metadata": {
    "collapsed": false
   },
   "outputs": [],
   "source": [
    "run_path  = '{}/Firehose__{}/'.format(OUT_PATH, RUN_DATE)\n",
    "run = get_run(run_path, 'Run_' + VERSION)\n",
    "run.data_path = run_path \n",
    "run.result_path = run_path + 'ucsd_analyses'\n",
    "run.report_path = run_path + 'ucsd_analyses/Run_all'"
   ]
  },
  {
   "cell_type": "code",
   "execution_count": 6,
   "metadata": {
    "collapsed": false
   },
   "outputs": [],
   "source": [
    "cancers = {c: run.load_cancer(c) for c in run.cancers if \n",
    "           os.path.isdir(run.report_path + '/' + c)}"
   ]
  },
  {
   "cell_type": "code",
   "execution_count": 7,
   "metadata": {
    "collapsed": false
   },
   "outputs": [
    {
     "name": "stdout",
     "output_type": "stream",
     "text": [
      "PCPG\n",
      "UCS\n",
      "TGCT\n",
      "CHOL\n",
      "THYM\n",
      "MESO\n",
      "FPPP\n"
     ]
    },
    {
     "name": "stderr",
     "output_type": "stream",
     "text": [
      "/cellar/users/agross/anaconda2/lib/python2.7/site-packages/Processing/ProcessClinicalDataPortal.py:37: SettingWithCopyWarning: A value is trying to be set on a copy of a slice from a DataFrame.\n",
      "Try using .loc[row_index,col_indexer] = value instead\n",
      "  f['vitalstatus'] = f['daystodeath'].isnull()\n"
     ]
    }
   ],
   "source": [
    "from Processing.ProcessClinicalDataPortal import update_clinical_object\n",
    "\n",
    "clinical = {c: cancer.load_clinical() for c, cancer in cancers.iteritems()}\n",
    "for cancer,clin in clinical.iteritems():\n",
    "    try:\n",
    "        path  = '/cellar/users/agross/TCGA_Code/TCGA/Data/Followup_R10/' + cancer + '/'\n",
    "        clinical[cancer] = update_clinical_object(clin, path)\n",
    "    except:\n",
    "        print cancer\n",
    "        do_nothing = True"
   ]
  },
  {
   "cell_type": "code",
   "execution_count": 12,
   "metadata": {
    "collapsed": true
   },
   "outputs": [],
   "source": [
    "codes = pd.concat([pd.Series(cancer, clinical[cancer].clinical.index)\n",
    "                   for cancer in clinical])\n",
    "codes = codes[codes != 'FPPP']\n",
    "codes.name = 'codes'"
   ]
  },
  {
   "cell_type": "code",
   "execution_count": 9,
   "metadata": {
    "collapsed": false
   },
   "outputs": [],
   "source": [
    "surv = pd.DataFrame({c: v.survival.survival for c,v in clinical.iteritems()})\n",
    "surv = surv.stack()\n",
    "\n",
    "surv.index = surv.index.droplevel(2)\n",
    "surv = surv.groupby(level=[0,1]).first()\n",
    "surv = surv.ix[ti(surv[:,'days'] >= 7)]\n",
    "\n",
    "surv_5y = pd.DataFrame({c: v.survival.survival_5y for c,v in clinical.iteritems()})\n",
    "surv_5y = surv_5y.stack()\n",
    "surv_5y.index = surv_5y.index.droplevel(2)\n",
    "surv_5y = surv_5y.groupby(level=[0,1]).first()\n",
    "surv_5y = surv_5y.ix[ti(surv[:,'days'] >= 7)]"
   ]
  },
  {
   "cell_type": "code",
   "execution_count": 10,
   "metadata": {
    "collapsed": false
   },
   "outputs": [],
   "source": [
    "for c in clinical.values():\n",
    "    c = c.artificially_censor(10)\n",
    "surv_10y = pd.DataFrame({c: v.survival.survival_10y for c,v in clinical.iteritems()})\n",
    "surv_10y = surv_10y.stack()\n",
    "surv_10y.index = surv_10y.index.droplevel(2)\n",
    "surv_10y = surv_10y.groupby(level=[0,1]).first()\n",
    "surv_10y = surv_10y.ix[ti(surv[:,'days'] >= 7)]"
   ]
  },
  {
   "cell_type": "code",
   "execution_count": 11,
   "metadata": {
    "collapsed": true
   },
   "outputs": [],
   "source": [
    "for c in clinical.values():\n",
    "    c = c.artificially_censor(3)\n",
    "surv_3y = pd.DataFrame({c: v.survival.survival_3y for c,v in clinical.iteritems()})\n",
    "surv_3y = surv_3y.stack()\n",
    "surv_3y.index = surv_3y.index.droplevel(2)\n",
    "surv_3y = surv_3y.groupby(level=[0,1]).first()\n",
    "surv_3y = surv_3y.ix[ti(surv[:,'days'] >= 7)]"
   ]
  }
 ],
 "metadata": {
  "kernelspec": {
   "display_name": "Python 2",
   "language": "python",
   "name": "python2"
  },
  "language_info": {
   "codemirror_mode": {
    "name": "ipython",
    "version": 2
   },
   "file_extension": ".py",
   "mimetype": "text/x-python",
   "name": "python",
   "nbconvert_exporter": "python",
   "pygments_lexer": "ipython2",
   "version": "2.7.9"
  }
 },
 "nbformat": 4,
 "nbformat_minor": 0
}
