{
 "cells": [
  {
   "cell_type": "markdown",
   "metadata": {},
   "source": [
    "# GLOBAL Parameters"
   ]
  },
  {
   "cell_type": "markdown",
   "metadata": {},
   "source": [
    "These are gene sets from mSigDB, downloading them is free but you need to create a login. [Here](http://www.broadinstitute.org/gsea/msigdb/collections.jsp) is the link to the gene sets page, yI am using the canonical pathways (CP) gene sets. "
   ]
  },
  {
   "cell_type": "code",
   "execution_count": 1,
   "metadata": {
    "collapsed": true
   },
   "outputs": [],
   "source": [
    "GENE_SETS = '/cellar/users/agross/Data/GeneSets/c2.cp.v5.csv'"
   ]
  },
  {
   "cell_type": "code",
   "execution_count": null,
   "metadata": {
    "collapsed": true
   },
   "outputs": [],
   "source": [
    "HUGO_TO_REFSEQ = '/cellar/users/agross/Data/GeneSets/hugo_to_refseq.csv'"
   ]
  },
  {
   "cell_type": "markdown",
   "metadata": {},
   "source": [
    "Path to Firehose run, as downloaded and processed by the [CancerData](https://github.com/theandygross/CancerData) package."
   ]
  },
  {
   "cell_type": "code",
   "execution_count": 2,
   "metadata": {
    "collapsed": true
   },
   "outputs": [],
   "source": [
    "FIREHOSE_PATH = '/cellar/users/agross/TCGA_Code/CancerData/Data/Firehose__2015_04_02/'"
   ]
  },
  {
   "cell_type": "markdown",
   "metadata": {},
   "source": [
    "Where I download the data from the RSubread reprocessing. These are available at GEO under the the accession [GSE62944](http://www.ncbi.nlm.nih.gov/geo/query/acc.cgi?acc=GSE62944)."
   ]
  },
  {
   "cell_type": "code",
   "execution_count": 3,
   "metadata": {
    "collapsed": true
   },
   "outputs": [],
   "source": [
    "R_SUBREAD_PATH = '/cellar/users/agross/Data/RNA-Seq/TCGA_RSubread/'"
   ]
  },
  {
   "cell_type": "markdown",
   "metadata": {},
   "source": [
    "I am storing HDFS files on my SSD to speeed up I/O, but you could put them in your directory structure as well.  "
   ]
  },
  {
   "cell_type": "code",
   "execution_count": 4,
   "metadata": {
    "collapsed": true
   },
   "outputs": [],
   "source": [
    "HDFS_DIRECTORY = '/data_ssd'"
   ]
  },
  {
   "cell_type": "code",
   "execution_count": 5,
   "metadata": {
    "collapsed": true
   },
   "outputs": [],
   "source": [
    "RNA_SUBREAD_STORE = HDFS_DIRECTORY + '/RNASeq_subread.h5'"
   ]
  },
  {
   "cell_type": "code",
   "execution_count": 6,
   "metadata": {
    "collapsed": true
   },
   "outputs": [],
   "source": [
    "RNA_STORE = HDFS_DIRECTORY + '/RNASeq_2015_04_02.h5'\n",
    "MIRNA_STORE = HDFS_DIRECTORY + '/miRNASeq_2015_04_02.h5'\n",
    "METH_STORE =  HDFS_DIRECTORY + '/TCGA_methylation_2015_04_02.h5'\n",
    "METH_STORE = HDFS_DIRECTORY + '/TCGA_methylation_T_2015_04_02.h5'"
   ]
  },
  {
   "cell_type": "markdown",
   "metadata": {},
   "source": [
    "Used by [unify_methylation_probes](./Preprocessing/unify_methylation_probes.ipynb) notebook to store methylation with probe set matched across all tissues."
   ]
  },
  {
   "cell_type": "code",
   "execution_count": 7,
   "metadata": {
    "collapsed": false
   },
   "outputs": [],
   "source": [
    "METH_STORE_MATCHED = HDFS_DIRECTORY + '/TCGA_methylation_2015_04_02_matched.h5'"
   ]
  },
  {
   "cell_type": "markdown",
   "metadata": {},
   "source": [
    "Used to store GEO matched tumor/normal microarray data. "
   ]
  },
  {
   "cell_type": "code",
   "execution_count": 10,
   "metadata": {
    "collapsed": true
   },
   "outputs": [],
   "source": [
    "MICROARRAY_PATH = '/cellar/users/agross/Data/DiffExp/Data/'"
   ]
  },
  {
   "cell_type": "code",
   "execution_count": 9,
   "metadata": {
    "collapsed": true
   },
   "outputs": [],
   "source": [
    "MICROARRAY_STORE = HDFS_DIRECTORY + '/GEO_microarray_dx.h5'"
   ]
  },
  {
   "cell_type": "markdown",
   "metadata": {},
   "source": [
    "Directory to store figures."
   ]
  },
  {
   "cell_type": "code",
   "execution_count": 8,
   "metadata": {
    "collapsed": true
   },
   "outputs": [],
   "source": [
    "FIGDIR = '/cellar/users/agross/Desktop/Figures/'"
   ]
  }
 ],
 "metadata": {
  "kernelspec": {
   "display_name": "Python 2",
   "language": "python",
   "name": "python2"
  },
  "language_info": {
   "codemirror_mode": {
    "name": "ipython",
    "version": 2
   },
   "file_extension": ".py",
   "mimetype": "text/x-python",
   "name": "python",
   "nbconvert_exporter": "python",
   "pygments_lexer": "ipython2",
   "version": "2.7.9"
  }
 },
 "nbformat": 4,
 "nbformat_minor": 0
}
