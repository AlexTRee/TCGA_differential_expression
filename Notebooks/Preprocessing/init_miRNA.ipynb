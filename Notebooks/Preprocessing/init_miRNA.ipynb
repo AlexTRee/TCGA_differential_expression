{
 "cells": [
  {
   "cell_type": "markdown",
   "metadata": {},
   "source": [
    "# Initialize miRNA Storage Structures"
   ]
  },
  {
   "cell_type": "markdown",
   "metadata": {},
   "source": [
    "Storing expression data in .csv files is great for portability but has the disadvantage of being very slow to read into memory.  Here I am going through the most recent Firehose run, reading in the expression data for each cancer, and saving each file in HDF5 format.  This should make working with this data with Pandas much easier."
   ]
  },
  {
   "cell_type": "code",
   "execution_count": 3,
   "metadata": {
    "collapsed": false
   },
   "outputs": [],
   "source": [
    "import os as os\n",
    "import pandas as pd"
   ]
  },
  {
   "cell_type": "code",
   "execution_count": 4,
   "metadata": {
    "collapsed": false
   },
   "outputs": [],
   "source": [
    "import Data.Firehose as FH"
   ]
  },
  {
   "cell_type": "code",
   "execution_count": 5,
   "metadata": {
    "collapsed": false
   },
   "outputs": [],
   "source": [
    "#path = '/cellar/users/agross/TCGA_Code/TCGA/Data/Firehose__2014_07_15/'\n",
    "path = '/cellar/users/agross/TCGA_Code/CancerData/Data/Firehose__2015_04_02/'"
   ]
  },
  {
   "cell_type": "code",
   "execution_count": 6,
   "metadata": {
    "collapsed": false
   },
   "outputs": [],
   "source": [
    "store = pd.HDFStore('/data_ssd/miRNASeq_2015_04_02.h5')"
   ]
  },
  {
   "cell_type": "code",
   "execution_count": 7,
   "metadata": {
    "collapsed": false
   },
   "outputs": [],
   "source": [
    "rna = {}\n",
    "for c in os.listdir(path + 'stddata'):\n",
    "    try:\n",
    "        rna[c] = FH.read_miRNASeq(path, c, tissue_code='All')\n",
    "        if c not in store.keys():\n",
    "            store.append(c, rna[c])\n",
    "            store.create_table_index(c, optlevel=9, kind='full')\n",
    "    except:\n",
    "        print c\n",
    "rna_df = pd.concat(rna.values(), axis=1)\n",
    "\n",
    "cols = list(rna_df.columns)\n",
    "pts = [c for c in cols if (c[0],'01') in cols and (c[0], '11') in \n",
    "       cols and c[1] in ['01','11']]\n",
    "matched_tn = rna_df[pts]\n",
    "matched_tn = matched_tn.groupby(axis=1, level=[0,1]).first()"
   ]
  },
  {
   "cell_type": "code",
   "execution_count": 8,
   "metadata": {
    "collapsed": false
   },
   "outputs": [],
   "source": [
    "codes = pd.concat(rna, axis=1).columns\n",
    "codes = pd.Series(codes.get_level_values(0), codes.get_level_values(1))\n",
    "codes = codes[codes.isin(['KIPAN','GBMLGG','COADREAD']) == False]\n",
    "codes = codes.groupby(level=0).first()\n",
    "codes.name = 'codes'"
   ]
  },
  {
   "cell_type": "code",
   "execution_count": 9,
   "metadata": {
    "collapsed": false
   },
   "outputs": [
    {
     "data": {
      "text/plain": [
       "(1071, 1284)"
      ]
     },
     "execution_count": 9,
     "metadata": {},
     "output_type": "execute_result"
    }
   ],
   "source": [
    "matched_tn.shape"
   ]
  },
  {
   "cell_type": "code",
   "execution_count": 10,
   "metadata": {
    "collapsed": false
   },
   "outputs": [],
   "source": [
    "store['codes'] = codes"
   ]
  },
  {
   "cell_type": "code",
   "execution_count": 11,
   "metadata": {
    "collapsed": false
   },
   "outputs": [],
   "source": [
    "matched_tn.to_hdf(store, 'matched_tn')"
   ]
  },
  {
   "cell_type": "code",
   "execution_count": 12,
   "metadata": {
    "collapsed": false
   },
   "outputs": [],
   "source": [
    "store.close()"
   ]
  }
 ],
 "metadata": {
  "kernelspec": {
   "display_name": "Python 2",
   "language": "python",
   "name": "python2"
  },
  "language_info": {
   "codemirror_mode": {
    "name": "ipython",
    "version": 2
   },
   "file_extension": ".py",
   "mimetype": "text/x-python",
   "name": "python",
   "nbconvert_exporter": "python",
   "pygments_lexer": "ipython2",
   "version": "2.7.9"
  }
 },
 "nbformat": 4,
 "nbformat_minor": 0
}
