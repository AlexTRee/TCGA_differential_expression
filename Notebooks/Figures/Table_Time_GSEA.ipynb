{
 "cells": [
  {
   "cell_type": "markdown",
   "metadata": {},
   "source": [
    "# Tables"
   ]
  },
  {
   "cell_type": "code",
   "execution_count": 1,
   "metadata": {
    "collapsed": false
   },
   "outputs": [
    {
     "name": "stdout",
     "output_type": "stream",
     "text": [
      "/cellar/users/agross/TCGA_Code/DX/Notebooks\n"
     ]
    }
   ],
   "source": [
    "cd .."
   ]
  },
  {
   "cell_type": "code",
   "execution_count": 2,
   "metadata": {
    "collapsed": false
   },
   "outputs": [
    {
     "data": {
      "text/html": [
       "importing IPython notebook from <a href='./DX_screen.ipynb' target='_blank'>DX_screen</a>"
      ]
     },
     "metadata": {},
     "output_type": "display_data"
    },
    {
     "data": {
      "text/html": [
       "importing IPython notebook from <a href='./Imports.ipynb' target='_blank'>Imports</a>"
      ]
     },
     "metadata": {},
     "output_type": "display_data"
    },
    {
     "data": {
      "text/html": [
       "importing IPython notebook from <a href='.//cellar/users/agross/anaconda2/lib/python2.7/site-packages/MethylTools/Probe_Annotations.ipynb' target='_blank'>/cellar/users/agross/anaconda2/lib/python2.7/site-packages/MethylTools/Probe_Annotations</a>"
      ]
     },
     "metadata": {},
     "output_type": "display_data"
    }
   ],
   "source": [
    "import NotebookImport\n",
    "from DX_screen import *"
   ]
  },
  {
   "cell_type": "code",
   "execution_count": 3,
   "metadata": {
    "collapsed": false
   },
   "outputs": [
    {
     "data": {
      "text/html": [
       "importing IPython notebook from <a href='./metaPCNA.ipynb' target='_blank'>metaPCNA</a>"
      ]
     },
     "metadata": {},
     "output_type": "display_data"
    }
   ],
   "source": [
    "from metaPCNA import *"
   ]
  },
  {
   "cell_type": "code",
   "execution_count": 4,
   "metadata": {
    "collapsed": true
   },
   "outputs": [],
   "source": [
    "FIG_DIR = '/cellar/users/agross/Desktop/Figures/'"
   ]
  },
  {
   "cell_type": "markdown",
   "metadata": {},
   "source": [
    "# GSEA"
   ]
  },
  {
   "cell_type": "markdown",
   "metadata": {},
   "source": [
    "### Gene level fraction upregulated statistic"
   ]
  },
  {
   "cell_type": "code",
   "execution_count": 5,
   "metadata": {
    "collapsed": true
   },
   "outputs": [],
   "source": [
    "gs2 = gene_sets.ix[dx_rna.index].fillna(0)\n",
    "rr = screen_feature(dx_rna.frac, rev_kruskal, gs2.T, \n",
    "                    align=False)\n",
    "fp = (1.*gene_sets.T * dx_rna.frac).T.dropna().replace(0, np.nan).mean().order()\n",
    "fp.name = 'mean frac'"
   ]
  },
  {
   "cell_type": "code",
   "execution_count": 6,
   "metadata": {
    "collapsed": true
   },
   "outputs": [],
   "source": [
    "rr.join(fp).to_csv(FIG_DIR + 'f_up_gene_sets.csv')"
   ]
  },
  {
   "cell_type": "code",
   "execution_count": 7,
   "metadata": {
    "collapsed": false,
    "scrolled": false
   },
   "outputs": [
    {
     "data": {
      "text/html": [
       "<div style=\"max-height:1000px;max-width:1500px;overflow:auto;\">\n",
       "<table border=\"1\" class=\"dataframe\">\n",
       "  <thead>\n",
       "    <tr style=\"text-align: right;\">\n",
       "      <th></th>\n",
       "      <th>H</th>\n",
       "      <th>p</th>\n",
       "      <th>q</th>\n",
       "      <th>mean frac</th>\n",
       "    </tr>\n",
       "  </thead>\n",
       "  <tbody>\n",
       "    <tr>\n",
       "      <th>REACTOME_CELL_CYCLE</th>\n",
       "      <td> 343.67</td>\n",
       "      <td> 1.01e-76</td>\n",
       "      <td> 1.35e-73</td>\n",
       "      <td> 0.67</td>\n",
       "    </tr>\n",
       "    <tr>\n",
       "      <th>REACTOME_METABOLISM_OF_PROTEINS</th>\n",
       "      <td> 145.97</td>\n",
       "      <td> 1.32e-33</td>\n",
       "      <td> 1.46e-31</td>\n",
       "      <td> 0.59</td>\n",
       "    </tr>\n",
       "    <tr>\n",
       "      <th>REACTOME_PROCESSING_OF_CAPPED_INTRON_CONTAINING_PRE_MRNA</th>\n",
       "      <td> 126.77</td>\n",
       "      <td> 2.09e-29</td>\n",
       "      <td> 1.64e-27</td>\n",
       "      <td> 0.66</td>\n",
       "    </tr>\n",
       "    <tr>\n",
       "      <th>REACTOME_SIGNALING_BY_GPCR</th>\n",
       "      <td>  70.43</td>\n",
       "      <td> 4.78e-17</td>\n",
       "      <td> 1.10e-15</td>\n",
       "      <td> 0.46</td>\n",
       "    </tr>\n",
       "    <tr>\n",
       "      <th>REACTOME_BIOLOGICAL_OXIDATIONS</th>\n",
       "      <td>  54.94</td>\n",
       "      <td> 1.24e-13</td>\n",
       "      <td> 2.07e-12</td>\n",
       "      <td> 0.41</td>\n",
       "    </tr>\n",
       "    <tr>\n",
       "      <th>REACTOME_TRNA_AMINOACYLATION</th>\n",
       "      <td>  53.07</td>\n",
       "      <td> 3.21e-13</td>\n",
       "      <td> 5.21e-12</td>\n",
       "      <td> 0.68</td>\n",
       "    </tr>\n",
       "    <tr>\n",
       "      <th>KEGG_PPAR_SIGNALING_PATHWAY</th>\n",
       "      <td>  37.42</td>\n",
       "      <td> 9.50e-10</td>\n",
       "      <td> 1.17e-08</td>\n",
       "      <td> 0.39</td>\n",
       "    </tr>\n",
       "    <tr>\n",
       "      <th>KEGG_RNA_DEGRADATION</th>\n",
       "      <td>  32.92</td>\n",
       "      <td> 9.59e-09</td>\n",
       "      <td> 1.02e-07</td>\n",
       "      <td> 0.61</td>\n",
       "    </tr>\n",
       "    <tr>\n",
       "      <th>NABA_ECM_GLYCOPROTEINS</th>\n",
       "      <td>  31.19</td>\n",
       "      <td> 2.34e-08</td>\n",
       "      <td> 2.43e-07</td>\n",
       "      <td> 0.44</td>\n",
       "    </tr>\n",
       "    <tr>\n",
       "      <th>REACTOME_METABOLISM_OF_NUCLEOTIDES</th>\n",
       "      <td>  20.31</td>\n",
       "      <td> 6.58e-06</td>\n",
       "      <td> 4.81e-05</td>\n",
       "      <td> 0.60</td>\n",
       "    </tr>\n",
       "  </tbody>\n",
       "</table>\n",
       "</div>"
      ],
      "text/plain": [
       "                                                               H         p         q  mean frac\n",
       "REACTOME_CELL_CYCLE                                       343.67  1.01e-76  1.35e-73       0.67\n",
       "REACTOME_METABOLISM_OF_PROTEINS                           145.97  1.32e-33  1.46e-31       0.59\n",
       "REACTOME_PROCESSING_OF_CAPPED_INTRON_CONTAINING_PRE_MRNA  126.77  2.09e-29  1.64e-27       0.66\n",
       "REACTOME_SIGNALING_BY_GPCR                                 70.43  4.78e-17  1.10e-15       0.46\n",
       "REACTOME_BIOLOGICAL_OXIDATIONS                             54.94  1.24e-13  2.07e-12       0.41\n",
       "REACTOME_TRNA_AMINOACYLATION                               53.07  3.21e-13  5.21e-12       0.68\n",
       "KEGG_PPAR_SIGNALING_PATHWAY                                37.42  9.50e-10  1.17e-08       0.39\n",
       "KEGG_RNA_DEGRADATION                                       32.92  9.59e-09  1.02e-07       0.61\n",
       "NABA_ECM_GLYCOPROTEINS                                     31.19  2.34e-08  2.43e-07       0.44\n",
       "REACTOME_METABOLISM_OF_NUCLEOTIDES                         20.31  6.58e-06  4.81e-05       0.60"
      ]
     },
     "execution_count": 7,
     "metadata": {},
     "output_type": "execute_result"
    }
   ],
   "source": [
    "ff_u = filter_pathway_hits(rr.ix[ti(fp>.5)].p.order(), gs2)\n",
    "ff_p = filter_pathway_hits(rr.ix[ti(fp<.5)].p.order(), gs2)\n",
    "ff = ff_u.append(ff_p)\n",
    "\n",
    "selected = rr.ix[ff[ff < .00001].index].join(fp)\n",
    "selected.sort('p')"
   ]
  },
  {
   "cell_type": "code",
   "execution_count": 8,
   "metadata": {
    "collapsed": true
   },
   "outputs": [],
   "source": [
    "selected.to_csv(FIG_DIR + 'f_up_gene_sets_selected.csv')"
   ]
  },
  {
   "cell_type": "markdown",
   "metadata": {},
   "source": [
    "Looking for subsets of the cell-cycle pathway"
   ]
  },
  {
   "cell_type": "code",
   "execution_count": 9,
   "metadata": {
    "collapsed": false
   },
   "outputs": [],
   "source": [
    "d = pd.DataFrame({g: gs2['REACTOME_CELL_CYCLE'] for g in gs2.columns})\n",
    "a,b = odds_ratio_df(d.T>0, gs2.T>0)"
   ]
  },
  {
   "cell_type": "code",
   "execution_count": 10,
   "metadata": {
    "collapsed": false,
    "scrolled": false
   },
   "outputs": [
    {
     "data": {
      "text/html": [
       "<div style=\"max-height:1000px;max-width:1500px;overflow:auto;\">\n",
       "<table border=\"1\" class=\"dataframe\">\n",
       "  <thead>\n",
       "    <tr style=\"text-align: right;\">\n",
       "      <th></th>\n",
       "      <th>H</th>\n",
       "      <th>p</th>\n",
       "      <th>q</th>\n",
       "      <th>mean frac</th>\n",
       "    </tr>\n",
       "  </thead>\n",
       "  <tbody>\n",
       "    <tr>\n",
       "      <th>REACTOME_M_G1_TRANSITION</th>\n",
       "      <td> 135.57</td>\n",
       "      <td> 2.48e-31</td>\n",
       "      <td> 2.20e-29</td>\n",
       "      <td> 0.74</td>\n",
       "    </tr>\n",
       "    <tr>\n",
       "      <th>REACTOME_DEPOSITION_OF_NEW_CENPA_CONTAINING_NUCLEOSOMES_AT_THE_CENTROMERE</th>\n",
       "      <td>  99.38</td>\n",
       "      <td> 2.09e-23</td>\n",
       "      <td> 1.11e-21</td>\n",
       "      <td> 0.73</td>\n",
       "    </tr>\n",
       "  </tbody>\n",
       "</table>\n",
       "</div>"
      ],
      "text/plain": [
       "                                                                                H         p         q  mean frac\n",
       "REACTOME_M_G1_TRANSITION                                                   135.57  2.48e-31  2.20e-29       0.74\n",
       "REACTOME_DEPOSITION_OF_NEW_CENPA_CONTAINING_NUCLEOSOMES_AT_THE_CENTROMERE   99.38  2.09e-23  1.11e-21       0.73"
      ]
     },
     "execution_count": 10,
     "metadata": {},
     "output_type": "execute_result"
    }
   ],
   "source": [
    "dd = rr.ix[ti((a > 100) & (rr.q < 10e-15))].join(fp).sort(fp.name, ascending=False)\n",
    "filter_pathway_hits(dd, gs2)"
   ]
  },
  {
   "cell_type": "code",
   "execution_count": 11,
   "metadata": {
    "collapsed": false
   },
   "outputs": [
    {
     "data": {
      "text/plain": [
       "neither    18366\n",
       "first         72\n",
       "second        54\n",
       "dtype: int64"
      ]
     },
     "execution_count": 11,
     "metadata": {},
     "output_type": "execute_result"
    }
   ],
   "source": [
    "(combine(gs2['REACTOME_M_G1_TRANSITION']>0, \n",
    "            gs2['REACTOME_DEPOSITION_OF_NEW_CENPA_CONTAINING_NUCLEOSOMES_AT_THE_CENTROMERE']>0)\n",
    ").value_counts()"
   ]
  },
  {
   "cell_type": "code",
   "execution_count": 12,
   "metadata": {
    "collapsed": false
   },
   "outputs": [
    {
     "data": {
      "text/html": [
       "<div style=\"max-height:1000px;max-width:1500px;overflow:auto;\">\n",
       "<table border=\"1\" class=\"dataframe\">\n",
       "  <thead>\n",
       "    <tr style=\"text-align: right;\">\n",
       "      <th></th>\n",
       "      <th>H</th>\n",
       "      <th>p</th>\n",
       "      <th>q</th>\n",
       "      <th>mean frac</th>\n",
       "    </tr>\n",
       "  </thead>\n",
       "  <tbody>\n",
       "    <tr>\n",
       "      <th>REACTOME_UNWINDING_OF_DNA</th>\n",
       "      <td> 28.61</td>\n",
       "      <td> 8.86e-08</td>\n",
       "      <td> 8.24e-07</td>\n",
       "      <td> 0.81</td>\n",
       "    </tr>\n",
       "    <tr>\n",
       "      <th>REACTOME_EXTENSION_OF_TELOMERES</th>\n",
       "      <td> 55.78</td>\n",
       "      <td> 8.12e-14</td>\n",
       "      <td> 1.40e-12</td>\n",
       "      <td> 0.76</td>\n",
       "    </tr>\n",
       "    <tr>\n",
       "      <th>BIOCARTA_PROTEASOME_PATHWAY</th>\n",
       "      <td> 56.05</td>\n",
       "      <td> 7.07e-14</td>\n",
       "      <td> 1.25e-12</td>\n",
       "      <td> 0.74</td>\n",
       "    </tr>\n",
       "    <tr>\n",
       "      <th>REACTOME_DEPOSITION_OF_NEW_CENPA_CONTAINING_NUCLEOSOMES_AT_THE_CENTROMERE</th>\n",
       "      <td> 99.38</td>\n",
       "      <td> 2.09e-23</td>\n",
       "      <td> 1.11e-21</td>\n",
       "      <td> 0.73</td>\n",
       "    </tr>\n",
       "    <tr>\n",
       "      <th>REACTOME_FANCONI_ANEMIA_PATHWAY</th>\n",
       "      <td> 30.87</td>\n",
       "      <td> 2.76e-08</td>\n",
       "      <td> 2.80e-07</td>\n",
       "      <td> 0.71</td>\n",
       "    </tr>\n",
       "    <tr>\n",
       "      <th>PID_FOXM1_PATHWAY</th>\n",
       "      <td> 35.10</td>\n",
       "      <td> 3.13e-09</td>\n",
       "      <td> 3.59e-08</td>\n",
       "      <td> 0.70</td>\n",
       "    </tr>\n",
       "    <tr>\n",
       "      <th>REACTOME_CYTOSOLIC_TRNA_AMINOACYLATION</th>\n",
       "      <td> 34.10</td>\n",
       "      <td> 5.24e-09</td>\n",
       "      <td> 5.91e-08</td>\n",
       "      <td> 0.70</td>\n",
       "    </tr>\n",
       "    <tr>\n",
       "      <th>REACTOME_MRNA_SPLICING_MINOR_PATHWAY</th>\n",
       "      <td> 52.40</td>\n",
       "      <td> 4.53e-13</td>\n",
       "      <td> 7.17e-12</td>\n",
       "      <td> 0.69</td>\n",
       "    </tr>\n",
       "    <tr>\n",
       "      <th>REACTOME_NEP_NS2_INTERACTS_WITH_THE_CELLULAR_EXPORT_MACHINERY</th>\n",
       "      <td> 33.27</td>\n",
       "      <td> 8.02e-09</td>\n",
       "      <td> 8.74e-08</td>\n",
       "      <td> 0.67</td>\n",
       "    </tr>\n",
       "    <tr>\n",
       "      <th>KEGG_FATTY_ACID_METABOLISM</th>\n",
       "      <td> 47.69</td>\n",
       "      <td> 5.00e-12</td>\n",
       "      <td> 7.15e-11</td>\n",
       "      <td> 0.33</td>\n",
       "    </tr>\n",
       "    <tr>\n",
       "      <th>REACTOME_SRP_DEPENDENT_COTRANSLATIONAL_PROTEIN_TARGETING_TO_MEMBRANE</th>\n",
       "      <td> 83.95</td>\n",
       "      <td> 5.07e-20</td>\n",
       "      <td> 1.82e-18</td>\n",
       "      <td> 0.63</td>\n",
       "    </tr>\n",
       "    <tr>\n",
       "      <th>REACTOME_DEADENYLATION_DEPENDENT_MRNA_DECAY</th>\n",
       "      <td> 27.93</td>\n",
       "      <td> 1.26e-07</td>\n",
       "      <td> 1.15e-06</td>\n",
       "      <td> 0.63</td>\n",
       "    </tr>\n",
       "    <tr>\n",
       "      <th>REACTOME_ASPARAGINE_N_LINKED_GLYCOSYLATION</th>\n",
       "      <td> 36.83</td>\n",
       "      <td> 1.29e-09</td>\n",
       "      <td> 1.55e-08</td>\n",
       "      <td> 0.61</td>\n",
       "    </tr>\n",
       "    <tr>\n",
       "      <th>REACTOME_CYTOCHROME_P450_ARRANGED_BY_SUBSTRATE_TYPE</th>\n",
       "      <td> 25.97</td>\n",
       "      <td> 3.46e-07</td>\n",
       "      <td> 2.95e-06</td>\n",
       "      <td> 0.40</td>\n",
       "    </tr>\n",
       "    <tr>\n",
       "      <th>REACTOME_G_ALPHA_S_SIGNALLING_EVENTS</th>\n",
       "      <td> 33.07</td>\n",
       "      <td> 8.90e-09</td>\n",
       "      <td> 9.54e-08</td>\n",
       "      <td> 0.42</td>\n",
       "    </tr>\n",
       "    <tr>\n",
       "      <th>NABA_ECM_GLYCOPROTEINS</th>\n",
       "      <td> 31.19</td>\n",
       "      <td> 2.34e-08</td>\n",
       "      <td> 2.43e-07</td>\n",
       "      <td> 0.44</td>\n",
       "    </tr>\n",
       "    <tr>\n",
       "      <th>NABA_SECRETED_FACTORS</th>\n",
       "      <td> 38.68</td>\n",
       "      <td> 4.98e-10</td>\n",
       "      <td> 6.37e-09</td>\n",
       "      <td> 0.45</td>\n",
       "    </tr>\n",
       "  </tbody>\n",
       "</table>\n",
       "</div>"
      ],
      "text/plain": [
       "                                                                               H         p         q  mean frac\n",
       "REACTOME_UNWINDING_OF_DNA                                                  28.61  8.86e-08  8.24e-07       0.81\n",
       "REACTOME_EXTENSION_OF_TELOMERES                                            55.78  8.12e-14  1.40e-12       0.76\n",
       "BIOCARTA_PROTEASOME_PATHWAY                                                56.05  7.07e-14  1.25e-12       0.74\n",
       "REACTOME_DEPOSITION_OF_NEW_CENPA_CONTAINING_NUCLEOSOMES_AT_THE_CENTROMERE  99.38  2.09e-23  1.11e-21       0.73\n",
       "REACTOME_FANCONI_ANEMIA_PATHWAY                                            30.87  2.76e-08  2.80e-07       0.71\n",
       "PID_FOXM1_PATHWAY                                                          35.10  3.13e-09  3.59e-08       0.70\n",
       "REACTOME_CYTOSOLIC_TRNA_AMINOACYLATION                                     34.10  5.24e-09  5.91e-08       0.70\n",
       "REACTOME_MRNA_SPLICING_MINOR_PATHWAY                                       52.40  4.53e-13  7.17e-12       0.69\n",
       "REACTOME_NEP_NS2_INTERACTS_WITH_THE_CELLULAR_EXPORT_MACHINERY              33.27  8.02e-09  8.74e-08       0.67\n",
       "KEGG_FATTY_ACID_METABOLISM                                                 47.69  5.00e-12  7.15e-11       0.33\n",
       "REACTOME_SRP_DEPENDENT_COTRANSLATIONAL_PROTEIN_TARGETING_TO_MEMBRANE       83.95  5.07e-20  1.82e-18       0.63\n",
       "REACTOME_DEADENYLATION_DEPENDENT_MRNA_DECAY                                27.93  1.26e-07  1.15e-06       0.63\n",
       "REACTOME_ASPARAGINE_N_LINKED_GLYCOSYLATION                                 36.83  1.29e-09  1.55e-08       0.61\n",
       "REACTOME_CYTOCHROME_P450_ARRANGED_BY_SUBSTRATE_TYPE                        25.97  3.46e-07  2.95e-06       0.40\n",
       "REACTOME_G_ALPHA_S_SIGNALLING_EVENTS                                       33.07  8.90e-09  9.54e-08       0.42\n",
       "NABA_ECM_GLYCOPROTEINS                                                     31.19  2.34e-08  2.43e-07       0.44\n",
       "NABA_SECRETED_FACTORS                                                      38.68  4.98e-10  6.37e-09       0.45"
      ]
     },
     "execution_count": 12,
     "metadata": {},
     "output_type": "execute_result"
    }
   ],
   "source": [
    "f2 = fp.ix[ti(rr.q < .00001)]\n",
    "ff_u = filter_pathway_hits(fp.ix[ti(f2>.5)].order()[::-1], gs2)\n",
    "ff_p = filter_pathway_hits(fp.ix[ti(f2<.5)].order(), gs2)\n",
    "ff = ff_u.append(ff_p)\n",
    "\n",
    "selected = rr.ix[ff.index].join(f2)\n",
    "selected.ix[(f2 - .5).abs().order().index[::-1]].dropna()"
   ]
  },
  {
   "cell_type": "code",
   "execution_count": 13,
   "metadata": {
    "collapsed": true
   },
   "outputs": [],
   "source": [
    "selected.to_csv(FIG_DIR + 'f_up_gene_sets_selected_fc.csv')"
   ]
  },
  {
   "cell_type": "markdown",
   "metadata": {},
   "source": [
    "### Gene level proliferation statistic"
   ]
  },
  {
   "cell_type": "code",
   "execution_count": 14,
   "metadata": {
    "collapsed": true
   },
   "outputs": [],
   "source": [
    "gs2 = gene_sets.ix[pcna_corr.dropna().index].fillna(0)\n",
    "rr = screen_feature(pcna_corr, rev_kruskal, gs2.T, \n",
    "                    align=False)\n",
    "fp = (1.*gene_sets.T * pcna_corr).T.dropna().replace(0, np.nan).mean().order()\n",
    "fp.name = 'mean score'"
   ]
  },
  {
   "cell_type": "code",
   "execution_count": 15,
   "metadata": {
    "collapsed": true
   },
   "outputs": [],
   "source": [
    "rr.join(fp).to_csv(FIG_DIR + 'pcna_gene_sets.csv')"
   ]
  },
  {
   "cell_type": "code",
   "execution_count": 16,
   "metadata": {
    "collapsed": false
   },
   "outputs": [
    {
     "data": {
      "text/html": [
       "<div style=\"max-height:1000px;max-width:1500px;overflow:auto;\">\n",
       "<table border=\"1\" class=\"dataframe\">\n",
       "  <thead>\n",
       "    <tr style=\"text-align: right;\">\n",
       "      <th></th>\n",
       "      <th>H</th>\n",
       "      <th>p</th>\n",
       "      <th>q</th>\n",
       "      <th>mean score</th>\n",
       "    </tr>\n",
       "  </thead>\n",
       "  <tbody>\n",
       "    <tr>\n",
       "      <th>REACTOME_CELL_CYCLE</th>\n",
       "      <td> 415.34</td>\n",
       "      <td> 2.52e-92</td>\n",
       "      <td> 3.35e-89</td>\n",
       "      <td> 0.42</td>\n",
       "    </tr>\n",
       "    <tr>\n",
       "      <th>REACTOME_GPCR_DOWNSTREAM_SIGNALING</th>\n",
       "      <td> 278.96</td>\n",
       "      <td> 1.27e-62</td>\n",
       "      <td> 3.37e-60</td>\n",
       "      <td> 0.02</td>\n",
       "    </tr>\n",
       "    <tr>\n",
       "      <th>NABA_MATRISOME_ASSOCIATED</th>\n",
       "      <td> 227.53</td>\n",
       "      <td> 2.06e-51</td>\n",
       "      <td> 3.04e-49</td>\n",
       "      <td> 0.02</td>\n",
       "    </tr>\n",
       "    <tr>\n",
       "      <th>REACTOME_PROCESSING_OF_CAPPED_INTRON_CONTAINING_PRE_MRNA</th>\n",
       "      <td> 216.76</td>\n",
       "      <td> 4.60e-49</td>\n",
       "      <td> 6.12e-47</td>\n",
       "      <td> 0.43</td>\n",
       "    </tr>\n",
       "    <tr>\n",
       "      <th>KEGG_CYTOKINE_CYTOKINE_RECEPTOR_INTERACTION</th>\n",
       "      <td> 144.05</td>\n",
       "      <td> 3.47e-33</td>\n",
       "      <td> 2.56e-31</td>\n",
       "      <td>-0.01</td>\n",
       "    </tr>\n",
       "    <tr>\n",
       "      <th>NABA_ECM_AFFILIATED</th>\n",
       "      <td>  82.47</td>\n",
       "      <td> 1.07e-19</td>\n",
       "      <td> 3.24e-18</td>\n",
       "      <td>-0.02</td>\n",
       "    </tr>\n",
       "    <tr>\n",
       "      <th>NABA_CORE_MATRISOME</th>\n",
       "      <td>  79.20</td>\n",
       "      <td> 5.62e-19</td>\n",
       "      <td> 1.66e-17</td>\n",
       "      <td> 0.02</td>\n",
       "    </tr>\n",
       "    <tr>\n",
       "      <th>KEGG_COMPLEMENT_AND_COAGULATION_CASCADES</th>\n",
       "      <td>  71.09</td>\n",
       "      <td> 3.41e-17</td>\n",
       "      <td> 8.39e-16</td>\n",
       "      <td>-0.10</td>\n",
       "    </tr>\n",
       "    <tr>\n",
       "      <th>KEGG_CELL_ADHESION_MOLECULES_CAMS</th>\n",
       "      <td>  65.29</td>\n",
       "      <td> 6.46e-16</td>\n",
       "      <td> 1.36e-14</td>\n",
       "      <td>-0.02</td>\n",
       "    </tr>\n",
       "    <tr>\n",
       "      <th>KEGG_RNA_DEGRADATION</th>\n",
       "      <td>  62.89</td>\n",
       "      <td> 2.19e-15</td>\n",
       "      <td> 4.22e-14</td>\n",
       "      <td> 0.34</td>\n",
       "    </tr>\n",
       "    <tr>\n",
       "      <th>REACTOME_TRNA_AMINOACYLATION</th>\n",
       "      <td>  54.13</td>\n",
       "      <td> 1.88e-13</td>\n",
       "      <td> 2.77e-12</td>\n",
       "      <td> 0.36</td>\n",
       "    </tr>\n",
       "    <tr>\n",
       "      <th>REACTOME_PEPTIDE_CHAIN_ELONGATION</th>\n",
       "      <td>  40.34</td>\n",
       "      <td> 2.14e-10</td>\n",
       "      <td> 2.24e-09</td>\n",
       "      <td> 0.01</td>\n",
       "    </tr>\n",
       "    <tr>\n",
       "      <th>REACTOME_PHASE1_FUNCTIONALIZATION_OF_COMPOUNDS</th>\n",
       "      <td>  35.89</td>\n",
       "      <td> 2.08e-09</td>\n",
       "      <td> 1.98e-08</td>\n",
       "      <td>-0.02</td>\n",
       "    </tr>\n",
       "    <tr>\n",
       "      <th>REACTOME_BIOLOGICAL_OXIDATIONS</th>\n",
       "      <td>  33.62</td>\n",
       "      <td> 6.70e-09</td>\n",
       "      <td> 6.11e-08</td>\n",
       "      <td> 0.03</td>\n",
       "    </tr>\n",
       "    <tr>\n",
       "      <th>REACTOME_MITOCHONDRIAL_PROTEIN_IMPORT</th>\n",
       "      <td>  33.46</td>\n",
       "      <td> 7.29e-09</td>\n",
       "      <td> 6.55e-08</td>\n",
       "      <td> 0.29</td>\n",
       "    </tr>\n",
       "    <tr>\n",
       "      <th>KEGG_BASAL_TRANSCRIPTION_FACTORS</th>\n",
       "      <td>  32.91</td>\n",
       "      <td> 9.67e-09</td>\n",
       "      <td> 8.58e-08</td>\n",
       "      <td> 0.32</td>\n",
       "    </tr>\n",
       "    <tr>\n",
       "      <th>REACTOME_GENERIC_TRANSCRIPTION_PATHWAY</th>\n",
       "      <td>  27.15</td>\n",
       "      <td> 1.88e-07</td>\n",
       "      <td> 1.39e-06</td>\n",
       "      <td> 0.18</td>\n",
       "    </tr>\n",
       "    <tr>\n",
       "      <th>REACTOME_INTERFERON_GAMMA_SIGNALING</th>\n",
       "      <td>  25.04</td>\n",
       "      <td> 5.61e-07</td>\n",
       "      <td> 3.87e-06</td>\n",
       "      <td> 0.00</td>\n",
       "    </tr>\n",
       "    <tr>\n",
       "      <th>KEGG_DILATED_CARDIOMYOPATHY</th>\n",
       "      <td>  22.09</td>\n",
       "      <td> 2.60e-06</td>\n",
       "      <td> 1.59e-05</td>\n",
       "      <td> 0.03</td>\n",
       "    </tr>\n",
       "    <tr>\n",
       "      <th>REACTOME_RESPIRATORY_ELECTRON_TRANSPORT</th>\n",
       "      <td>  19.97</td>\n",
       "      <td> 7.86e-06</td>\n",
       "      <td> 4.52e-05</td>\n",
       "      <td> 0.23</td>\n",
       "    </tr>\n",
       "  </tbody>\n",
       "</table>\n",
       "</div>"
      ],
      "text/plain": [
       "                                                               H         p         q  mean score\n",
       "REACTOME_CELL_CYCLE                                       415.34  2.52e-92  3.35e-89        0.42\n",
       "REACTOME_GPCR_DOWNSTREAM_SIGNALING                        278.96  1.27e-62  3.37e-60        0.02\n",
       "NABA_MATRISOME_ASSOCIATED                                 227.53  2.06e-51  3.04e-49        0.02\n",
       "REACTOME_PROCESSING_OF_CAPPED_INTRON_CONTAINING_PRE_MRNA  216.76  4.60e-49  6.12e-47        0.43\n",
       "KEGG_CYTOKINE_CYTOKINE_RECEPTOR_INTERACTION               144.05  3.47e-33  2.56e-31       -0.01\n",
       "NABA_ECM_AFFILIATED                                        82.47  1.07e-19  3.24e-18       -0.02\n",
       "NABA_CORE_MATRISOME                                        79.20  5.62e-19  1.66e-17        0.02\n",
       "KEGG_COMPLEMENT_AND_COAGULATION_CASCADES                   71.09  3.41e-17  8.39e-16       -0.10\n",
       "KEGG_CELL_ADHESION_MOLECULES_CAMS                          65.29  6.46e-16  1.36e-14       -0.02\n",
       "KEGG_RNA_DEGRADATION                                       62.89  2.19e-15  4.22e-14        0.34\n",
       "REACTOME_TRNA_AMINOACYLATION                               54.13  1.88e-13  2.77e-12        0.36\n",
       "REACTOME_PEPTIDE_CHAIN_ELONGATION                          40.34  2.14e-10  2.24e-09        0.01\n",
       "REACTOME_PHASE1_FUNCTIONALIZATION_OF_COMPOUNDS             35.89  2.08e-09  1.98e-08       -0.02\n",
       "REACTOME_BIOLOGICAL_OXIDATIONS                             33.62  6.70e-09  6.11e-08        0.03\n",
       "REACTOME_MITOCHONDRIAL_PROTEIN_IMPORT                      33.46  7.29e-09  6.55e-08        0.29\n",
       "KEGG_BASAL_TRANSCRIPTION_FACTORS                           32.91  9.67e-09  8.58e-08        0.32\n",
       "REACTOME_GENERIC_TRANSCRIPTION_PATHWAY                     27.15  1.88e-07  1.39e-06        0.18\n",
       "REACTOME_INTERFERON_GAMMA_SIGNALING                        25.04  5.61e-07  3.87e-06        0.00\n",
       "KEGG_DILATED_CARDIOMYOPATHY                                22.09  2.60e-06  1.59e-05        0.03\n",
       "REACTOME_RESPIRATORY_ELECTRON_TRANSPORT                    19.97  7.86e-06  4.52e-05        0.23"
      ]
     },
     "execution_count": 16,
     "metadata": {},
     "output_type": "execute_result"
    }
   ],
   "source": [
    "ff_u = filter_pathway_hits(rr.ix[ti(fp>0)].p.order(), gs2)\n",
    "ff_p = filter_pathway_hits(rr.ix[ti(fp<0)].p.order(), gs2)\n",
    "ff = ff_u.append(ff_p)\n",
    "selected = rr.ix[ff[ff < .00001].index].join(fp)\n",
    "selected.sort('p')"
   ]
  },
  {
   "cell_type": "code",
   "execution_count": 17,
   "metadata": {
    "collapsed": true
   },
   "outputs": [],
   "source": [
    "selected.to_csv(FIG_DIR + 'pcna_gene_sets_selected.csv')"
   ]
  },
  {
   "cell_type": "code",
   "execution_count": 18,
   "metadata": {
    "collapsed": false
   },
   "outputs": [
    {
     "data": {
      "text/html": [
       "<div style=\"max-height:1000px;max-width:1500px;overflow:auto;\">\n",
       "<table border=\"1\" class=\"dataframe\">\n",
       "  <thead>\n",
       "    <tr style=\"text-align: right;\">\n",
       "      <th></th>\n",
       "      <th>H</th>\n",
       "      <th>p</th>\n",
       "      <th>q</th>\n",
       "      <th>mean score</th>\n",
       "    </tr>\n",
       "  </thead>\n",
       "  <tbody>\n",
       "    <tr>\n",
       "      <th>KEGG_OLFACTORY_TRANSDUCTION</th>\n",
       "      <td> 162.64</td>\n",
       "      <td> 3.00e-37</td>\n",
       "      <td> 3.07e-35</td>\n",
       "      <td> 0.02</td>\n",
       "    </tr>\n",
       "    <tr>\n",
       "      <th>REACTOME_MITOTIC_PROMETAPHASE</th>\n",
       "      <td> 142.12</td>\n",
       "      <td> 9.16e-33</td>\n",
       "      <td> 6.42e-31</td>\n",
       "      <td> 0.54</td>\n",
       "    </tr>\n",
       "    <tr>\n",
       "      <th>NABA_CORE_MATRISOME</th>\n",
       "      <td>  79.20</td>\n",
       "      <td> 5.62e-19</td>\n",
       "      <td> 1.66e-17</td>\n",
       "      <td> 0.02</td>\n",
       "    </tr>\n",
       "    <tr>\n",
       "      <th>REACTOME_EXTENSION_OF_TELOMERES</th>\n",
       "      <td>  61.80</td>\n",
       "      <td> 3.80e-15</td>\n",
       "      <td> 6.83e-14</td>\n",
       "      <td> 0.57</td>\n",
       "    </tr>\n",
       "    <tr>\n",
       "      <th>KEGG_GRAFT_VERSUS_HOST_DISEASE</th>\n",
       "      <td>  60.74</td>\n",
       "      <td> 6.51e-15</td>\n",
       "      <td> 1.15e-13</td>\n",
       "      <td>-0.13</td>\n",
       "    </tr>\n",
       "    <tr>\n",
       "      <th>BIOCARTA_PROTEASOME_PATHWAY</th>\n",
       "      <td>  57.76</td>\n",
       "      <td> 2.96e-14</td>\n",
       "      <td> 4.63e-13</td>\n",
       "      <td> 0.44</td>\n",
       "    </tr>\n",
       "    <tr>\n",
       "      <th>REACTOME_PROCESSING_OF_CAPPED_INTRONLESS_PRE_MRNA</th>\n",
       "      <td>  45.54</td>\n",
       "      <td> 1.50e-11</td>\n",
       "      <td> 1.79e-10</td>\n",
       "      <td> 0.46</td>\n",
       "    </tr>\n",
       "    <tr>\n",
       "      <th>REACTOME_DEADENYLATION_DEPENDENT_MRNA_DECAY</th>\n",
       "      <td>  43.52</td>\n",
       "      <td> 4.19e-11</td>\n",
       "      <td> 4.85e-10</td>\n",
       "      <td> 0.34</td>\n",
       "    </tr>\n",
       "    <tr>\n",
       "      <th>PID_ATM_PATHWAY</th>\n",
       "      <td>  41.50</td>\n",
       "      <td> 1.18e-10</td>\n",
       "      <td> 1.29e-09</td>\n",
       "      <td> 0.41</td>\n",
       "    </tr>\n",
       "    <tr>\n",
       "      <th>REACTOME_CHEMOKINE_RECEPTORS_BIND_CHEMOKINES</th>\n",
       "      <td>  40.49</td>\n",
       "      <td> 1.97e-10</td>\n",
       "      <td> 2.08e-09</td>\n",
       "      <td>-0.04</td>\n",
       "    </tr>\n",
       "    <tr>\n",
       "      <th>REACTOME_G0_AND_EARLY_G1</th>\n",
       "      <td>  40.11</td>\n",
       "      <td> 2.40e-10</td>\n",
       "      <td> 2.50e-09</td>\n",
       "      <td> 0.54</td>\n",
       "    </tr>\n",
       "    <tr>\n",
       "      <th>KEGG_JAK_STAT_SIGNALING_PATHWAY</th>\n",
       "      <td>  40.06</td>\n",
       "      <td> 2.46e-10</td>\n",
       "      <td> 2.54e-09</td>\n",
       "      <td> 0.03</td>\n",
       "    </tr>\n",
       "    <tr>\n",
       "      <th>REACTOME_RNA_POL_I_PROMOTER_OPENING</th>\n",
       "      <td>  38.13</td>\n",
       "      <td> 6.63e-10</td>\n",
       "      <td> 6.68e-09</td>\n",
       "      <td> 0.29</td>\n",
       "    </tr>\n",
       "    <tr>\n",
       "      <th>KEGG_RIBOSOME</th>\n",
       "      <td>  37.75</td>\n",
       "      <td> 8.03e-10</td>\n",
       "      <td> 8.03e-09</td>\n",
       "      <td> 0.02</td>\n",
       "    </tr>\n",
       "    <tr>\n",
       "      <th>NABA_ECM_REGULATORS</th>\n",
       "      <td>  35.94</td>\n",
       "      <td> 2.03e-09</td>\n",
       "      <td> 1.95e-08</td>\n",
       "      <td> 0.05</td>\n",
       "    </tr>\n",
       "    <tr>\n",
       "      <th>REACTOME_BIOLOGICAL_OXIDATIONS</th>\n",
       "      <td>  33.62</td>\n",
       "      <td> 6.70e-09</td>\n",
       "      <td> 6.11e-08</td>\n",
       "      <td> 0.03</td>\n",
       "    </tr>\n",
       "    <tr>\n",
       "      <th>REACTOME_MITOCHONDRIAL_PROTEIN_IMPORT</th>\n",
       "      <td>  33.46</td>\n",
       "      <td> 7.29e-09</td>\n",
       "      <td> 6.55e-08</td>\n",
       "      <td> 0.29</td>\n",
       "    </tr>\n",
       "    <tr>\n",
       "      <th>REACTOME_UNWINDING_OF_DNA</th>\n",
       "      <td>  32.07</td>\n",
       "      <td> 1.48e-08</td>\n",
       "      <td> 1.31e-07</td>\n",
       "      <td> 0.75</td>\n",
       "    </tr>\n",
       "    <tr>\n",
       "      <th>REACTOME_CYTOSOLIC_TRNA_AMINOACYLATION</th>\n",
       "      <td>  31.57</td>\n",
       "      <td> 1.92e-08</td>\n",
       "      <td> 1.63e-07</td>\n",
       "      <td> 0.37</td>\n",
       "    </tr>\n",
       "    <tr>\n",
       "      <th>REACTOME_INITIAL_TRIGGERING_OF_COMPLEMENT</th>\n",
       "      <td>  27.82</td>\n",
       "      <td> 1.33e-07</td>\n",
       "      <td> 9.98e-07</td>\n",
       "      <td>-0.21</td>\n",
       "    </tr>\n",
       "    <tr>\n",
       "      <th>REACTOME_FORMATION_OF_FIBRIN_CLOT_CLOTTING_CASCADE</th>\n",
       "      <td>  26.98</td>\n",
       "      <td> 2.06e-07</td>\n",
       "      <td> 1.51e-06</td>\n",
       "      <td>-0.08</td>\n",
       "    </tr>\n",
       "    <tr>\n",
       "      <th>KEGG_PPAR_SIGNALING_PATHWAY</th>\n",
       "      <td>  25.95</td>\n",
       "      <td> 3.51e-07</td>\n",
       "      <td> 2.45e-06</td>\n",
       "      <td> 0.00</td>\n",
       "    </tr>\n",
       "    <tr>\n",
       "      <th>REACTOME_RNA_POL_I_TRANSCRIPTION_INITIATION</th>\n",
       "      <td>  24.91</td>\n",
       "      <td> 6.01e-07</td>\n",
       "      <td> 4.10e-06</td>\n",
       "      <td> 0.34</td>\n",
       "    </tr>\n",
       "    <tr>\n",
       "      <th>REACTOME_BILE_ACID_AND_BILE_SALT_METABOLISM</th>\n",
       "      <td>  23.80</td>\n",
       "      <td> 1.07e-06</td>\n",
       "      <td> 7.03e-06</td>\n",
       "      <td>-0.04</td>\n",
       "    </tr>\n",
       "    <tr>\n",
       "      <th>BIOCARTA_DC_PATHWAY</th>\n",
       "      <td>  22.97</td>\n",
       "      <td> 1.65e-06</td>\n",
       "      <td> 1.06e-05</td>\n",
       "      <td>-0.07</td>\n",
       "    </tr>\n",
       "    <tr>\n",
       "      <th>KEGG_DILATED_CARDIOMYOPATHY</th>\n",
       "      <td>  22.09</td>\n",
       "      <td> 2.60e-06</td>\n",
       "      <td> 1.59e-05</td>\n",
       "      <td> 0.03</td>\n",
       "    </tr>\n",
       "    <tr>\n",
       "      <th>REACTOME_RESPIRATORY_ELECTRON_TRANSPORT</th>\n",
       "      <td>  19.97</td>\n",
       "      <td> 7.86e-06</td>\n",
       "      <td> 4.52e-05</td>\n",
       "      <td> 0.23</td>\n",
       "    </tr>\n",
       "    <tr>\n",
       "      <th>REACTOME_NITRIC_OXIDE_STIMULATES_GUANYLATE_CYCLASE</th>\n",
       "      <td>  18.78</td>\n",
       "      <td> 1.47e-05</td>\n",
       "      <td> 8.09e-05</td>\n",
       "      <td>-0.04</td>\n",
       "    </tr>\n",
       "    <tr>\n",
       "      <th>REACTOME_GASTRIN_CREB_SIGNALLING_PATHWAY_VIA_PKC_AND_MAPK</th>\n",
       "      <td>  18.77</td>\n",
       "      <td> 1.47e-05</td>\n",
       "      <td> 8.09e-05</td>\n",
       "      <td> 0.07</td>\n",
       "    </tr>\n",
       "    <tr>\n",
       "      <th>KEGG_LINOLEIC_ACID_METABOLISM</th>\n",
       "      <td>  18.69</td>\n",
       "      <td> 1.54e-05</td>\n",
       "      <td> 8.38e-05</td>\n",
       "      <td>-0.04</td>\n",
       "    </tr>\n",
       "  </tbody>\n",
       "</table>\n",
       "</div>"
      ],
      "text/plain": [
       "                                                                H         p         q  mean score\n",
       "KEGG_OLFACTORY_TRANSDUCTION                                162.64  3.00e-37  3.07e-35        0.02\n",
       "REACTOME_MITOTIC_PROMETAPHASE                              142.12  9.16e-33  6.42e-31        0.54\n",
       "NABA_CORE_MATRISOME                                         79.20  5.62e-19  1.66e-17        0.02\n",
       "REACTOME_EXTENSION_OF_TELOMERES                             61.80  3.80e-15  6.83e-14        0.57\n",
       "KEGG_GRAFT_VERSUS_HOST_DISEASE                              60.74  6.51e-15  1.15e-13       -0.13\n",
       "BIOCARTA_PROTEASOME_PATHWAY                                 57.76  2.96e-14  4.63e-13        0.44\n",
       "REACTOME_PROCESSING_OF_CAPPED_INTRONLESS_PRE_MRNA           45.54  1.50e-11  1.79e-10        0.46\n",
       "REACTOME_DEADENYLATION_DEPENDENT_MRNA_DECAY                 43.52  4.19e-11  4.85e-10        0.34\n",
       "PID_ATM_PATHWAY                                             41.50  1.18e-10  1.29e-09        0.41\n",
       "REACTOME_CHEMOKINE_RECEPTORS_BIND_CHEMOKINES                40.49  1.97e-10  2.08e-09       -0.04\n",
       "REACTOME_G0_AND_EARLY_G1                                    40.11  2.40e-10  2.50e-09        0.54\n",
       "KEGG_JAK_STAT_SIGNALING_PATHWAY                             40.06  2.46e-10  2.54e-09        0.03\n",
       "REACTOME_RNA_POL_I_PROMOTER_OPENING                         38.13  6.63e-10  6.68e-09        0.29\n",
       "KEGG_RIBOSOME                                               37.75  8.03e-10  8.03e-09        0.02\n",
       "NABA_ECM_REGULATORS                                         35.94  2.03e-09  1.95e-08        0.05\n",
       "REACTOME_BIOLOGICAL_OXIDATIONS                              33.62  6.70e-09  6.11e-08        0.03\n",
       "REACTOME_MITOCHONDRIAL_PROTEIN_IMPORT                       33.46  7.29e-09  6.55e-08        0.29\n",
       "REACTOME_UNWINDING_OF_DNA                                   32.07  1.48e-08  1.31e-07        0.75\n",
       "REACTOME_CYTOSOLIC_TRNA_AMINOACYLATION                      31.57  1.92e-08  1.63e-07        0.37\n",
       "REACTOME_INITIAL_TRIGGERING_OF_COMPLEMENT                   27.82  1.33e-07  9.98e-07       -0.21\n",
       "REACTOME_FORMATION_OF_FIBRIN_CLOT_CLOTTING_CASCADE          26.98  2.06e-07  1.51e-06       -0.08\n",
       "KEGG_PPAR_SIGNALING_PATHWAY                                 25.95  3.51e-07  2.45e-06        0.00\n",
       "REACTOME_RNA_POL_I_TRANSCRIPTION_INITIATION                 24.91  6.01e-07  4.10e-06        0.34\n",
       "REACTOME_BILE_ACID_AND_BILE_SALT_METABOLISM                 23.80  1.07e-06  7.03e-06       -0.04\n",
       "BIOCARTA_DC_PATHWAY                                         22.97  1.65e-06  1.06e-05       -0.07\n",
       "KEGG_DILATED_CARDIOMYOPATHY                                 22.09  2.60e-06  1.59e-05        0.03\n",
       "REACTOME_RESPIRATORY_ELECTRON_TRANSPORT                     19.97  7.86e-06  4.52e-05        0.23\n",
       "REACTOME_NITRIC_OXIDE_STIMULATES_GUANYLATE_CYCLASE          18.78  1.47e-05  8.09e-05       -0.04\n",
       "REACTOME_GASTRIN_CREB_SIGNALLING_PATHWAY_VIA_PKC_AND_MAPK   18.77  1.47e-05  8.09e-05        0.07\n",
       "KEGG_LINOLEIC_ACID_METABOLISM                               18.69  1.54e-05  8.38e-05       -0.04"
      ]
     },
     "execution_count": 18,
     "metadata": {},
     "output_type": "execute_result"
    }
   ],
   "source": [
    "f2 = fp.ix[ti(rr.q < .0001)]\n",
    "ff_u = filter_pathway_hits(fp.ix[ti(f2>0)].order()[::-1], gs2)\n",
    "ff_p = filter_pathway_hits(fp.ix[ti(f2<0)].order(), gs2)\n",
    "ff = ff_u.append(ff_p)\n",
    "\n",
    "selected = rr.ix[ff.index].join(f2)\n",
    "selected.sort('p')"
   ]
  },
  {
   "cell_type": "code",
   "execution_count": 19,
   "metadata": {
    "collapsed": true
   },
   "outputs": [],
   "source": [
    "selected.to_csv(FIG_DIR + 'pcna_gene_sets_selected_fc.csv')"
   ]
  },
  {
   "cell_type": "markdown",
   "metadata": {},
   "source": [
    "### Gene level detrended fraction upregulated statistic"
   ]
  },
  {
   "cell_type": "code",
   "execution_count": 20,
   "metadata": {
    "collapsed": false
   },
   "outputs": [],
   "source": [
    "gs2 = gene_sets.ix[f_win.dropna().index].fillna(0)\n",
    "rr = screen_feature(f_win, rev_kruskal, gs2.T, \n",
    "                    align=False)\n",
    "fp = (1.*gene_sets.T * f_win).T.dropna().replace(0, np.nan).mean().order()\n",
    "fp.name = 'mean score'"
   ]
  },
  {
   "cell_type": "code",
   "execution_count": 21,
   "metadata": {
    "collapsed": true
   },
   "outputs": [],
   "source": [
    "rr.join(fp).to_csv(FIG_DIR + 'detrended_fup_sets.csv')"
   ]
  },
  {
   "cell_type": "code",
   "execution_count": 22,
   "metadata": {
    "collapsed": false
   },
   "outputs": [
    {
     "data": {
      "text/html": [
       "<div style=\"max-height:1000px;max-width:1500px;overflow:auto;\">\n",
       "<table border=\"1\" class=\"dataframe\">\n",
       "  <thead>\n",
       "    <tr style=\"text-align: right;\">\n",
       "      <th></th>\n",
       "      <th>H</th>\n",
       "      <th>p</th>\n",
       "      <th>q</th>\n",
       "      <th>mean score</th>\n",
       "    </tr>\n",
       "  </thead>\n",
       "  <tbody>\n",
       "    <tr>\n",
       "      <th>REACTOME_TRANSLATION</th>\n",
       "      <td> 158.08</td>\n",
       "      <td> 2.97e-36</td>\n",
       "      <td> 3.86e-33</td>\n",
       "      <td> 0.13</td>\n",
       "    </tr>\n",
       "    <tr>\n",
       "      <th>KEGG_SYSTEMIC_LUPUS_ERYTHEMATOSUS</th>\n",
       "      <td>  82.42</td>\n",
       "      <td> 1.10e-19</td>\n",
       "      <td> 1.22e-17</td>\n",
       "      <td> 0.10</td>\n",
       "    </tr>\n",
       "    <tr>\n",
       "      <th>KEGG_FATTY_ACID_METABOLISM</th>\n",
       "      <td>  42.00</td>\n",
       "      <td> 9.14e-11</td>\n",
       "      <td> 5.79e-09</td>\n",
       "      <td>-0.13</td>\n",
       "    </tr>\n",
       "    <tr>\n",
       "      <th>REACTOME_INTERFERON_ALPHA_BETA_SIGNALING</th>\n",
       "      <td>  41.59</td>\n",
       "      <td> 1.13e-10</td>\n",
       "      <td> 6.81e-09</td>\n",
       "      <td> 0.11</td>\n",
       "    </tr>\n",
       "    <tr>\n",
       "      <th>KEGG_LYSOSOME</th>\n",
       "      <td>  38.06</td>\n",
       "      <td> 6.86e-10</td>\n",
       "      <td> 3.51e-08</td>\n",
       "      <td> 0.07</td>\n",
       "    </tr>\n",
       "    <tr>\n",
       "      <th>REACTOME_GENERIC_TRANSCRIPTION_PATHWAY</th>\n",
       "      <td>  34.89</td>\n",
       "      <td> 3.48e-09</td>\n",
       "      <td> 1.36e-07</td>\n",
       "      <td>-0.03</td>\n",
       "    </tr>\n",
       "    <tr>\n",
       "      <th>REACTOME_VIF_MEDIATED_DEGRADATION_OF_APOBEC3G</th>\n",
       "      <td>  34.13</td>\n",
       "      <td> 5.16e-09</td>\n",
       "      <td> 1.96e-07</td>\n",
       "      <td> 0.09</td>\n",
       "    </tr>\n",
       "    <tr>\n",
       "      <th>REACTOME_ASPARAGINE_N_LINKED_GLYCOSYLATION</th>\n",
       "      <td>  29.17</td>\n",
       "      <td> 6.63e-08</td>\n",
       "      <td> 1.76e-06</td>\n",
       "      <td> 0.07</td>\n",
       "    </tr>\n",
       "    <tr>\n",
       "      <th>REACTOME_EXTRACELLULAR_MATRIX_ORGANIZATION</th>\n",
       "      <td>  21.82</td>\n",
       "      <td> 2.99e-06</td>\n",
       "      <td> 5.45e-05</td>\n",
       "      <td> 0.08</td>\n",
       "    </tr>\n",
       "  </tbody>\n",
       "</table>\n",
       "</div>"
      ],
      "text/plain": [
       "                                                    H         p         q  mean score\n",
       "REACTOME_TRANSLATION                           158.08  2.97e-36  3.86e-33        0.13\n",
       "KEGG_SYSTEMIC_LUPUS_ERYTHEMATOSUS               82.42  1.10e-19  1.22e-17        0.10\n",
       "KEGG_FATTY_ACID_METABOLISM                      42.00  9.14e-11  5.79e-09       -0.13\n",
       "REACTOME_INTERFERON_ALPHA_BETA_SIGNALING        41.59  1.13e-10  6.81e-09        0.11\n",
       "KEGG_LYSOSOME                                   38.06  6.86e-10  3.51e-08        0.07\n",
       "REACTOME_GENERIC_TRANSCRIPTION_PATHWAY          34.89  3.48e-09  1.36e-07       -0.03\n",
       "REACTOME_VIF_MEDIATED_DEGRADATION_OF_APOBEC3G   34.13  5.16e-09  1.96e-07        0.09\n",
       "REACTOME_ASPARAGINE_N_LINKED_GLYCOSYLATION      29.17  6.63e-08  1.76e-06        0.07\n",
       "REACTOME_EXTRACELLULAR_MATRIX_ORGANIZATION      21.82  2.99e-06  5.45e-05        0.08"
      ]
     },
     "execution_count": 22,
     "metadata": {},
     "output_type": "execute_result"
    }
   ],
   "source": [
    "f2 = fp.ix[ti(rr.q < .0001)]\n",
    "ff_u = filter_pathway_hits(rr.ix[ti(f2>0)].p.order(), gs2)\n",
    "ff_p = filter_pathway_hits(rr.ix[ti(f2<0)].p.order(), gs2)\n",
    "ff = ff_u.append(ff_p)\n",
    "\n",
    "selected = rr.ix[ff[ff < .00001].index].join(fp)\n",
    "selected.sort('p')"
   ]
  },
  {
   "cell_type": "code",
   "execution_count": 23,
   "metadata": {
    "collapsed": true
   },
   "outputs": [],
   "source": [
    "selected.to_csv(FIG_DIR + 'detrended_fup_sets_selected.csv')"
   ]
  },
  {
   "cell_type": "code",
   "execution_count": 24,
   "metadata": {
    "collapsed": false
   },
   "outputs": [
    {
     "data": {
      "text/html": [
       "<div style=\"max-height:1000px;max-width:1500px;overflow:auto;\">\n",
       "<table border=\"1\" class=\"dataframe\">\n",
       "  <thead>\n",
       "    <tr style=\"text-align: right;\">\n",
       "      <th></th>\n",
       "      <th>H</th>\n",
       "      <th>p</th>\n",
       "      <th>q</th>\n",
       "      <th>mean score</th>\n",
       "    </tr>\n",
       "  </thead>\n",
       "  <tbody>\n",
       "    <tr>\n",
       "      <th>KEGG_RIBOSOME</th>\n",
       "      <td> 144.04</td>\n",
       "      <td> 3.47e-33</td>\n",
       "      <td> 1.16e-30</td>\n",
       "      <td> 0.16</td>\n",
       "    </tr>\n",
       "    <tr>\n",
       "      <th>REACTOME_PACKAGING_OF_TELOMERE_ENDS</th>\n",
       "      <td>  45.35</td>\n",
       "      <td> 1.65e-11</td>\n",
       "      <td> 1.15e-09</td>\n",
       "      <td> 0.12</td>\n",
       "    </tr>\n",
       "    <tr>\n",
       "      <th>KEGG_FATTY_ACID_METABOLISM</th>\n",
       "      <td>  42.00</td>\n",
       "      <td> 9.14e-11</td>\n",
       "      <td> 5.79e-09</td>\n",
       "      <td>-0.13</td>\n",
       "    </tr>\n",
       "    <tr>\n",
       "      <th>KEGG_LYSOSOME</th>\n",
       "      <td>  38.06</td>\n",
       "      <td> 6.86e-10</td>\n",
       "      <td> 3.51e-08</td>\n",
       "      <td> 0.07</td>\n",
       "    </tr>\n",
       "    <tr>\n",
       "      <th>KEGG_GRAFT_VERSUS_HOST_DISEASE</th>\n",
       "      <td>  35.52</td>\n",
       "      <td> 2.52e-09</td>\n",
       "      <td> 1.05e-07</td>\n",
       "      <td> 0.11</td>\n",
       "    </tr>\n",
       "    <tr>\n",
       "      <th>REACTOME_GENERIC_TRANSCRIPTION_PATHWAY</th>\n",
       "      <td>  34.89</td>\n",
       "      <td> 3.48e-09</td>\n",
       "      <td> 1.36e-07</td>\n",
       "      <td>-0.03</td>\n",
       "    </tr>\n",
       "    <tr>\n",
       "      <th>KEGG_PROTEASOME</th>\n",
       "      <td>  31.14</td>\n",
       "      <td> 2.40e-08</td>\n",
       "      <td> 7.43e-07</td>\n",
       "      <td> 0.09</td>\n",
       "    </tr>\n",
       "    <tr>\n",
       "      <th>REACTOME_N_GLYCAN_TRIMMING_IN_THE_ER_AND_CALNEXIN_CALRETICULIN_CYCLE</th>\n",
       "      <td>  24.76</td>\n",
       "      <td> 6.48e-07</td>\n",
       "      <td> 1.35e-05</td>\n",
       "      <td> 0.18</td>\n",
       "    </tr>\n",
       "    <tr>\n",
       "      <th>REACTOME_EXTRACELLULAR_MATRIX_ORGANIZATION</th>\n",
       "      <td>  21.82</td>\n",
       "      <td> 2.99e-06</td>\n",
       "      <td> 5.45e-05</td>\n",
       "      <td> 0.08</td>\n",
       "    </tr>\n",
       "  </tbody>\n",
       "</table>\n",
       "</div>"
      ],
      "text/plain": [
       "                                                                           H         p         q  mean score\n",
       "KEGG_RIBOSOME                                                         144.04  3.47e-33  1.16e-30        0.16\n",
       "REACTOME_PACKAGING_OF_TELOMERE_ENDS                                    45.35  1.65e-11  1.15e-09        0.12\n",
       "KEGG_FATTY_ACID_METABOLISM                                             42.00  9.14e-11  5.79e-09       -0.13\n",
       "KEGG_LYSOSOME                                                          38.06  6.86e-10  3.51e-08        0.07\n",
       "KEGG_GRAFT_VERSUS_HOST_DISEASE                                         35.52  2.52e-09  1.05e-07        0.11\n",
       "REACTOME_GENERIC_TRANSCRIPTION_PATHWAY                                 34.89  3.48e-09  1.36e-07       -0.03\n",
       "KEGG_PROTEASOME                                                        31.14  2.40e-08  7.43e-07        0.09\n",
       "REACTOME_N_GLYCAN_TRIMMING_IN_THE_ER_AND_CALNEXIN_CALRETICULIN_CYCLE   24.76  6.48e-07  1.35e-05        0.18\n",
       "REACTOME_EXTRACELLULAR_MATRIX_ORGANIZATION                             21.82  2.99e-06  5.45e-05        0.08"
      ]
     },
     "execution_count": 24,
     "metadata": {},
     "output_type": "execute_result"
    }
   ],
   "source": [
    "f2 = fp.ix[ti(rr.q < .0001)]\n",
    "ff_u = filter_pathway_hits(fp.ix[ti(f2>0)].order()[::-1], gs2)\n",
    "ff_p = filter_pathway_hits(fp.ix[ti(f2<0)].order(), gs2)\n",
    "ff = ff_u.append(ff_p)\n",
    "\n",
    "selected = rr.ix[ff.index].join(f2)\n",
    "selected.sort('p')"
   ]
  },
  {
   "cell_type": "code",
   "execution_count": 25,
   "metadata": {
    "collapsed": true
   },
   "outputs": [],
   "source": [
    "selected.to_csv(FIG_DIR + 'detrended_fup_sets_selected_fc.csv')"
   ]
  },
  {
   "cell_type": "markdown",
   "metadata": {},
   "source": [
    "### Diggining into the different telomere gene subsets"
   ]
  },
  {
   "cell_type": "code",
   "execution_count": 26,
   "metadata": {
    "collapsed": false
   },
   "outputs": [
    {
     "data": {
      "text/plain": [
       "['PID_TELOMERASE_PATHWAY',\n",
       " 'REACTOME_EXTENSION_OF_TELOMERES',\n",
       " 'REACTOME_PACKAGING_OF_TELOMERE_ENDS',\n",
       " 'REACTOME_TELOMERE_MAINTENANCE']"
      ]
     },
     "execution_count": 26,
     "metadata": {},
     "output_type": "execute_result"
    }
   ],
   "source": [
    "[g for g in gs2 if 'TELO' in g]"
   ]
  },
  {
   "cell_type": "code",
   "execution_count": 27,
   "metadata": {
    "collapsed": false
   },
   "outputs": [],
   "source": [
    "a = gs2['REACTOME_PACKAGING_OF_TELOMERE_ENDS']>0\n",
    "b = gs2['REACTOME_EXTENSION_OF_TELOMERES']>0\n",
    "a.name = 'end packaging'\n",
    "b.name = 'extension'\n",
    "cc = combine(a,b).replace('neither', np.nan).dropna()"
   ]
  },
  {
   "cell_type": "code",
   "execution_count": 28,
   "metadata": {
    "collapsed": false
   },
   "outputs": [
    {
     "data": {
      "image/png": "[encoded data removed]",
      "text/plain": [
       "<matplotlib.figure.Figure at 0x7f201d2d0590>"
      ]
     },
     "metadata": {},
     "output_type": "display_data"
    }
   ],
   "source": [
    "fig, ax = subplots(figsize=(4,4))\n",
    "series_scatter(dx_rna.frac, pcna_corr.ix[ti(cc == 'end packaging')],\n",
    "               ax=ax, color=colors[0], ann=None, alpha=1, s=30)\n",
    "series_scatter(dx_rna.frac, pcna_corr.ix[ti(cc == 'extension')],\n",
    "               ax=ax, color=colors[1], ann=None, alpha=1, s=30)\n",
    "ax.set_xlabel('Fraction Upregulated')\n",
    "ax.set_ylabel('Proliferation Score')\n",
    "ax.legend(['end packaging','extension'], loc='upper left', frameon=True)\n",
    "prettify_ax(ax)"
   ]
  },
  {
   "cell_type": "code",
   "execution_count": 29,
   "metadata": {
    "collapsed": false
   },
   "outputs": [
    {
     "data": {
      "image/png": "[encoded data removed]",
      "text/plain": [
       "<matplotlib.figure.Figure at 0x7f201d2c7bd0>"
      ]
     },
     "metadata": {},
     "output_type": "display_data"
    }
   ],
   "source": [
    "violin_plot_pandas(cc, f_win)"
   ]
  }
 ],
 "metadata": {
  "kernelspec": {
   "display_name": "Python 2",
   "language": "python",
   "name": "python2"
  },
  "language_info": {
   "codemirror_mode": {
    "name": "ipython",
    "version": 2
   },
   "file_extension": ".py",
   "mimetype": "text/x-python",
   "name": "python",
   "nbconvert_exporter": "python",
   "pygments_lexer": "ipython2",
   "version": "2.7.9"
  }
 },
 "nbformat": 4,
 "nbformat_minor": 0
}
