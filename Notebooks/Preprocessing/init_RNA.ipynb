{
 "cells": [
  {
   "cell_type": "markdown",
   "metadata": {},
   "source": [
    "# Initialize mRNA Storage Structures"
   ]
  },
  {
   "cell_type": "code",
   "execution_count": 1,
   "metadata": {
    "collapsed": false
   },
   "outputs": [
    {
     "data": {
      "text/plain": [
       "u'/cellar/users/agross/TCGA_Code/DX/Notebooks/Preprocessing'"
      ]
     },
     "execution_count": 1,
     "metadata": {},
     "output_type": "execute_result"
    }
   ],
   "source": [
    "pwd"
   ]
  },
  {
   "cell_type": "markdown",
   "metadata": {},
   "source": [
    "Storing expression data in .csv files is great for portability but has the disadvantage of being very slow to read into memory.  Here I am going through the most recent Firehose run, reading in the expression data for each cancer, and saving each file in HDF5 format.  This should make working with this data with Pandas much easier."
   ]
  },
  {
   "cell_type": "code",
   "execution_count": 2,
   "metadata": {
    "collapsed": false
   },
   "outputs": [],
   "source": [
    "import os as os\n",
    "import pandas as pd"
   ]
  },
  {
   "cell_type": "code",
   "execution_count": 3,
   "metadata": {
    "collapsed": false
   },
   "outputs": [],
   "source": [
    "import Data.Firehose as FH"
   ]
  },
  {
   "cell_type": "code",
   "execution_count": 4,
   "metadata": {
    "collapsed": false
   },
   "outputs": [],
   "source": [
    "#path = '/cellar/users/agross/TCGA_Code/TCGA/Data/Firehose__2014_07_15/'\n",
    "#path = '/cellar/users/agross/TCGA_Code/CancerData/Data/Firehose__2015_04_02/'"
   ]
  },
  {
   "cell_type": "code",
   "execution_count": 5,
   "metadata": {
    "collapsed": false
   },
   "outputs": [],
   "source": [
    "store = pd.HDFStore(RNA_STORE)"
   ]
  },
  {
   "cell_type": "code",
   "execution_count": 6,
   "metadata": {
    "collapsed": false
   },
   "outputs": [
    {
     "name": "stdout",
     "output_type": "stream",
     "text": [
      "ESCA\n",
      "STES\n",
      "FPPP\n",
      "STAD\n"
     ]
    }
   ],
   "source": [
    "rna = {}\n",
    "for c in os.listdir(FIREHOSE_PATH + 'stddata'):\n",
    "    try:\n",
    "        rna[c] = FH.read_rnaSeq(FIREHOSE_PATH, c, tissue_code='All')\n",
    "        if c not in store.keys():\n",
    "            store.append(c, rna[c])\n",
    "            store.create_table_index(c, optlevel=9, kind='full')\n",
    "    except:\n",
    "        print c\n",
    "rna_df = pd.concat(rna.values(), axis=1)\n",
    "\n",
    "cols = list(rna_df.columns)\n",
    "pts = [c for c in cols if (c[0],'01') in cols and (c[0], '11') in \n",
    "       cols and c[1] in ['01','11']]\n",
    "matched_tn = rna_df[pts]\n",
    "matched_tn = matched_tn.groupby(axis=1, level=[0,1]).first()"
   ]
  },
  {
   "cell_type": "code",
   "execution_count": 7,
   "metadata": {
    "collapsed": false
   },
   "outputs": [],
   "source": [
    "codes = pd.concat(rna, axis=1).columns\n",
    "codes = pd.Series(codes.get_level_values(0), codes.get_level_values(1))\n",
    "codes = codes[codes.isin(['KIPAN','GBMLGG']) == False]\n",
    "codes = codes.groupby(level=0).first()\n",
    "codes.name = 'codes'"
   ]
  },
  {
   "cell_type": "code",
   "execution_count": 8,
   "metadata": {
    "collapsed": false
   },
   "outputs": [
    {
     "data": {
      "text/plain": [
       "BRCA    112\n",
       "KIRC     72\n",
       "THCA     59\n",
       "LUAD     58\n",
       "PRAD     52\n",
       "LUSC     51\n",
       "LIHC     50\n",
       "HNSC     43\n",
       "COAD     41\n",
       "KIRP     32\n",
       "KICH     25\n",
       "UCEC     23\n",
       "BLCA     19\n",
       "CHOL      9\n",
       "READ      9\n",
       "PAAD      4\n",
       "CESC      3\n",
       "PCPG      3\n",
       "THYM      2\n",
       "SARC      2\n",
       "dtype: int64"
      ]
     },
     "execution_count": 8,
     "metadata": {},
     "output_type": "execute_result"
    }
   ],
   "source": [
    "codes.ix[matched_tn.columns.get_level_values(0).unique()].value_counts()"
   ]
  },
  {
   "cell_type": "code",
   "execution_count": 12,
   "metadata": {
    "collapsed": false
   },
   "outputs": [],
   "source": [
    "store['codes'] = codes"
   ]
  },
  {
   "cell_type": "code",
   "execution_count": 13,
   "metadata": {
    "collapsed": false
   },
   "outputs": [],
   "source": [
    "matched_tn.to_hdf(store, 'matched_tn')"
   ]
  },
  {
   "cell_type": "code",
   "execution_count": 14,
   "metadata": {
    "collapsed": false
   },
   "outputs": [],
   "source": [
    "store.close()"
   ]
  }
 ],
 "metadata": {
  "kernelspec": {
   "display_name": "Python 2",
   "language": "python",
   "name": "python2"
  },
  "language_info": {
   "codemirror_mode": {
    "name": "ipython",
    "version": 2
   },
   "file_extension": ".py",
   "mimetype": "text/x-python",
   "name": "python",
   "nbconvert_exporter": "python",
   "pygments_lexer": "ipython2",
   "version": "2.7.9"
  }
 },
 "nbformat": 4,
 "nbformat_minor": 0
}
