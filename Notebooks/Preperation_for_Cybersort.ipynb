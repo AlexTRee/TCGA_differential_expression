{
 "cells": [
  {
   "cell_type": "markdown",
   "metadata": {},
   "source": [
    "# Exploration of GABA Receptors"
   ]
  },
  {
   "cell_type": "code",
   "execution_count": 1,
   "metadata": {
    "collapsed": false
   },
   "outputs": [
    {
     "data": {
      "text/html": [
       "importing IPython notebook from <a href='./metaPCNA.ipynb' target='_blank'>metaPCNA</a>"
      ]
     },
     "metadata": {},
     "output_type": "display_data"
    },
    {
     "data": {
      "text/html": [
       "importing IPython notebook from <a href='./Imports.ipynb' target='_blank'>Imports</a>"
      ]
     },
     "metadata": {},
     "output_type": "display_data"
    },
    {
     "data": {
      "text/html": [
       "importing IPython notebook from <a href='./Global_Parameters.ipynb' target='_blank'>Global_Parameters</a>"
      ]
     },
     "metadata": {},
     "output_type": "display_data"
    }
   ],
   "source": [
    "import NotebookImport\n",
    "from metaPCNA import *"
   ]
  },
  {
   "cell_type": "markdown",
   "metadata": {},
   "source": [
    "### Prepare data for CYBERSORT input file format"
   ]
  },
  {
   "cell_type": "code",
   "execution_count": 106,
   "metadata": {
    "collapsed": true
   },
   "outputs": [],
   "source": [
    "f = pd.read_table('/cellar/users/agross/Downloads_Old/LM22.txt',\n",
    "                 index_col=0)"
   ]
  },
  {
   "cell_type": "code",
   "execution_count": 69,
   "metadata": {
    "collapsed": false
   },
   "outputs": [],
   "source": [
    "df = matched_tn\n",
    "df = df.ix[f.index]\n",
    "df = df.dropna()\n",
    "df = 2 ** df\n",
    "df.columns = ['-'.join(c) for c in df.columns]"
   ]
  },
  {
   "cell_type": "code",
   "execution_count": 70,
   "metadata": {
    "collapsed": false
   },
   "outputs": [
    {
     "data": {
      "text/plain": [
       "(513, 1298)"
      ]
     },
     "execution_count": 70,
     "metadata": {},
     "output_type": "execute_result"
    }
   ],
   "source": [
    "df.shape"
   ]
  },
  {
   "cell_type": "code",
   "execution_count": 71,
   "metadata": {
    "collapsed": false
   },
   "outputs": [],
   "source": [
    "df.to_csv('/cellar/users/agross/Desktop/TCGA_for_CIBERSORT.tab', sep='\\t')"
   ]
  },
  {
   "cell_type": "code",
   "execution_count": 144,
   "metadata": {
    "collapsed": false
   },
   "outputs": [],
   "source": [
    "cs = pd.read_csv('/cellar/users/agross/Data/DiffExp/CIBERSORT/CIBERSORT.Output_matched_tn_subread.csv', \n",
    "                 index_col=0)\n",
    "cs = FH.fix_barcode_columns(cs.T).T"
   ]
  },
  {
   "cell_type": "code",
   "execution_count": 145,
   "metadata": {
    "collapsed": false
   },
   "outputs": [
    {
     "data": {
      "text/plain": [
       "(1298, 25)"
      ]
     },
     "execution_count": 145,
     "metadata": {},
     "output_type": "execute_result"
    }
   ],
   "source": [
    "cs.shape"
   ]
  },
  {
   "cell_type": "code",
   "execution_count": 146,
   "metadata": {
    "collapsed": false
   },
   "outputs": [
    {
     "data": {
      "text/html": [
       "<div style=\"max-height:1000px;max-width:1500px;overflow:auto;\">\n",
       "<table border=\"1\" class=\"dataframe\">\n",
       "  <thead>\n",
       "    <tr>\n",
       "      <th></th>\n",
       "      <th colspan=\"2\" halign=\"left\">TCGA-22-4593</th>\n",
       "      <th colspan=\"2\" halign=\"left\">TCGA-22-4609</th>\n",
       "      <th colspan=\"2\" halign=\"left\">TCGA-22-5471</th>\n",
       "    </tr>\n",
       "    <tr>\n",
       "      <th></th>\n",
       "      <th>01</th>\n",
       "      <th>11</th>\n",
       "      <th>01</th>\n",
       "      <th>11</th>\n",
       "      <th>01</th>\n",
       "      <th>11</th>\n",
       "    </tr>\n",
       "  </thead>\n",
       "  <tbody>\n",
       "    <tr>\n",
       "      <th>B cells naive</th>\n",
       "      <td> 3.92e-02</td>\n",
       "      <td> 0.01</td>\n",
       "      <td> 0.00</td>\n",
       "      <td> 0.00</td>\n",
       "      <td> 0.00</td>\n",
       "      <td> 0.01</td>\n",
       "    </tr>\n",
       "    <tr>\n",
       "      <th>B cells memory</th>\n",
       "      <td> 0.00e+00</td>\n",
       "      <td> 0.00</td>\n",
       "      <td> 0.00</td>\n",
       "      <td> 0.00</td>\n",
       "      <td> 0.00</td>\n",
       "      <td> 0.00</td>\n",
       "    </tr>\n",
       "    <tr>\n",
       "      <th>Plasma cells</th>\n",
       "      <td> 7.83e-02</td>\n",
       "      <td> 0.00</td>\n",
       "      <td> 0.05</td>\n",
       "      <td> 0.00</td>\n",
       "      <td> 0.01</td>\n",
       "      <td> 0.03</td>\n",
       "    </tr>\n",
       "    <tr>\n",
       "      <th>T cells CD8</th>\n",
       "      <td> 7.31e-02</td>\n",
       "      <td> 0.04</td>\n",
       "      <td> 0.07</td>\n",
       "      <td> 0.09</td>\n",
       "      <td> 0.27</td>\n",
       "      <td> 0.06</td>\n",
       "    </tr>\n",
       "    <tr>\n",
       "      <th>T cells CD4 naive</th>\n",
       "      <td> 0.00e+00</td>\n",
       "      <td> 0.00</td>\n",
       "      <td> 0.00</td>\n",
       "      <td> 0.00</td>\n",
       "      <td> 0.00</td>\n",
       "      <td> 0.00</td>\n",
       "    </tr>\n",
       "    <tr>\n",
       "      <th>T cells CD4 memory resting</th>\n",
       "      <td> 2.96e-01</td>\n",
       "      <td> 0.24</td>\n",
       "      <td> 0.17</td>\n",
       "      <td> 0.27</td>\n",
       "      <td> 0.00</td>\n",
       "      <td> 0.11</td>\n",
       "    </tr>\n",
       "    <tr>\n",
       "      <th>T cells CD4 memory activated</th>\n",
       "      <td> 0.00e+00</td>\n",
       "      <td> 0.00</td>\n",
       "      <td> 0.06</td>\n",
       "      <td> 0.00</td>\n",
       "      <td> 0.09</td>\n",
       "      <td> 0.00</td>\n",
       "    </tr>\n",
       "    <tr>\n",
       "      <th>T cells follicular helper</th>\n",
       "      <td> 0.00e+00</td>\n",
       "      <td> 0.00</td>\n",
       "      <td> 0.00</td>\n",
       "      <td> 0.00</td>\n",
       "      <td> 0.05</td>\n",
       "      <td> 0.02</td>\n",
       "    </tr>\n",
       "    <tr>\n",
       "      <th>T cells regulatory (Tregs)</th>\n",
       "      <td> 0.00e+00</td>\n",
       "      <td> 0.00</td>\n",
       "      <td> 0.00</td>\n",
       "      <td> 0.00</td>\n",
       "      <td> 0.02</td>\n",
       "      <td> 0.01</td>\n",
       "    </tr>\n",
       "    <tr>\n",
       "      <th>T cells gamma delta</th>\n",
       "      <td> 0.00e+00</td>\n",
       "      <td> 0.00</td>\n",
       "      <td> 0.00</td>\n",
       "      <td> 0.00</td>\n",
       "      <td> 0.00</td>\n",
       "      <td> 0.00</td>\n",
       "    </tr>\n",
       "    <tr>\n",
       "      <th>NK cells resting</th>\n",
       "      <td> 5.64e-02</td>\n",
       "      <td> 0.01</td>\n",
       "      <td> 0.04</td>\n",
       "      <td> 0.10</td>\n",
       "      <td> 0.00</td>\n",
       "      <td> 0.03</td>\n",
       "    </tr>\n",
       "    <tr>\n",
       "      <th>NK cells activated</th>\n",
       "      <td> 0.00e+00</td>\n",
       "      <td> 0.01</td>\n",
       "      <td> 0.00</td>\n",
       "      <td> 0.00</td>\n",
       "      <td> 0.11</td>\n",
       "      <td> 0.03</td>\n",
       "    </tr>\n",
       "    <tr>\n",
       "      <th>Monocytes</th>\n",
       "      <td> 0.00e+00</td>\n",
       "      <td> 0.28</td>\n",
       "      <td> 0.00</td>\n",
       "      <td> 0.08</td>\n",
       "      <td> 0.00</td>\n",
       "      <td> 0.05</td>\n",
       "    </tr>\n",
       "    <tr>\n",
       "      <th>Macrophages M0</th>\n",
       "      <td> 2.32e-01</td>\n",
       "      <td> 0.12</td>\n",
       "      <td> 0.34</td>\n",
       "      <td> 0.12</td>\n",
       "      <td> 0.15</td>\n",
       "      <td> 0.32</td>\n",
       "    </tr>\n",
       "    <tr>\n",
       "      <th>Macrophages M1</th>\n",
       "      <td> 2.82e-02</td>\n",
       "      <td> 0.02</td>\n",
       "      <td> 0.07</td>\n",
       "      <td> 0.04</td>\n",
       "      <td> 0.11</td>\n",
       "      <td> 0.01</td>\n",
       "    </tr>\n",
       "    <tr>\n",
       "      <th>Macrophages M2</th>\n",
       "      <td> 2.99e-02</td>\n",
       "      <td> 0.13</td>\n",
       "      <td> 0.19</td>\n",
       "      <td> 0.10</td>\n",
       "      <td> 0.13</td>\n",
       "      <td> 0.17</td>\n",
       "    </tr>\n",
       "    <tr>\n",
       "      <th>Dendritic cells resting</th>\n",
       "      <td> 5.00e-04</td>\n",
       "      <td> 0.00</td>\n",
       "      <td> 0.00</td>\n",
       "      <td> 0.00</td>\n",
       "      <td> 0.01</td>\n",
       "      <td> 0.01</td>\n",
       "    </tr>\n",
       "    <tr>\n",
       "      <th>Dendritic cells activated</th>\n",
       "      <td> 0.00e+00</td>\n",
       "      <td> 0.04</td>\n",
       "      <td> 0.00</td>\n",
       "      <td> 0.06</td>\n",
       "      <td> 0.02</td>\n",
       "      <td> 0.00</td>\n",
       "    </tr>\n",
       "    <tr>\n",
       "      <th>Mast cells resting</th>\n",
       "      <td> 0.00e+00</td>\n",
       "      <td> 0.03</td>\n",
       "      <td> 0.00</td>\n",
       "      <td> 0.00</td>\n",
       "      <td> 0.00</td>\n",
       "      <td> 0.08</td>\n",
       "    </tr>\n",
       "    <tr>\n",
       "      <th>Mast cells activated</th>\n",
       "      <td> 1.49e-01</td>\n",
       "      <td> 0.01</td>\n",
       "      <td> 0.00</td>\n",
       "      <td> 0.13</td>\n",
       "      <td> 0.02</td>\n",
       "      <td> 0.00</td>\n",
       "    </tr>\n",
       "    <tr>\n",
       "      <th>Eosinophils</th>\n",
       "      <td> 0.00e+00</td>\n",
       "      <td> 0.00</td>\n",
       "      <td> 0.00</td>\n",
       "      <td> 0.00</td>\n",
       "      <td> 0.00</td>\n",
       "      <td> 0.02</td>\n",
       "    </tr>\n",
       "    <tr>\n",
       "      <th>Neutrophils</th>\n",
       "      <td> 1.78e-02</td>\n",
       "      <td> 0.05</td>\n",
       "      <td> 0.00</td>\n",
       "      <td> 0.00</td>\n",
       "      <td> 0.00</td>\n",
       "      <td> 0.03</td>\n",
       "    </tr>\n",
       "    <tr>\n",
       "      <th>P-value</th>\n",
       "      <td> 7.00e-02</td>\n",
       "      <td> 0.01</td>\n",
       "      <td> 0.00</td>\n",
       "      <td> 0.03</td>\n",
       "      <td> 0.00</td>\n",
       "      <td> 0.02</td>\n",
       "    </tr>\n",
       "    <tr>\n",
       "      <th>Pearson Correlation</th>\n",
       "      <td> 1.39e-01</td>\n",
       "      <td> 0.32</td>\n",
       "      <td> 0.43</td>\n",
       "      <td> 0.21</td>\n",
       "      <td> 0.50</td>\n",
       "      <td> 0.23</td>\n",
       "    </tr>\n",
       "    <tr>\n",
       "      <th>RMSE</th>\n",
       "      <td> 1.04e+00</td>\n",
       "      <td> 0.96</td>\n",
       "      <td> 0.91</td>\n",
       "      <td> 1.01</td>\n",
       "      <td> 0.87</td>\n",
       "      <td> 1.01</td>\n",
       "    </tr>\n",
       "  </tbody>\n",
       "</table>\n",
       "</div>"
      ],
      "text/plain": [
       "                              TCGA-22-4593        TCGA-22-4609        TCGA-22-5471      \n",
       "                                        01    11            01    11            01    11\n",
       "B cells naive                     3.92e-02  0.01          0.00  0.00          0.00  0.01\n",
       "B cells memory                    0.00e+00  0.00          0.00  0.00          0.00  0.00\n",
       "Plasma cells                      7.83e-02  0.00          0.05  0.00          0.01  0.03\n",
       "T cells CD8                       7.31e-02  0.04          0.07  0.09          0.27  0.06\n",
       "T cells CD4 naive                 0.00e+00  0.00          0.00  0.00          0.00  0.00\n",
       "T cells CD4 memory resting        2.96e-01  0.24          0.17  0.27          0.00  0.11\n",
       "T cells CD4 memory activated      0.00e+00  0.00          0.06  0.00          0.09  0.00\n",
       "T cells follicular helper         0.00e+00  0.00          0.00  0.00          0.05  0.02\n",
       "T cells regulatory (Tregs)        0.00e+00  0.00          0.00  0.00          0.02  0.01\n",
       "T cells gamma delta               0.00e+00  0.00          0.00  0.00          0.00  0.00\n",
       "NK cells resting                  5.64e-02  0.01          0.04  0.10          0.00  0.03\n",
       "NK cells activated                0.00e+00  0.01          0.00  0.00          0.11  0.03\n",
       "Monocytes                         0.00e+00  0.28          0.00  0.08          0.00  0.05\n",
       "Macrophages M0                    2.32e-01  0.12          0.34  0.12          0.15  0.32\n",
       "Macrophages M1                    2.82e-02  0.02          0.07  0.04          0.11  0.01\n",
       "Macrophages M2                    2.99e-02  0.13          0.19  0.10          0.13  0.17\n",
       "Dendritic cells resting           5.00e-04  0.00          0.00  0.00          0.01  0.01\n",
       "Dendritic cells activated         0.00e+00  0.04          0.00  0.06          0.02  0.00\n",
       "Mast cells resting                0.00e+00  0.03          0.00  0.00          0.00  0.08\n",
       "Mast cells activated              1.49e-01  0.01          0.00  0.13          0.02  0.00\n",
       "Eosinophils                       0.00e+00  0.00          0.00  0.00          0.00  0.02\n",
       "Neutrophils                       1.78e-02  0.05          0.00  0.00          0.00  0.03\n",
       "P-value                           7.00e-02  0.01          0.00  0.03          0.00  0.02\n",
       "Pearson Correlation               1.39e-01  0.32          0.43  0.21          0.50  0.23\n",
       "RMSE                              1.04e+00  0.96          0.91  1.01          0.87  1.01"
      ]
     },
     "execution_count": 146,
     "metadata": {},
     "output_type": "execute_result"
    }
   ],
   "source": [
    "cs.head(6).T"
   ]
  },
  {
   "cell_type": "code",
   "execution_count": 147,
   "metadata": {
    "collapsed": false
   },
   "outputs": [],
   "source": [
    "v = cs[[c for c in cs.columns if c.startswith('T cells')]].sum(1)\n",
    "v = v[:, '01'] - v[:, '11']"
   ]
  },
  {
   "cell_type": "code",
   "execution_count": 185,
   "metadata": {
    "collapsed": false
   },
   "outputs": [
    {
     "data": {
      "text/plain": [
       "(22, 493)"
      ]
     },
     "execution_count": 185,
     "metadata": {},
     "output_type": "execute_result"
    }
   ],
   "source": [
    "dd = cs.ix[ti(cs['Pearson Correlation'] > .1)].T\n",
    "dd = dd.xs('01',1,1) - dd.xs('11',1,1)\n",
    "dd = dd.ix[:-3]\n",
    "dd.shape"
   ]
  },
  {
   "cell_type": "code",
   "execution_count": 186,
   "metadata": {
    "collapsed": false
   },
   "outputs": [],
   "source": [
    "r1 = screen_feature(df_s3.ix['GABRD'][:,'11'].ix[dd.columns], pearson_pandas, \n",
    "               cs.T.ix[:-3].xs('11',1,1), align=False)\n",
    "r2 = screen_feature(df_s3.ix['GABRD'][:,'01'].ix[dd.columns], pearson_pandas, \n",
    "               cs.T.ix[:-3].xs('01',1,1), align=False)"
   ]
  },
  {
   "cell_type": "code",
   "execution_count": 187,
   "metadata": {
    "collapsed": false
   },
   "outputs": [
    {
     "data": {
      "image/png": "[encoded data removed]",
      "text/plain": [
       "<matplotlib.figure.Figure at 0x7fcb4f862990>"
      ]
     },
     "metadata": {},
     "output_type": "display_data"
    }
   ],
   "source": [
    "series_scatter(r1.rho, r2.rho)"
   ]
  },
  {
   "cell_type": "code",
   "execution_count": 190,
   "metadata": {
    "collapsed": false
   },
   "outputs": [
    {
     "data": {
      "text/html": [
       "<div style=\"max-height:1000px;max-width:1500px;overflow:auto;\">\n",
       "<table border=\"1\" class=\"dataframe\">\n",
       "  <thead>\n",
       "    <tr style=\"text-align: right;\">\n",
       "      <th></th>\n",
       "      <th>rho</th>\n",
       "      <th>p</th>\n",
       "      <th>q</th>\n",
       "    </tr>\n",
       "  </thead>\n",
       "  <tbody>\n",
       "    <tr>\n",
       "      <th>Plasma cells</th>\n",
       "      <td>-0.33</td>\n",
       "      <td> 1.42e-07</td>\n",
       "      <td> 3.12e-06</td>\n",
       "    </tr>\n",
       "    <tr>\n",
       "      <th>Monocytes</th>\n",
       "      <td> 0.26</td>\n",
       "      <td> 3.39e-05</td>\n",
       "      <td> 3.72e-04</td>\n",
       "    </tr>\n",
       "    <tr>\n",
       "      <th>Macrophages M2</th>\n",
       "      <td>-0.21</td>\n",
       "      <td> 1.18e-03</td>\n",
       "      <td> 8.63e-03</td>\n",
       "    </tr>\n",
       "    <tr>\n",
       "      <th>Neutrophils</th>\n",
       "      <td> 0.19</td>\n",
       "      <td> 3.12e-03</td>\n",
       "      <td> 1.72e-02</td>\n",
       "    </tr>\n",
       "    <tr>\n",
       "      <th>Macrophages M0</th>\n",
       "      <td> 0.16</td>\n",
       "      <td> 1.29e-02</td>\n",
       "      <td> 5.68e-02</td>\n",
       "    </tr>\n",
       "  </tbody>\n",
       "</table>\n",
       "</div>"
      ],
      "text/plain": [
       "                 rho         p         q\n",
       "Plasma cells   -0.33  1.42e-07  3.12e-06\n",
       "Monocytes       0.26  3.39e-05  3.72e-04\n",
       "Macrophages M2 -0.21  1.18e-03  8.63e-03\n",
       "Neutrophils     0.19  3.12e-03  1.72e-02\n",
       "Macrophages M0  0.16  1.29e-02  5.68e-02"
      ]
     },
     "execution_count": 190,
     "metadata": {},
     "output_type": "execute_result"
    }
   ],
   "source": [
    "screen_feature(dx.ix['GABRD'], spearman_pandas, dd, align=False).head()"
   ]
  },
  {
   "cell_type": "code",
   "execution_count": 191,
   "metadata": {
    "collapsed": false
   },
   "outputs": [
    {
     "data": {
      "image/png": "[encoded data removed]",
      "text/plain": [
       "<matplotlib.figure.Figure at 0x7fcb4f86d090>"
      ]
     },
     "metadata": {},
     "output_type": "display_data"
    }
   ],
   "source": [
    "series_scatter(dx.ix['GABRD'], dd.ix['Plasma cells'])"
   ]
  },
  {
   "cell_type": "code",
   "execution_count": 180,
   "metadata": {
    "collapsed": false
   },
   "outputs": [],
   "source": [
    "b = (cs['T cells regulatory (Tregs)'] > 0).astype(int).unstack().T.diff().ix['11']"
   ]
  },
  {
   "cell_type": "code",
   "execution_count": 192,
   "metadata": {
    "collapsed": false
   },
   "outputs": [
    {
     "data": {
      "image/png": "[encoded data removed]",
      "text/plain": [
       "<matplotlib.figure.Figure at 0x7fcb5e8fead0>"
      ]
     },
     "metadata": {},
     "output_type": "display_data"
    }
   ],
   "source": [
    "violin_plot_series(cs['T cells regulatory (Tregs)'])"
   ]
  },
  {
   "cell_type": "code",
   "execution_count": null,
   "metadata": {
    "collapsed": true
   },
   "outputs": [],
   "source": []
  }
 ],
 "metadata": {
  "kernelspec": {
   "display_name": "Python 2",
   "language": "python",
   "name": "python2"
  },
  "language_info": {
   "codemirror_mode": {
    "name": "ipython",
    "version": 2
   },
   "file_extension": ".py",
   "mimetype": "text/x-python",
   "name": "python",
   "nbconvert_exporter": "python",
   "pygments_lexer": "ipython2",
   "version": "2.7.9"
  }
 },
 "nbformat": 4,
 "nbformat_minor": 0
}
