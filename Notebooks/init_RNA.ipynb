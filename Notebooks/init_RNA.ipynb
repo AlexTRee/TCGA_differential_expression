{
 "metadata": {
  "kernelspec": {
   "codemirror_mode": {
    "name": "ipython",
    "version": 2
   },
   "display_name": "IPython (Python 2)",
   "language": "python",
   "name": "python2"
  },
  "name": "",
  "signature": "sha256:8dfc7dc32c17a72cc540007d15b546a1fa6ad602c2338eda6b1733e8d0d3b41b"
 },
 "nbformat": 3,
 "nbformat_minor": 0,
 "worksheets": [
  {
   "cells": [
    {
     "cell_type": "code",
     "collapsed": false,
     "input": [
      "import os as os\n",
      "import pandas as pd"
     ],
     "language": "python",
     "metadata": {},
     "outputs": [],
     "prompt_number": 1
    },
    {
     "cell_type": "code",
     "collapsed": false,
     "input": [
      "os.chdir('../TCGA/src')"
     ],
     "language": "python",
     "metadata": {},
     "outputs": [],
     "prompt_number": 2
    },
    {
     "cell_type": "code",
     "collapsed": false,
     "input": [
      "import Data.Firehose as FH"
     ],
     "language": "python",
     "metadata": {},
     "outputs": [],
     "prompt_number": 3
    },
    {
     "cell_type": "code",
     "collapsed": false,
     "input": [
      "path = '/cellar/users/agross/TCGA_Code/TCGA/Data/Firehose__2014_07_15/'"
     ],
     "language": "python",
     "metadata": {},
     "outputs": [],
     "prompt_number": 4
    },
    {
     "cell_type": "code",
     "collapsed": false,
     "input": [
      "store = pd.HDFStore('/data/RNASeq_2014_07_15.h5')"
     ],
     "language": "python",
     "metadata": {},
     "outputs": [],
     "prompt_number": 5
    },
    {
     "cell_type": "code",
     "collapsed": false,
     "input": [
      "rna = {}\n",
      "for c in os.listdir(path + 'stddata'):\n",
      "    try:\n",
      "        rna[c] = FH.read_rnaSeq(path, c, tissue_code='All')\n",
      "        if c not in store.keys():\n",
      "            store.append(c, rna[c])\n",
      "            store.create_table_index(c, optlevel=9, kind='full')\n",
      "    except:\n",
      "        print c\n",
      "rna_df = pd.concat(rna.values(), axis=1)\n",
      "\n",
      "cols = list(rna_df.columns)\n",
      "pts = [c for c in cols if (c[0],'01') in cols and (c[0], '11') in \n",
      "       cols and c[1] in ['01','11']]\n",
      "matched_tn = rna_df[pts]\n",
      "matched_tn = matched_tn.groupby(axis=1, level=[0,1]).first()"
     ],
     "language": "python",
     "metadata": {},
     "outputs": [
      {
       "output_type": "stream",
       "stream": "stdout",
       "text": [
        "BRCA_FFPE\n",
        "BLCA_FFPE\n",
        "LUAD_FFPE\n",
        "ESCA\n",
        "STAD\n",
        "KIRC_FFPE\n",
        "UCEC_FFPE\n",
        "COADREAD_FFPE\n",
        "COAD_FFPE\n",
        "PRAD_FFPE\n"
       ]
      }
     ],
     "prompt_number": 6
    },
    {
     "cell_type": "code",
     "collapsed": false,
     "input": [
      "codes = pd.concat(rna, axis=1).columns\n",
      "codes = pd.Series(codes.get_level_values(0), codes.get_level_values(1))\n",
      "codes = codes[codes != 'COADREAD']\n",
      "codes = codes.groupby(level=0).first()\n",
      "codes.name = 'codes'"
     ],
     "language": "python",
     "metadata": {},
     "outputs": [],
     "prompt_number": 28
    },
    {
     "cell_type": "code",
     "collapsed": false,
     "input": [
      "store['codes'] = codes"
     ],
     "language": "python",
     "metadata": {},
     "outputs": [],
     "prompt_number": 31
    },
    {
     "cell_type": "code",
     "collapsed": false,
     "input": [
      "matched_tn.to_hdf('/data/RNASeq_2014_07_15.h5', 'matched_tn')"
     ],
     "language": "python",
     "metadata": {},
     "outputs": [],
     "prompt_number": 9
    },
    {
     "cell_type": "code",
     "collapsed": false,
     "input": [
      "store.append('matched_tn', matched_tn)\n",
      "store.create_table_index('matched_tn', optlevel=9, kind='full')"
     ],
     "language": "python",
     "metadata": {},
     "outputs": [],
     "prompt_number": 19
    },
    {
     "cell_type": "code",
     "collapsed": false,
     "input": [
      "store.close()"
     ],
     "language": "python",
     "metadata": {},
     "outputs": [],
     "prompt_number": 32
    },
    {
     "cell_type": "code",
     "collapsed": false,
     "input": [],
     "language": "python",
     "metadata": {},
     "outputs": []
    }
   ],
   "metadata": {}
  }
 ]
}