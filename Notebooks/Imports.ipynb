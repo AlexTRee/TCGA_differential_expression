{
 "cells": [
  {
   "cell_type": "markdown",
   "metadata": {},
   "source": [
    "# Global Imports"
   ]
  },
  {
   "cell_type": "code",
   "execution_count": 1,
   "metadata": {
    "collapsed": false
   },
   "outputs": [],
   "source": [
    "%matplotlib inline"
   ]
  },
  {
   "cell_type": "code",
   "execution_count": 2,
   "metadata": {
    "collapsed": false
   },
   "outputs": [],
   "source": [
    "import matplotlib.pyplot as plt\n",
    "from matplotlib.pyplot import subplots"
   ]
  },
  {
   "cell_type": "markdown",
   "metadata": {},
   "source": [
    "### External Package Imports"
   ]
  },
  {
   "cell_type": "code",
   "execution_count": 3,
   "metadata": {
    "collapsed": false
   },
   "outputs": [],
   "source": [
    "import os as os\n",
    "import pickle as pickle\n",
    "import pandas as pd"
   ]
  },
  {
   "cell_type": "markdown",
   "metadata": {},
   "source": [
    "### Module Imports"
   ]
  },
  {
   "cell_type": "markdown",
   "metadata": {},
   "source": [
    "Here I am using a few of my own packages, they are availible on Github under [__theandygross__](https://github.com/theandygross) and should all be instalable by <code>python setup.py</code>."
   ]
  },
  {
   "cell_type": "code",
   "execution_count": 5,
   "metadata": {
    "collapsed": false
   },
   "outputs": [],
   "source": [
    "from Stats.Scipy import *\n",
    "from Stats.Survival import *\n",
    "\n",
    "from Helpers.Pandas import *\n",
    "from Helpers.LinAlg import *\n",
    "\n",
    "from Figures.FigureHelpers import *\n",
    "from Figures.Pandas import *\n",
    "from Figures.Boxplots import *\n",
    "from Figures.Regression import *\n",
    "#from Figures.Survival import draw_survival_curve, survival_and_stats\n",
    "#from Figures.Survival import draw_survival_curves\n",
    "#from Figures.Survival import survival_stat_plot"
   ]
  },
  {
   "cell_type": "code",
   "execution_count": 6,
   "metadata": {
    "collapsed": false
   },
   "outputs": [],
   "source": [
    "import Data.Firehose as FH\n",
    "from Data.Containers import get_run"
   ]
  },
  {
   "cell_type": "markdown",
   "metadata": {},
   "source": [
    "### Import Global Parameters \n",
    "* These need to be changed before you will be able to sucessfully run this code"
   ]
  },
  {
   "cell_type": "code",
   "execution_count": 7,
   "metadata": {
    "collapsed": false
   },
   "outputs": [
    {
     "data": {
      "text/html": [
       "importing IPython notebook from <a href='./Global_Parameters.ipynb' target='_blank'>Global_Parameters</a>"
      ]
     },
     "metadata": {},
     "output_type": "display_data"
    }
   ],
   "source": [
    "import NotebookImport\n",
    "from Global_Parameters import *"
   ]
  },
  {
   "cell_type": "markdown",
   "metadata": {},
   "source": [
    "### Tweaking Display Parameters"
   ]
  },
  {
   "cell_type": "code",
   "execution_count": 8,
   "metadata": {
    "collapsed": false
   },
   "outputs": [],
   "source": [
    "pd.set_option('precision', 3)\n",
    "pd.set_option('display.width', 300)\n",
    "plt.rcParams['font.size'] = 12"
   ]
  },
  {
   "cell_type": "code",
   "execution_count": 9,
   "metadata": {
    "collapsed": false
   },
   "outputs": [],
   "source": [
    "'''Color schemes for paper taken from http://colorbrewer2.org/'''\n",
    "colors = plt.rcParams['axes.color_cycle']\n",
    "colors_st = ['#CA0020', '#F4A582', '#92C5DE', '#0571B0']\n",
    "colors_th = ['#E66101', '#FDB863', '#B2ABD2', '#5E3C99']"
   ]
  },
  {
   "cell_type": "code",
   "execution_count": 10,
   "metadata": {
    "collapsed": true
   },
   "outputs": [],
   "source": [
    "import seaborn as sns\n",
    "sns.set_context('paper',font_scale=1.5)\n",
    "sns.set_style('white')"
   ]
  },
  {
   "cell_type": "markdown",
   "metadata": {},
   "source": [
    "### Read in All of the Expression Data"
   ]
  },
  {
   "cell_type": "markdown",
   "metadata": {},
   "source": [
    "This reads in data that was pre-processed in the [./Preprocessing/init_RNA](../Notebooks/init_RNA.ipynb) notebook."
   ]
  },
  {
   "cell_type": "code",
   "execution_count": 11,
   "metadata": {
    "collapsed": false
   },
   "outputs": [],
   "source": [
    "codes = pd.read_hdf(RNA_SUBREAD_STORE, 'codes')\n",
    "matched_tn = pd.read_hdf(RNA_SUBREAD_STORE, 'matched_tn')\n",
    "rna_df = pd.read_hdf(RNA_SUBREAD_STORE, 'all_rna')"
   ]
  },
  {
   "cell_type": "code",
   "execution_count": 12,
   "metadata": {
    "collapsed": false
   },
   "outputs": [],
   "source": [
    "data_portal = pd.read_hdf(RNA_STORE, 'matched_tn')\n",
    "genes = data_portal.index.intersection(matched_tn.index)\n",
    "pts = data_portal.columns.intersection(matched_tn.columns)\n",
    "rna_df = rna_df.ix[genes]\n",
    "matched_tn = matched_tn.ix[genes, pts]"
   ]
  },
  {
   "cell_type": "markdown",
   "metadata": {},
   "source": [
    "### Read in Gene-Sets for GSEA"
   ]
  },
  {
   "cell_type": "code",
   "execution_count": 13,
   "metadata": {
    "collapsed": false
   },
   "outputs": [],
   "source": [
    "from Data.Annotations import unstack_geneset_csv\n",
    "\n",
    "gene_sets = unstack_geneset_csv(GENE_SETS)\n",
    "gene_sets = gene_sets.ix[rna_df.index].fillna(0)"
   ]
  },
  {
   "cell_type": "markdown",
   "metadata": {},
   "source": [
    "Initialize function for calling model-based gene set enrichment"
   ]
  },
  {
   "cell_type": "code",
   "execution_count": 14,
   "metadata": {
    "collapsed": true
   },
   "outputs": [],
   "source": [
    "from rpy2 import robjects\n",
    "from rpy2.robjects import pandas2ri\n",
    "pandas2ri.activate()\n",
    "\n",
    "mgsa = robjects.packages.importr('mgsa')"
   ]
  },
  {
   "cell_type": "code",
   "execution_count": 15,
   "metadata": {
    "collapsed": false
   },
   "outputs": [],
   "source": [
    "gs_r = robjects.ListVector({i: robjects.StrVector(list(ti(g>0))) for i,g in \n",
    "                             gene_sets.iteritems()})\n",
    "def run_mgsa(vec):\n",
    "    v = robjects.r.c(*ti(vec))\n",
    "    r = mgsa.mgsa(v, gs_r)\n",
    "    res = pandas2ri.ri2pandas(mgsa.setsResults(r))\n",
    "    return res"
   ]
  },
  {
   "cell_type": "markdown",
   "metadata": {},
   "source": [
    "### Function Tweaks "
   ]
  },
  {
   "cell_type": "markdown",
   "metadata": {},
   "source": [
    "Running the binomial test across 450k probes in the same test space, we rerun the same test a lot.  Here I memoize the function to cache results and not recompute them.  This eats up a couple GB of memory but should be reasonable."
   ]
  },
  {
   "cell_type": "code",
   "execution_count": 16,
   "metadata": {
    "collapsed": false
   },
   "outputs": [],
   "source": [
    "from scipy.stats import binom_test\n",
    "\n",
    "def memoize(f):\n",
    "    memo = {}\n",
    "    def helper(x,y,z):\n",
    "        if (x,y,z) not in memo:            \n",
    "            memo[(x,y,z)] = f(x,y,z)\n",
    "        return memo[(x,y,z)]\n",
    "    return helper\n",
    "\n",
    "binom_test_mem = memoize(binom_test)\n",
    "\n",
    "def binomial_test_screen(df, fc=1.5, p=.5):\n",
    "    \"\"\"\n",
    "    Run a binomial test on a DataFrame.\n",
    "\n",
    "    df:\n",
    "        DataFrame of measurements.  Should have a multi-index with\n",
    "        subjects on the first level and tissue type ('01' or '11')\n",
    "        on the second level.\n",
    "    fc:\n",
    "        Fold-chance cutoff to use\n",
    "    \"\"\"\n",
    "    a, b = df.xs('01', 1, 1), df.xs('11', 1, 1)\n",
    "    dx = a - b\n",
    "    dx = dx[dx.abs() > np.log2(fc)]\n",
    "    n = dx.count(1)\n",
    "    counts = (dx > 0).sum(1)\n",
    "    cn = pd.concat([counts, n], 1)\n",
    "    cn = cn[cn.sum(1) > 0]\n",
    "    b_test = cn.apply(lambda s: binom_test_mem(s[0], s[1], p), axis=1)\n",
    "    dist = (1.*cn[0] / cn[1])\n",
    "    tab = pd.concat([cn[0], cn[1], dist, b_test],\n",
    "                    keys=['num_ox', 'num_dx', 'frac', 'p'],\n",
    "                    axis=1)\n",
    "    return tab"
   ]
  },
  {
   "cell_type": "markdown",
   "metadata": {},
   "source": [
    "Added linewidth and number of bins arguments.  This should get pushed eventually. "
   ]
  },
  {
   "cell_type": "code",
   "execution_count": 17,
   "metadata": {
    "collapsed": true
   },
   "outputs": [],
   "source": [
    "def draw_dist(vec, split=None, ax=None, legend=True, colors=None, lw=2, bins=300):\n",
    "    \"\"\"\n",
    "    Draw a smooth distribution from data with an optional splitting factor.\n",
    "    \"\"\"\n",
    "    _, ax = init_ax(ax)\n",
    "    if split is None:\n",
    "        split = pd.Series('s', index=vec.index)\n",
    "        colors = {'s': colors} if colors is not None else None\n",
    "    for l,v in vec.groupby(split):\n",
    "        if colors is None:\n",
    "            smooth_dist(v, bins=bins).plot(label=l, lw=lw, ax=ax)\n",
    "        else:\n",
    "            smooth_dist(v, bins=bins).plot(label=l, lw=lw, ax=ax, color=colors[l])\n",
    "    if legend and len(split.unique()) > 1:\n",
    "        ax.legend(loc='upper left', frameon=False)"
   ]
  },
  {
   "cell_type": "markdown",
   "metadata": {},
   "source": [
    "Some helper functions for fast calculation of odds ratios on matricies."
   ]
  },
  {
   "cell_type": "code",
   "execution_count": 18,
   "metadata": {
    "collapsed": true
   },
   "outputs": [],
   "source": [
    "def odds_ratio_df(a,b):\n",
    "    a = a.astype(int)\n",
    "    b = b.astype(int)\n",
    "    flip = lambda v: (v == 0).astype(int)\n",
    "\n",
    "    a11 = (a.add(b) == 2).sum(axis=1)\n",
    "    a10 = (a.add(flip(b)) == 2).sum(axis=1)\n",
    "    a01 = (flip(a).add(b) == 2).sum(axis=1)\n",
    "    a00 = (flip(a).add(flip(b)) == 2).sum(axis=1)\n",
    "    odds_ratio = (1.*a11 * a00) / (1.*a10 * a01)\n",
    "    df = pd.concat([a00, a01, a10, a11], axis=1,\n",
    "                   keys=['00','01','10','11'])\n",
    "    return odds_ratio, df\n",
    "\n",
    "def fet(s):\n",
    "    odds, p = stats.fisher_exact([[s['00'],s['01']],\n",
    "                                  [s['10'],s['11']]])\n",
    "    return p"
   ]
  },
  {
   "cell_type": "markdown",
   "metadata": {},
   "source": [
    "#### filter_pathway_hits"
   ]
  },
  {
   "cell_type": "code",
   "execution_count": 1,
   "metadata": {
    "collapsed": true
   },
   "outputs": [],
   "source": [
    "def filter_pathway_hits(hits, gs, cutoff=.00001):\n",
    "    '''\n",
    "    Takes a vector of p-values and a DataFrame of binary defined gene-sets. \n",
    "    Uses the ordering defined by hits to do a greedy filtering on the gene sets. \n",
    "    '''\n",
    "    l = [hits.index[0]]\n",
    "    for gg in hits.index:\n",
    "        flag = 0\n",
    "        for g2 in l:\n",
    "            if gg in l:\n",
    "                flag = 1\n",
    "                break\n",
    "            elif (chi2_cont_test(gs[gg], gs[g2])['p'] < cutoff):\n",
    "                flag = 1\n",
    "                break\n",
    "        if flag == 0:\n",
    "            l.append(gg)\n",
    "    hits_filtered = hits.ix[l]\n",
    "    return hits_filtered"
   ]
  }
 ],
 "metadata": {
  "kernelspec": {
   "display_name": "Python 2",
   "language": "python",
   "name": "python2"
  },
  "language_info": {
   "codemirror_mode": {
    "name": "ipython",
    "version": 2
   },
   "file_extension": ".py",
   "mimetype": "text/x-python",
   "name": "python",
   "nbconvert_exporter": "python",
   "pygments_lexer": "ipython2",
   "version": "2.7.9"
  }
 },
 "nbformat": 4,
 "nbformat_minor": 0
}
